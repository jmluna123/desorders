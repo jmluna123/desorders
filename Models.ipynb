{
 "cells": [
  {
   "cell_type": "code",
   "execution_count": 1,
   "metadata": {
    "colab": {
     "base_uri": "https://localhost:8080/"
    },
    "id": "O9-qAi1-VaGF",
    "outputId": "b2c47ae1-25ed-4583-f9ee-b83540da91cf"
   },
   "outputs": [
    {
     "name": "stdout",
     "output_type": "stream",
     "text": [
      "Requirement already satisfied: SimpleITK in c:\\python39\\lib\\site-packages (2.1.1)\n"
     ]
    },
    {
     "name": "stderr",
     "output_type": "stream",
     "text": [
      "WARNING: Ignoring invalid distribution -ip (c:\\python39\\lib\\site-packages)\n",
      "WARNING: Ignoring invalid distribution - (c:\\python39\\lib\\site-packages)\n",
      "WARNING: Ignoring invalid distribution -ip (c:\\python39\\lib\\site-packages)\n",
      "WARNING: Ignoring invalid distribution - (c:\\python39\\lib\\site-packages)\n",
      "WARNING: Ignoring invalid distribution -ip (c:\\python39\\lib\\site-packages)\n",
      "WARNING: Ignoring invalid distribution - (c:\\python39\\lib\\site-packages)\n",
      "WARNING: Ignoring invalid distribution -ip (c:\\python39\\lib\\site-packages)\n",
      "WARNING: Ignoring invalid distribution - (c:\\python39\\lib\\site-packages)\n",
      "WARNING: Ignoring invalid distribution -ip (c:\\python39\\lib\\site-packages)\n",
      "WARNING: Ignoring invalid distribution - (c:\\python39\\lib\\site-packages)\n",
      "WARNING: Ignoring invalid distribution -ip (c:\\python39\\lib\\site-packages)\n",
      "WARNING: Ignoring invalid distribution - (c:\\python39\\lib\\site-packages)\n"
     ]
    }
   ],
   "source": [
    "! pip install SimpleITK"
   ]
  },
  {
   "cell_type": "code",
   "execution_count": 1,
   "metadata": {
    "id": "5O_u_2VEVaxu"
   },
   "outputs": [],
   "source": [
    "import numpy as np\n",
    "import SimpleITK as sitk"
   ]
  },
  {
   "cell_type": "markdown",
   "metadata": {
    "id": "3ZDM9TeHSpdz"
   },
   "source": [
    "#DATA\n"
   ]
  },
  {
   "cell_type": "markdown",
   "metadata": {
    "id": "PvAOESUMZ3vC"
   },
   "source": [
    "###GET DATA"
   ]
  },
  {
   "cell_type": "code",
   "execution_count": 2,
   "metadata": {
    "id": "UEuSwGAuUIDE"
   },
   "outputs": [],
   "source": [
    "from glob import glob\n",
    "from typing import  List"
   ]
  },
  {
   "cell_type": "code",
   "execution_count": 3,
   "metadata": {
    "id": "M_bEIIkaTMVc"
   },
   "outputs": [],
   "source": [
    "BUY_file_paths: List[str] =  sorted(glob(\"./BUY/*.nii.gz\"))  #68 files\n",
    "#EAT_file_paths: List[str] =  sorted(glob(\"/content/drive/MyDrive/Integradora/Data/EAT/*.nii.gz\"))  #files\n",
    "GAMBLE_file_paths: List[str] =  sorted(glob(\"./GAMBLE/*.nii.gz\"))  #7 files\n",
    "SEX_file_paths: List[str] =  sorted(glob(\"./SEX/*.nii.gz\"))  #42 files\n",
    "\n",
    "PD_file_paths: List[str] =  sorted(glob(\"./PD/*.nii.gz\"))  #100 files"
   ]
  },
  {
   "cell_type": "code",
   "execution_count": 4,
   "metadata": {
    "colab": {
     "base_uri": "https://localhost:8080/"
    },
    "id": "FhjKHY1eUK8T",
    "outputId": "b3e7fe30-d891-486d-d291-af6046269e15"
   },
   "outputs": [
    {
     "name": "stdout",
     "output_type": "stream",
     "text": [
      "68 ['./BUY\\\\3536.nii.gz', './BUY\\\\3565.nii.gz', './BUY\\\\3863.nii.gz']\n",
      "7 ['./GAMBLE\\\\3536.nii.gz', './GAMBLE\\\\3565.nii.gz', './GAMBLE\\\\3863.nii.gz']\n",
      "42 ['./SEX\\\\3062.nii.gz', './SEX\\\\3068.nii.gz', './SEX\\\\3073.nii.gz']\n",
      "100 ['./PD\\\\S101968.nii.gz', './PD\\\\S101973.nii.gz', './PD\\\\S103294.nii.gz']\n"
     ]
    }
   ],
   "source": [
    "print(len(BUY_file_paths), BUY_file_paths[:3])\n",
    "#print(len(EAT_file_paths), EAT_file_paths[:3])\n",
    "print(len(GAMBLE_file_paths), GAMBLE_file_paths[:3])\n",
    "print(len(SEX_file_paths), SEX_file_paths[:3])\n",
    "\n",
    "print(len(PD_file_paths), PD_file_paths[:3])"
   ]
  },
  {
   "cell_type": "markdown",
   "metadata": {
    "id": "oIEPs4fyi_Do"
   },
   "source": [
    "##SPLIT DATA"
   ]
  },
  {
   "cell_type": "code",
   "execution_count": 5,
   "metadata": {
    "colab": {
     "base_uri": "https://localhost:8080/"
    },
    "id": "smYhVSm3REZT",
    "outputId": "4e5fb0de-9dbb-4e64-f4ac-07e3dd37abe6"
   },
   "outputs": [
    {
     "data": {
      "text/plain": [
       "(None, None)"
      ]
     },
     "execution_count": 5,
     "metadata": {},
     "output_type": "execute_result"
    }
   ],
   "source": [
    "X_dataset = []\n",
    "y_dataset = []\n",
    "\n",
    "X_dataset.extend(PD_file_paths), y_dataset.extend([1] * len(PD_file_paths))\n",
    "X_dataset.extend(BUY_file_paths), y_dataset.extend([2] * len(BUY_file_paths))\n",
    "#X_dataset.extend(EAT_file_paths), y_dataset.extend([3] * len(EAT_file_paths))\n",
    "X_dataset.extend(GAMBLE_file_paths), y_dataset.extend([4] * len(GAMBLE_file_paths))\n",
    "X_dataset.extend(SEX_file_paths), y_dataset.extend([5] * len(SEX_file_paths))"
   ]
  },
  {
   "cell_type": "code",
   "execution_count": 6,
   "metadata": {
    "id": "Uqc7y2bki-jm"
   },
   "outputs": [],
   "source": [
    "from sklearn.model_selection import train_test_split\n",
    "X_train, X_test, y_train, y_test = train_test_split(X_dataset, y_dataset, test_size = 0.2, stratify=y_dataset)"
   ]
  },
  {
   "cell_type": "code",
   "execution_count": 7,
   "metadata": {
    "colab": {
     "base_uri": "https://localhost:8080/"
    },
    "id": "ulHtkPzaYDdz",
    "outputId": "68995ed6-84a9-4e22-c0d2-0326b3d42b74"
   },
   "outputs": [
    {
     "name": "stdout",
     "output_type": "stream",
     "text": [
      "Dataset: 217 217\n",
      "Train: 173 173\n",
      "Test: 44 44\n"
     ]
    }
   ],
   "source": [
    "print(\"Dataset:\", len(X_dataset), len(y_dataset))\n",
    "print(\"Train:\", len(X_train), len(y_train))\n",
    "print(\"Test:\", len(X_test), len(y_test))"
   ]
  },
  {
   "cell_type": "markdown",
   "metadata": {
    "id": "V5gQU1FEGLxm"
   },
   "source": [
    "##PREPROSSESING"
   ]
  },
  {
   "cell_type": "code",
   "execution_count": 8,
   "metadata": {
    "id": "tmO7ktYZjyzg"
   },
   "outputs": [],
   "source": [
    "def get_category(category, is_binary = True):\n",
    "  result = np.zeros(2 if is_binary else 5)\n",
    "  if is_binary:\n",
    "    return 1 if category == 1 else 0\n",
    "  elif category == 1:\n",
    "    result[0] = 1\n",
    "  else:\n",
    "    result[category-1] = 1\n",
    "  return result"
   ]
  },
  {
   "cell_type": "code",
   "execution_count": 9,
   "metadata": {
    "id": "dodkXvulaU6J"
   },
   "outputs": [],
   "source": [
    "def get_categories(y_data):\n",
    "  categories = None\n",
    "  is_first = True\n",
    "  for category in y_data:\n",
    "    if is_first:\n",
    "      categories = np.array([get_category(category)])\n",
    "      is_first = False\n",
    "    else:\n",
    "      categories = np.concatenate((categories,[get_category(category)]))\n",
    "  return categories"
   ]
  },
  {
   "cell_type": "code",
   "execution_count": 10,
   "metadata": {
    "colab": {
     "base_uri": "https://localhost:8080/"
    },
    "id": "SVlfjfF3NfXM",
    "outputId": "393185e6-679c-4a30-8782-66dea49fdeec"
   },
   "outputs": [
    {
     "name": "stdout",
     "output_type": "stream",
     "text": [
      "0 [0. 0. 0. 0. 1.]\n",
      "1 [1. 0. 0. 0. 0.]\n"
     ]
    }
   ],
   "source": [
    "print(get_category(5, True), get_category(5, False))\n",
    "print(get_category(1, True), get_category(1, False))"
   ]
  },
  {
   "cell_type": "markdown",
   "metadata": {},
   "source": [
    "## 3D"
   ]
  },
  {
   "cell_type": "code",
   "execution_count": 46,
   "metadata": {},
   "outputs": [],
   "source": [
    "import cv2\n",
    "\n",
    "def get_slices_3d(path, category):\n",
    "    img = sitk.ReadImage(path, sitk.sitkFloat64)\n",
    "    arr = sitk.GetArrayFromImage(img)\n",
    "\n",
    "    #normalize the matrix, numbers between 0.0 - 1.0\n",
    "    arr = arr / arr.max()\n",
    "    \n",
    "    slices = np.array([arr])\n",
    "    slices = slices.reshape(1, -1, slices.shape[1], slices.shape[2], 1)\n",
    "    slices_cat = np.array([get_category(category)])\n",
    "    \n",
    "    return slices, slices_cat"
   ]
  },
  {
   "cell_type": "code",
   "execution_count": 47,
   "metadata": {},
   "outputs": [],
   "source": [
    "def get_slices_per_group_3d(paths, categories):\n",
    "    group = None\n",
    "    group_cat = None\n",
    "\n",
    "    count = 1\n",
    "    for i in range(len(paths)):\n",
    "        path = paths[i]\n",
    "        if i == 0:\n",
    "            group, group_cat = get_slices_3d(path, categories[i])\n",
    "        else:\n",
    "            new_group, new_group_cat = get_slices_3d(path, categories[i])\n",
    "            group = np.concatenate((group, new_group))\n",
    "            group_cat = np.concatenate((group_cat, new_group_cat))\n",
    "\n",
    "        print(\"-> [%d/%d] Image processed.\" %(count,len(paths)))\n",
    "        count+=1\n",
    "    return group, group_cat"
   ]
  },
  {
   "cell_type": "code",
   "execution_count": 48,
   "metadata": {},
   "outputs": [
    {
     "name": "stdout",
     "output_type": "stream",
     "text": [
      "(1, 181, 181, 217, 1)\n",
      "(1,)\n"
     ]
    }
   ],
   "source": [
    "#test with one image\n",
    "slices, slices_cat = get_slices_3d(X_dataset[0], y_dataset[0])\n",
    "print(slices.shape)\n",
    "print(slices_cat.shape)"
   ]
  },
  {
   "cell_type": "code",
   "execution_count": 49,
   "metadata": {},
   "outputs": [
    {
     "name": "stdout",
     "output_type": "stream",
     "text": [
      "-> [1/3] Image processed.\n",
      "-> [2/3] Image processed.\n",
      "-> [3/3] Image processed.\n",
      "(3, 181, 181, 217, 1)\n",
      "(3,)\n"
     ]
    }
   ],
   "source": [
    "slices, slices_cat = get_slices_per_group_3d(X_dataset[:3], y_dataset[:3])\n",
    "print(slices.shape)\n",
    "print(slices_cat.shape)"
   ]
  },
  {
   "cell_type": "markdown",
   "metadata": {
    "id": "nwSGlhsb0Iaw"
   },
   "source": [
    "## AXIAL\n",
    "arr[ xxx , : , : ] axial"
   ]
  },
  {
   "cell_type": "code",
   "execution_count": 18,
   "metadata": {
    "id": "9cwlnfteXPLb"
   },
   "outputs": [],
   "source": [
    "import cv2\n",
    "\n",
    "def get_slices_axial(path, category):\n",
    "  img = sitk.ReadImage(path, sitk.sitkFloat64)\n",
    "  arr = sitk.GetArrayFromImage(img)\n",
    "\n",
    "  #normalize the matrix, numbers between 0.0 - 1.0\n",
    "  arr = arr / arr.max()\n",
    "\n",
    "  slices = None\n",
    "  slices_cat = None\n",
    "  count = 0\n",
    "\n",
    "  for i in range(arr.shape[0]):\n",
    "    slice = arr[i, : , : ]\n",
    "    slice = cv2.resize(slice, (224, 224), interpolation=cv2.INTER_CUBIC)\n",
    "    slice[slice < 0] = 0\n",
    "    if slice.max() != 0:\n",
    "      if count == 0:\n",
    "        slices = np.array([slice])\n",
    "        slices_cat = np.array([get_category(category)])\n",
    "      else:\n",
    "        slices = np.concatenate((slices,[slice]))\n",
    "        slices_cat = np.concatenate((slices_cat,[get_category(category)]))\n",
    "      count+=1\n",
    "  #print(\"->\", count , \"slices of\", arr.shape[0], \"where used for image\", path)\n",
    "  return slices, slices_cat"
   ]
  },
  {
   "cell_type": "code",
   "execution_count": 19,
   "metadata": {
    "id": "lQz7bYsHENEt"
   },
   "outputs": [],
   "source": [
    "def get_slices_per_group_axial(paths, categories):\n",
    "  group = None\n",
    "  group_cat = None\n",
    "\n",
    "  count = 1\n",
    "  for i in range(len(paths)):\n",
    "    path = paths[i]\n",
    "    if i == 0:\n",
    "      group, group_cat = get_slices_axial(path, categories[i])\n",
    "    else:\n",
    "      new_group, new_group_cat = get_slices_axial(path, categories[i])\n",
    "      group = np.concatenate((group, new_group))\n",
    "      group_cat = np.concatenate((group_cat, new_group_cat))\n",
    "\n",
    "    print(\"-> [%d/%d] Slices processed %d.\" %(count,len(paths), group.shape[0] ))\n",
    "    count+=1\n",
    "  return group, group_cat"
   ]
  },
  {
   "cell_type": "code",
   "execution_count": 20,
   "metadata": {
    "colab": {
     "base_uri": "https://localhost:8080/"
    },
    "id": "lhXSxy0Y1eEp",
    "outputId": "e71253d0-380d-44c8-80d8-d9ed159c0840"
   },
   "outputs": [
    {
     "name": "stdout",
     "output_type": "stream",
     "text": [
      "(30, 224, 224)\n",
      "(30,)\n"
     ]
    }
   ],
   "source": [
    "#test with one image\n",
    "slices, slices_cat = get_slices_axial(X_dataset[0], y_dataset[0])\n",
    "print(slices.shape)\n",
    "print(slices_cat.shape)"
   ]
  },
  {
   "cell_type": "markdown",
   "metadata": {
    "id": "M_DZGnMbC13P"
   },
   "source": [
    "## CORONAL\n",
    "arr[ : , xxx , : ] coronal "
   ]
  },
  {
   "cell_type": "code",
   "execution_count": 21,
   "metadata": {
    "id": "JCnw2xZj_PT7"
   },
   "outputs": [],
   "source": [
    "import cv2\n",
    "# type: the number of the group\n",
    "# group_n: the count of diferent groups\n",
    "# for example,we can have the groups \n",
    "#    1) [EAT, GAMBLE, SEX, BUY, PURE] and the image is from GAMBLE\n",
    "#     -> type = 2\n",
    "#     -> group_n = 5\n",
    "#    2) or [PURE, ICD] and the image is from PURE\n",
    "#     -> type = 1\n",
    "#     -> group_n = 2\n",
    "#output:\n",
    "#     -> normalized array of the slices \n",
    "#     -> the category of each image in one-hot encoded.\n",
    "# for example\n",
    "#   1) [0,1,0,0,0], and \n",
    "#   2) [1,0]\n",
    "def get_slices_coronal(path, category):\n",
    "  img = sitk.ReadImage(path, sitk.sitkFloat64)\n",
    "  arr = sitk.GetArrayFromImage(img)\n",
    "\n",
    "  #normalize the matrix, numbers between 0.0 - 1.0\n",
    "  arr = arr / arr.max()\n",
    "\n",
    "  slices = None\n",
    "  slices_cat = None\n",
    "  count = 0\n",
    "\n",
    "  for i in range(arr.shape[0]):\n",
    "    slice = arr[:, i , : ]\n",
    "    slice = cv2.resize(slice, (224, 224), interpolation=cv2.INTER_CUBIC)\n",
    "    slice[slice < 0] = 0\n",
    "    if slice.max() != 0:\n",
    "      if count == 0:\n",
    "        slices = np.array([slice])\n",
    "        slices_cat = np.array([get_category(category)])\n",
    "      else:\n",
    "        slices = np.concatenate((slices,[slice]))\n",
    "        slices_cat = np.concatenate((slices_cat,[get_category(category)]))\n",
    "      count+=1\n",
    "  #print(\"->\", count , \"slices of\", arr.shape[0], \"where used for image\", path)\n",
    "  return slices, slices_cat"
   ]
  },
  {
   "cell_type": "code",
   "execution_count": 22,
   "metadata": {
    "id": "9-LKeV1d_PT-"
   },
   "outputs": [],
   "source": [
    "def get_slices_per_group_coronal(paths, categories):\n",
    "  group = None\n",
    "  group_cat = None\n",
    "\n",
    "  count = 1\n",
    "  for i in range(len(paths)):\n",
    "    path = paths[i]\n",
    "    if i == 0:\n",
    "      group, group_cat = get_slices_coronal(path, categories[i])\n",
    "    else:\n",
    "      new_group, new_group_cat = get_slices_coronal(path, categories[i])\n",
    "      group = np.concatenate((group, new_group))\n",
    "      group_cat = np.concatenate((group_cat, new_group_cat))\n",
    "\n",
    "    print(\"-> [%d/%d] Slices processed %d.\" %(count,len(paths), group.shape[0] ))\n",
    "    count+=1\n",
    "  return group, group_cat"
   ]
  },
  {
   "cell_type": "code",
   "execution_count": 23,
   "metadata": {
    "colab": {
     "base_uri": "https://localhost:8080/"
    },
    "id": "2eE7lOFb_PT_",
    "outputId": "6209c074-fd58-4e2e-d6e5-64602a10d748"
   },
   "outputs": [
    {
     "name": "stdout",
     "output_type": "stream",
     "text": [
      "(67, 224, 224)\n",
      "(67,)\n"
     ]
    }
   ],
   "source": [
    "#test with one image\n",
    "slices, slices_cat = get_slices_coronal(X_dataset[0], y_dataset[0])\n",
    "print(slices.shape)\n",
    "print(slices_cat.shape)"
   ]
  },
  {
   "cell_type": "markdown",
   "metadata": {
    "id": "j3ERsrLfC87J"
   },
   "source": [
    "## SAGITAL\n",
    "arr[ : , : , xxx ] sagital "
   ]
  },
  {
   "cell_type": "code",
   "execution_count": 24,
   "metadata": {},
   "outputs": [],
   "source": [
    "import cv2\n",
    "# type: the number of the group\n",
    "# group_n: the count of diferent groups\n",
    "# for example,we can have the groups \n",
    "#    1) [EAT, GAMBLE, SEX, BUY, PURE] and the image is from GAMBLE\n",
    "#     -> type = 2\n",
    "#     -> group_n = 5\n",
    "#    2) or [PURE, ICD] and the image is from PURE\n",
    "#     -> type = 1\n",
    "#     -> group_n = 2\n",
    "#output:\n",
    "#     -> normalized array of the slices \n",
    "#     -> the category of each image in one-hot encoded.\n",
    "# for example\n",
    "#   1) [0,1,0,0,0], and \n",
    "#   2) [1,0]\n",
    "def get_slices_sagital(path, category):\n",
    "  img = sitk.ReadImage(path, sitk.sitkFloat64)\n",
    "  arr = sitk.GetArrayFromImage(img)\n",
    "\n",
    "  #normalize the matrix, numbers between 0.0 - 1.0\n",
    "  arr = arr / arr.max()\n",
    "\n",
    "  slices = None\n",
    "  slices_cat = None\n",
    "  count = 0\n",
    "\n",
    "  for i in range(arr.shape[0]):\n",
    "    slice = arr[:, : , i ]\n",
    "    slice = cv2.resize(slice, (224, 224), interpolation=cv2.INTER_CUBIC)\n",
    "    slice[slice < 0] = 0\n",
    "    if slice.max() != 0:\n",
    "      if count == 0:\n",
    "        slices = np.array([slice])\n",
    "        slices_cat = np.array([get_category(category)])\n",
    "      else:\n",
    "        slices = np.concatenate((slices,[slice]))\n",
    "        slices_cat = np.concatenate((slices_cat,[get_category(category)]))\n",
    "      count+=1\n",
    "  #print(\"->\", count , \"slices of\", arr.shape[0], \"where used for image\", path)\n",
    "  return slices, slices_cat"
   ]
  },
  {
   "cell_type": "code",
   "execution_count": 25,
   "metadata": {},
   "outputs": [],
   "source": [
    "def get_slices_per_group_sagital(paths, categories):\n",
    "  group = None\n",
    "  group_cat = None\n",
    "\n",
    "  count = 1\n",
    "  for i in range(len(paths)):\n",
    "    path = paths[i]\n",
    "    if i == 0:\n",
    "      group, group_cat = get_slices_sagital(path, categories[i])\n",
    "    else:\n",
    "      new_group, new_group_cat = get_slices_sagital(path, categories[i])\n",
    "      group = np.concatenate((group, new_group))\n",
    "      group_cat = np.concatenate((group_cat, new_group_cat))\n",
    "\n",
    "    print(\"-> [%d/%d] Slices processed %d.\" %(count,len(paths), group.shape[0] ))\n",
    "    count+=1\n",
    "  return group, group_cat"
   ]
  },
  {
   "cell_type": "code",
   "execution_count": 26,
   "metadata": {},
   "outputs": [
    {
     "name": "stdout",
     "output_type": "stream",
     "text": [
      "(120, 224, 224)\n",
      "(120,)\n"
     ]
    }
   ],
   "source": [
    "#test with one image\n",
    "slices, slices_cat = get_slices_sagital(X_dataset[0], y_dataset[0])\n",
    "print(slices.shape)\n",
    "print(slices_cat.shape)"
   ]
  },
  {
   "cell_type": "markdown",
   "metadata": {
    "id": "nNzzq4hUs2ww"
   },
   "source": [
    "# MODEL (BINARY)"
   ]
  },
  {
   "cell_type": "markdown",
   "metadata": {},
   "source": [
    "## 3D"
   ]
  },
  {
   "cell_type": "code",
   "execution_count": 59,
   "metadata": {},
   "outputs": [
    {
     "name": "stdout",
     "output_type": "stream",
     "text": [
      "-> [1/20] Image processed.\n",
      "-> [2/20] Image processed.\n",
      "-> [3/20] Image processed.\n",
      "-> [4/20] Image processed.\n",
      "-> [5/20] Image processed.\n",
      "-> [6/20] Image processed.\n",
      "-> [7/20] Image processed.\n",
      "-> [8/20] Image processed.\n",
      "-> [9/20] Image processed.\n",
      "-> [10/20] Image processed.\n",
      "-> [11/20] Image processed.\n",
      "-> [12/20] Image processed.\n",
      "-> [13/20] Image processed.\n",
      "-> [14/20] Image processed.\n",
      "-> [15/20] Image processed.\n",
      "-> [16/20] Image processed.\n",
      "-> [17/20] Image processed.\n",
      "-> [18/20] Image processed.\n",
      "-> [19/20] Image processed.\n",
      "-> [20/20] Image processed.\n",
      "-> [1/5] Image processed.\n",
      "-> [2/5] Image processed.\n",
      "-> [3/5] Image processed.\n",
      "-> [4/5] Image processed.\n",
      "-> [5/5] Image processed.\n"
     ]
    }
   ],
   "source": [
    "X_3d_train, y_3d_train = get_slices_per_group_3d(X_train[:20], y_train[:20])\n",
    "X_3d_test, y_3d_test = get_slices_per_group_3d(X_test[:5], y_test[:5])\n"
   ]
  },
  {
   "cell_type": "code",
   "execution_count": 60,
   "metadata": {},
   "outputs": [
    {
     "name": "stdout",
     "output_type": "stream",
     "text": [
      "Train: (20, 181, 181, 217, 1) 20\n",
      "Test: (5, 181, 181, 217, 1) 5\n"
     ]
    }
   ],
   "source": [
    "print(\"Train:\",X_3d_train.shape, len(y_3d_train))\n",
    "print(\"Test:\",X_3d_test.shape, len(y_3d_test))"
   ]
  },
  {
   "cell_type": "markdown",
   "metadata": {},
   "source": [
    "### VGG19 "
   ]
  },
  {
   "cell_type": "code",
   "execution_count": 61,
   "metadata": {},
   "outputs": [],
   "source": [
    "import keras\n",
    "from keras.models import Sequential\n",
    "from keras.layers import Dense, Conv3D, MaxPool3D , Flatten\n",
    "from keras.preprocessing.image import ImageDataGenerator\n",
    "from keras.layers import Dropout\n",
    "from keras.callbacks import ModelCheckpoint, EarlyStopping\n",
    "import imageio\n",
    "import tensorflow as tf"
   ]
  },
  {
   "cell_type": "code",
   "execution_count": 65,
   "metadata": {},
   "outputs": [
    {
     "name": "stdout",
     "output_type": "stream",
     "text": [
      "Model: \"sequential_1\"\n",
      "_________________________________________________________________\n",
      "Layer (type)                 Output Shape              Param #   \n",
      "=================================================================\n",
      "conv3d_16 (Conv3D)           (None, 181, 181, 217, 20) 560       \n",
      "_________________________________________________________________\n",
      "conv3d_17 (Conv3D)           (None, 181, 181, 217, 64) 34624     \n",
      "_________________________________________________________________\n",
      "dropout_5 (Dropout)          (None, 181, 181, 217, 64) 0         \n",
      "_________________________________________________________________\n",
      "max_pooling3d_5 (MaxPooling3 (None, 90, 90, 108, 64)   0         \n",
      "_________________________________________________________________\n",
      "conv3d_18 (Conv3D)           (None, 90, 90, 108, 128)  221312    \n",
      "_________________________________________________________________\n",
      "conv3d_19 (Conv3D)           (None, 90, 90, 108, 128)  442496    \n",
      "_________________________________________________________________\n",
      "dropout_6 (Dropout)          (None, 90, 90, 108, 128)  0         \n",
      "_________________________________________________________________\n",
      "max_pooling3d_6 (MaxPooling3 (None, 45, 45, 54, 128)   0         \n",
      "_________________________________________________________________\n",
      "conv3d_20 (Conv3D)           (None, 45, 45, 54, 256)   884992    \n",
      "_________________________________________________________________\n",
      "conv3d_21 (Conv3D)           (None, 45, 45, 54, 256)   1769728   \n",
      "_________________________________________________________________\n",
      "conv3d_22 (Conv3D)           (None, 45, 45, 54, 256)   1769728   \n",
      "_________________________________________________________________\n",
      "conv3d_23 (Conv3D)           (None, 45, 45, 54, 256)   1769728   \n",
      "_________________________________________________________________\n",
      "dropout_7 (Dropout)          (None, 45, 45, 54, 256)   0         \n",
      "_________________________________________________________________\n",
      "max_pooling3d_7 (MaxPooling3 (None, 22, 22, 27, 256)   0         \n",
      "_________________________________________________________________\n",
      "conv3d_24 (Conv3D)           (None, 22, 22, 27, 512)   3539456   \n",
      "_________________________________________________________________\n",
      "conv3d_25 (Conv3D)           (None, 22, 22, 27, 512)   7078400   \n",
      "_________________________________________________________________\n",
      "conv3d_26 (Conv3D)           (None, 22, 22, 27, 512)   7078400   \n",
      "_________________________________________________________________\n",
      "conv3d_27 (Conv3D)           (None, 22, 22, 27, 512)   7078400   \n",
      "_________________________________________________________________\n",
      "dropout_8 (Dropout)          (None, 22, 22, 27, 512)   0         \n",
      "_________________________________________________________________\n",
      "max_pooling3d_8 (MaxPooling3 (None, 11, 11, 13, 512)   0         \n",
      "_________________________________________________________________\n",
      "conv3d_28 (Conv3D)           (None, 11, 11, 13, 512)   7078400   \n",
      "_________________________________________________________________\n",
      "conv3d_29 (Conv3D)           (None, 11, 11, 13, 512)   7078400   \n",
      "_________________________________________________________________\n",
      "conv3d_30 (Conv3D)           (None, 11, 11, 13, 512)   7078400   \n",
      "_________________________________________________________________\n",
      "conv3d_31 (Conv3D)           (None, 11, 11, 13, 512)   7078400   \n",
      "_________________________________________________________________\n",
      "dropout_9 (Dropout)          (None, 11, 11, 13, 512)   0         \n",
      "_________________________________________________________________\n",
      "max_pooling3d_9 (MaxPooling3 (None, 5, 5, 6, 512)      0         \n",
      "_________________________________________________________________\n",
      "flatten_1 (Flatten)          (None, 76800)             0         \n",
      "_________________________________________________________________\n",
      "dense_4 (Dense)              (None, 4096)              314576896 \n",
      "_________________________________________________________________\n",
      "dense_5 (Dense)              (None, 4096)              16781312  \n",
      "_________________________________________________________________\n",
      "dense_6 (Dense)              (None, 1000)              4097000   \n",
      "_________________________________________________________________\n",
      "dense_7 (Dense)              (None, 1)                 1001      \n",
      "=================================================================\n",
      "Total params: 395,437,633\n",
      "Trainable params: 395,437,633\n",
      "Non-trainable params: 0\n",
      "_________________________________________________________________\n",
      "None\n"
     ]
    }
   ],
   "source": [
    "model = Sequential()\n",
    "model.add(Conv3D(input_shape=(181,181,217,1),filters=20,kernel_size=3,padding=\"same\", activation=\"relu\"))\n",
    "model.add(Conv3D(filters=64,kernel_size=3,padding=\"same\", activation=\"relu\"))\n",
    "model.add(Dropout(0.4))\n",
    "model.add(MaxPool3D(pool_size=2,strides=(2,2,2)))\n",
    "model.add(Conv3D(filters=128, kernel_size=3, padding=\"same\", activation=\"relu\"))\n",
    "model.add(Conv3D(filters=128, kernel_size=3, padding=\"same\", activation=\"relu\"))\n",
    "model.add(Dropout(0.6))\n",
    "model.add(MaxPool3D(pool_size=2,strides=(2,2,2)))\n",
    "model.add(Conv3D(filters=256, kernel_size=3, padding=\"same\", activation=\"relu\"))\n",
    "model.add(Conv3D(filters=256, kernel_size=3, padding=\"same\", activation=\"relu\"))\n",
    "model.add(Conv3D(filters=256, kernel_size=3, padding=\"same\", activation=\"relu\"))\n",
    "model.add(Conv3D(filters=256, kernel_size=3, padding=\"same\", activation=\"relu\"))\n",
    "model.add(Dropout(0.8))\n",
    "model.add(MaxPool3D(pool_size=2,strides=(2,2,2)))\n",
    "model.add(Conv3D(filters=512, kernel_size=3, padding=\"same\", activation=\"relu\"))\n",
    "model.add(Conv3D(filters=512, kernel_size=3, padding=\"same\", activation=\"relu\"))\n",
    "model.add(Conv3D(filters=512, kernel_size=3, padding=\"same\", activation=\"relu\"))\n",
    "model.add(Conv3D(filters=512, kernel_size=3, padding=\"same\", activation=\"relu\"))\n",
    "model.add(Dropout(0.8))\n",
    "model.add(MaxPool3D(pool_size=2,strides=(2,2,2)))\n",
    "model.add(Conv3D(filters=512, kernel_size=3, padding=\"same\", activation=\"relu\"))\n",
    "model.add(Conv3D(filters=512, kernel_size=3, padding=\"same\", activation=\"relu\"))\n",
    "model.add(Conv3D(filters=512, kernel_size=3, padding=\"same\", activation=\"relu\"))\n",
    "model.add(Conv3D(filters=512, kernel_size=3, padding=\"same\", activation=\"relu\"))\n",
    "model.add(Dropout(0.4))\n",
    "model.add(MaxPool3D(pool_size=2,strides=(2,2,2)))\n",
    "\n",
    "#Dense layer\n",
    "model.add(Flatten())\n",
    "model.add(Dense(units=4096,activation=\"relu\"))\n",
    "model.add(Dense(units=4096,activation=\"relu\"))\n",
    "model.add(Dense(units=1000,activation=\"relu\"))\n",
    "model.add(Dense(1, activation=\"softmax\"))\n",
    "\n",
    "model.compile(optimizer='adam', loss=keras.losses.binary_crossentropy, metrics=['accuracy'])\n",
    "\n",
    "print(model.summary())"
   ]
  },
  {
   "cell_type": "code",
   "execution_count": 66,
   "metadata": {},
   "outputs": [
    {
     "name": "stdout",
     "output_type": "stream",
     "text": [
      "WARNING:tensorflow:`period` argument is deprecated. Please use `save_freq` to specify the frequency in number of batches seen.\n"
     ]
    }
   ],
   "source": [
    "checkpoint = ModelCheckpoint(\"vgg19_3d.h5\", monitor='val_accuracy', verbose=1, save_best_only=True, save_weights_only=False, mode='auto', period=1)\n",
    "early = EarlyStopping(monitor='val_acc', min_delta=0, patience=20, verbose=1, mode='auto')\n",
    "#fit_generator(steps_per_epoch=1,generator=traindata, validation_data= testdata, validation_steps=1,epochs=50,callbacks=[checkpoint])\n",
    "# hist = model.fit(traindata, testdata, batch_size=10, epochs=20, verbose=0, shuffle=True,validation_split=0.2,callbacks=[checkpoint])"
   ]
  },
  {
   "cell_type": "code",
   "execution_count": 67,
   "metadata": {},
   "outputs": [
    {
     "name": "stdout",
     "output_type": "stream",
     "text": [
      "Epoch 1/30\n"
     ]
    },
    {
     "ename": "ResourceExhaustedError",
     "evalue": "in user code:\n\n    c:\\python39\\lib\\site-packages\\keras\\engine\\training.py:853 train_function  *\n        return step_function(self, iterator)\n    c:\\python39\\lib\\site-packages\\keras\\engine\\training.py:842 step_function  **\n        outputs = model.distribute_strategy.run(run_step, args=(data,))\n    c:\\python39\\lib\\site-packages\\tensorflow\\python\\distribute\\distribute_lib.py:1286 run\n        return self._extended.call_for_each_replica(fn, args=args, kwargs=kwargs)\n    c:\\python39\\lib\\site-packages\\tensorflow\\python\\distribute\\distribute_lib.py:2849 call_for_each_replica\n        return self._call_for_each_replica(fn, args, kwargs)\n    c:\\python39\\lib\\site-packages\\tensorflow\\python\\distribute\\distribute_lib.py:3632 _call_for_each_replica\n        return fn(*args, **kwargs)\n    c:\\python39\\lib\\site-packages\\keras\\engine\\training.py:835 run_step  **\n        outputs = model.train_step(data)\n    c:\\python39\\lib\\site-packages\\keras\\engine\\training.py:791 train_step\n        self.optimizer.minimize(loss, self.trainable_variables, tape=tape)\n    c:\\python39\\lib\\site-packages\\keras\\optimizer_v2\\optimizer_v2.py:522 minimize\n        return self.apply_gradients(grads_and_vars, name=name)\n    c:\\python39\\lib\\site-packages\\keras\\optimizer_v2\\optimizer_v2.py:628 apply_gradients\n        self._create_all_weights(var_list)\n    c:\\python39\\lib\\site-packages\\keras\\optimizer_v2\\optimizer_v2.py:815 _create_all_weights\n        self._create_slots(var_list)\n    c:\\python39\\lib\\site-packages\\keras\\optimizer_v2\\adam.py:119 _create_slots\n        self.add_slot(var, 'v')\n    c:\\python39\\lib\\site-packages\\keras\\optimizer_v2\\optimizer_v2.py:901 add_slot\n        weight = tf.Variable(\n    c:\\python39\\lib\\site-packages\\tensorflow\\python\\ops\\variables.py:268 __call__\n        return cls._variable_v2_call(*args, **kwargs)\n    c:\\python39\\lib\\site-packages\\tensorflow\\python\\ops\\variables.py:250 _variable_v2_call\n        return previous_getter(\n    c:\\python39\\lib\\site-packages\\tensorflow\\python\\ops\\variables.py:67 getter\n        return captured_getter(captured_previous, **kwargs)\n    c:\\python39\\lib\\site-packages\\tensorflow\\python\\distribute\\distribute_lib.py:3547 creator\n        return next_creator(**kwargs)\n    c:\\python39\\lib\\site-packages\\tensorflow\\python\\ops\\variables.py:67 getter\n        return captured_getter(captured_previous, **kwargs)\n    c:\\python39\\lib\\site-packages\\tensorflow\\python\\distribute\\distribute_lib.py:3547 creator\n        return next_creator(**kwargs)\n    c:\\python39\\lib\\site-packages\\tensorflow\\python\\ops\\variables.py:67 getter\n        return captured_getter(captured_previous, **kwargs)\n    c:\\python39\\lib\\site-packages\\tensorflow\\python\\distribute\\distribute_lib.py:3547 creator\n        return next_creator(**kwargs)\n    c:\\python39\\lib\\site-packages\\tensorflow\\python\\ops\\variables.py:67 getter\n        return captured_getter(captured_previous, **kwargs)\n    c:\\python39\\lib\\site-packages\\tensorflow\\python\\eager\\def_function.py:746 variable_capturing_scope\n        v = UnliftedInitializerVariable(\n    c:\\python39\\lib\\site-packages\\tensorflow\\python\\ops\\variables.py:270 __call__\n        return super(VariableMetaclass, cls).__call__(*args, **kwargs)\n    c:\\python39\\lib\\site-packages\\tensorflow\\python\\eager\\def_function.py:294 __init__\n        initial_value = initial_value()\n    c:\\python39\\lib\\site-packages\\keras\\initializers\\initializers_v2.py:145 __call__\n        return tf.zeros(shape, dtype)\n    c:\\python39\\lib\\site-packages\\tensorflow\\python\\util\\dispatch.py:206 wrapper\n        return target(*args, **kwargs)\n    c:\\python39\\lib\\site-packages\\tensorflow\\python\\ops\\array_ops.py:2915 wrapped\n        tensor = fun(*args, **kwargs)\n    c:\\python39\\lib\\site-packages\\tensorflow\\python\\ops\\array_ops.py:2976 zeros\n        output = fill(shape, constant(zero, dtype=dtype), name=name)\n    c:\\python39\\lib\\site-packages\\tensorflow\\python\\util\\dispatch.py:206 wrapper\n        return target(*args, **kwargs)\n    c:\\python39\\lib\\site-packages\\tensorflow\\python\\ops\\array_ops.py:240 fill\n        result = gen_array_ops.fill(dims, value, name=name)\n    c:\\python39\\lib\\site-packages\\tensorflow\\python\\ops\\gen_array_ops.py:3367 fill\n        _ops.raise_from_not_ok_status(e, name)\n    c:\\python39\\lib\\site-packages\\tensorflow\\python\\framework\\ops.py:6941 raise_from_not_ok_status\n        six.raise_from(core._status_to_exception(e.code, message), None)\n    <string>:3 raise_from\n        \n\n    ResourceExhaustedError: OOM when allocating tensor with shape[76800,4096] and type float on /job:localhost/replica:0/task:0/device:CPU:0 by allocator cpu [Op:Fill]\n",
     "output_type": "error",
     "traceback": [
      "\u001b[1;31m---------------------------------------------------------------------------\u001b[0m",
      "\u001b[1;31mResourceExhaustedError\u001b[0m                    Traceback (most recent call last)",
      "\u001b[1;32m~\\AppData\\Local\\Temp/ipykernel_12668/1241791065.py\u001b[0m in \u001b[0;36m<module>\u001b[1;34m\u001b[0m\n\u001b[1;32m----> 1\u001b[1;33m \u001b[0mhist\u001b[0m \u001b[1;33m=\u001b[0m \u001b[0mmodel\u001b[0m\u001b[1;33m.\u001b[0m\u001b[0mfit\u001b[0m\u001b[1;33m(\u001b[0m\u001b[0mX_3d_train\u001b[0m\u001b[1;33m,\u001b[0m \u001b[0my_3d_train\u001b[0m\u001b[1;33m,\u001b[0m \u001b[0mbatch_size\u001b[0m\u001b[1;33m=\u001b[0m\u001b[1;36m10\u001b[0m\u001b[1;33m,\u001b[0m\u001b[0mepochs\u001b[0m\u001b[1;33m=\u001b[0m\u001b[1;36m30\u001b[0m\u001b[1;33m,\u001b[0m\u001b[0mvalidation_split\u001b[0m\u001b[1;33m=\u001b[0m\u001b[1;36m0.2\u001b[0m\u001b[1;33m,\u001b[0m \u001b[0mcallbacks\u001b[0m\u001b[1;33m=\u001b[0m\u001b[1;33m[\u001b[0m\u001b[0mcheckpoint\u001b[0m\u001b[1;33m]\u001b[0m\u001b[1;33m)\u001b[0m\u001b[1;33m\u001b[0m\u001b[1;33m\u001b[0m\u001b[0m\n\u001b[0m",
      "\u001b[1;32mc:\\python39\\lib\\site-packages\\keras\\engine\\training.py\u001b[0m in \u001b[0;36mfit\u001b[1;34m(self, x, y, batch_size, epochs, verbose, callbacks, validation_split, validation_data, shuffle, class_weight, sample_weight, initial_epoch, steps_per_epoch, validation_steps, validation_batch_size, validation_freq, max_queue_size, workers, use_multiprocessing)\u001b[0m\n\u001b[0;32m   1182\u001b[0m                 _r=1):\n\u001b[0;32m   1183\u001b[0m               \u001b[0mcallbacks\u001b[0m\u001b[1;33m.\u001b[0m\u001b[0mon_train_batch_begin\u001b[0m\u001b[1;33m(\u001b[0m\u001b[0mstep\u001b[0m\u001b[1;33m)\u001b[0m\u001b[1;33m\u001b[0m\u001b[1;33m\u001b[0m\u001b[0m\n\u001b[1;32m-> 1184\u001b[1;33m               \u001b[0mtmp_logs\u001b[0m \u001b[1;33m=\u001b[0m \u001b[0mself\u001b[0m\u001b[1;33m.\u001b[0m\u001b[0mtrain_function\u001b[0m\u001b[1;33m(\u001b[0m\u001b[0miterator\u001b[0m\u001b[1;33m)\u001b[0m\u001b[1;33m\u001b[0m\u001b[1;33m\u001b[0m\u001b[0m\n\u001b[0m\u001b[0;32m   1185\u001b[0m               \u001b[1;32mif\u001b[0m \u001b[0mdata_handler\u001b[0m\u001b[1;33m.\u001b[0m\u001b[0mshould_sync\u001b[0m\u001b[1;33m:\u001b[0m\u001b[1;33m\u001b[0m\u001b[1;33m\u001b[0m\u001b[0m\n\u001b[0;32m   1186\u001b[0m                 \u001b[0mcontext\u001b[0m\u001b[1;33m.\u001b[0m\u001b[0masync_wait\u001b[0m\u001b[1;33m(\u001b[0m\u001b[1;33m)\u001b[0m\u001b[1;33m\u001b[0m\u001b[1;33m\u001b[0m\u001b[0m\n",
      "\u001b[1;32mc:\\python39\\lib\\site-packages\\tensorflow\\python\\eager\\def_function.py\u001b[0m in \u001b[0;36m__call__\u001b[1;34m(self, *args, **kwds)\u001b[0m\n\u001b[0;32m    883\u001b[0m \u001b[1;33m\u001b[0m\u001b[0m\n\u001b[0;32m    884\u001b[0m       \u001b[1;32mwith\u001b[0m \u001b[0mOptionalXlaContext\u001b[0m\u001b[1;33m(\u001b[0m\u001b[0mself\u001b[0m\u001b[1;33m.\u001b[0m\u001b[0m_jit_compile\u001b[0m\u001b[1;33m)\u001b[0m\u001b[1;33m:\u001b[0m\u001b[1;33m\u001b[0m\u001b[1;33m\u001b[0m\u001b[0m\n\u001b[1;32m--> 885\u001b[1;33m         \u001b[0mresult\u001b[0m \u001b[1;33m=\u001b[0m \u001b[0mself\u001b[0m\u001b[1;33m.\u001b[0m\u001b[0m_call\u001b[0m\u001b[1;33m(\u001b[0m\u001b[1;33m*\u001b[0m\u001b[0margs\u001b[0m\u001b[1;33m,\u001b[0m \u001b[1;33m**\u001b[0m\u001b[0mkwds\u001b[0m\u001b[1;33m)\u001b[0m\u001b[1;33m\u001b[0m\u001b[1;33m\u001b[0m\u001b[0m\n\u001b[0m\u001b[0;32m    886\u001b[0m \u001b[1;33m\u001b[0m\u001b[0m\n\u001b[0;32m    887\u001b[0m       \u001b[0mnew_tracing_count\u001b[0m \u001b[1;33m=\u001b[0m \u001b[0mself\u001b[0m\u001b[1;33m.\u001b[0m\u001b[0mexperimental_get_tracing_count\u001b[0m\u001b[1;33m(\u001b[0m\u001b[1;33m)\u001b[0m\u001b[1;33m\u001b[0m\u001b[1;33m\u001b[0m\u001b[0m\n",
      "\u001b[1;32mc:\\python39\\lib\\site-packages\\tensorflow\\python\\eager\\def_function.py\u001b[0m in \u001b[0;36m_call\u001b[1;34m(self, *args, **kwds)\u001b[0m\n\u001b[0;32m    931\u001b[0m       \u001b[1;31m# This is the first call of __call__, so we have to initialize.\u001b[0m\u001b[1;33m\u001b[0m\u001b[1;33m\u001b[0m\u001b[1;33m\u001b[0m\u001b[0m\n\u001b[0;32m    932\u001b[0m       \u001b[0minitializers\u001b[0m \u001b[1;33m=\u001b[0m \u001b[1;33m[\u001b[0m\u001b[1;33m]\u001b[0m\u001b[1;33m\u001b[0m\u001b[1;33m\u001b[0m\u001b[0m\n\u001b[1;32m--> 933\u001b[1;33m       \u001b[0mself\u001b[0m\u001b[1;33m.\u001b[0m\u001b[0m_initialize\u001b[0m\u001b[1;33m(\u001b[0m\u001b[0margs\u001b[0m\u001b[1;33m,\u001b[0m \u001b[0mkwds\u001b[0m\u001b[1;33m,\u001b[0m \u001b[0madd_initializers_to\u001b[0m\u001b[1;33m=\u001b[0m\u001b[0minitializers\u001b[0m\u001b[1;33m)\u001b[0m\u001b[1;33m\u001b[0m\u001b[1;33m\u001b[0m\u001b[0m\n\u001b[0m\u001b[0;32m    934\u001b[0m     \u001b[1;32mfinally\u001b[0m\u001b[1;33m:\u001b[0m\u001b[1;33m\u001b[0m\u001b[1;33m\u001b[0m\u001b[0m\n\u001b[0;32m    935\u001b[0m       \u001b[1;31m# At this point we know that the initialization is complete (or less\u001b[0m\u001b[1;33m\u001b[0m\u001b[1;33m\u001b[0m\u001b[1;33m\u001b[0m\u001b[0m\n",
      "\u001b[1;32mc:\\python39\\lib\\site-packages\\tensorflow\\python\\eager\\def_function.py\u001b[0m in \u001b[0;36m_initialize\u001b[1;34m(self, args, kwds, add_initializers_to)\u001b[0m\n\u001b[0;32m    757\u001b[0m     \u001b[0mself\u001b[0m\u001b[1;33m.\u001b[0m\u001b[0m_graph_deleter\u001b[0m \u001b[1;33m=\u001b[0m \u001b[0mFunctionDeleter\u001b[0m\u001b[1;33m(\u001b[0m\u001b[0mself\u001b[0m\u001b[1;33m.\u001b[0m\u001b[0m_lifted_initializer_graph\u001b[0m\u001b[1;33m)\u001b[0m\u001b[1;33m\u001b[0m\u001b[1;33m\u001b[0m\u001b[0m\n\u001b[0;32m    758\u001b[0m     self._concrete_stateful_fn = (\n\u001b[1;32m--> 759\u001b[1;33m         self._stateful_fn._get_concrete_function_internal_garbage_collected(  # pylint: disable=protected-access\n\u001b[0m\u001b[0;32m    760\u001b[0m             *args, **kwds))\n\u001b[0;32m    761\u001b[0m \u001b[1;33m\u001b[0m\u001b[0m\n",
      "\u001b[1;32mc:\\python39\\lib\\site-packages\\tensorflow\\python\\eager\\function.py\u001b[0m in \u001b[0;36m_get_concrete_function_internal_garbage_collected\u001b[1;34m(self, *args, **kwargs)\u001b[0m\n\u001b[0;32m   3064\u001b[0m       \u001b[0margs\u001b[0m\u001b[1;33m,\u001b[0m \u001b[0mkwargs\u001b[0m \u001b[1;33m=\u001b[0m \u001b[1;32mNone\u001b[0m\u001b[1;33m,\u001b[0m \u001b[1;32mNone\u001b[0m\u001b[1;33m\u001b[0m\u001b[1;33m\u001b[0m\u001b[0m\n\u001b[0;32m   3065\u001b[0m     \u001b[1;32mwith\u001b[0m \u001b[0mself\u001b[0m\u001b[1;33m.\u001b[0m\u001b[0m_lock\u001b[0m\u001b[1;33m:\u001b[0m\u001b[1;33m\u001b[0m\u001b[1;33m\u001b[0m\u001b[0m\n\u001b[1;32m-> 3066\u001b[1;33m       \u001b[0mgraph_function\u001b[0m\u001b[1;33m,\u001b[0m \u001b[0m_\u001b[0m \u001b[1;33m=\u001b[0m \u001b[0mself\u001b[0m\u001b[1;33m.\u001b[0m\u001b[0m_maybe_define_function\u001b[0m\u001b[1;33m(\u001b[0m\u001b[0margs\u001b[0m\u001b[1;33m,\u001b[0m \u001b[0mkwargs\u001b[0m\u001b[1;33m)\u001b[0m\u001b[1;33m\u001b[0m\u001b[1;33m\u001b[0m\u001b[0m\n\u001b[0m\u001b[0;32m   3067\u001b[0m     \u001b[1;32mreturn\u001b[0m \u001b[0mgraph_function\u001b[0m\u001b[1;33m\u001b[0m\u001b[1;33m\u001b[0m\u001b[0m\n\u001b[0;32m   3068\u001b[0m \u001b[1;33m\u001b[0m\u001b[0m\n",
      "\u001b[1;32mc:\\python39\\lib\\site-packages\\tensorflow\\python\\eager\\function.py\u001b[0m in \u001b[0;36m_maybe_define_function\u001b[1;34m(self, args, kwargs)\u001b[0m\n\u001b[0;32m   3461\u001b[0m \u001b[1;33m\u001b[0m\u001b[0m\n\u001b[0;32m   3462\u001b[0m           \u001b[0mself\u001b[0m\u001b[1;33m.\u001b[0m\u001b[0m_function_cache\u001b[0m\u001b[1;33m.\u001b[0m\u001b[0mmissed\u001b[0m\u001b[1;33m.\u001b[0m\u001b[0madd\u001b[0m\u001b[1;33m(\u001b[0m\u001b[0mcall_context_key\u001b[0m\u001b[1;33m)\u001b[0m\u001b[1;33m\u001b[0m\u001b[1;33m\u001b[0m\u001b[0m\n\u001b[1;32m-> 3463\u001b[1;33m           \u001b[0mgraph_function\u001b[0m \u001b[1;33m=\u001b[0m \u001b[0mself\u001b[0m\u001b[1;33m.\u001b[0m\u001b[0m_create_graph_function\u001b[0m\u001b[1;33m(\u001b[0m\u001b[0margs\u001b[0m\u001b[1;33m,\u001b[0m \u001b[0mkwargs\u001b[0m\u001b[1;33m)\u001b[0m\u001b[1;33m\u001b[0m\u001b[1;33m\u001b[0m\u001b[0m\n\u001b[0m\u001b[0;32m   3464\u001b[0m           \u001b[0mself\u001b[0m\u001b[1;33m.\u001b[0m\u001b[0m_function_cache\u001b[0m\u001b[1;33m.\u001b[0m\u001b[0mprimary\u001b[0m\u001b[1;33m[\u001b[0m\u001b[0mcache_key\u001b[0m\u001b[1;33m]\u001b[0m \u001b[1;33m=\u001b[0m \u001b[0mgraph_function\u001b[0m\u001b[1;33m\u001b[0m\u001b[1;33m\u001b[0m\u001b[0m\n\u001b[0;32m   3465\u001b[0m \u001b[1;33m\u001b[0m\u001b[0m\n",
      "\u001b[1;32mc:\\python39\\lib\\site-packages\\tensorflow\\python\\eager\\function.py\u001b[0m in \u001b[0;36m_create_graph_function\u001b[1;34m(self, args, kwargs, override_flat_arg_shapes)\u001b[0m\n\u001b[0;32m   3296\u001b[0m     \u001b[0marg_names\u001b[0m \u001b[1;33m=\u001b[0m \u001b[0mbase_arg_names\u001b[0m \u001b[1;33m+\u001b[0m \u001b[0mmissing_arg_names\u001b[0m\u001b[1;33m\u001b[0m\u001b[1;33m\u001b[0m\u001b[0m\n\u001b[0;32m   3297\u001b[0m     graph_function = ConcreteFunction(\n\u001b[1;32m-> 3298\u001b[1;33m         func_graph_module.func_graph_from_py_func(\n\u001b[0m\u001b[0;32m   3299\u001b[0m             \u001b[0mself\u001b[0m\u001b[1;33m.\u001b[0m\u001b[0m_name\u001b[0m\u001b[1;33m,\u001b[0m\u001b[1;33m\u001b[0m\u001b[1;33m\u001b[0m\u001b[0m\n\u001b[0;32m   3300\u001b[0m             \u001b[0mself\u001b[0m\u001b[1;33m.\u001b[0m\u001b[0m_python_function\u001b[0m\u001b[1;33m,\u001b[0m\u001b[1;33m\u001b[0m\u001b[1;33m\u001b[0m\u001b[0m\n",
      "\u001b[1;32mc:\\python39\\lib\\site-packages\\tensorflow\\python\\framework\\func_graph.py\u001b[0m in \u001b[0;36mfunc_graph_from_py_func\u001b[1;34m(name, python_func, args, kwargs, signature, func_graph, autograph, autograph_options, add_control_dependencies, arg_names, op_return_value, collections, capture_by_value, override_flat_arg_shapes, acd_record_initial_resource_uses)\u001b[0m\n\u001b[0;32m   1005\u001b[0m         \u001b[0m_\u001b[0m\u001b[1;33m,\u001b[0m \u001b[0moriginal_func\u001b[0m \u001b[1;33m=\u001b[0m \u001b[0mtf_decorator\u001b[0m\u001b[1;33m.\u001b[0m\u001b[0munwrap\u001b[0m\u001b[1;33m(\u001b[0m\u001b[0mpython_func\u001b[0m\u001b[1;33m)\u001b[0m\u001b[1;33m\u001b[0m\u001b[1;33m\u001b[0m\u001b[0m\n\u001b[0;32m   1006\u001b[0m \u001b[1;33m\u001b[0m\u001b[0m\n\u001b[1;32m-> 1007\u001b[1;33m       \u001b[0mfunc_outputs\u001b[0m \u001b[1;33m=\u001b[0m \u001b[0mpython_func\u001b[0m\u001b[1;33m(\u001b[0m\u001b[1;33m*\u001b[0m\u001b[0mfunc_args\u001b[0m\u001b[1;33m,\u001b[0m \u001b[1;33m**\u001b[0m\u001b[0mfunc_kwargs\u001b[0m\u001b[1;33m)\u001b[0m\u001b[1;33m\u001b[0m\u001b[1;33m\u001b[0m\u001b[0m\n\u001b[0m\u001b[0;32m   1008\u001b[0m \u001b[1;33m\u001b[0m\u001b[0m\n\u001b[0;32m   1009\u001b[0m       \u001b[1;31m# invariant: `func_outputs` contains only Tensors, CompositeTensors,\u001b[0m\u001b[1;33m\u001b[0m\u001b[1;33m\u001b[0m\u001b[1;33m\u001b[0m\u001b[0m\n",
      "\u001b[1;32mc:\\python39\\lib\\site-packages\\tensorflow\\python\\eager\\def_function.py\u001b[0m in \u001b[0;36mwrapped_fn\u001b[1;34m(*args, **kwds)\u001b[0m\n\u001b[0;32m    666\u001b[0m         \u001b[1;31m# the function a weak reference to itself to avoid a reference cycle.\u001b[0m\u001b[1;33m\u001b[0m\u001b[1;33m\u001b[0m\u001b[1;33m\u001b[0m\u001b[0m\n\u001b[0;32m    667\u001b[0m         \u001b[1;32mwith\u001b[0m \u001b[0mOptionalXlaContext\u001b[0m\u001b[1;33m(\u001b[0m\u001b[0mcompile_with_xla\u001b[0m\u001b[1;33m)\u001b[0m\u001b[1;33m:\u001b[0m\u001b[1;33m\u001b[0m\u001b[1;33m\u001b[0m\u001b[0m\n\u001b[1;32m--> 668\u001b[1;33m           \u001b[0mout\u001b[0m \u001b[1;33m=\u001b[0m \u001b[0mweak_wrapped_fn\u001b[0m\u001b[1;33m(\u001b[0m\u001b[1;33m)\u001b[0m\u001b[1;33m.\u001b[0m\u001b[0m__wrapped__\u001b[0m\u001b[1;33m(\u001b[0m\u001b[1;33m*\u001b[0m\u001b[0margs\u001b[0m\u001b[1;33m,\u001b[0m \u001b[1;33m**\u001b[0m\u001b[0mkwds\u001b[0m\u001b[1;33m)\u001b[0m\u001b[1;33m\u001b[0m\u001b[1;33m\u001b[0m\u001b[0m\n\u001b[0m\u001b[0;32m    669\u001b[0m         \u001b[1;32mreturn\u001b[0m \u001b[0mout\u001b[0m\u001b[1;33m\u001b[0m\u001b[1;33m\u001b[0m\u001b[0m\n\u001b[0;32m    670\u001b[0m \u001b[1;33m\u001b[0m\u001b[0m\n",
      "\u001b[1;32mc:\\python39\\lib\\site-packages\\tensorflow\\python\\framework\\func_graph.py\u001b[0m in \u001b[0;36mwrapper\u001b[1;34m(*args, **kwargs)\u001b[0m\n\u001b[0;32m    992\u001b[0m           \u001b[1;32mexcept\u001b[0m \u001b[0mException\u001b[0m \u001b[1;32mas\u001b[0m \u001b[0me\u001b[0m\u001b[1;33m:\u001b[0m  \u001b[1;31m# pylint:disable=broad-except\u001b[0m\u001b[1;33m\u001b[0m\u001b[1;33m\u001b[0m\u001b[0m\n\u001b[0;32m    993\u001b[0m             \u001b[1;32mif\u001b[0m \u001b[0mhasattr\u001b[0m\u001b[1;33m(\u001b[0m\u001b[0me\u001b[0m\u001b[1;33m,\u001b[0m \u001b[1;34m\"ag_error_metadata\"\u001b[0m\u001b[1;33m)\u001b[0m\u001b[1;33m:\u001b[0m\u001b[1;33m\u001b[0m\u001b[1;33m\u001b[0m\u001b[0m\n\u001b[1;32m--> 994\u001b[1;33m               \u001b[1;32mraise\u001b[0m \u001b[0me\u001b[0m\u001b[1;33m.\u001b[0m\u001b[0mag_error_metadata\u001b[0m\u001b[1;33m.\u001b[0m\u001b[0mto_exception\u001b[0m\u001b[1;33m(\u001b[0m\u001b[0me\u001b[0m\u001b[1;33m)\u001b[0m\u001b[1;33m\u001b[0m\u001b[1;33m\u001b[0m\u001b[0m\n\u001b[0m\u001b[0;32m    995\u001b[0m             \u001b[1;32melse\u001b[0m\u001b[1;33m:\u001b[0m\u001b[1;33m\u001b[0m\u001b[1;33m\u001b[0m\u001b[0m\n\u001b[0;32m    996\u001b[0m               \u001b[1;32mraise\u001b[0m\u001b[1;33m\u001b[0m\u001b[1;33m\u001b[0m\u001b[0m\n",
      "\u001b[1;31mResourceExhaustedError\u001b[0m: in user code:\n\n    c:\\python39\\lib\\site-packages\\keras\\engine\\training.py:853 train_function  *\n        return step_function(self, iterator)\n    c:\\python39\\lib\\site-packages\\keras\\engine\\training.py:842 step_function  **\n        outputs = model.distribute_strategy.run(run_step, args=(data,))\n    c:\\python39\\lib\\site-packages\\tensorflow\\python\\distribute\\distribute_lib.py:1286 run\n        return self._extended.call_for_each_replica(fn, args=args, kwargs=kwargs)\n    c:\\python39\\lib\\site-packages\\tensorflow\\python\\distribute\\distribute_lib.py:2849 call_for_each_replica\n        return self._call_for_each_replica(fn, args, kwargs)\n    c:\\python39\\lib\\site-packages\\tensorflow\\python\\distribute\\distribute_lib.py:3632 _call_for_each_replica\n        return fn(*args, **kwargs)\n    c:\\python39\\lib\\site-packages\\keras\\engine\\training.py:835 run_step  **\n        outputs = model.train_step(data)\n    c:\\python39\\lib\\site-packages\\keras\\engine\\training.py:791 train_step\n        self.optimizer.minimize(loss, self.trainable_variables, tape=tape)\n    c:\\python39\\lib\\site-packages\\keras\\optimizer_v2\\optimizer_v2.py:522 minimize\n        return self.apply_gradients(grads_and_vars, name=name)\n    c:\\python39\\lib\\site-packages\\keras\\optimizer_v2\\optimizer_v2.py:628 apply_gradients\n        self._create_all_weights(var_list)\n    c:\\python39\\lib\\site-packages\\keras\\optimizer_v2\\optimizer_v2.py:815 _create_all_weights\n        self._create_slots(var_list)\n    c:\\python39\\lib\\site-packages\\keras\\optimizer_v2\\adam.py:119 _create_slots\n        self.add_slot(var, 'v')\n    c:\\python39\\lib\\site-packages\\keras\\optimizer_v2\\optimizer_v2.py:901 add_slot\n        weight = tf.Variable(\n    c:\\python39\\lib\\site-packages\\tensorflow\\python\\ops\\variables.py:268 __call__\n        return cls._variable_v2_call(*args, **kwargs)\n    c:\\python39\\lib\\site-packages\\tensorflow\\python\\ops\\variables.py:250 _variable_v2_call\n        return previous_getter(\n    c:\\python39\\lib\\site-packages\\tensorflow\\python\\ops\\variables.py:67 getter\n        return captured_getter(captured_previous, **kwargs)\n    c:\\python39\\lib\\site-packages\\tensorflow\\python\\distribute\\distribute_lib.py:3547 creator\n        return next_creator(**kwargs)\n    c:\\python39\\lib\\site-packages\\tensorflow\\python\\ops\\variables.py:67 getter\n        return captured_getter(captured_previous, **kwargs)\n    c:\\python39\\lib\\site-packages\\tensorflow\\python\\distribute\\distribute_lib.py:3547 creator\n        return next_creator(**kwargs)\n    c:\\python39\\lib\\site-packages\\tensorflow\\python\\ops\\variables.py:67 getter\n        return captured_getter(captured_previous, **kwargs)\n    c:\\python39\\lib\\site-packages\\tensorflow\\python\\distribute\\distribute_lib.py:3547 creator\n        return next_creator(**kwargs)\n    c:\\python39\\lib\\site-packages\\tensorflow\\python\\ops\\variables.py:67 getter\n        return captured_getter(captured_previous, **kwargs)\n    c:\\python39\\lib\\site-packages\\tensorflow\\python\\eager\\def_function.py:746 variable_capturing_scope\n        v = UnliftedInitializerVariable(\n    c:\\python39\\lib\\site-packages\\tensorflow\\python\\ops\\variables.py:270 __call__\n        return super(VariableMetaclass, cls).__call__(*args, **kwargs)\n    c:\\python39\\lib\\site-packages\\tensorflow\\python\\eager\\def_function.py:294 __init__\n        initial_value = initial_value()\n    c:\\python39\\lib\\site-packages\\keras\\initializers\\initializers_v2.py:145 __call__\n        return tf.zeros(shape, dtype)\n    c:\\python39\\lib\\site-packages\\tensorflow\\python\\util\\dispatch.py:206 wrapper\n        return target(*args, **kwargs)\n    c:\\python39\\lib\\site-packages\\tensorflow\\python\\ops\\array_ops.py:2915 wrapped\n        tensor = fun(*args, **kwargs)\n    c:\\python39\\lib\\site-packages\\tensorflow\\python\\ops\\array_ops.py:2976 zeros\n        output = fill(shape, constant(zero, dtype=dtype), name=name)\n    c:\\python39\\lib\\site-packages\\tensorflow\\python\\util\\dispatch.py:206 wrapper\n        return target(*args, **kwargs)\n    c:\\python39\\lib\\site-packages\\tensorflow\\python\\ops\\array_ops.py:240 fill\n        result = gen_array_ops.fill(dims, value, name=name)\n    c:\\python39\\lib\\site-packages\\tensorflow\\python\\ops\\gen_array_ops.py:3367 fill\n        _ops.raise_from_not_ok_status(e, name)\n    c:\\python39\\lib\\site-packages\\tensorflow\\python\\framework\\ops.py:6941 raise_from_not_ok_status\n        six.raise_from(core._status_to_exception(e.code, message), None)\n    <string>:3 raise_from\n        \n\n    ResourceExhaustedError: OOM when allocating tensor with shape[76800,4096] and type float on /job:localhost/replica:0/task:0/device:CPU:0 by allocator cpu [Op:Fill]\n"
     ]
    }
   ],
   "source": [
    "hist = model.fit(X_3d_train, y_3d_train, batch_size=10,epochs=30,validation_split=0.2, callbacks=[checkpoint])"
   ]
  },
  {
   "cell_type": "code",
   "execution_count": null,
   "metadata": {},
   "outputs": [],
   "source": [
    "import matplotlib.pyplot as plt\n",
    "\n",
    "plt.plot(hist.history[\"accuracy\"])\n",
    "plt.plot(hist.history['val_accuracy'])\n",
    "plt.plot(hist.history['loss'])\n",
    "plt.plot(hist.history['val_loss'])\n",
    "plt.title(\"model accuracy\")\n",
    "plt.ylabel(\"Accuracy\")\n",
    "plt.xlabel(\"Epoch\")\n",
    "plt.legend([\"Accuracy\",\"Validation Accuracy\",\"loss\",\"Validation Loss\"])\n",
    "plt.show()"
   ]
  },
  {
   "cell_type": "code",
   "execution_count": null,
   "metadata": {},
   "outputs": [],
   "source": [
    "test_results = model.evaluate(X_3d_test, y_3d_test)\n",
    "test_results"
   ]
  },
  {
   "cell_type": "markdown",
   "metadata": {
    "id": "TTMlHtqbcTsm"
   },
   "source": [
    "## AXIAL"
   ]
  },
  {
   "cell_type": "code",
   "execution_count": 15,
   "metadata": {
    "colab": {
     "base_uri": "https://localhost:8080/"
    },
    "id": "a6KuVpJFev4t",
    "outputId": "c6f3ceb6-6a1b-437d-c93e-14c47265bf01"
   },
   "outputs": [
    {
     "name": "stdout",
     "output_type": "stream",
     "text": [
      "-> [1/173] Slices processed 30.\n",
      "-> [2/173] Slices processed 58.\n",
      "-> [3/173] Slices processed 88.\n",
      "-> [4/173] Slices processed 118.\n",
      "-> [5/173] Slices processed 146.\n",
      "-> [6/173] Slices processed 173.\n",
      "-> [7/173] Slices processed 200.\n",
      "-> [8/173] Slices processed 224.\n",
      "-> [9/173] Slices processed 251.\n",
      "-> [10/173] Slices processed 278.\n",
      "-> [11/173] Slices processed 308.\n",
      "-> [12/173] Slices processed 335.\n",
      "-> [13/173] Slices processed 362.\n",
      "-> [14/173] Slices processed 387.\n",
      "-> [15/173] Slices processed 417.\n",
      "-> [16/173] Slices processed 446.\n",
      "-> [17/173] Slices processed 475.\n",
      "-> [18/173] Slices processed 502.\n",
      "-> [19/173] Slices processed 532.\n",
      "-> [20/173] Slices processed 551.\n",
      "-> [21/173] Slices processed 579.\n",
      "-> [22/173] Slices processed 604.\n",
      "-> [23/173] Slices processed 605.\n",
      "-> [24/173] Slices processed 632.\n",
      "-> [25/173] Slices processed 657.\n",
      "-> [26/173] Slices processed 686.\n",
      "-> [27/173] Slices processed 716.\n",
      "-> [28/173] Slices processed 746.\n",
      "-> [29/173] Slices processed 770.\n",
      "-> [30/173] Slices processed 799.\n",
      "-> [31/173] Slices processed 827.\n",
      "-> [32/173] Slices processed 857.\n",
      "-> [33/173] Slices processed 887.\n",
      "-> [34/173] Slices processed 911.\n",
      "-> [35/173] Slices processed 938.\n",
      "-> [36/173] Slices processed 968.\n",
      "-> [37/173] Slices processed 993.\n",
      "-> [38/173] Slices processed 1021.\n",
      "-> [39/173] Slices processed 1051.\n",
      "-> [40/173] Slices processed 1079.\n",
      "-> [41/173] Slices processed 1108.\n",
      "-> [42/173] Slices processed 1138.\n",
      "-> [43/173] Slices processed 1167.\n",
      "-> [44/173] Slices processed 1196.\n",
      "-> [45/173] Slices processed 1224.\n",
      "-> [46/173] Slices processed 1254.\n",
      "-> [47/173] Slices processed 1282.\n",
      "-> [48/173] Slices processed 1309.\n",
      "-> [49/173] Slices processed 1339.\n",
      "-> [50/173] Slices processed 1369.\n",
      "-> [51/173] Slices processed 1399.\n",
      "-> [52/173] Slices processed 1427.\n",
      "-> [53/173] Slices processed 1452.\n",
      "-> [54/173] Slices processed 1478.\n",
      "-> [55/173] Slices processed 1506.\n",
      "-> [56/173] Slices processed 1535.\n",
      "-> [57/173] Slices processed 1560.\n",
      "-> [58/173] Slices processed 1590.\n",
      "-> [59/173] Slices processed 1612.\n",
      "-> [60/173] Slices processed 1642.\n",
      "-> [61/173] Slices processed 1672.\n",
      "-> [62/173] Slices processed 1702.\n",
      "-> [63/173] Slices processed 1729.\n",
      "-> [64/173] Slices processed 1757.\n",
      "-> [65/173] Slices processed 1784.\n",
      "-> [66/173] Slices processed 1813.\n",
      "-> [67/173] Slices processed 1842.\n",
      "-> [68/173] Slices processed 1865.\n",
      "-> [69/173] Slices processed 1893.\n",
      "-> [70/173] Slices processed 1923.\n",
      "-> [71/173] Slices processed 1952.\n",
      "-> [72/173] Slices processed 1980.\n",
      "-> [73/173] Slices processed 2010.\n",
      "-> [74/173] Slices processed 2040.\n",
      "-> [75/173] Slices processed 2067.\n",
      "-> [76/173] Slices processed 2097.\n",
      "-> [77/173] Slices processed 2124.\n",
      "-> [78/173] Slices processed 2151.\n",
      "-> [79/173] Slices processed 2179.\n",
      "-> [80/173] Slices processed 2209.\n",
      "-> [81/173] Slices processed 2239.\n",
      "-> [82/173] Slices processed 2266.\n",
      "-> [83/173] Slices processed 2293.\n",
      "-> [84/173] Slices processed 2323.\n",
      "-> [85/173] Slices processed 2352.\n"
     ]
    },
    {
     "name": "stderr",
     "output_type": "stream",
     "text": [
      "C:\\Users\\josie\\AppData\\Local\\Temp/ipykernel_3568/1751870067.py:22: RuntimeWarning: invalid value encountered in true_divide\n",
      "  arr = arr / arr.max()\n"
     ]
    },
    {
     "name": "stdout",
     "output_type": "stream",
     "text": [
      "-> [86/173] Slices processed 2533.\n",
      "-> [87/173] Slices processed 2560.\n",
      "-> [88/173] Slices processed 2584.\n",
      "-> [89/173] Slices processed 2612.\n",
      "-> [90/173] Slices processed 2642.\n",
      "-> [91/173] Slices processed 2669.\n",
      "-> [92/173] Slices processed 2699.\n",
      "-> [93/173] Slices processed 2729.\n",
      "-> [94/173] Slices processed 2759.\n",
      "-> [95/173] Slices processed 2789.\n",
      "-> [96/173] Slices processed 2817.\n",
      "-> [97/173] Slices processed 2847.\n",
      "-> [98/173] Slices processed 2865.\n",
      "-> [99/173] Slices processed 2890.\n",
      "-> [100/173] Slices processed 2916.\n",
      "-> [101/173] Slices processed 2945.\n",
      "-> [102/173] Slices processed 2972.\n",
      "-> [103/173] Slices processed 3001.\n",
      "-> [104/173] Slices processed 3029.\n",
      "-> [105/173] Slices processed 3059.\n",
      "-> [106/173] Slices processed 3085.\n",
      "-> [107/173] Slices processed 3111.\n",
      "-> [108/173] Slices processed 3141.\n",
      "-> [109/173] Slices processed 3171.\n",
      "-> [110/173] Slices processed 3198.\n",
      "-> [111/173] Slices processed 3225.\n",
      "-> [112/173] Slices processed 3255.\n",
      "-> [113/173] Slices processed 3285.\n",
      "-> [114/173] Slices processed 3315.\n",
      "-> [115/173] Slices processed 3345.\n",
      "-> [116/173] Slices processed 3374.\n",
      "-> [117/173] Slices processed 3402.\n",
      "-> [118/173] Slices processed 3432.\n",
      "-> [119/173] Slices processed 3461.\n",
      "-> [120/173] Slices processed 3491.\n",
      "-> [121/173] Slices processed 3521.\n",
      "-> [122/173] Slices processed 3551.\n",
      "-> [123/173] Slices processed 3581.\n",
      "-> [124/173] Slices processed 3611.\n",
      "-> [125/173] Slices processed 3637.\n",
      "-> [126/173] Slices processed 3667.\n",
      "-> [127/173] Slices processed 3697.\n",
      "-> [128/173] Slices processed 3727.\n",
      "-> [129/173] Slices processed 3757.\n",
      "-> [130/173] Slices processed 3783.\n",
      "-> [131/173] Slices processed 3813.\n",
      "-> [132/173] Slices processed 3843.\n",
      "-> [133/173] Slices processed 3870.\n",
      "-> [134/173] Slices processed 3900.\n",
      "-> [135/173] Slices processed 3930.\n",
      "-> [136/173] Slices processed 3960.\n",
      "-> [137/173] Slices processed 3989.\n",
      "-> [138/173] Slices processed 4018.\n",
      "-> [139/173] Slices processed 4046.\n",
      "-> [140/173] Slices processed 4075.\n",
      "-> [141/173] Slices processed 4105.\n",
      "-> [142/173] Slices processed 4130.\n",
      "-> [143/173] Slices processed 4160.\n",
      "-> [144/173] Slices processed 4189.\n",
      "-> [145/173] Slices processed 4212.\n",
      "-> [146/173] Slices processed 4242.\n",
      "-> [147/173] Slices processed 4272.\n",
      "-> [148/173] Slices processed 4302.\n",
      "-> [149/173] Slices processed 4329.\n",
      "-> [150/173] Slices processed 4358.\n",
      "-> [151/173] Slices processed 4386.\n",
      "-> [152/173] Slices processed 4411.\n",
      "-> [153/173] Slices processed 4441.\n",
      "-> [154/173] Slices processed 4470.\n",
      "-> [155/173] Slices processed 4496.\n",
      "-> [156/173] Slices processed 4526.\n",
      "-> [157/173] Slices processed 4555.\n",
      "-> [158/173] Slices processed 4580.\n",
      "-> [159/173] Slices processed 4610.\n",
      "-> [160/173] Slices processed 4637.\n",
      "-> [161/173] Slices processed 4663.\n",
      "-> [162/173] Slices processed 4687.\n",
      "-> [163/173] Slices processed 4715.\n",
      "-> [164/173] Slices processed 4745.\n",
      "-> [165/173] Slices processed 4775.\n",
      "-> [166/173] Slices processed 4805.\n",
      "-> [167/173] Slices processed 4835.\n",
      "-> [168/173] Slices processed 4865.\n",
      "-> [169/173] Slices processed 4895.\n",
      "-> [170/173] Slices processed 4919.\n",
      "-> [171/173] Slices processed 4944.\n",
      "-> [172/173] Slices processed 4974.\n",
      "-> [173/173] Slices processed 5004.\n",
      "-> [1/44] Slices processed 28.\n",
      "-> [2/44] Slices processed 56.\n",
      "-> [3/44] Slices processed 84.\n",
      "-> [4/44] Slices processed 114.\n",
      "-> [5/44] Slices processed 138.\n",
      "-> [6/44] Slices processed 168.\n",
      "-> [7/44] Slices processed 198.\n",
      "-> [8/44] Slices processed 228.\n",
      "-> [9/44] Slices processed 257.\n",
      "-> [10/44] Slices processed 282.\n",
      "-> [11/44] Slices processed 308.\n",
      "-> [12/44] Slices processed 338.\n",
      "-> [13/44] Slices processed 365.\n",
      "-> [14/44] Slices processed 394.\n",
      "-> [15/44] Slices processed 422.\n",
      "-> [16/44] Slices processed 452.\n",
      "-> [17/44] Slices processed 482.\n",
      "-> [18/44] Slices processed 511.\n",
      "-> [19/44] Slices processed 539.\n",
      "-> [20/44] Slices processed 568.\n",
      "-> [21/44] Slices processed 595.\n",
      "-> [22/44] Slices processed 622.\n",
      "-> [23/44] Slices processed 650.\n",
      "-> [24/44] Slices processed 680.\n",
      "-> [25/44] Slices processed 710.\n",
      "-> [26/44] Slices processed 737.\n",
      "-> [27/44] Slices processed 766.\n",
      "-> [28/44] Slices processed 791.\n",
      "-> [29/44] Slices processed 815.\n",
      "-> [30/44] Slices processed 843.\n",
      "-> [31/44] Slices processed 873.\n",
      "-> [32/44] Slices processed 903.\n",
      "-> [33/44] Slices processed 930.\n",
      "-> [34/44] Slices processed 959.\n",
      "-> [35/44] Slices processed 987.\n",
      "-> [36/44] Slices processed 1015.\n",
      "-> [37/44] Slices processed 1042.\n",
      "-> [38/44] Slices processed 1072.\n",
      "-> [39/44] Slices processed 1102.\n",
      "-> [40/44] Slices processed 1132.\n",
      "-> [41/44] Slices processed 1162.\n",
      "-> [42/44] Slices processed 1189.\n",
      "-> [43/44] Slices processed 1216.\n",
      "-> [44/44] Slices processed 1242.\n"
     ]
    }
   ],
   "source": [
    "X_axial_train, y_axial_train = get_slices_per_group_axial(X_train, y_train)\n",
    "X_axial_train = X_axial_train.reshape(-1, X_axial_train.shape[1], X_axial_train.shape[2], 1)\n",
    "\n",
    "X_axial_test, y_axial_test = get_slices_per_group_axial(X_test, y_test)\n",
    "X_axial_test = X_axial_test.reshape(-1, X_axial_train.shape[1], X_axial_train.shape[2], 1)"
   ]
  },
  {
   "cell_type": "code",
   "execution_count": 16,
   "metadata": {
    "colab": {
     "base_uri": "https://localhost:8080/"
    },
    "id": "D-36EzPmfjyA",
    "outputId": "e17efeb8-62c4-49ef-8446-1ec8863ff0fb"
   },
   "outputs": [
    {
     "name": "stdout",
     "output_type": "stream",
     "text": [
      "Train: X:(5004, 224, 224, 1), y: 5004\n",
      "Test: X:(1242, 224, 224, 1), y: 1242\n"
     ]
    }
   ],
   "source": [
    "print(\"Train: X:(%d, %d, %d, %d), y: %d\" %(X_axial_train.shape[0],X_axial_train.shape[1],X_axial_train.shape[2],X_axial_train.shape[3], len(y_axial_train)))\n",
    "print(\"Test: X:(%d, %d, %d, %d), y: %d\" %(X_axial_test.shape[0],X_axial_test.shape[1],X_axial_test.shape[2],X_axial_test.shape[3], len(y_axial_test)))"
   ]
  },
  {
   "cell_type": "markdown",
   "metadata": {
    "id": "X7bK3grjmDsh"
   },
   "source": [
    "###VGG19"
   ]
  },
  {
   "cell_type": "code",
   "execution_count": 17,
   "metadata": {
    "id": "GmsZwEJRpg-t"
   },
   "outputs": [],
   "source": [
    "import keras\n",
    "from keras.models import Sequential\n",
    "from keras.layers import Dense, Conv2D, MaxPool2D , Flatten\n",
    "from keras.preprocessing.image import ImageDataGenerator\n",
    "from keras.layers import Dropout\n",
    "from keras.callbacks import ModelCheckpoint, EarlyStopping\n",
    "import imageio\n",
    "import tensorflow as tf"
   ]
  },
  {
   "cell_type": "code",
   "execution_count": 18,
   "metadata": {
    "colab": {
     "base_uri": "https://localhost:8080/"
    },
    "id": "7Y7XVr5bl5MU",
    "outputId": "18ce578d-5d08-4ce3-f8cc-aad0bd5b537b"
   },
   "outputs": [
    {
     "name": "stdout",
     "output_type": "stream",
     "text": [
      "Model: \"sequential\"\n",
      "_________________________________________________________________\n",
      "Layer (type)                 Output Shape              Param #   \n",
      "=================================================================\n",
      "conv2d (Conv2D)              (None, 224, 224, 64)      640       \n",
      "_________________________________________________________________\n",
      "conv2d_1 (Conv2D)            (None, 224, 224, 64)      36928     \n",
      "_________________________________________________________________\n",
      "dropout (Dropout)            (None, 224, 224, 64)      0         \n",
      "_________________________________________________________________\n",
      "max_pooling2d (MaxPooling2D) (None, 112, 112, 64)      0         \n",
      "_________________________________________________________________\n",
      "conv2d_2 (Conv2D)            (None, 112, 112, 128)     73856     \n",
      "_________________________________________________________________\n",
      "conv2d_3 (Conv2D)            (None, 112, 112, 128)     147584    \n",
      "_________________________________________________________________\n",
      "dropout_1 (Dropout)          (None, 112, 112, 128)     0         \n",
      "_________________________________________________________________\n",
      "max_pooling2d_1 (MaxPooling2 (None, 56, 56, 128)       0         \n",
      "_________________________________________________________________\n",
      "conv2d_4 (Conv2D)            (None, 56, 56, 256)       295168    \n",
      "_________________________________________________________________\n",
      "conv2d_5 (Conv2D)            (None, 56, 56, 256)       590080    \n",
      "_________________________________________________________________\n",
      "conv2d_6 (Conv2D)            (None, 56, 56, 256)       590080    \n",
      "_________________________________________________________________\n",
      "conv2d_7 (Conv2D)            (None, 56, 56, 256)       590080    \n",
      "_________________________________________________________________\n",
      "dropout_2 (Dropout)          (None, 56, 56, 256)       0         \n",
      "_________________________________________________________________\n",
      "max_pooling2d_2 (MaxPooling2 (None, 28, 28, 256)       0         \n",
      "_________________________________________________________________\n",
      "conv2d_8 (Conv2D)            (None, 28, 28, 512)       1180160   \n",
      "_________________________________________________________________\n",
      "conv2d_9 (Conv2D)            (None, 28, 28, 512)       2359808   \n",
      "_________________________________________________________________\n",
      "conv2d_10 (Conv2D)           (None, 28, 28, 512)       2359808   \n",
      "_________________________________________________________________\n",
      "conv2d_11 (Conv2D)           (None, 28, 28, 512)       2359808   \n",
      "_________________________________________________________________\n",
      "dropout_3 (Dropout)          (None, 28, 28, 512)       0         \n",
      "_________________________________________________________________\n",
      "max_pooling2d_3 (MaxPooling2 (None, 14, 14, 512)       0         \n",
      "_________________________________________________________________\n",
      "conv2d_12 (Conv2D)           (None, 14, 14, 512)       2359808   \n",
      "_________________________________________________________________\n",
      "conv2d_13 (Conv2D)           (None, 14, 14, 512)       2359808   \n",
      "_________________________________________________________________\n",
      "conv2d_14 (Conv2D)           (None, 14, 14, 512)       2359808   \n",
      "_________________________________________________________________\n",
      "conv2d_15 (Conv2D)           (None, 14, 14, 512)       2359808   \n",
      "_________________________________________________________________\n",
      "dropout_4 (Dropout)          (None, 14, 14, 512)       0         \n",
      "_________________________________________________________________\n",
      "max_pooling2d_4 (MaxPooling2 (None, 7, 7, 512)         0         \n",
      "_________________________________________________________________\n",
      "flatten (Flatten)            (None, 25088)             0         \n",
      "_________________________________________________________________\n",
      "dense (Dense)                (None, 4096)              102764544 \n",
      "_________________________________________________________________\n",
      "dense_1 (Dense)              (None, 4096)              16781312  \n",
      "_________________________________________________________________\n",
      "dense_2 (Dense)              (None, 1000)              4097000   \n",
      "_________________________________________________________________\n",
      "dense_3 (Dense)              (None, 1)                 1001      \n",
      "=================================================================\n",
      "Total params: 143,667,089\n",
      "Trainable params: 143,667,089\n",
      "Non-trainable params: 0\n",
      "_________________________________________________________________\n",
      "None\n"
     ]
    }
   ],
   "source": [
    "model = Sequential()\n",
    "model.add(Conv2D(input_shape=(224,224,1),filters=64,kernel_size=(3,3),padding=\"same\", activation=\"relu\"))\n",
    "model.add(Conv2D(filters=64,kernel_size=(3,3),padding=\"same\", activation=\"relu\"))\n",
    "model.add(Dropout(0.4))\n",
    "model.add(MaxPool2D(pool_size=(2,2),strides=(2,2)))\n",
    "model.add(Conv2D(filters=128, kernel_size=(3,3), padding=\"same\", activation=\"relu\"))\n",
    "model.add(Conv2D(filters=128, kernel_size=(3,3), padding=\"same\", activation=\"relu\"))\n",
    "model.add(Dropout(0.6))\n",
    "model.add(MaxPool2D(pool_size=(2,2),strides=(2,2)))\n",
    "model.add(Conv2D(filters=256, kernel_size=(3,3), padding=\"same\", activation=\"relu\"))\n",
    "model.add(Conv2D(filters=256, kernel_size=(3,3), padding=\"same\", activation=\"relu\"))\n",
    "model.add(Conv2D(filters=256, kernel_size=(3,3), padding=\"same\", activation=\"relu\"))\n",
    "model.add(Conv2D(filters=256, kernel_size=(3,3), padding=\"same\", activation=\"relu\"))\n",
    "model.add(Dropout(0.8))\n",
    "model.add(MaxPool2D(pool_size=(2,2),strides=(2,2)))\n",
    "model.add(Conv2D(filters=512, kernel_size=(3,3), padding=\"same\", activation=\"relu\"))\n",
    "model.add(Conv2D(filters=512, kernel_size=(3,3), padding=\"same\", activation=\"relu\"))\n",
    "model.add(Conv2D(filters=512, kernel_size=(3,3), padding=\"same\", activation=\"relu\"))\n",
    "model.add(Conv2D(filters=512, kernel_size=(3,3), padding=\"same\", activation=\"relu\"))\n",
    "model.add(Dropout(0.8))\n",
    "model.add(MaxPool2D(pool_size=(2,2),strides=(2,2)))\n",
    "model.add(Conv2D(filters=512, kernel_size=(3,3), padding=\"same\", activation=\"relu\"))\n",
    "model.add(Conv2D(filters=512, kernel_size=(3,3), padding=\"same\", activation=\"relu\"))\n",
    "model.add(Conv2D(filters=512, kernel_size=(3,3), padding=\"same\", activation=\"relu\"))\n",
    "model.add(Conv2D(filters=512, kernel_size=(3,3), padding=\"same\", activation=\"relu\"))\n",
    "model.add(Dropout(0.4))\n",
    "model.add(MaxPool2D(pool_size=(2,2),strides=(2,2)))\n",
    "\n",
    "#Dense layer\n",
    "model.add(Flatten())\n",
    "model.add(Dense(units=4096,activation=\"relu\"))\n",
    "model.add(Dense(units=4096,activation=\"relu\"))\n",
    "model.add(Dense(units=1000,activation=\"relu\"))\n",
    "model.add(Dense(1, activation=\"softmax\"))\n",
    "\n",
    "model.compile(optimizer='adam', loss=keras.losses.binary_crossentropy, metrics=['accuracy'])\n",
    "\n",
    "print(model.summary())"
   ]
  },
  {
   "cell_type": "code",
   "execution_count": 19,
   "metadata": {
    "colab": {
     "base_uri": "https://localhost:8080/"
    },
    "id": "5-ixtI5Tpsv0",
    "outputId": "07ba67f2-d3ea-4cd9-8074-212236f6b3d0"
   },
   "outputs": [
    {
     "name": "stdout",
     "output_type": "stream",
     "text": [
      "WARNING:tensorflow:`period` argument is deprecated. Please use `save_freq` to specify the frequency in number of batches seen.\n"
     ]
    }
   ],
   "source": [
    "checkpoint = ModelCheckpoint(\"vgg19_1.h5\", monitor='val_accuracy', verbose=1, save_best_only=True, save_weights_only=False, mode='auto', period=1)\n",
    "early = EarlyStopping(monitor='val_acc', min_delta=0, patience=20, verbose=1, mode='auto')\n",
    "#fit_generator(steps_per_epoch=1,generator=traindata, validation_data= testdata, validation_steps=1,epochs=50,callbacks=[checkpoint])\n",
    "# hist = model.fit(traindata, testdata, batch_size=10, epochs=20, verbose=0, shuffle=True,validation_split=0.2,callbacks=[checkpoint])"
   ]
  },
  {
   "cell_type": "code",
   "execution_count": 21,
   "metadata": {},
   "outputs": [
    {
     "name": "stdout",
     "output_type": "stream",
     "text": [
      "Epoch 1/30\n",
      "401/401 [==============================] - 3665s 9s/step - loss: nan - accuracy: 0.5528 - val_loss: nan - val_accuracy: 0.5165\n",
      "\n",
      "Epoch 00001: val_accuracy improved from -inf to 0.51648, saving model to vgg19_1.h5\n",
      "Epoch 2/30\n",
      "401/401 [==============================] - 3659s 9s/step - loss: nan - accuracy: 0.5528 - val_loss: nan - val_accuracy: 0.5165\n",
      "\n",
      "Epoch 00002: val_accuracy did not improve from 0.51648\n",
      "Epoch 3/30\n",
      "401/401 [==============================] - 3693s 9s/step - loss: nan - accuracy: 0.5528 - val_loss: nan - val_accuracy: 0.5165\n",
      "\n",
      "Epoch 00003: val_accuracy did not improve from 0.51648\n",
      "Epoch 4/30\n",
      "401/401 [==============================] - 3717s 9s/step - loss: nan - accuracy: 0.5528 - val_loss: nan - val_accuracy: 0.5165\n",
      "\n",
      "Epoch 00004: val_accuracy did not improve from 0.51648\n",
      "Epoch 5/30\n",
      "401/401 [==============================] - 3753s 9s/step - loss: nan - accuracy: 0.5528 - val_loss: nan - val_accuracy: 0.5165\n",
      "\n",
      "Epoch 00005: val_accuracy did not improve from 0.51648\n",
      "Epoch 6/30\n",
      "401/401 [==============================] - 3798s 9s/step - loss: nan - accuracy: 0.5528 - val_loss: nan - val_accuracy: 0.5165\n",
      "\n",
      "Epoch 00006: val_accuracy did not improve from 0.51648\n",
      "Epoch 7/30\n",
      "401/401 [==============================] - 3894s 10s/step - loss: nan - accuracy: 0.5528 - val_loss: nan - val_accuracy: 0.5165\n",
      "\n",
      "Epoch 00007: val_accuracy did not improve from 0.51648\n",
      "Epoch 8/30\n",
      "401/401 [==============================] - 3902s 10s/step - loss: nan - accuracy: 0.5528 - val_loss: nan - val_accuracy: 0.5165\n",
      "\n",
      "Epoch 00008: val_accuracy did not improve from 0.51648\n",
      "Epoch 9/30\n",
      "401/401 [==============================] - 3894s 10s/step - loss: nan - accuracy: 0.5528 - val_loss: nan - val_accuracy: 0.5165\n",
      "\n",
      "Epoch 00009: val_accuracy did not improve from 0.51648\n",
      "Epoch 10/30\n",
      "401/401 [==============================] - 3792s 9s/step - loss: nan - accuracy: 0.5528 - val_loss: nan - val_accuracy: 0.5165\n",
      "\n",
      "Epoch 00010: val_accuracy did not improve from 0.51648\n",
      "Epoch 11/30\n",
      "401/401 [==============================] - 3459s 9s/step - loss: nan - accuracy: 0.5528 - val_loss: nan - val_accuracy: 0.5165\n",
      "\n",
      "Epoch 00011: val_accuracy did not improve from 0.51648\n",
      "Epoch 12/30\n",
      "401/401 [==============================] - 3513s 9s/step - loss: nan - accuracy: 0.5528 - val_loss: nan - val_accuracy: 0.5165\n",
      "\n",
      "Epoch 00012: val_accuracy did not improve from 0.51648\n",
      "Epoch 13/30\n",
      "401/401 [==============================] - 3429s 9s/step - loss: nan - accuracy: 0.5528 - val_loss: nan - val_accuracy: 0.5165\n",
      "\n",
      "Epoch 00013: val_accuracy did not improve from 0.51648\n",
      "Epoch 14/30\n",
      "401/401 [==============================] - 3437s 9s/step - loss: nan - accuracy: 0.5528 - val_loss: nan - val_accuracy: 0.5165\n",
      "\n",
      "Epoch 00014: val_accuracy did not improve from 0.51648\n",
      "Epoch 15/30\n",
      "401/401 [==============================] - 3405s 8s/step - loss: nan - accuracy: 0.5528 - val_loss: nan - val_accuracy: 0.5165\n",
      "\n",
      "Epoch 00015: val_accuracy did not improve from 0.51648\n",
      "Epoch 16/30\n",
      "401/401 [==============================] - 3406s 8s/step - loss: nan - accuracy: 0.5528 - val_loss: nan - val_accuracy: 0.5165\n",
      "\n",
      "Epoch 00016: val_accuracy did not improve from 0.51648\n",
      "Epoch 17/30\n",
      "401/401 [==============================] - 3382s 8s/step - loss: nan - accuracy: 0.5528 - val_loss: nan - val_accuracy: 0.5165\n",
      "\n",
      "Epoch 00017: val_accuracy did not improve from 0.51648\n",
      "Epoch 18/30\n",
      "401/401 [==============================] - 3371s 8s/step - loss: nan - accuracy: 0.5528 - val_loss: nan - val_accuracy: 0.5165\n",
      "\n",
      "Epoch 00018: val_accuracy did not improve from 0.51648\n",
      "Epoch 19/30\n",
      "401/401 [==============================] - 3391s 8s/step - loss: nan - accuracy: 0.5528 - val_loss: nan - val_accuracy: 0.5165\n",
      "\n",
      "Epoch 00019: val_accuracy did not improve from 0.51648\n",
      "Epoch 20/30\n",
      "401/401 [==============================] - 3376s 8s/step - loss: nan - accuracy: 0.5528 - val_loss: nan - val_accuracy: 0.5165\n",
      "\n",
      "Epoch 00020: val_accuracy did not improve from 0.51648\n",
      "Epoch 21/30\n",
      "401/401 [==============================] - 3375s 8s/step - loss: nan - accuracy: 0.5528 - val_loss: nan - val_accuracy: 0.5165\n",
      "\n",
      "Epoch 00021: val_accuracy did not improve from 0.51648\n",
      "Epoch 22/30\n",
      "401/401 [==============================] - 3364s 8s/step - loss: nan - accuracy: 0.5528 - val_loss: nan - val_accuracy: 0.5165\n",
      "\n",
      "Epoch 00022: val_accuracy did not improve from 0.51648\n",
      "Epoch 23/30\n",
      "401/401 [==============================] - 3373s 8s/step - loss: nan - accuracy: 0.5528 - val_loss: nan - val_accuracy: 0.5165\n",
      "\n",
      "Epoch 00023: val_accuracy did not improve from 0.51648\n",
      "Epoch 24/30\n",
      "401/401 [==============================] - 3373s 8s/step - loss: nan - accuracy: 0.5528 - val_loss: nan - val_accuracy: 0.5165\n",
      "\n",
      "Epoch 00024: val_accuracy did not improve from 0.51648\n",
      "Epoch 25/30\n",
      "401/401 [==============================] - 3529s 9s/step - loss: nan - accuracy: 0.5528 - val_loss: nan - val_accuracy: 0.5165\n",
      "\n",
      "Epoch 00025: val_accuracy did not improve from 0.51648\n",
      "Epoch 26/30\n",
      "401/401 [==============================] - 4062s 10s/step - loss: nan - accuracy: 0.5528 - val_loss: nan - val_accuracy: 0.5165\n",
      "\n",
      "Epoch 00026: val_accuracy did not improve from 0.51648\n",
      "Epoch 27/30\n",
      "401/401 [==============================] - 3526s 9s/step - loss: nan - accuracy: 0.5528 - val_loss: nan - val_accuracy: 0.5165\n",
      "\n",
      "Epoch 00027: val_accuracy did not improve from 0.51648\n",
      "Epoch 28/30\n",
      "401/401 [==============================] - 3409s 9s/step - loss: nan - accuracy: 0.5528 - val_loss: nan - val_accuracy: 0.5165\n",
      "\n",
      "Epoch 00028: val_accuracy did not improve from 0.51648\n",
      "Epoch 29/30\n",
      "401/401 [==============================] - 3323s 8s/step - loss: nan - accuracy: 0.5528 - val_loss: nan - val_accuracy: 0.5165\n",
      "\n",
      "Epoch 00029: val_accuracy did not improve from 0.51648\n",
      "Epoch 30/30\n",
      "401/401 [==============================] - 3403s 8s/step - loss: nan - accuracy: 0.5528 - val_loss: nan - val_accuracy: 0.5165\n",
      "\n",
      "Epoch 00030: val_accuracy did not improve from 0.51648\n"
     ]
    }
   ],
   "source": [
    "hist = model.fit(X_axial_train, y_axial_train, batch_size=10,epochs=30,validation_split=0.2, callbacks=[checkpoint])"
   ]
  },
  {
   "cell_type": "code",
   "execution_count": 23,
   "metadata": {
    "colab": {
     "base_uri": "https://localhost:8080/",
     "height": 231
    },
    "id": "seDApqQk5FtY",
    "outputId": "fc45785c-eb2f-465f-eef0-94b3ffe8452c"
   },
   "outputs": [
    {
     "data": {
      "image/png": "[encoded data removed]",
      "text/plain": [
       "<Figure size 432x288 with 1 Axes>"
      ]
     },
     "metadata": {
      "needs_background": "light"
     },
     "output_type": "display_data"
    }
   ],
   "source": [
    "import matplotlib.pyplot as plt\n",
    "\n",
    "plt.plot(hist.history[\"accuracy\"])\n",
    "plt.plot(hist.history['val_accuracy'])\n",
    "plt.plot(hist.history['loss'])\n",
    "plt.plot(hist.history['val_loss'])\n",
    "plt.title(\"model accuracy\")\n",
    "plt.ylabel(\"Accuracy\")\n",
    "plt.xlabel(\"Epoch\")\n",
    "plt.legend([\"Accuracy\",\"Validation Accuracy\",\"loss\",\"Validation Loss\"])\n",
    "plt.show()"
   ]
  },
  {
   "cell_type": "code",
   "execution_count": 25,
   "metadata": {},
   "outputs": [
    {
     "name": "stdout",
     "output_type": "stream",
     "text": [
      "39/39 [==============================] - 210s 5s/step - loss: nan - accuracy: 0.5370\n"
     ]
    },
    {
     "data": {
      "text/plain": [
       "[nan, 0.5370370149612427]"
      ]
     },
     "execution_count": 25,
     "metadata": {},
     "output_type": "execute_result"
    }
   ],
   "source": [
    "test_results = model.evaluate(X_axial_test, y_axial_test)\n",
    "test_results"
   ]
  },
  {
   "cell_type": "code",
   "execution_count": null,
   "metadata": {},
   "outputs": [],
   "source": []
  },
  {
   "cell_type": "markdown",
   "metadata": {
    "id": "cJxGks6FB7W8"
   },
   "source": [
    "# CORONAL"
   ]
  },
  {
   "cell_type": "code",
   "execution_count": 17,
   "metadata": {
    "colab": {
     "base_uri": "https://localhost:8080/"
    },
    "id": "9C4njiq6B7XG",
    "outputId": "4a93da83-0133-4de3-c371-91d13555ce4c"
   },
   "outputs": [
    {
     "name": "stdout",
     "output_type": "stream",
     "text": [
      "-> [1/173] Slices processed 67.\n",
      "-> [2/173] Slices processed 134.\n",
      "-> [3/173] Slices processed 201.\n",
      "-> [4/173] Slices processed 268.\n",
      "-> [5/173] Slices processed 335.\n",
      "-> [6/173] Slices processed 402.\n",
      "-> [7/173] Slices processed 469.\n",
      "-> [8/173] Slices processed 536.\n",
      "-> [9/173] Slices processed 603.\n",
      "-> [10/173] Slices processed 670.\n",
      "-> [11/173] Slices processed 737.\n",
      "-> [12/173] Slices processed 804.\n",
      "-> [13/173] Slices processed 871.\n"
     ]
    },
    {
     "name": "stderr",
     "output_type": "stream",
     "text": [
      "C:\\Users\\josie\\AppData\\Local\\Temp/ipykernel_5444/1790016269.py:22: RuntimeWarning: invalid value encountered in true_divide\n",
      "  arr = arr / arr.max()\n"
     ]
    },
    {
     "name": "stdout",
     "output_type": "stream",
     "text": [
      "-> [14/173] Slices processed 1052.\n",
      "-> [15/173] Slices processed 1119.\n",
      "-> [16/173] Slices processed 1186.\n",
      "-> [17/173] Slices processed 1253.\n",
      "-> [18/173] Slices processed 1320.\n",
      "-> [19/173] Slices processed 1387.\n",
      "-> [20/173] Slices processed 1454.\n",
      "-> [21/173] Slices processed 1521.\n",
      "-> [22/173] Slices processed 1588.\n",
      "-> [23/173] Slices processed 1655.\n",
      "-> [24/173] Slices processed 1722.\n",
      "-> [25/173] Slices processed 1789.\n",
      "-> [26/173] Slices processed 1856.\n",
      "-> [27/173] Slices processed 1923.\n",
      "-> [28/173] Slices processed 1990.\n",
      "-> [29/173] Slices processed 2057.\n",
      "-> [30/173] Slices processed 2124.\n",
      "-> [31/173] Slices processed 2191.\n",
      "-> [32/173] Slices processed 2258.\n",
      "-> [33/173] Slices processed 2325.\n",
      "-> [34/173] Slices processed 2392.\n",
      "-> [35/173] Slices processed 2459.\n",
      "-> [36/173] Slices processed 2526.\n",
      "-> [37/173] Slices processed 2593.\n",
      "-> [38/173] Slices processed 2660.\n",
      "-> [39/173] Slices processed 2727.\n",
      "-> [40/173] Slices processed 2794.\n",
      "-> [41/173] Slices processed 2861.\n",
      "-> [42/173] Slices processed 2928.\n",
      "-> [43/173] Slices processed 2995.\n",
      "-> [44/173] Slices processed 3062.\n",
      "-> [45/173] Slices processed 3129.\n",
      "-> [46/173] Slices processed 3196.\n",
      "-> [47/173] Slices processed 3263.\n",
      "-> [48/173] Slices processed 3330.\n",
      "-> [49/173] Slices processed 3397.\n",
      "-> [50/173] Slices processed 3464.\n",
      "-> [51/173] Slices processed 3531.\n",
      "-> [52/173] Slices processed 3598.\n",
      "-> [53/173] Slices processed 3624.\n",
      "-> [54/173] Slices processed 3691.\n",
      "-> [55/173] Slices processed 3758.\n",
      "-> [56/173] Slices processed 3825.\n",
      "-> [57/173] Slices processed 3892.\n",
      "-> [58/173] Slices processed 3959.\n",
      "-> [59/173] Slices processed 4026.\n",
      "-> [60/173] Slices processed 4093.\n",
      "-> [61/173] Slices processed 4160.\n",
      "-> [62/173] Slices processed 4227.\n",
      "-> [63/173] Slices processed 4294.\n",
      "-> [64/173] Slices processed 4361.\n",
      "-> [65/173] Slices processed 4428.\n",
      "-> [66/173] Slices processed 4495.\n",
      "-> [67/173] Slices processed 4562.\n",
      "-> [68/173] Slices processed 4629.\n",
      "-> [69/173] Slices processed 4696.\n",
      "-> [70/173] Slices processed 4763.\n",
      "-> [71/173] Slices processed 4830.\n",
      "-> [72/173] Slices processed 4897.\n",
      "-> [73/173] Slices processed 4964.\n",
      "-> [74/173] Slices processed 5031.\n",
      "-> [75/173] Slices processed 5098.\n",
      "-> [76/173] Slices processed 5165.\n",
      "-> [77/173] Slices processed 5232.\n",
      "-> [78/173] Slices processed 5299.\n",
      "-> [79/173] Slices processed 5366.\n",
      "-> [80/173] Slices processed 5433.\n",
      "-> [81/173] Slices processed 5500.\n",
      "-> [82/173] Slices processed 5567.\n",
      "-> [83/173] Slices processed 5634.\n",
      "-> [84/173] Slices processed 5701.\n",
      "-> [85/173] Slices processed 5704.\n",
      "-> [86/173] Slices processed 5771.\n",
      "-> [87/173] Slices processed 5838.\n",
      "-> [88/173] Slices processed 5905.\n",
      "-> [89/173] Slices processed 5972.\n",
      "-> [90/173] Slices processed 6039.\n",
      "-> [91/173] Slices processed 6106.\n",
      "-> [92/173] Slices processed 6173.\n",
      "-> [93/173] Slices processed 6240.\n",
      "-> [94/173] Slices processed 6307.\n",
      "-> [95/173] Slices processed 6374.\n",
      "-> [96/173] Slices processed 6441.\n",
      "-> [97/173] Slices processed 6508.\n",
      "-> [98/173] Slices processed 6575.\n",
      "-> [99/173] Slices processed 6642.\n",
      "-> [100/173] Slices processed 6709.\n",
      "-> [101/173] Slices processed 6776.\n",
      "-> [102/173] Slices processed 6843.\n",
      "-> [103/173] Slices processed 6910.\n",
      "-> [104/173] Slices processed 6977.\n",
      "-> [105/173] Slices processed 7044.\n",
      "-> [106/173] Slices processed 7111.\n",
      "-> [107/173] Slices processed 7178.\n",
      "-> [108/173] Slices processed 7245.\n",
      "-> [109/173] Slices processed 7312.\n",
      "-> [110/173] Slices processed 7379.\n",
      "-> [111/173] Slices processed 7446.\n",
      "-> [112/173] Slices processed 7513.\n",
      "-> [113/173] Slices processed 7580.\n",
      "-> [114/173] Slices processed 7647.\n",
      "-> [115/173] Slices processed 7714.\n",
      "-> [116/173] Slices processed 7781.\n",
      "-> [117/173] Slices processed 7848.\n",
      "-> [118/173] Slices processed 7915.\n",
      "-> [119/173] Slices processed 7982.\n",
      "-> [120/173] Slices processed 8049.\n",
      "-> [121/173] Slices processed 8116.\n",
      "-> [122/173] Slices processed 8183.\n",
      "-> [123/173] Slices processed 8250.\n",
      "-> [124/173] Slices processed 8317.\n",
      "-> [125/173] Slices processed 8384.\n",
      "-> [126/173] Slices processed 8451.\n",
      "-> [127/173] Slices processed 8518.\n",
      "-> [128/173] Slices processed 8585.\n",
      "-> [129/173] Slices processed 8649.\n",
      "-> [130/173] Slices processed 8716.\n",
      "-> [131/173] Slices processed 8783.\n",
      "-> [132/173] Slices processed 8850.\n",
      "-> [133/173] Slices processed 8917.\n",
      "-> [134/173] Slices processed 8984.\n",
      "-> [135/173] Slices processed 9051.\n",
      "-> [136/173] Slices processed 9118.\n",
      "-> [137/173] Slices processed 9185.\n",
      "-> [138/173] Slices processed 9252.\n",
      "-> [139/173] Slices processed 9319.\n",
      "-> [140/173] Slices processed 9386.\n",
      "-> [141/173] Slices processed 9453.\n",
      "-> [142/173] Slices processed 9520.\n",
      "-> [143/173] Slices processed 9587.\n",
      "-> [144/173] Slices processed 9654.\n",
      "-> [145/173] Slices processed 9721.\n",
      "-> [146/173] Slices processed 9788.\n",
      "-> [147/173] Slices processed 9855.\n",
      "-> [148/173] Slices processed 9922.\n",
      "-> [149/173] Slices processed 9989.\n",
      "-> [150/173] Slices processed 10056.\n",
      "-> [151/173] Slices processed 10123.\n",
      "-> [152/173] Slices processed 10190.\n",
      "-> [153/173] Slices processed 10257.\n",
      "-> [154/173] Slices processed 10324.\n",
      "-> [155/173] Slices processed 10391.\n",
      "-> [156/173] Slices processed 10458.\n",
      "-> [157/173] Slices processed 10525.\n",
      "-> [158/173] Slices processed 10592.\n",
      "-> [159/173] Slices processed 10659.\n",
      "-> [160/173] Slices processed 10726.\n",
      "-> [161/173] Slices processed 10793.\n",
      "-> [162/173] Slices processed 10860.\n",
      "-> [163/173] Slices processed 10927.\n",
      "-> [164/173] Slices processed 10994.\n",
      "-> [165/173] Slices processed 11061.\n",
      "-> [166/173] Slices processed 11128.\n",
      "-> [167/173] Slices processed 11195.\n",
      "-> [168/173] Slices processed 11262.\n",
      "-> [169/173] Slices processed 11329.\n",
      "-> [170/173] Slices processed 11396.\n",
      "-> [171/173] Slices processed 11463.\n",
      "-> [172/173] Slices processed 11530.\n",
      "-> [173/173] Slices processed 11597.\n"
     ]
    }
   ],
   "source": [
    "X_coronal_train, y_coronal_train = get_slices_per_group_coronal(X_train, y_train)\n",
    "X_coronal_train = X_coronal_train.reshape(-1, X_coronal_train.shape[1], X_coronal_train.shape[2], 1)"
   ]
  },
  {
   "cell_type": "code",
   "execution_count": 18,
   "metadata": {
    "colab": {
     "base_uri": "https://localhost:8080/"
    },
    "id": "QMncXN8hITS-",
    "outputId": "12c8b938-1747-4d6d-e030-acb66e2990f6"
   },
   "outputs": [
    {
     "name": "stdout",
     "output_type": "stream",
     "text": [
      "-> [1/44] Slices processed 67.\n",
      "-> [2/44] Slices processed 134.\n",
      "-> [3/44] Slices processed 201.\n",
      "-> [4/44] Slices processed 268.\n",
      "-> [5/44] Slices processed 335.\n",
      "-> [6/44] Slices processed 402.\n",
      "-> [7/44] Slices processed 469.\n",
      "-> [8/44] Slices processed 536.\n",
      "-> [9/44] Slices processed 603.\n",
      "-> [10/44] Slices processed 670.\n",
      "-> [11/44] Slices processed 737.\n",
      "-> [12/44] Slices processed 804.\n",
      "-> [13/44] Slices processed 871.\n",
      "-> [14/44] Slices processed 938.\n",
      "-> [15/44] Slices processed 1005.\n",
      "-> [16/44] Slices processed 1072.\n",
      "-> [17/44] Slices processed 1139.\n",
      "-> [18/44] Slices processed 1206.\n",
      "-> [19/44] Slices processed 1273.\n",
      "-> [20/44] Slices processed 1340.\n",
      "-> [21/44] Slices processed 1407.\n",
      "-> [22/44] Slices processed 1474.\n",
      "-> [23/44] Slices processed 1541.\n",
      "-> [24/44] Slices processed 1608.\n",
      "-> [25/44] Slices processed 1675.\n",
      "-> [26/44] Slices processed 1742.\n",
      "-> [27/44] Slices processed 1809.\n",
      "-> [28/44] Slices processed 1876.\n",
      "-> [29/44] Slices processed 1943.\n",
      "-> [30/44] Slices processed 2010.\n",
      "-> [31/44] Slices processed 2077.\n",
      "-> [32/44] Slices processed 2144.\n",
      "-> [33/44] Slices processed 2211.\n",
      "-> [34/44] Slices processed 2278.\n",
      "-> [35/44] Slices processed 2345.\n",
      "-> [36/44] Slices processed 2412.\n",
      "-> [37/44] Slices processed 2435.\n",
      "-> [38/44] Slices processed 2502.\n",
      "-> [39/44] Slices processed 2569.\n",
      "-> [40/44] Slices processed 2636.\n",
      "-> [41/44] Slices processed 2703.\n",
      "-> [42/44] Slices processed 2770.\n",
      "-> [43/44] Slices processed 2837.\n",
      "-> [44/44] Slices processed 2904.\n"
     ]
    }
   ],
   "source": [
    "X_coronal_test, y_coronal_test = get_slices_per_group_coronal(X_test, y_test)\n",
    "X_coronal_test = X_coronal_test.reshape(-1, X_coronal_train.shape[1], X_coronal_train.shape[2], 1)"
   ]
  },
  {
   "cell_type": "code",
   "execution_count": 19,
   "metadata": {
    "colab": {
     "base_uri": "https://localhost:8080/"
    },
    "id": "viljIspWB7XG",
    "outputId": "fd32e79d-f158-463e-8507-4ffd28f3a3bd"
   },
   "outputs": [
    {
     "name": "stdout",
     "output_type": "stream",
     "text": [
      "Train: X:(11597, 224, 224, 1), y: 11597\n",
      "Test: X:(2904, 224, 224, 1), y: 2904\n"
     ]
    }
   ],
   "source": [
    "print(\"Train: X:(%d, %d, %d, %d), y: %d\" %(X_coronal_train.shape[0],X_coronal_train.shape[1],X_coronal_train.shape[2],X_coronal_train.shape[3], len(y_coronal_train)))\n",
    "print(\"Test: X:(%d, %d, %d, %d), y: %d\" %(X_coronal_test.shape[0],X_coronal_test.shape[1],X_coronal_test.shape[2],X_coronal_test.shape[3], len(y_coronal_test)))"
   ]
  },
  {
   "cell_type": "markdown",
   "metadata": {
    "id": "PURhal9KB7XG"
   },
   "source": [
    "# VGG19"
   ]
  },
  {
   "cell_type": "code",
   "execution_count": 20,
   "metadata": {
    "id": "O5ckKc9YB7XG"
   },
   "outputs": [],
   "source": [
    "import keras\n",
    "from keras.models import Sequential\n",
    "from keras.layers import Dense, Conv2D, MaxPool2D , Flatten\n",
    "from keras.preprocessing.image import ImageDataGenerator\n",
    "from keras.layers import Dropout\n",
    "from keras.callbacks import ModelCheckpoint, EarlyStopping\n",
    "import imageio\n",
    "import tensorflow as tf"
   ]
  },
  {
   "cell_type": "code",
   "execution_count": 21,
   "metadata": {
    "colab": {
     "base_uri": "https://localhost:8080/"
    },
    "id": "PknsV4akB7XG",
    "outputId": "a3b91a1b-36a8-4351-b9e3-466e0bfd7579",
    "scrolled": true
   },
   "outputs": [
    {
     "name": "stdout",
     "output_type": "stream",
     "text": [
      "Model: \"sequential\"\n",
      "_________________________________________________________________\n",
      "Layer (type)                 Output Shape              Param #   \n",
      "=================================================================\n",
      "conv2d (Conv2D)              (None, 224, 224, 64)      640       \n",
      "_________________________________________________________________\n",
      "conv2d_1 (Conv2D)            (None, 224, 224, 64)      36928     \n",
      "_________________________________________________________________\n",
      "dropout (Dropout)            (None, 224, 224, 64)      0         \n",
      "_________________________________________________________________\n",
      "max_pooling2d (MaxPooling2D) (None, 112, 112, 64)      0         \n",
      "_________________________________________________________________\n",
      "conv2d_2 (Conv2D)            (None, 112, 112, 128)     73856     \n",
      "_________________________________________________________________\n",
      "conv2d_3 (Conv2D)            (None, 112, 112, 128)     147584    \n",
      "_________________________________________________________________\n",
      "dropout_1 (Dropout)          (None, 112, 112, 128)     0         \n",
      "_________________________________________________________________\n",
      "max_pooling2d_1 (MaxPooling2 (None, 56, 56, 128)       0         \n",
      "_________________________________________________________________\n",
      "conv2d_4 (Conv2D)            (None, 56, 56, 256)       295168    \n",
      "_________________________________________________________________\n",
      "conv2d_5 (Conv2D)            (None, 56, 56, 256)       590080    \n",
      "_________________________________________________________________\n",
      "conv2d_6 (Conv2D)            (None, 56, 56, 256)       590080    \n",
      "_________________________________________________________________\n",
      "conv2d_7 (Conv2D)            (None, 56, 56, 256)       590080    \n",
      "_________________________________________________________________\n",
      "dropout_2 (Dropout)          (None, 56, 56, 256)       0         \n",
      "_________________________________________________________________\n",
      "max_pooling2d_2 (MaxPooling2 (None, 28, 28, 256)       0         \n",
      "_________________________________________________________________\n",
      "conv2d_8 (Conv2D)            (None, 28, 28, 512)       1180160   \n",
      "_________________________________________________________________\n",
      "conv2d_9 (Conv2D)            (None, 28, 28, 512)       2359808   \n",
      "_________________________________________________________________\n",
      "conv2d_10 (Conv2D)           (None, 28, 28, 512)       2359808   \n",
      "_________________________________________________________________\n",
      "conv2d_11 (Conv2D)           (None, 28, 28, 512)       2359808   \n",
      "_________________________________________________________________\n",
      "dropout_3 (Dropout)          (None, 28, 28, 512)       0         \n",
      "_________________________________________________________________\n",
      "max_pooling2d_3 (MaxPooling2 (None, 14, 14, 512)       0         \n",
      "_________________________________________________________________\n",
      "conv2d_12 (Conv2D)           (None, 14, 14, 512)       2359808   \n",
      "_________________________________________________________________\n",
      "conv2d_13 (Conv2D)           (None, 14, 14, 512)       2359808   \n",
      "_________________________________________________________________\n",
      "conv2d_14 (Conv2D)           (None, 14, 14, 512)       2359808   \n",
      "_________________________________________________________________\n",
      "conv2d_15 (Conv2D)           (None, 14, 14, 512)       2359808   \n",
      "_________________________________________________________________\n",
      "dropout_4 (Dropout)          (None, 14, 14, 512)       0         \n",
      "_________________________________________________________________\n",
      "max_pooling2d_4 (MaxPooling2 (None, 7, 7, 512)         0         \n",
      "_________________________________________________________________\n",
      "flatten (Flatten)            (None, 25088)             0         \n",
      "_________________________________________________________________\n",
      "dense (Dense)                (None, 4096)              102764544 \n",
      "_________________________________________________________________\n",
      "dense_1 (Dense)              (None, 4096)              16781312  \n",
      "_________________________________________________________________\n",
      "dense_2 (Dense)              (None, 1000)              4097000   \n",
      "_________________________________________________________________\n",
      "dense_3 (Dense)              (None, 1)                 1001      \n",
      "=================================================================\n",
      "Total params: 143,667,089\n",
      "Trainable params: 143,667,089\n",
      "Non-trainable params: 0\n",
      "_________________________________________________________________\n",
      "None\n"
     ]
    }
   ],
   "source": [
    "model = Sequential()\n",
    "model.add(Conv2D(input_shape=(224,224,1),filters=64,kernel_size=(3,3),padding=\"same\", activation=\"relu\"))\n",
    "model.add(Conv2D(filters=64,kernel_size=(3,3),padding=\"same\", activation=\"relu\"))\n",
    "model.add(Dropout(0.4))\n",
    "model.add(MaxPool2D(pool_size=(2,2),strides=(2,2)))\n",
    "model.add(Conv2D(filters=128, kernel_size=(3,3), padding=\"same\", activation=\"relu\"))\n",
    "model.add(Conv2D(filters=128, kernel_size=(3,3), padding=\"same\", activation=\"relu\"))\n",
    "model.add(Dropout(0.6))\n",
    "model.add(MaxPool2D(pool_size=(2,2),strides=(2,2)))\n",
    "model.add(Conv2D(filters=256, kernel_size=(3,3), padding=\"same\", activation=\"relu\"))\n",
    "model.add(Conv2D(filters=256, kernel_size=(3,3), padding=\"same\", activation=\"relu\"))\n",
    "model.add(Conv2D(filters=256, kernel_size=(3,3), padding=\"same\", activation=\"relu\"))\n",
    "model.add(Conv2D(filters=256, kernel_size=(3,3), padding=\"same\", activation=\"relu\"))\n",
    "model.add(Dropout(0.8))\n",
    "model.add(MaxPool2D(pool_size=(2,2),strides=(2,2)))\n",
    "model.add(Conv2D(filters=512, kernel_size=(3,3), padding=\"same\", activation=\"relu\"))\n",
    "model.add(Conv2D(filters=512, kernel_size=(3,3), padding=\"same\", activation=\"relu\"))\n",
    "model.add(Conv2D(filters=512, kernel_size=(3,3), padding=\"same\", activation=\"relu\"))\n",
    "model.add(Conv2D(filters=512, kernel_size=(3,3), padding=\"same\", activation=\"relu\"))\n",
    "model.add(Dropout(0.8))\n",
    "model.add(MaxPool2D(pool_size=(2,2),strides=(2,2)))\n",
    "model.add(Conv2D(filters=512, kernel_size=(3,3), padding=\"same\", activation=\"relu\"))\n",
    "model.add(Conv2D(filters=512, kernel_size=(3,3), padding=\"same\", activation=\"relu\"))\n",
    "model.add(Conv2D(filters=512, kernel_size=(3,3), padding=\"same\", activation=\"relu\"))\n",
    "model.add(Conv2D(filters=512, kernel_size=(3,3), padding=\"same\", activation=\"relu\"))\n",
    "model.add(Dropout(0.4))\n",
    "model.add(MaxPool2D(pool_size=(2,2),strides=(2,2)))\n",
    "\n",
    "#Dense layer\n",
    "model.add(Flatten())\n",
    "model.add(Dense(units=4096,activation=\"relu\"))\n",
    "model.add(Dense(units=4096,activation=\"relu\"))\n",
    "model.add(Dense(units=1000,activation=\"relu\"))\n",
    "model.add(Dense(1, activation=\"softmax\"))\n",
    "\n",
    "model.compile(optimizer='adam', loss=keras.losses.binary_crossentropy, metrics=['accuracy'])\n",
    "\n",
    "print(model.summary())"
   ]
  },
  {
   "cell_type": "code",
   "execution_count": 22,
   "metadata": {
    "colab": {
     "base_uri": "https://localhost:8080/"
    },
    "id": "WBG1DJV4B7XG",
    "outputId": "6511ab56-e480-4dca-f6dc-180ae9486714"
   },
   "outputs": [
    {
     "name": "stdout",
     "output_type": "stream",
     "text": [
      "WARNING:tensorflow:`period` argument is deprecated. Please use `save_freq` to specify the frequency in number of batches seen.\n"
     ]
    }
   ],
   "source": [
    "checkpoint = ModelCheckpoint(\"vgg19_coronal.h5\", monitor='val_accuracy', verbose=1, save_best_only=True, save_weights_only=False, mode='auto', period=1)\n",
    "early = EarlyStopping(monitor='val_acc', min_delta=0, patience=20, verbose=1, mode='auto')\n",
    "#fit_generator(steps_per_epoch=1,generator=traindata, validation_data= testdata, validation_steps=1,epochs=50,callbacks=[checkpoint])\n",
    "# hist = model.fit(traindata, testdata, batch_size=10, epochs=20, verbose=0, shuffle=True,validation_split=0.2,callbacks=[checkpoint])"
   ]
  },
  {
   "cell_type": "code",
   "execution_count": null,
   "metadata": {
    "id": "afbB58ZAETXD"
   },
   "outputs": [
    {
     "name": "stdout",
     "output_type": "stream",
     "text": [
      "Epoch 1/50\n",
      "928/928 [==============================] - 8392s 9s/step - loss: nan - accuracy: 0.5174 - val_loss: nan - val_accuracy: 0.6246\n",
      "\n",
      "Epoch 00001: val_accuracy improved from -inf to 0.62457, saving model to vgg19_coronal.h5\n",
      "Epoch 2/50\n",
      "928/928 [==============================] - 8386s 9s/step - loss: nan - accuracy: 0.5164 - val_loss: nan - val_accuracy: 0.6246\n",
      "\n",
      "Epoch 00002: val_accuracy did not improve from 0.62457\n",
      "Epoch 3/50\n",
      "928/928 [==============================] - 8388s 9s/step - loss: nan - accuracy: 0.5164 - val_loss: nan - val_accuracy: 0.6246\n",
      "\n",
      "Epoch 00003: val_accuracy did not improve from 0.62457\n",
      "Epoch 4/50\n",
      "928/928 [==============================] - 8408s 9s/step - loss: nan - accuracy: 0.5164 - val_loss: nan - val_accuracy: 0.6246\n",
      "\n",
      "Epoch 00004: val_accuracy did not improve from 0.62457\n",
      "Epoch 5/50\n",
      "928/928 [==============================] - 8387s 9s/step - loss: nan - accuracy: 0.5164 - val_loss: nan - val_accuracy: 0.6246\n",
      "\n",
      "Epoch 00005: val_accuracy did not improve from 0.62457\n",
      "Epoch 6/50\n",
      "928/928 [==============================] - ETA: 0s - loss: nan - accuracy: 0.5164"
     ]
    }
   ],
   "source": [
    "hist = model.fit(X_coronal_train, y_coronal_train, batch_size=10,epochs=50,validation_split=0.2, callbacks=[checkpoint])"
   ]
  },
  {
   "cell_type": "code",
   "execution_count": null,
   "metadata": {
    "id": "D2nzYIb4B7XG"
   },
   "outputs": [],
   "source": [
    "import matplotlib.pyplot as plt\n",
    "\n",
    "plt.plot(hist.history[\"accuracy\"])\n",
    "plt.plot(hist.history['val_accuracy'])\n",
    "plt.plot(hist.history['loss'])\n",
    "plt.plot(hist.history['val_loss'])\n",
    "plt.title(\"model accuracy\")\n",
    "plt.ylabel(\"Accuracy\")\n",
    "plt.xlabel(\"Epoch\")\n",
    "plt.legend([\"Accuracy\",\"Validation Accuracy\",\"loss\",\"Validation Loss\"])\n",
    "plt.show()"
   ]
  },
  {
   "cell_type": "markdown",
   "metadata": {},
   "source": [
    "# Sagital"
   ]
  },
  {
   "cell_type": "code",
   "execution_count": null,
   "metadata": {},
   "outputs": [
    {
     "name": "stdout",
     "output_type": "stream",
     "text": [
      "-> [1/173] Slices processed 112.\n",
      "-> [2/173] Slices processed 228.\n",
      "-> [3/173] Slices processed 338.\n",
      "-> [4/173] Slices processed 452.\n",
      "-> [5/173] Slices processed 565.\n",
      "-> [6/173] Slices processed 679.\n",
      "-> [7/173] Slices processed 789.\n",
      "-> [8/173] Slices processed 900.\n",
      "-> [9/173] Slices processed 1011.\n",
      "-> [10/173] Slices processed 1126.\n",
      "-> [11/173] Slices processed 1249.\n",
      "-> [12/173] Slices processed 1364.\n",
      "-> [13/173] Slices processed 1476.\n",
      "-> [14/173] Slices processed 1590.\n",
      "-> [15/173] Slices processed 1710.\n",
      "-> [16/173] Slices processed 1821.\n",
      "-> [17/173] Slices processed 1934.\n",
      "-> [18/173] Slices processed 2049.\n",
      "-> [19/173] Slices processed 2155.\n",
      "-> [20/173] Slices processed 2266.\n",
      "-> [21/173] Slices processed 2379.\n",
      "-> [22/173] Slices processed 2493.\n",
      "-> [23/173] Slices processed 2609.\n",
      "-> [24/173] Slices processed 2724.\n",
      "-> [25/173] Slices processed 2843.\n",
      "-> [26/173] Slices processed 2957.\n",
      "-> [27/173] Slices processed 3072.\n",
      "-> [28/173] Slices processed 3187.\n",
      "-> [29/173] Slices processed 3298.\n",
      "-> [30/173] Slices processed 3413.\n",
      "-> [31/173] Slices processed 3529.\n",
      "-> [32/173] Slices processed 3646.\n",
      "-> [33/173] Slices processed 3766.\n",
      "-> [34/173] Slices processed 3872.\n",
      "-> [35/173] Slices processed 3994.\n",
      "-> [36/173] Slices processed 4106.\n",
      "-> [37/173] Slices processed 4179.\n",
      "-> [38/173] Slices processed 4287.\n",
      "-> [39/173] Slices processed 4411.\n",
      "-> [40/173] Slices processed 4525.\n",
      "-> [41/173] Slices processed 4633.\n",
      "-> [42/173] Slices processed 4746.\n",
      "-> [43/173] Slices processed 4866.\n",
      "-> [44/173] Slices processed 4978.\n",
      "-> [45/173] Slices processed 5086.\n",
      "-> [46/173] Slices processed 5206.\n",
      "-> [47/173] Slices processed 5322.\n",
      "-> [48/173] Slices processed 5430.\n",
      "-> [49/173] Slices processed 5549.\n",
      "-> [50/173] Slices processed 5664.\n",
      "-> [51/173] Slices processed 5780.\n",
      "-> [52/173] Slices processed 5896.\n",
      "-> [53/173] Slices processed 6013.\n",
      "-> [54/173] Slices processed 6128.\n",
      "-> [55/173] Slices processed 6248.\n",
      "-> [56/173] Slices processed 6362.\n",
      "-> [57/173] Slices processed 6480.\n",
      "-> [58/173] Slices processed 6593.\n",
      "-> [59/173] Slices processed 6704.\n",
      "-> [60/173] Slices processed 6821.\n",
      "-> [61/173] Slices processed 6939.\n",
      "-> [62/173] Slices processed 7045.\n",
      "-> [63/173] Slices processed 7152.\n",
      "-> [64/173] Slices processed 7258.\n",
      "-> [65/173] Slices processed 7373.\n",
      "-> [66/173] Slices processed 7490.\n",
      "-> [67/173] Slices processed 7599.\n",
      "-> [68/173] Slices processed 7716.\n",
      "-> [69/173] Slices processed 7829.\n",
      "-> [70/173] Slices processed 7934.\n",
      "-> [71/173] Slices processed 8049.\n",
      "-> [72/173] Slices processed 8156.\n",
      "-> [73/173] Slices processed 8270.\n",
      "-> [74/173] Slices processed 8386.\n",
      "-> [75/173] Slices processed 8495.\n",
      "-> [76/173] Slices processed 8610.\n",
      "-> [77/173] Slices processed 8729.\n",
      "-> [78/173] Slices processed 8841.\n",
      "-> [79/173] Slices processed 8951.\n",
      "-> [80/173] Slices processed 9056.\n",
      "-> [81/173] Slices processed 9169.\n",
      "-> [82/173] Slices processed 9272.\n",
      "-> [83/173] Slices processed 9380.\n",
      "-> [84/173] Slices processed 9494.\n",
      "-> [85/173] Slices processed 9610.\n",
      "-> [86/173] Slices processed 9729.\n",
      "-> [87/173] Slices processed 9846.\n",
      "-> [88/173] Slices processed 9959.\n",
      "-> [89/173] Slices processed 10078.\n",
      "-> [90/173] Slices processed 10194.\n",
      "-> [91/173] Slices processed 10323.\n",
      "-> [92/173] Slices processed 10436.\n",
      "-> [93/173] Slices processed 10549.\n",
      "-> [94/173] Slices processed 10669.\n",
      "-> [95/173] Slices processed 10785.\n",
      "-> [96/173] Slices processed 10898.\n"
     ]
    }
   ],
   "source": [
    "X_sagital_train, y_sagital_train = get_slices_per_group_sagital(X_train, y_train)\n",
    "X_sagital_train = X_sagital_train.reshape(-1, X_sagital_train.shape[1], X_sagital_train.shape[2], 1)"
   ]
  },
  {
   "cell_type": "code",
   "execution_count": null,
   "metadata": {},
   "outputs": [],
   "source": [
    "print(\"Train: X:(%d, %d, %d, %d), y: %d\" %(X_sagital_train.shape[0],X_sagital_train.shape[1],X_sagital_train.shape[2],X_sagital_train.shape[3], len(y_sagital_train)))\n",
    "print(\"Test: X:(%d, %d, %d, %d), y: %d\" %(X_sagital_test.shape[0],X_sagital_test.shape[1],X_sagital_test.shape[2],X_sagital_test.shape[3], len(y_sagital_test)))"
   ]
  },
  {
   "cell_type": "markdown",
   "metadata": {
    "id": "kl1Z4kUYHNuR"
   },
   "source": [
    "#EXTRA"
   ]
  },
  {
   "cell_type": "code",
   "execution_count": 24,
   "metadata": {
    "id": "6oFQ-zSoGTni"
   },
   "outputs": [
    {
     "name": "stdout",
     "output_type": "stream",
     "text": [
      "(181, 217, 181) 0.0\n",
      "(224, 224) 0.0\n"
     ]
    }
   ],
   "source": [
    "import cv2\n",
    "img = sitk.ReadImage(PD_file_paths[1], sitk.sitkFloat64)\n",
    "arr = sitk.GetArrayFromImage(img)\n",
    "print(arr.shape, arr.min())\n",
    "\n",
    "arr_reshaped = cv2.resize(arr[:, : , 100], (224, 224), interpolation=cv2.INTER_CUBIC)\n",
    "arr_reshaped[arr_reshaped < 0] = 0\n",
    "print(arr_reshaped.shape, arr_reshaped.min())"
   ]
  },
  {
   "cell_type": "code",
   "execution_count": 25,
   "metadata": {
    "id": "8Rf70BKGtaSF"
   },
   "outputs": [
    {
     "name": "stdout",
     "output_type": "stream",
     "text": [
      "(224, 224) 0.0\n"
     ]
    }
   ],
   "source": [
    "arr_reshaped[arr_reshaped < 0] = 0\n",
    "print(arr_reshaped.shape, arr_reshaped.min())"
   ]
  },
  {
   "cell_type": "code",
   "execution_count": 31,
   "metadata": {
    "id": "FuHg_UWaoSrD"
   },
   "outputs": [
    {
     "data": {
      "image/png": "[encoded data removed]",
      "text/plain": [
       "<Figure size 432x288 with 1 Axes>"
      ]
     },
     "metadata": {
      "needs_background": "light"
     },
     "output_type": "display_data"
    }
   ],
   "source": [
    "import matplotlib.pyplot as plt\n",
    "import matplotlib.cbook as cbook\n",
    "\n",
    "fig, ax = plt.subplots(num=\"MRI_demo\")\n",
    "ax.imshow(arr[60, : , :], cmap=\"gray\")\n",
    "plt.show()"
   ]
  },
  {
   "cell_type": "code",
   "execution_count": 15,
   "metadata": {
    "id": "r5QBdyYNHOVD"
   },
   "outputs": [
    {
     "data": {
      "image/png": "[encoded data removed]",
      "text/plain": [
       "<Figure size 432x288 with 1 Axes>"
      ]
     },
     "metadata": {
      "needs_background": "light"
     },
     "output_type": "display_data"
    }
   ],
   "source": [
    "fig, ax = plt.subplots(num=\"MRI_demo\")\n",
    "ax.imshow(arr_reshaped, cmap=\"gray\") \n",
    "\n",
    "plt.show()"
   ]
  },
  {
   "cell_type": "code",
   "execution_count": null,
   "metadata": {},
   "outputs": [],
   "source": []
  }
 ],
 "metadata": {
  "colab": {
   "collapsed_sections": [
    "PvAOESUMZ3vC"
   ],
   "name": "Models.ipynb",
   "provenance": []
  },
  "kernelspec": {
   "display_name": "Python 3 (ipykernel)",
   "language": "python",
   "name": "python3"
  },
  "language_info": {
   "codemirror_mode": {
    "name": "ipython",
    "version": 3
   },
   "file_extension": ".py",
   "mimetype": "text/x-python",
   "name": "python",
   "nbconvert_exporter": "python",
   "pygments_lexer": "ipython3",
   "version": "3.9.5"
  }
 },
 "nbformat": 4,
 "nbformat_minor": 1
}
