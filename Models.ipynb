{
 "cells": [
  {
   "cell_type": "code",
   "execution_count": 1,
   "metadata": {
    "id": "5O_u_2VEVaxu"
   },
   "outputs": [],
   "source": [
    "import numpy as np\n",
    "import SimpleITK as sitk\n",
    "import os\n",
    "os.environ['TF_CPP_MIN_LOG_LEVEL'] = '2'"
   ]
  },
  {
   "cell_type": "markdown",
   "metadata": {
    "id": "3ZDM9TeHSpdz"
   },
   "source": [
    "# DATA\n"
   ]
  },
  {
   "cell_type": "markdown",
   "metadata": {
    "id": "PvAOESUMZ3vC"
   },
   "source": [
    "## GET DATA"
   ]
  },
  {
   "cell_type": "code",
   "execution_count": 2,
   "metadata": {
    "id": "UEuSwGAuUIDE"
   },
   "outputs": [],
   "source": [
    "from glob import glob\n",
    "from typing import  List"
   ]
  },
  {
   "cell_type": "code",
   "execution_count": 3,
   "metadata": {
    "id": "M_bEIIkaTMVc"
   },
   "outputs": [],
   "source": [
    "BUY_file_paths =  sorted(glob(\"./SEGMENTED/BUY/*.nii.gz\"))  #68 files\n",
    "EAT_file_paths =  sorted(glob(\"./SEGMENTED/EAT/*.nii.gz\"))  #85 files\n",
    "GAMBLE_file_paths =  sorted(glob(\"./SEGMENTED/GAMBLE/*.nii.gz\")) #7 files\n",
    "SEX_file_paths =  sorted(glob(\"./SEGMENTED/SEX/*.nii.gz\"))  #42 files\n",
    "\n",
    "PD_file_paths =  sorted(glob(\"./SEGMENTED/PD/*.nii.gz\"))  #100 files"
   ]
  },
  {
   "cell_type": "code",
   "execution_count": 4,
   "metadata": {},
   "outputs": [],
   "source": [
    "BUY_file_paths =  sorted(glob(\"./PREPROCESSED/BUY/*.nii.gz\"))  #42 files\n",
    "EAT_file_paths =  sorted(glob(\"./PREPROCESSED/EAT/*.nii.gz\"))  #81 files\n",
    "GAMBLE_file_paths =  sorted(glob(\"./PREPROCESSED/GAMBLE/*.nii.gz\")) #7 files\n",
    "SEX_file_paths =  sorted(glob(\"./PREPROCESSED/SEX/*.nii.gz\"))  #22 files\n",
    "\n",
    "PD_file_paths =  sorted(glob(\"./PREPROCESSED/PD/*.nii.gz\"))  #116 files"
   ]
  },
  {
   "cell_type": "code",
   "execution_count": 5,
   "metadata": {
    "colab": {
     "base_uri": "https://localhost:8080/"
    },
    "id": "FhjKHY1eUK8T",
    "outputId": "b3e7fe30-d891-486d-d291-af6046269e15"
   },
   "outputs": [
    {
     "name": "stdout",
     "output_type": "stream",
     "text": [
      "42 ['./PREPROCESSED/BUY\\\\3018.nii.gz', './PREPROCESSED/BUY\\\\3062.nii.gz', './PREPROCESSED/BUY\\\\3168.nii.gz']\n",
      "81 ['./PREPROCESSED/EAT\\\\3002.nii.gz', './PREPROCESSED/EAT\\\\3023.nii.gz', './PREPROCESSED/EAT\\\\3062.nii.gz']\n",
      "7 ['./PREPROCESSED/GAMBLE\\\\3536.nii.gz', './PREPROCESSED/GAMBLE\\\\3565.nii.gz', './PREPROCESSED/GAMBLE\\\\3863.nii.gz']\n",
      "22 ['./PREPROCESSED/SEX\\\\3062.nii.gz', './PREPROCESSED/SEX\\\\3068.nii.gz', './PREPROCESSED/SEX\\\\3073.nii.gz']\n",
      "116 ['./PREPROCESSED/PD\\\\3006.nii.gz', './PREPROCESSED/PD\\\\3012.nii.gz', './PREPROCESSED/PD\\\\3014.nii.gz']\n"
     ]
    }
   ],
   "source": [
    "print(len(BUY_file_paths), BUY_file_paths[:3])\n",
    "print(len(EAT_file_paths), EAT_file_paths[:3])\n",
    "print(len(GAMBLE_file_paths), GAMBLE_file_paths[:3])\n",
    "print(len(SEX_file_paths), SEX_file_paths[:3])\n",
    "\n",
    "print(len(PD_file_paths), PD_file_paths[:3])"
   ]
  },
  {
   "cell_type": "markdown",
   "metadata": {
    "id": "oIEPs4fyi_Do"
   },
   "source": [
    "## SPLIT DATA"
   ]
  },
  {
   "cell_type": "code",
   "execution_count": 6,
   "metadata": {
    "colab": {
     "base_uri": "https://localhost:8080/"
    },
    "id": "smYhVSm3REZT",
    "outputId": "4e5fb0de-9dbb-4e64-f4ac-07e3dd37abe6"
   },
   "outputs": [
    {
     "data": {
      "text/plain": [
       "(None, None)"
      ]
     },
     "execution_count": 6,
     "metadata": {},
     "output_type": "execute_result"
    }
   ],
   "source": [
    "X_dataset = []\n",
    "y_dataset = []\n",
    "\n",
    "X_dataset.extend(PD_file_paths), y_dataset.extend([1] * len(PD_file_paths))\n",
    "X_dataset.extend(BUY_file_paths), y_dataset.extend([2] * len(BUY_file_paths))\n",
    "X_dataset.extend(EAT_file_paths), y_dataset.extend([3] * len(EAT_file_paths))\n",
    "X_dataset.extend(GAMBLE_file_paths), y_dataset.extend([4] * len(GAMBLE_file_paths))\n",
    "X_dataset.extend(SEX_file_paths), y_dataset.extend([5] * len(SEX_file_paths))"
   ]
  },
  {
   "cell_type": "code",
   "execution_count": 7,
   "metadata": {
    "id": "Uqc7y2bki-jm"
   },
   "outputs": [],
   "source": [
    "from sklearn.model_selection import train_test_split\n",
    "X_train, X_test, y_train, y_test = train_test_split(X_dataset, y_dataset, test_size = 0.2, stratify=y_dataset)"
   ]
  },
  {
   "cell_type": "code",
   "execution_count": 8,
   "metadata": {
    "colab": {
     "base_uri": "https://localhost:8080/"
    },
    "id": "ulHtkPzaYDdz",
    "outputId": "68995ed6-84a9-4e22-c0d2-0326b3d42b74"
   },
   "outputs": [
    {
     "name": "stdout",
     "output_type": "stream",
     "text": [
      "Dataset: 268 268\n",
      "Train: 214 214\n",
      "Test: 54 54\n"
     ]
    }
   ],
   "source": [
    "print(\"Dataset:\", len(X_dataset), len(y_dataset))\n",
    "print(\"Train:\", len(X_train), len(y_train))\n",
    "print(\"Test:\", len(X_test), len(y_test))"
   ]
  },
  {
   "cell_type": "markdown",
   "metadata": {
    "id": "V5gQU1FEGLxm"
   },
   "source": [
    "## PREPROSSESING"
   ]
  },
  {
   "cell_type": "code",
   "execution_count": 173,
   "metadata": {
    "id": "tmO7ktYZjyzg"
   },
   "outputs": [],
   "source": [
    "def get_category(category, is_binary = True):\n",
    "  result = np.zeros(2 if is_binary else 5)\n",
    "  if is_binary:\n",
    "    return 1 if category == 1 else 0\n",
    "  elif category == 1:\n",
    "    result[0] = 1\n",
    "  else:\n",
    "    result[category-1] = 1\n",
    "  return result"
   ]
  },
  {
   "cell_type": "code",
   "execution_count": 174,
   "metadata": {
    "id": "dodkXvulaU6J"
   },
   "outputs": [],
   "source": [
    "def get_categories(y_data):\n",
    "  categories = None\n",
    "  is_first = True\n",
    "  for category in y_data:\n",
    "    if is_first:\n",
    "      categories = np.array([get_category(category)])\n",
    "      is_first = False\n",
    "    else:\n",
    "      categories = np.concatenate((categories,[get_category(category)]))\n",
    "  return categories"
   ]
  },
  {
   "cell_type": "code",
   "execution_count": 176,
   "metadata": {
    "colab": {
     "base_uri": "https://localhost:8080/"
    },
    "id": "SVlfjfF3NfXM",
    "outputId": "393185e6-679c-4a30-8782-66dea49fdeec"
   },
   "outputs": [
    {
     "name": "stdout",
     "output_type": "stream",
     "text": [
      "0 [0. 0. 0. 0. 1.]\n",
      "1 [1. 0. 0. 0. 0.]\n"
     ]
    }
   ],
   "source": [
    "print(get_category(5, True), get_category(5, False))\n",
    "print(get_category(1, True), get_category(1, False))"
   ]
  },
  {
   "cell_type": "markdown",
   "metadata": {},
   "source": [
    "## 3D All Brain"
   ]
  },
  {
   "cell_type": "code",
   "execution_count": 12,
   "metadata": {},
   "outputs": [],
   "source": [
    "import cv2\n",
    "import cv2\n",
    "\n",
    "dimension = 180\n",
    "def get_slices_3d_all(path, category):\n",
    "    img = sitk.ReadImage(path, sitk.sitkFloat64)\n",
    "    arr = sitk.GetArrayFromImage(img)\n",
    "\n",
    "    #normalize the matrix, numbers between 0.0 - 1.0\n",
    "    arr = arr / arr.max()\n",
    "    \n",
    "    slice = arr[10:160, : , :]\n",
    "    \n",
    "    arr = np.zeros([150, dimension,dimension])\n",
    "    \n",
    "    for i in range(arr.shape[0]):\n",
    "        arr[i, : , :] = cv2.resize(slice[i, : , :], (dimension, dimension), interpolation=cv2.INTER_CUBIC)\n",
    "    \n",
    "    slices = np.array([arr])\n",
    "    slices = slices.reshape(1,arr.shape[0], arr.shape[1], arr.shape[2], 1)\n",
    "    slices_cat = np.array([get_category(category)])\n",
    "    \n",
    "    return slices, slices_cat"
   ]
  },
  {
   "cell_type": "code",
   "execution_count": 13,
   "metadata": {},
   "outputs": [],
   "source": [
    "def get_slices_per_group_3d_all(paths, categories):\n",
    "    group = None\n",
    "    group_cat = None\n",
    "\n",
    "    count = 1\n",
    "    for i in range(len(paths)):\n",
    "        path = paths[i]\n",
    "        try:\n",
    "            if i == 0:\n",
    "                group, group_cat = get_slices_3d_all(path, categories[i])\n",
    "            else:\n",
    "                new_group, new_group_cat = get_slices_3d_all(path, categories[i])\n",
    "                group = np.concatenate((group, new_group))\n",
    "                group_cat = np.concatenate((group_cat, new_group_cat))\n",
    "\n",
    "            print(\"-> [%d/%d] Image processed.\" %(count,len(paths)))\n",
    "            count+=1\n",
    "        except:\n",
    "            print(\"Error in\", path)\n",
    "    return group, group_cat"
   ]
  },
  {
   "cell_type": "code",
   "execution_count": 14,
   "metadata": {},
   "outputs": [
    {
     "name": "stdout",
     "output_type": "stream",
     "text": [
      "(1, 150, 180, 180, 1)\n",
      "(1,)\n"
     ]
    }
   ],
   "source": [
    "#test with one image\n",
    "slices, slices_cat = get_slices_3d_all(X_dataset[11], y_dataset[0])\n",
    "print(slices.shape)\n",
    "print(slices_cat.shape)"
   ]
  },
  {
   "cell_type": "code",
   "execution_count": 15,
   "metadata": {},
   "outputs": [
    {
     "name": "stdout",
     "output_type": "stream",
     "text": [
      "-> [1/3] Image processed.\n",
      "-> [2/3] Image processed.\n",
      "-> [3/3] Image processed.\n",
      "(3, 150, 180, 180, 1)\n",
      "(3,)\n"
     ]
    }
   ],
   "source": [
    "slices, slices_cat = get_slices_per_group_3d_all(X_dataset[:3], y_dataset[:3])\n",
    "print(slices.shape)\n",
    "print(slices_cat.shape)"
   ]
  },
  {
   "cell_type": "markdown",
   "metadata": {},
   "source": [
    "## 3D"
   ]
  },
  {
   "cell_type": "code",
   "execution_count": 16,
   "metadata": {},
   "outputs": [],
   "source": [
    "import cv2\n",
    "\n",
    "dimension = 180\n",
    "def get_slices_3d(path, category):\n",
    "    img = sitk.ReadImage(path, sitk.sitkFloat64)\n",
    "    arr = sitk.GetArrayFromImage(img)\n",
    "\n",
    "    #normalize the matrix, numbers between 0.0 - 1.0\n",
    "    arr = arr / arr.max()\n",
    "    \n",
    "    slice = arr[27:68, : , :]\n",
    "    \n",
    "    arr = np.zeros([32, dimension,dimension])\n",
    "    \n",
    "    for i in range(arr.shape[0]):\n",
    "        arr[i, : , :] = cv2.resize(slice[i, : , :], (dimension, dimension), interpolation=cv2.INTER_CUBIC)\n",
    "    \n",
    "    slices = np.array([arr])\n",
    "    slices = slices.reshape(1,arr.shape[0], arr.shape[1], arr.shape[2], 1)\n",
    "    slices_cat = np.array([get_category(category)])\n",
    "    \n",
    "    return slices, slices_cat"
   ]
  },
  {
   "cell_type": "code",
   "execution_count": 17,
   "metadata": {},
   "outputs": [],
   "source": [
    "def get_slices_per_group_3d(paths, categories):\n",
    "    group = None\n",
    "    group_cat = None\n",
    "\n",
    "    count = 1\n",
    "    for i in range(len(paths)):\n",
    "        path = paths[i]\n",
    "        if i == 0:\n",
    "            group, group_cat = get_slices_3d(path, categories[i])\n",
    "        else:\n",
    "            new_group, new_group_cat = get_slices_3d(path, categories[i])\n",
    "            group = np.concatenate((group, new_group))\n",
    "            group_cat = np.concatenate((group_cat, new_group_cat))\n",
    "\n",
    "        print(\"-> [%d/%d] Image processed.\" %(count,len(paths)))\n",
    "        count+=1\n",
    "    return group, group_cat"
   ]
  },
  {
   "cell_type": "code",
   "execution_count": 18,
   "metadata": {},
   "outputs": [
    {
     "name": "stdout",
     "output_type": "stream",
     "text": [
      "(1, 32, 180, 180, 1)\n",
      "(1,)\n"
     ]
    }
   ],
   "source": [
    "#test with one image\n",
    "slices, slices_cat = get_slices_3d(X_dataset[0], y_dataset[0])\n",
    "print(slices.shape)\n",
    "print(slices_cat.shape)"
   ]
  },
  {
   "cell_type": "code",
   "execution_count": 19,
   "metadata": {},
   "outputs": [
    {
     "name": "stdout",
     "output_type": "stream",
     "text": [
      "-> [1/3] Image processed.\n",
      "-> [2/3] Image processed.\n",
      "-> [3/3] Image processed.\n",
      "(3, 32, 180, 180, 1)\n",
      "(3,)\n"
     ]
    }
   ],
   "source": [
    "slices, slices_cat = get_slices_per_group_3d(X_dataset[:3], y_dataset[:3])\n",
    "print(slices.shape)\n",
    "print(slices_cat.shape)"
   ]
  },
  {
   "cell_type": "markdown",
   "metadata": {
    "id": "nwSGlhsb0Iaw"
   },
   "source": [
    "## AXIAL (3 channels)\n",
    "arr[ xxx , : , : ] axial"
   ]
  },
  {
   "cell_type": "code",
   "execution_count": 20,
   "metadata": {},
   "outputs": [],
   "source": [
    "import cv2\n",
    "\n",
    "SLICE_NUMBER = 50\n",
    "def get_slices_axial_3c(path, category):\n",
    "  img = sitk.ReadImage(path, sitk.sitkFloat64)\n",
    "  arr = sitk.GetArrayFromImage(img)\n",
    "\n",
    "  #normalize the matrix, numbers between 0.0 - 1.0\n",
    "  arr = arr / arr.max()\n",
    "\n",
    "  slices = None\n",
    "  slices_cat = None\n",
    "  count = 0\n",
    "\n",
    "  for i in range(arr.shape[0]):\n",
    "    slice = arr[arr.shape[0] - i -1, : , : ]\n",
    "    slice = cv2.resize(slice, (224, 224), interpolation=cv2.INTER_CUBIC)\n",
    "    slice[slice < 0] = 0\n",
    "    if slice.max() != 0:\n",
    "        slice = cv2.merge((slice,slice,slice))\n",
    "        if count == 0:\n",
    "            slices = np.array([slice])\n",
    "            slices_cat = np.array([get_category(category)])\n",
    "        if count < SLICE_NUMBER:\n",
    "            slices = np.concatenate((slices,[slice]))\n",
    "            slices_cat = np.concatenate((slices_cat,[get_category(category)]))\n",
    "        count+=1\n",
    "  #print(\"->\", count , \"slices of\", arr.shape[0], \"where used for image\", path)\n",
    "  return slices, slices_cat"
   ]
  },
  {
   "cell_type": "code",
   "execution_count": 21,
   "metadata": {},
   "outputs": [],
   "source": [
    "def get_slices_per_group_axial_3c(paths, categories):\n",
    "  group = None\n",
    "  group_cat = None\n",
    "\n",
    "  count = 1\n",
    "  for i in range(len(paths)):\n",
    "    path = paths[i]\n",
    "    if i == 0:\n",
    "      group, group_cat = get_slices_axial_3c(path, categories[i])\n",
    "    else:\n",
    "      new_group, new_group_cat = get_slices_axial_3c(path, categories[i])\n",
    "      group = np.concatenate((group, new_group))\n",
    "      group_cat = np.concatenate((group_cat, new_group_cat))\n",
    "\n",
    "    print(\"-> [%d/%d] Slices processed %d.\" %(count,len(paths), group.shape[0] ))\n",
    "    count+=1\n",
    "  return group, group_cat"
   ]
  },
  {
   "cell_type": "code",
   "execution_count": 22,
   "metadata": {},
   "outputs": [
    {
     "name": "stdout",
     "output_type": "stream",
     "text": [
      "-> [1/3] Slices processed 51.\n",
      "-> [2/3] Slices processed 102.\n",
      "-> [3/3] Slices processed 153.\n",
      "(153, 224, 224, 3)\n",
      "(153,)\n"
     ]
    }
   ],
   "source": [
    "#test with one image\n",
    "i = 3\n",
    "slices, slices_cat = get_slices_per_group_axial_3c(X_dataset[0:i], y_dataset[0:i])\n",
    "print(slices.shape)\n",
    "print(slices_cat.shape)"
   ]
  },
  {
   "cell_type": "markdown",
   "metadata": {
    "id": "nwSGlhsb0Iaw"
   },
   "source": [
    "## AXIAL\n",
    "arr[ xxx , : , : ] axial"
   ]
  },
  {
   "cell_type": "code",
   "execution_count": 23,
   "metadata": {
    "id": "9cwlnfteXPLb"
   },
   "outputs": [],
   "source": [
    "import cv2\n",
    "\n",
    "SLICE_NUMBER = 50\n",
    "def get_slices_axial(path, category):\n",
    "  img = sitk.ReadImage(path, sitk.sitkFloat64)\n",
    "  arr = sitk.GetArrayFromImage(img)\n",
    "\n",
    "  #normalize the matrix, numbers between 0.0 - 1.0\n",
    "  arr = arr / arr.max()\n",
    "\n",
    "  slices = None\n",
    "  slices_cat = None\n",
    "  count = 0\n",
    "\n",
    "  for i in range(arr.shape[0]):\n",
    "    slice = arr[arr.shape[0] - i -1, : , : ]\n",
    "    slice = cv2.resize(slice, (120, 120), interpolation=cv2.INTER_CUBIC)\n",
    "    slice[slice < 0] = 0\n",
    "    if slice.max() != 0:\n",
    "      if count == 0:\n",
    "        slices = np.array([slice])\n",
    "        slices_cat = np.array([get_category(category)])\n",
    "      if count < SLICE_NUMBER:\n",
    "        slices = np.concatenate((slices,[slice]))\n",
    "        slices_cat = np.concatenate((slices_cat,[get_category(category)]))\n",
    "      count+=1\n",
    "  #print(\"->\", count , \"slices of\", arr.shape[0], \"where used for image\", path)\n",
    "  return slices, slices_cat"
   ]
  },
  {
   "cell_type": "code",
   "execution_count": 24,
   "metadata": {
    "id": "lQz7bYsHENEt"
   },
   "outputs": [],
   "source": [
    "def get_slices_per_group_axial(paths, categories):\n",
    "  group = None\n",
    "  group_cat = None\n",
    "\n",
    "  count = 1\n",
    "  for i in range(len(paths)):\n",
    "    path = paths[i]\n",
    "    if i == 0:\n",
    "      group, group_cat = get_slices_axial(path, categories[i])\n",
    "    else:\n",
    "      new_group, new_group_cat = get_slices_axial(path, categories[i])\n",
    "      group = np.concatenate((group, new_group))\n",
    "      group_cat = np.concatenate((group_cat, new_group_cat))\n",
    "\n",
    "    print(\"-> [%d/%d] Slices processed %d.\" %(count,len(paths), group.shape[0] ))\n",
    "    count+=1\n",
    "  return group, group_cat"
   ]
  },
  {
   "cell_type": "code",
   "execution_count": 25,
   "metadata": {
    "colab": {
     "base_uri": "https://localhost:8080/"
    },
    "id": "lhXSxy0Y1eEp",
    "outputId": "e71253d0-380d-44c8-80d8-d9ed159c0840"
   },
   "outputs": [
    {
     "name": "stdout",
     "output_type": "stream",
     "text": [
      "(51, 120, 120)\n",
      "(51,)\n"
     ]
    }
   ],
   "source": [
    "#test with one image\n",
    "slices, slices_cat = get_slices_axial(X_dataset[0], y_dataset[0])\n",
    "print(slices.shape)\n",
    "print(slices_cat.shape)"
   ]
  },
  {
   "cell_type": "markdown",
   "metadata": {
    "id": "M_DZGnMbC13P"
   },
   "source": [
    "## CORONAL\n",
    "arr[ : , xxx , : ] coronal "
   ]
  },
  {
   "cell_type": "code",
   "execution_count": 26,
   "metadata": {
    "id": "JCnw2xZj_PT7"
   },
   "outputs": [],
   "source": [
    "import cv2\n",
    "# type: the number of the group\n",
    "# group_n: the count of diferent groups\n",
    "# for example,we can have the groups \n",
    "#    1) [EAT, GAMBLE, SEX, BUY, PURE] and the image is from GAMBLE\n",
    "#     -> type = 2\n",
    "#     -> group_n = 5\n",
    "#    2) or [PURE, ICD] and the image is from PURE\n",
    "#     -> type = 1\n",
    "#     -> group_n = 2\n",
    "#output:\n",
    "#     -> normalized array of the slices \n",
    "#     -> the category of each image in one-hot encoded.\n",
    "# for example\n",
    "#   1) [0,1,0,0,0], and \n",
    "#   2) [1,0]\n",
    "def get_slices_coronal(path, category):\n",
    "  img = sitk.ReadImage(path, sitk.sitkFloat64)\n",
    "  arr = sitk.GetArrayFromImage(img)\n",
    "\n",
    "  #normalize the matrix, numbers between 0.0 - 1.0\n",
    "  arr = arr / arr.max()\n",
    "\n",
    "  slices = None\n",
    "  slices_cat = None\n",
    "  count = 0\n",
    "\n",
    "  for i in range(arr.shape[0]):\n",
    "    slice = arr[:, i , : ]\n",
    "    slice = cv2.resize(slice, (224, 224), interpolation=cv2.INTER_CUBIC)\n",
    "    slice[slice < 0] = 0\n",
    "    if slice.max() != 0:\n",
    "      if count == 0:\n",
    "        slices = np.array([slice])\n",
    "        slices_cat = np.array([get_category(category)])\n",
    "      else:\n",
    "        slices = np.concatenate((slices,[slice]))\n",
    "        slices_cat = np.concatenate((slices_cat,[get_category(category)]))\n",
    "      count+=1\n",
    "  #print(\"->\", count , \"slices of\", arr.shape[0], \"where used for image\", path)\n",
    "  return slices, slices_cat"
   ]
  },
  {
   "cell_type": "code",
   "execution_count": 27,
   "metadata": {
    "id": "9-LKeV1d_PT-"
   },
   "outputs": [],
   "source": [
    "def get_slices_per_group_coronal(paths, categories):\n",
    "  group = None\n",
    "  group_cat = None\n",
    "\n",
    "  count = 1\n",
    "  for i in range(len(paths)):\n",
    "    path = paths[i]\n",
    "    if i == 0:\n",
    "      group, group_cat = get_slices_coronal(path, categories[i])\n",
    "    else:\n",
    "      new_group, new_group_cat = get_slices_coronal(path, categories[i])\n",
    "      group = np.concatenate((group, new_group))\n",
    "      group_cat = np.concatenate((group_cat, new_group_cat))\n",
    "\n",
    "    print(\"-> [%d/%d] Slices processed %d.\" %(count,len(paths), group.shape[0] ))\n",
    "    count+=1\n",
    "  return group, group_cat"
   ]
  },
  {
   "cell_type": "code",
   "execution_count": 28,
   "metadata": {
    "colab": {
     "base_uri": "https://localhost:8080/"
    },
    "id": "2eE7lOFb_PT_",
    "outputId": "6209c074-fd58-4e2e-d6e5-64602a10d748"
   },
   "outputs": [
    {
     "name": "stdout",
     "output_type": "stream",
     "text": [
      "(166, 224, 224)\n",
      "(166,)\n"
     ]
    }
   ],
   "source": [
    "#test with one image\n",
    "slices, slices_cat = get_slices_coronal(X_dataset[0], y_dataset[0])\n",
    "print(slices.shape)\n",
    "print(slices_cat.shape)"
   ]
  },
  {
   "cell_type": "markdown",
   "metadata": {
    "id": "j3ERsrLfC87J"
   },
   "source": [
    "## SAGITAL\n",
    "arr[ : , : , xxx ] sagital "
   ]
  },
  {
   "cell_type": "code",
   "execution_count": 29,
   "metadata": {},
   "outputs": [],
   "source": [
    "import cv2\n",
    "# type: the number of the group\n",
    "# group_n: the count of diferent groups\n",
    "# for example,we can have the groups \n",
    "#    1) [EAT, GAMBLE, SEX, BUY, PURE] and the image is from GAMBLE\n",
    "#     -> type = 2\n",
    "#     -> group_n = 5\n",
    "#    2) or [PURE, ICD] and the image is from PURE\n",
    "#     -> type = 1\n",
    "#     -> group_n = 2\n",
    "#output:\n",
    "#     -> normalized array of the slices \n",
    "#     -> the category of each image in one-hot encoded.\n",
    "# for example\n",
    "#   1) [0,1,0,0,0], and \n",
    "#   2) [1,0]\n",
    "def get_slices_sagital(path, category):\n",
    "  img = sitk.ReadImage(path, sitk.sitkFloat64)\n",
    "  arr = sitk.GetArrayFromImage(img)\n",
    "\n",
    "  #normalize the matrix, numbers between 0.0 - 1.0\n",
    "  arr = arr / arr.max()\n",
    "\n",
    "  slices = None\n",
    "  slices_cat = None\n",
    "  count = 0\n",
    "\n",
    "  for i in range(arr.shape[0]):\n",
    "    slice = arr[:, : , i ]\n",
    "    slice = cv2.resize(slice, (224, 224), interpolation=cv2.INTER_CUBIC)\n",
    "    slice[slice < 0] = 0\n",
    "    if slice.max() != 0:\n",
    "      if count == 0:\n",
    "        slices = np.array([slice])\n",
    "        slices_cat = np.array([get_category(category)])\n",
    "      else:\n",
    "        slices = np.concatenate((slices,[slice]))\n",
    "        slices_cat = np.concatenate((slices_cat,[get_category(category)]))\n",
    "      count+=1\n",
    "  #print(\"->\", count , \"slices of\", arr.shape[0], \"where used for image\", path)\n",
    "  return slices, slices_cat"
   ]
  },
  {
   "cell_type": "code",
   "execution_count": 30,
   "metadata": {},
   "outputs": [],
   "source": [
    "def get_slices_per_group_sagital(paths, categories):\n",
    "  group = None\n",
    "  group_cat = None\n",
    "\n",
    "  count = 1\n",
    "  for i in range(len(paths)):\n",
    "    path = paths[i]\n",
    "    if i == 0:\n",
    "      group, group_cat = get_slices_sagital(path, categories[i])\n",
    "    else:\n",
    "      new_group, new_group_cat = get_slices_sagital(path, categories[i])\n",
    "      group = np.concatenate((group, new_group))\n",
    "      group_cat = np.concatenate((group_cat, new_group_cat))\n",
    "\n",
    "    print(\"-> [%d/%d] Slices processed %d.\" %(count,len(paths), group.shape[0] ))\n",
    "    count+=1\n",
    "  return group, group_cat"
   ]
  },
  {
   "cell_type": "code",
   "execution_count": 31,
   "metadata": {},
   "outputs": [
    {
     "name": "stdout",
     "output_type": "stream",
     "text": [
      "(153, 224, 224)\n",
      "(153,)\n"
     ]
    }
   ],
   "source": [
    "#test with one image\n",
    "slices, slices_cat = get_slices_sagital(X_dataset[0], y_dataset[0])\n",
    "print(slices.shape)\n",
    "print(slices_cat.shape)"
   ]
  },
  {
   "cell_type": "markdown",
   "metadata": {
    "id": "nNzzq4hUs2ww"
   },
   "source": [
    "# MODEL (BINARY)"
   ]
  },
  {
   "cell_type": "markdown",
   "metadata": {},
   "source": [
    "## Axial (Enssemble)"
   ]
  },
  {
   "cell_type": "code",
   "execution_count": 249,
   "metadata": {},
   "outputs": [],
   "source": [
    "import os\n",
    "import numpy as np\n",
    "np.random.seed(777)\n",
    "import math\n",
    "import tensorflow as tf\n",
    "import keras\n",
    "import keras.backend as K\n",
    "import h5py\n",
    "from keras.preprocessing.image import ImageDataGenerator\n",
    "from tensorflow.keras.optimizers import Adam, SGD, RMSprop\n",
    "from keras.models import Sequential\n",
    "from keras.models import Model\n",
    "from keras.layers import Input, Activation, merge, Dense, Flatten, Dropout, concatenate\n",
    "from keras.layers.convolutional import Conv2D, MaxPooling2D\n",
    "from keras.layers import BatchNormalization, add, GlobalAveragePooling2D\n",
    "from keras.utils.np_utils import to_categorical\n",
    "from sklearn.metrics import accuracy_score,roc_curve, confusion_matrix, roc_auc_score, auc, f1_score\n",
    "from keras.regularizers import l2\n",
    "from keras.applications.xception import Xception, preprocess_input\n",
    "from keras.applications.mobilenet import MobileNet\n",
    "from keras.applications.vgg16 import VGG16\n",
    "from keras.applications.vgg19 import VGG19\n",
    "from tensorflow.keras.applications import DenseNet201\n",
    "from tensorflow.keras.applications import DenseNet121\n",
    "\n",
    "from keras.layers import Input, Dense, Activation, ZeroPadding2D, BatchNormalization, Flatten, Conv2D, Lambda,Concatenate\n",
    "from keras.layers import SeparableConv2D, AveragePooling2D, MaxPooling2D, Dropout, GlobalMaxPooling2D, GlobalAveragePooling2D, Add\n",
    "\n",
    "import matplotlib.pyplot as plt\n",
    "\n",
    "plt.rcParams[\"axes.grid\"] = False\n",
    "plt.rcParams.update({'font.size': 20})"
   ]
  },
  {
   "cell_type": "code",
   "execution_count": 178,
   "metadata": {},
   "outputs": [
    {
     "name": "stdout",
     "output_type": "stream",
     "text": [
      "-> [1/10] Slices processed 51.\n",
      "-> [2/10] Slices processed 102.\n",
      "-> [3/10] Slices processed 153.\n",
      "-> [4/10] Slices processed 204.\n",
      "-> [5/10] Slices processed 255.\n",
      "-> [6/10] Slices processed 306.\n",
      "-> [7/10] Slices processed 357.\n",
      "-> [8/10] Slices processed 408.\n",
      "-> [9/10] Slices processed 459.\n",
      "-> [10/10] Slices processed 510.\n"
     ]
    }
   ],
   "source": [
    "X_axial3c_train, y_axial3c_train = get_slices_per_group_axial_3c(X_train, y_train)"
   ]
  },
  {
   "cell_type": "code",
   "execution_count": 221,
   "metadata": {},
   "outputs": [
    {
     "name": "stdout",
     "output_type": "stream",
     "text": [
      "-> [1/10] Slices processed 51.\n",
      "-> [2/10] Slices processed 102.\n",
      "-> [3/10] Slices processed 153.\n",
      "-> [4/10] Slices processed 204.\n",
      "-> [5/10] Slices processed 255.\n",
      "-> [6/10] Slices processed 306.\n",
      "-> [7/10] Slices processed 357.\n",
      "-> [8/10] Slices processed 408.\n",
      "-> [9/10] Slices processed 459.\n",
      "-> [10/10] Slices processed 510.\n"
     ]
    }
   ],
   "source": [
    "X_axial3c_test, y_axial3c_test = get_slices_per_group_axial_3c(X_test, y_test)"
   ]
  },
  {
   "cell_type": "code",
   "execution_count": 180,
   "metadata": {},
   "outputs": [
    {
     "name": "stdout",
     "output_type": "stream",
     "text": [
      "(510, 224, 224, 3) (510,)\n",
      "(102, 224, 224, 3) (102,)\n"
     ]
    }
   ],
   "source": [
    "print(X_axial3c_train.shape, y_axial3c_train.shape)\n",
    "print(X_axialec_test.shape, y_axial3c_test.shape)"
   ]
  },
  {
   "cell_type": "code",
   "execution_count": 185,
   "metadata": {},
   "outputs": [],
   "source": [
    "img_height, img_width = 224, 224\n",
    "input_shape = (img_height, img_width, 3)\n",
    "epochs = 1000\n",
    "num_classes = 1"
   ]
  },
  {
   "cell_type": "code",
   "execution_count": 186,
   "metadata": {},
   "outputs": [],
   "source": [
    "from tensorflow.keras.applications import VGG19\n",
    "\n",
    "input_tensor = Input(shape = input_shape)  \n",
    "\n",
    "base_model =VGG19(input_shape= input_shape,weights='imagenet', include_top=False, input_tensor=input_tensor)\n",
    "\n",
    "x = base_model.output\n",
    "x = GlobalAveragePooling2D()(x)\n",
    "\n",
    "predictions = Dense(num_classes, activation='softmax')(x)\n",
    "\n",
    "model = Model(inputs=input_tensor,outputs=predictions)"
   ]
  },
  {
   "cell_type": "code",
   "execution_count": 187,
   "metadata": {},
   "outputs": [],
   "source": [
    "from keras.applications.densenet import DenseNet169\n",
    "from keras.applications.inception_v3 import InceptionV3\n",
    "from keras.applications.nasnet import NASNetMobile\n",
    "from tensorflow.keras.applications import VGG19\n",
    "\n",
    "input_tensor = Input(shape = input_shape)  \n",
    "\n",
    "base_model1=NASNetMobile(input_shape= input_shape,weights='imagenet', include_top=False, input_tensor=input_tensor)\n",
    "base_model2=InceptionV3(input_shape= input_shape,weights='imagenet', include_top=False, input_tensor=input_tensor)\n",
    "base_model3=DenseNet201(input_shape= input_shape,weights='imagenet', include_top=False, input_tensor=input_tensor)\n",
    "base_model4=VGG19(input_shape= input_shape,weights='imagenet', include_top=False, input_tensor=input_tensor)\n",
    "\n",
    "x1 = base_model1.output\n",
    "x1 = GlobalAveragePooling2D()(x1)\n",
    "\n",
    "x2 = base_model2.output\n",
    "x2 = GlobalAveragePooling2D()(x2)\n",
    "\n",
    "x3 = base_model3.output\n",
    "x3 = GlobalAveragePooling2D()(x3)\n",
    "\n",
    "x4 = base_model4.output\n",
    "x4 = GlobalAveragePooling2D()(x4)\n",
    "\n",
    "merge = concatenate([x1, x2, x3 , x4])\n",
    "predictions = Dense(1, activation='softmax')(merge)\n",
    "\n",
    "model = Model(inputs=input_tensor,outputs=predictions)"
   ]
  },
  {
   "cell_type": "code",
   "execution_count": 188,
   "metadata": {},
   "outputs": [],
   "source": [
    "bottleneck_final_model = Model(inputs=model.input, outputs=merge)"
   ]
  },
  {
   "cell_type": "code",
   "execution_count": 189,
   "metadata": {},
   "outputs": [
    {
     "name": "stdout",
     "output_type": "stream",
     "text": [
      "WARNING:tensorflow:`epsilon` argument is deprecated and will be removed, use `min_delta` instead.\n"
     ]
    }
   ],
   "source": [
    "# training call backs \n",
    "lr_reduce = tf.keras.callbacks.ReduceLROnPlateau(monitor='val_loss', factor=0.5, epsilon=0.0001, patience=3, verbose=1)\n",
    "es_callback = tf.keras.callbacks.EarlyStopping(monitor='val_loss', patience=5, verbose=1)"
   ]
  },
  {
   "cell_type": "code",
   "execution_count": 245,
   "metadata": {},
   "outputs": [
    {
     "name": "stderr",
     "output_type": "stream",
     "text": [
      "c:\\python39\\lib\\site-packages\\keras\\optimizer_v2\\optimizer_v2.py:355: UserWarning: The `lr` argument is deprecated, use `learning_rate` instead.\n",
      "  warnings.warn(\n"
     ]
    },
    {
     "name": "stdout",
     "output_type": "stream",
     "text": [
      "Epoch 1/1000\n",
      "41/41 - 14s - loss: 1.2483 - accuracy: 0.6005 - val_loss: 0.5307 - val_accuracy: 0.7353\n",
      "Epoch 2/1000\n",
      "41/41 - 13s - loss: 0.5727 - accuracy: 0.7672 - val_loss: 0.9702 - val_accuracy: 0.2745\n",
      "Epoch 3/1000\n",
      "41/41 - 13s - loss: 0.3819 - accuracy: 0.8407 - val_loss: 1.3252 - val_accuracy: 0.2255\n",
      "Epoch 4/1000\n",
      "41/41 - 15s - loss: 0.2956 - accuracy: 0.9044 - val_loss: 0.7740 - val_accuracy: 0.6078\n",
      "\n",
      "Epoch 00004: ReduceLROnPlateau reducing learning rate to 4.999999873689376e-05.\n",
      "Epoch 5/1000\n",
      "41/41 - 14s - loss: 0.2298 - accuracy: 0.9387 - val_loss: 1.2391 - val_accuracy: 0.3235\n",
      "Epoch 6/1000\n",
      "41/41 - 15s - loss: 0.1822 - accuracy: 0.9681 - val_loss: 0.8664 - val_accuracy: 0.5882\n",
      "Epoch 00006: early stopping\n"
     ]
    }
   ],
   "source": [
    "batch_size = 10\n",
    "epochs = 1000\n",
    "dropout_rate = 0.5\n",
    "\n",
    "model = Sequential()\n",
    "model.add(Flatten(input_shape=X_axial3c_train.shape[1:]))\n",
    "model.add(Dense(256, activation='relu'))\n",
    "model.add(Dropout(dropout_rate))\n",
    "model.add(Dense(num_classes, activation=tf.nn.sigmoid))\n",
    "\n",
    "adam_opt2=Adam(lr = 0.0001, beta_1=0.7, beta_2=0.995, amsgrad=True)\n",
    "\n",
    "model.compile(optimizer=tf.keras.optimizers.Adam(learning_rate=0.0001),loss=keras.losses.binary_crossentropy,metrics=['accuracy'])\n",
    "\n",
    "history = model.fit(X_axial3c_train, y_axial3c_train,\n",
    "                    epochs=epochs,\n",
    "                    batch_size=batch_size,\n",
    "                    callbacks=[lr_reduce, es_callback],\n",
    "                    validation_split=0.2,\n",
    "                    verbose= 2)"
   ]
  },
  {
   "cell_type": "code",
   "execution_count": 246,
   "metadata": {},
   "outputs": [
    {
     "name": "stdout",
     "output_type": "stream",
     "text": [
      "Model: \"sequential_22\"\n",
      "_________________________________________________________________\n",
      "Layer (type)                 Output Shape              Param #   \n",
      "=================================================================\n",
      "flatten_2 (Flatten)          (None, 150528)            0         \n",
      "_________________________________________________________________\n",
      "dense_60 (Dense)             (None, 256)               38535424  \n",
      "_________________________________________________________________\n",
      "dropout_21 (Dropout)         (None, 256)               0         \n",
      "_________________________________________________________________\n",
      "dense_61 (Dense)             (None, 1)                 257       \n",
      "=================================================================\n",
      "Total params: 38,535,681\n",
      "Trainable params: 38,535,681\n",
      "Non-trainable params: 0\n",
      "_________________________________________________________________\n"
     ]
    }
   ],
   "source": [
    "model.summary()"
   ]
  },
  {
   "cell_type": "code",
   "execution_count": 247,
   "metadata": {
    "scrolled": true
   },
   "outputs": [
    {
     "name": "stdout",
     "output_type": "stream",
     "text": [
      "Accuracy 0.6254901960784314\n"
     ]
    }
   ],
   "source": [
    "preds = model.predict(X_axial3c_test)\n",
    "\n",
    "predictions = [(0 if i <0.5 else 1) for i in preds]\n",
    "cm = confusion_matrix(y_pred=predictions, y_true=y_axial3c_test)\n",
    "\n",
    "print('Accuracy {}'.format(accuracy_score(y_true=y_axial3c_test, y_pred=predictions)))"
   ]
  },
  {
   "cell_type": "code",
   "execution_count": null,
   "metadata": {},
   "outputs": [],
   "source": []
  },
  {
   "cell_type": "code",
   "execution_count": 248,
   "metadata": {},
   "outputs": [
    {
     "name": "stdout",
     "output_type": "stream",
     "text": [
      "Confusion Matrix\n",
      "[[145 110]\n",
      " [ 81 174]]\n"
     ]
    },
    {
     "data": {
      "image/png": "[encoded data removed]",
      "text/plain": [
       "<Figure size 720x720 with 1 Axes>"
      ]
     },
     "metadata": {},
     "output_type": "display_data"
    }
   ],
   "source": [
    "plt.rcParams[\"axes.grid\"] = False\n",
    "plt.rcParams.update({'font.size': 20})\n",
    "\n",
    "labels = ['parkinson', \"parkinson + ICD\"]\n",
    "\n",
    "from sklearn.metrics import confusion_matrix\n",
    "import itertools\n",
    "def plot_confusion_matrix(cm, classes,\n",
    "                          normalize=False,\n",
    "                          title='Confusion matrix',\n",
    "                          cmap=plt.cm.Blues):\n",
    "    accuracy = np.trace(cm) / float(np.sum(cm))\n",
    "    misclass = 1 - accuracy\n",
    "    if normalize:\n",
    "        cm = cm.astype('float') / cm.sum(axis=1)[:, np.newaxis]\n",
    "        print(\"Normalized confusion matrix\")\n",
    "    else:\n",
    "        print('Confusion Matrix')\n",
    "\n",
    "    print(cm)\n",
    "#     fig = plt.figure()\n",
    "    plt.imshow(cm, interpolation='nearest', cmap=cmap)\n",
    "#     plt.title(title)\n",
    "#     plt.colorbar()\n",
    "    tick_marks = np.arange(len(classes))\n",
    "    plt.xticks(tick_marks, classes, rotation=45)\n",
    "    plt.yticks(tick_marks, classes)\n",
    "\n",
    "    fmt = '.2f' if normalize else 'd'\n",
    "    thresh = cm.max() / 2.\n",
    "    for i, j in itertools.product(range(cm.shape[0]), range(cm.shape[1])):\n",
    "        plt.text(j, i, format(cm[i, j], fmt),\n",
    "                 horizontalalignment=\"center\",\n",
    "                 color=\"white\" if cm[i, j] > thresh else \"black\")\n",
    "\n",
    "    plt.tight_layout()\n",
    "    plt.ylabel('True label')\n",
    "    plt.xlabel('Predicted label\\naccuracy={:0.4f}; misclass={:0.4f}'.format(accuracy, misclass))\n",
    "    plt.savefig('confusion_marix.png', bbox_inches='tight', dpi = 100) \n",
    "\n",
    "\n",
    "plt.figure(figsize=(10,10))\n",
    "plot_confusion_matrix(cm, classes=labels, title=' ')"
   ]
  },
  {
   "cell_type": "code",
   "execution_count": 225,
   "metadata": {},
   "outputs": [
    {
     "data": {
      "image/png": "[encoded data removed]",
      "text/plain": [
       "<Figure size 432x288 with 1 Axes>"
      ]
     },
     "metadata": {},
     "output_type": "display_data"
    },
    {
     "data": {
      "image/png": "[encoded data removed]",
      "text/plain": [
       "<Figure size 432x288 with 1 Axes>"
      ]
     },
     "metadata": {},
     "output_type": "display_data"
    },
    {
     "data": {
      "text/plain": [
       "<Figure size 432x288 with 0 Axes>"
      ]
     },
     "metadata": {},
     "output_type": "display_data"
    },
    {
     "data": {
      "image/png": "[encoded data removed]",
      "text/plain": [
       "<Figure size 432x288 with 1 Axes>"
      ]
     },
     "metadata": {},
     "output_type": "display_data"
    }
   ],
   "source": [
    "plt.style.use(\"seaborn-ticks\")\n",
    "\n",
    "plt.plot(history.history['accuracy'])\n",
    "plt.plot(history.history['val_accuracy'])\n",
    "plt.title('model accuracy')\n",
    "plt.ylabel('Accuracy')\n",
    "plt.xlabel('Epoch')\n",
    "plt.legend(['Training Acc', 'Test Acc'], loc='upper left')\n",
    "plt.show()\n",
    "plt.savefig('model_acc.png', bbox_inches='tight', dpi = 100) \n",
    "\n",
    "# summarize history for loss\n",
    "plt.plot(history.history['loss'])\n",
    "plt.plot(history.history['val_loss'])\n",
    "plt.title('model loss')\n",
    "plt.ylabel('Loss')\n",
    "plt.xlabel('Epoch')\n",
    "plt.legend(['Training Loss', 'Test Loss'], loc='upper left')\n",
    "plt.show()\n",
    "plt.savefig('model_pogress.png', bbox_inches='tight', dpi = 100) \n",
    "\n",
    "plt.figure()\n",
    "N = len(history.history['accuracy'])\n",
    "plt.plot(np.arange(0, N), history.history[\"loss\"], label=\"train_loss\")\n",
    "plt.plot(np.arange(0, N), history.history[\"val_loss\"], label=\"val_loss\")\n",
    "plt.plot(np.arange(0, N), history.history[\"accuracy\"], label=\"train_acc\")\n",
    "plt.plot(np.arange(0, N), history.history[\"val_accuracy\"], label=\"val_accuracy\")\n",
    "plt.title(\"Training Loss and Accuracy\")\n",
    "plt.xlabel(\"Epoch #\")\n",
    "plt.ylabel(\"Loss/Accuracy\")\n",
    "plt.legend(loc=\"upper left\")\n",
    "plt.savefig('loss.png', bbox_inches='tight', dpi = 100) "
   ]
  },
  {
   "cell_type": "markdown",
   "metadata": {},
   "source": [
    "## 3D all brain"
   ]
  },
  {
   "cell_type": "code",
   "execution_count": null,
   "metadata": {},
   "outputs": [
    {
     "name": "stdout",
     "output_type": "stream",
     "text": [
      "-> [1/180] Image processed.\n",
      "-> [2/180] Image processed.\n",
      "-> [3/180] Image processed.\n",
      "-> [4/180] Image processed.\n",
      "-> [5/180] Image processed.\n",
      "-> [6/180] Image processed.\n",
      "-> [7/180] Image processed.\n",
      "-> [8/180] Image processed.\n",
      "-> [9/180] Image processed.\n",
      "-> [10/180] Image processed.\n",
      "-> [11/180] Image processed.\n",
      "-> [12/180] Image processed.\n",
      "-> [13/180] Image processed.\n",
      "-> [14/180] Image processed.\n",
      "-> [15/180] Image processed.\n",
      "-> [16/180] Image processed.\n",
      "-> [17/180] Image processed.\n",
      "-> [18/180] Image processed.\n",
      "-> [19/180] Image processed.\n",
      "-> [20/180] Image processed.\n",
      "-> [21/180] Image processed.\n",
      "-> [22/180] Image processed.\n",
      "-> [23/180] Image processed.\n",
      "-> [24/180] Image processed.\n",
      "-> [25/180] Image processed.\n",
      "-> [26/180] Image processed.\n",
      "-> [27/180] Image processed.\n",
      "-> [28/180] Image processed.\n",
      "-> [29/180] Image processed.\n",
      "-> [30/180] Image processed.\n",
      "Error in ./PREPROCESSED/EAT\\3222.nii.gz\n",
      "-> [31/180] Image processed.\n",
      "-> [32/180] Image processed.\n",
      "-> [33/180] Image processed.\n",
      "-> [34/180] Image processed.\n",
      "-> [35/180] Image processed.\n",
      "-> [36/180] Image processed.\n",
      "-> [37/180] Image processed.\n",
      "-> [38/180] Image processed.\n",
      "-> [39/180] Image processed.\n",
      "-> [40/180] Image processed.\n",
      "-> [41/180] Image processed.\n",
      "-> [42/180] Image processed.\n",
      "-> [43/180] Image processed.\n",
      "-> [44/180] Image processed.\n",
      "-> [45/180] Image processed.\n",
      "-> [46/180] Image processed.\n",
      "-> [47/180] Image processed.\n",
      "-> [48/180] Image processed.\n",
      "-> [49/180] Image processed.\n",
      "-> [50/180] Image processed.\n",
      "-> [51/180] Image processed.\n",
      "-> [52/180] Image processed.\n",
      "-> [53/180] Image processed.\n",
      "-> [54/180] Image processed.\n",
      "-> [55/180] Image processed.\n",
      "-> [56/180] Image processed.\n",
      "-> [57/180] Image processed.\n",
      "-> [58/180] Image processed.\n",
      "-> [59/180] Image processed.\n",
      "-> [60/180] Image processed.\n",
      "-> [61/180] Image processed.\n",
      "-> [62/180] Image processed.\n",
      "-> [63/180] Image processed.\n",
      "-> [64/180] Image processed.\n",
      "-> [65/180] Image processed.\n",
      "-> [66/180] Image processed.\n",
      "-> [67/180] Image processed.\n",
      "-> [68/180] Image processed.\n",
      "-> [69/180] Image processed.\n",
      "-> [70/180] Image processed.\n",
      "-> [71/180] Image processed.\n",
      "-> [72/180] Image processed.\n",
      "-> [73/180] Image processed.\n",
      "-> [74/180] Image processed.\n",
      "-> [75/180] Image processed.\n",
      "-> [76/180] Image processed.\n",
      "-> [77/180] Image processed.\n",
      "-> [78/180] Image processed.\n",
      "-> [79/180] Image processed.\n",
      "-> [80/180] Image processed.\n",
      "-> [81/180] Image processed.\n",
      "-> [82/180] Image processed.\n",
      "-> [83/180] Image processed.\n",
      "-> [84/180] Image processed.\n",
      "-> [85/180] Image processed.\n",
      "-> [86/180] Image processed.\n",
      "-> [87/180] Image processed.\n",
      "Error in ./PREPROCESSED/EAT\\59503.nii.gz\n",
      "-> [88/180] Image processed.\n",
      "Error in ./PREPROCESSED/SEX\\71880.nii.gz\n",
      "-> [89/180] Image processed.\n",
      "Error in ./PREPROCESSED/PD\\3021.nii.gz\n",
      "Error in ./PREPROCESSED/EAT\\50451.nii.gz\n",
      "-> [90/180] Image processed.\n"
     ]
    }
   ],
   "source": [
    "X_3d_all_train, y_3d_all_train = get_slices_per_group_3d_all(X_train, y_train)"
   ]
  },
  {
   "cell_type": "code",
   "execution_count": null,
   "metadata": {},
   "outputs": [],
   "source": [
    "X_3d_all_test, y_3d_all_test = get_slices_per_group_3d(X_test, y_test)"
   ]
  },
  {
   "cell_type": "code",
   "execution_count": null,
   "metadata": {},
   "outputs": [],
   "source": [
    "print(\"Train:\",X_3d_train.shape, len(y_3d_train))\n",
    "print(\"Test:\",X_3d_test.shape, len(y_3d_test))"
   ]
  },
  {
   "cell_type": "code",
   "execution_count": 1,
   "metadata": {},
   "outputs": [],
   "source": [
    "import keras\n",
    "from keras.models import Sequential\n",
    "from keras.layers import Dense, Conv3D, MaxPool3D , Flatten\n",
    "from keras.preprocessing.image import ImageDataGenerator\n",
    "from keras.layers import Dropout\n",
    "from keras.callbacks import ModelCheckpoint, EarlyStopping\n",
    "import tensorflow as tf"
   ]
  },
  {
   "cell_type": "code",
   "execution_count": 2,
   "metadata": {},
   "outputs": [
    {
     "name": "stdout",
     "output_type": "stream",
     "text": [
      "Model: \"sequential\"\n",
      "_________________________________________________________________\n",
      "Layer (type)                 Output Shape              Param #   \n",
      "=================================================================\n",
      "conv3d (Conv3D)              (None, 150, 180, 180, 20) 560       \n",
      "_________________________________________________________________\n",
      "conv3d_1 (Conv3D)            (None, 150, 180, 180, 64) 34624     \n",
      "_________________________________________________________________\n",
      "dropout (Dropout)            (None, 150, 180, 180, 64) 0         \n",
      "_________________________________________________________________\n",
      "max_pooling3d (MaxPooling3D) (None, 75, 90, 90, 64)    0         \n",
      "_________________________________________________________________\n",
      "conv3d_2 (Conv3D)            (None, 75, 90, 90, 128)   221312    \n",
      "_________________________________________________________________\n",
      "conv3d_3 (Conv3D)            (None, 75, 90, 90, 128)   442496    \n",
      "_________________________________________________________________\n",
      "dropout_1 (Dropout)          (None, 75, 90, 90, 128)   0         \n",
      "_________________________________________________________________\n",
      "max_pooling3d_1 (MaxPooling3 (None, 37, 45, 45, 128)   0         \n",
      "_________________________________________________________________\n",
      "conv3d_4 (Conv3D)            (None, 37, 45, 45, 256)   884992    \n",
      "_________________________________________________________________\n",
      "conv3d_5 (Conv3D)            (None, 37, 45, 45, 256)   1769728   \n",
      "_________________________________________________________________\n",
      "conv3d_6 (Conv3D)            (None, 37, 45, 45, 256)   1769728   \n",
      "_________________________________________________________________\n",
      "conv3d_7 (Conv3D)            (None, 37, 45, 45, 256)   1769728   \n",
      "_________________________________________________________________\n",
      "dropout_2 (Dropout)          (None, 37, 45, 45, 256)   0         \n",
      "_________________________________________________________________\n",
      "max_pooling3d_2 (MaxPooling3 (None, 18, 22, 22, 256)   0         \n",
      "_________________________________________________________________\n",
      "conv3d_8 (Conv3D)            (None, 18, 22, 22, 512)   3539456   \n",
      "_________________________________________________________________\n",
      "conv3d_9 (Conv3D)            (None, 18, 22, 22, 512)   7078400   \n",
      "_________________________________________________________________\n",
      "conv3d_10 (Conv3D)           (None, 18, 22, 22, 512)   7078400   \n",
      "_________________________________________________________________\n",
      "conv3d_11 (Conv3D)           (None, 18, 22, 22, 512)   7078400   \n",
      "_________________________________________________________________\n",
      "dropout_3 (Dropout)          (None, 18, 22, 22, 512)   0         \n",
      "_________________________________________________________________\n",
      "max_pooling3d_3 (MaxPooling3 (None, 9, 11, 11, 512)    0         \n",
      "_________________________________________________________________\n",
      "conv3d_12 (Conv3D)           (None, 9, 11, 11, 512)    7078400   \n",
      "_________________________________________________________________\n",
      "conv3d_13 (Conv3D)           (None, 9, 11, 11, 512)    7078400   \n",
      "_________________________________________________________________\n",
      "conv3d_14 (Conv3D)           (None, 9, 11, 11, 512)    7078400   \n",
      "_________________________________________________________________\n",
      "conv3d_15 (Conv3D)           (None, 9, 11, 11, 512)    7078400   \n",
      "_________________________________________________________________\n",
      "dropout_4 (Dropout)          (None, 9, 11, 11, 512)    0         \n",
      "_________________________________________________________________\n",
      "max_pooling3d_4 (MaxPooling3 (None, 4, 5, 5, 512)      0         \n",
      "_________________________________________________________________\n",
      "flatten (Flatten)            (None, 51200)             0         \n",
      "_________________________________________________________________\n",
      "dense (Dense)                (None, 4096)              209719296 \n",
      "_________________________________________________________________\n",
      "dense_1 (Dense)              (None, 4096)              16781312  \n",
      "_________________________________________________________________\n",
      "dense_2 (Dense)              (None, 1000)              4097000   \n",
      "_________________________________________________________________\n",
      "dense_3 (Dense)              (None, 1)                 1001      \n",
      "=================================================================\n",
      "Total params: 290,580,033\n",
      "Trainable params: 290,580,033\n",
      "Non-trainable params: 0\n",
      "_________________________________________________________________\n",
      "None\n"
     ]
    }
   ],
   "source": [
    "model = Sequential()\n",
    "model.add(Conv3D(input_shape=(150,180,180,1),filters=20,kernel_size=3,padding=\"same\", activation=\"relu\"))\n",
    "model.add(Conv3D(filters=64,kernel_size=3,padding=\"same\", activation=\"relu\"))\n",
    "model.add(Dropout(0.4))\n",
    "model.add(MaxPool3D(pool_size=2,strides=(2,2,2)))\n",
    "model.add(Conv3D(filters=128, kernel_size=3, padding=\"same\", activation=\"relu\"))\n",
    "model.add(Conv3D(filters=128, kernel_size=3, padding=\"same\", activation=\"relu\"))\n",
    "model.add(Dropout(0.6))\n",
    "model.add(MaxPool3D(pool_size=2,strides=(2,2,2)))\n",
    "model.add(Conv3D(filters=256, kernel_size=3, padding=\"same\", activation=\"relu\"))\n",
    "model.add(Conv3D(filters=256, kernel_size=3, padding=\"same\", activation=\"relu\"))\n",
    "model.add(Conv3D(filters=256, kernel_size=3, padding=\"same\", activation=\"relu\"))\n",
    "model.add(Conv3D(filters=256, kernel_size=3, padding=\"same\", activation=\"relu\"))\n",
    "model.add(Dropout(0.8))\n",
    "model.add(MaxPool3D(pool_size=2,strides=(2,2,2)))\n",
    "model.add(Conv3D(filters=512, kernel_size=3, padding=\"same\", activation=\"relu\"))\n",
    "model.add(Conv3D(filters=512, kernel_size=3, padding=\"same\", activation=\"relu\"))\n",
    "model.add(Conv3D(filters=512, kernel_size=3, padding=\"same\", activation=\"relu\"))\n",
    "model.add(Conv3D(filters=512, kernel_size=3, padding=\"same\", activation=\"relu\"))\n",
    "model.add(Dropout(0.8))\n",
    "model.add(MaxPool3D(pool_size=2,strides=(2,2,2)))\n",
    "model.add(Conv3D(filters=512, kernel_size=3, padding=\"same\", activation=\"relu\"))\n",
    "model.add(Conv3D(filters=512, kernel_size=3, padding=\"same\", activation=\"relu\"))\n",
    "model.add(Conv3D(filters=512, kernel_size=3, padding=\"same\", activation=\"relu\"))\n",
    "model.add(Conv3D(filters=512, kernel_size=3, padding=\"same\", activation=\"relu\"))\n",
    "model.add(Dropout(0.4))\n",
    "model.add(MaxPool3D(pool_size=2,strides=(2,2,2)))\n",
    "\n",
    "#Dense layer\n",
    "model.add(Flatten())\n",
    "model.add(Dense(units=4096,activation=\"relu\"))\n",
    "model.add(Dense(units=4096,activation=\"relu\"))\n",
    "model.add(Dense(units=1000,activation=\"relu\"))\n",
    "model.add(Dense(1, activation=\"softmax\"))\n",
    "\n",
    "model.compile(optimizer='adam', loss=keras.losses.binary_crossentropy, metrics=['accuracy'])\n",
    "\n",
    "print(model.summary())"
   ]
  },
  {
   "cell_type": "markdown",
   "metadata": {},
   "source": [
    "## 3D"
   ]
  },
  {
   "cell_type": "code",
   "execution_count": 25,
   "metadata": {},
   "outputs": [
    {
     "name": "stdout",
     "output_type": "stream",
     "text": [
      "-> [1/241] Image processed.\n",
      "-> [2/241] Image processed.\n",
      "-> [3/241] Image processed.\n",
      "-> [4/241] Image processed.\n",
      "-> [5/241] Image processed.\n",
      "-> [6/241] Image processed.\n",
      "-> [7/241] Image processed.\n",
      "-> [8/241] Image processed.\n",
      "-> [9/241] Image processed.\n",
      "-> [10/241] Image processed.\n",
      "-> [11/241] Image processed.\n",
      "-> [12/241] Image processed.\n",
      "-> [13/241] Image processed.\n",
      "-> [14/241] Image processed.\n",
      "-> [15/241] Image processed.\n",
      "-> [16/241] Image processed.\n",
      "-> [17/241] Image processed.\n",
      "-> [18/241] Image processed.\n",
      "-> [19/241] Image processed.\n",
      "-> [20/241] Image processed.\n",
      "-> [21/241] Image processed.\n",
      "-> [22/241] Image processed.\n",
      "-> [23/241] Image processed.\n",
      "-> [24/241] Image processed.\n",
      "-> [25/241] Image processed.\n",
      "-> [26/241] Image processed.\n",
      "-> [27/241] Image processed.\n",
      "-> [28/241] Image processed.\n",
      "-> [29/241] Image processed.\n",
      "-> [30/241] Image processed.\n",
      "-> [31/241] Image processed.\n",
      "-> [32/241] Image processed.\n",
      "-> [33/241] Image processed.\n",
      "-> [34/241] Image processed.\n",
      "-> [35/241] Image processed.\n",
      "-> [36/241] Image processed.\n",
      "-> [37/241] Image processed.\n",
      "-> [38/241] Image processed.\n",
      "-> [39/241] Image processed.\n",
      "-> [40/241] Image processed.\n",
      "-> [41/241] Image processed.\n",
      "-> [42/241] Image processed.\n",
      "-> [43/241] Image processed.\n",
      "-> [44/241] Image processed.\n",
      "-> [45/241] Image processed.\n",
      "-> [46/241] Image processed.\n",
      "-> [47/241] Image processed.\n",
      "-> [48/241] Image processed.\n",
      "-> [49/241] Image processed.\n",
      "-> [50/241] Image processed.\n",
      "-> [51/241] Image processed.\n",
      "-> [52/241] Image processed.\n",
      "-> [53/241] Image processed.\n",
      "-> [54/241] Image processed.\n",
      "-> [55/241] Image processed.\n",
      "-> [56/241] Image processed.\n",
      "-> [57/241] Image processed.\n",
      "-> [58/241] Image processed.\n",
      "-> [59/241] Image processed.\n",
      "-> [60/241] Image processed.\n",
      "-> [61/241] Image processed.\n",
      "-> [62/241] Image processed.\n",
      "-> [63/241] Image processed.\n",
      "-> [64/241] Image processed.\n",
      "-> [65/241] Image processed.\n",
      "-> [66/241] Image processed.\n",
      "-> [67/241] Image processed.\n",
      "-> [68/241] Image processed.\n",
      "-> [69/241] Image processed.\n",
      "-> [70/241] Image processed.\n",
      "-> [71/241] Image processed.\n",
      "-> [72/241] Image processed.\n",
      "-> [73/241] Image processed.\n",
      "-> [74/241] Image processed.\n",
      "-> [75/241] Image processed.\n",
      "-> [76/241] Image processed.\n",
      "-> [77/241] Image processed.\n",
      "-> [78/241] Image processed.\n",
      "-> [79/241] Image processed.\n",
      "-> [80/241] Image processed.\n",
      "-> [81/241] Image processed.\n",
      "-> [82/241] Image processed.\n",
      "-> [83/241] Image processed.\n",
      "-> [84/241] Image processed.\n",
      "-> [85/241] Image processed.\n",
      "-> [86/241] Image processed.\n",
      "-> [87/241] Image processed.\n",
      "-> [88/241] Image processed.\n",
      "-> [89/241] Image processed.\n",
      "-> [90/241] Image processed.\n",
      "-> [91/241] Image processed.\n",
      "-> [92/241] Image processed.\n",
      "-> [93/241] Image processed.\n",
      "-> [94/241] Image processed.\n",
      "-> [95/241] Image processed.\n",
      "-> [96/241] Image processed.\n",
      "-> [97/241] Image processed.\n",
      "-> [98/241] Image processed.\n",
      "-> [99/241] Image processed.\n",
      "-> [100/241] Image processed.\n",
      "-> [101/241] Image processed.\n",
      "-> [102/241] Image processed.\n",
      "-> [103/241] Image processed.\n",
      "-> [104/241] Image processed.\n",
      "-> [105/241] Image processed.\n",
      "-> [106/241] Image processed.\n",
      "-> [107/241] Image processed.\n",
      "-> [108/241] Image processed.\n",
      "-> [109/241] Image processed.\n",
      "-> [110/241] Image processed.\n",
      "-> [111/241] Image processed.\n",
      "-> [112/241] Image processed.\n",
      "-> [113/241] Image processed.\n",
      "-> [114/241] Image processed.\n",
      "-> [115/241] Image processed.\n",
      "-> [116/241] Image processed.\n",
      "-> [117/241] Image processed.\n",
      "-> [118/241] Image processed.\n",
      "-> [119/241] Image processed.\n",
      "-> [120/241] Image processed.\n",
      "-> [121/241] Image processed.\n",
      "-> [122/241] Image processed.\n",
      "-> [123/241] Image processed.\n",
      "-> [124/241] Image processed.\n",
      "-> [125/241] Image processed.\n",
      "-> [126/241] Image processed.\n",
      "-> [127/241] Image processed.\n",
      "-> [128/241] Image processed.\n",
      "-> [129/241] Image processed.\n",
      "-> [130/241] Image processed.\n",
      "-> [131/241] Image processed.\n",
      "-> [132/241] Image processed.\n",
      "-> [133/241] Image processed.\n",
      "-> [134/241] Image processed.\n",
      "-> [135/241] Image processed.\n",
      "-> [136/241] Image processed.\n",
      "-> [137/241] Image processed.\n",
      "-> [138/241] Image processed.\n",
      "-> [139/241] Image processed.\n",
      "-> [140/241] Image processed.\n",
      "-> [141/241] Image processed.\n",
      "-> [142/241] Image processed.\n",
      "-> [143/241] Image processed.\n",
      "-> [144/241] Image processed.\n",
      "-> [145/241] Image processed.\n",
      "-> [146/241] Image processed.\n",
      "-> [147/241] Image processed.\n",
      "-> [148/241] Image processed.\n",
      "-> [149/241] Image processed.\n",
      "-> [150/241] Image processed.\n",
      "-> [151/241] Image processed.\n",
      "-> [152/241] Image processed.\n",
      "-> [153/241] Image processed.\n",
      "-> [154/241] Image processed.\n",
      "-> [155/241] Image processed.\n",
      "-> [156/241] Image processed.\n",
      "-> [157/241] Image processed.\n",
      "-> [158/241] Image processed.\n",
      "-> [159/241] Image processed.\n",
      "-> [160/241] Image processed.\n",
      "-> [161/241] Image processed.\n",
      "-> [162/241] Image processed.\n",
      "-> [163/241] Image processed.\n",
      "-> [164/241] Image processed.\n",
      "-> [165/241] Image processed.\n",
      "-> [166/241] Image processed.\n",
      "-> [167/241] Image processed.\n",
      "-> [168/241] Image processed.\n",
      "-> [169/241] Image processed.\n",
      "-> [170/241] Image processed.\n",
      "-> [171/241] Image processed.\n",
      "-> [172/241] Image processed.\n",
      "-> [173/241] Image processed.\n",
      "-> [174/241] Image processed.\n",
      "-> [175/241] Image processed.\n",
      "-> [176/241] Image processed.\n",
      "-> [177/241] Image processed.\n",
      "-> [178/241] Image processed.\n",
      "-> [179/241] Image processed.\n",
      "-> [180/241] Image processed.\n",
      "-> [181/241] Image processed.\n",
      "-> [182/241] Image processed.\n",
      "-> [183/241] Image processed.\n",
      "-> [184/241] Image processed.\n",
      "-> [185/241] Image processed.\n",
      "-> [186/241] Image processed.\n",
      "-> [187/241] Image processed.\n",
      "-> [188/241] Image processed.\n",
      "-> [189/241] Image processed.\n",
      "-> [190/241] Image processed.\n",
      "-> [191/241] Image processed.\n",
      "-> [192/241] Image processed.\n",
      "-> [193/241] Image processed.\n",
      "-> [194/241] Image processed.\n",
      "-> [195/241] Image processed.\n",
      "-> [196/241] Image processed.\n",
      "-> [197/241] Image processed.\n",
      "-> [198/241] Image processed.\n",
      "-> [199/241] Image processed.\n",
      "-> [200/241] Image processed.\n",
      "-> [201/241] Image processed.\n",
      "-> [202/241] Image processed.\n",
      "-> [203/241] Image processed.\n",
      "-> [204/241] Image processed.\n",
      "-> [205/241] Image processed.\n",
      "-> [206/241] Image processed.\n",
      "-> [207/241] Image processed.\n",
      "-> [208/241] Image processed.\n",
      "-> [209/241] Image processed.\n",
      "-> [210/241] Image processed.\n",
      "-> [211/241] Image processed.\n",
      "-> [212/241] Image processed.\n",
      "-> [213/241] Image processed.\n",
      "-> [214/241] Image processed.\n",
      "-> [215/241] Image processed.\n",
      "-> [216/241] Image processed.\n",
      "-> [217/241] Image processed.\n",
      "-> [218/241] Image processed.\n",
      "-> [219/241] Image processed.\n",
      "-> [220/241] Image processed.\n",
      "-> [221/241] Image processed.\n",
      "-> [222/241] Image processed.\n",
      "-> [223/241] Image processed.\n",
      "-> [224/241] Image processed.\n",
      "-> [225/241] Image processed.\n",
      "-> [226/241] Image processed.\n",
      "-> [227/241] Image processed.\n",
      "-> [228/241] Image processed.\n",
      "-> [229/241] Image processed.\n",
      "-> [230/241] Image processed.\n",
      "-> [231/241] Image processed.\n",
      "-> [232/241] Image processed.\n",
      "-> [233/241] Image processed.\n"
     ]
    },
    {
     "name": "stderr",
     "output_type": "stream",
     "text": [
      "C:\\Users\\josie\\AppData\\Local\\Temp/ipykernel_12260/2852190984.py:9: RuntimeWarning: invalid value encountered in true_divide\n",
      "  arr = arr / arr.max()\n"
     ]
    },
    {
     "name": "stdout",
     "output_type": "stream",
     "text": [
      "-> [234/241] Image processed.\n",
      "-> [235/241] Image processed.\n",
      "-> [236/241] Image processed.\n",
      "-> [237/241] Image processed.\n",
      "-> [238/241] Image processed.\n",
      "-> [239/241] Image processed.\n",
      "-> [240/241] Image processed.\n",
      "-> [241/241] Image processed.\n"
     ]
    }
   ],
   "source": [
    "X_3d_train, y_3d_train = get_slices_per_group_3d(X_train, y_train)"
   ]
  },
  {
   "cell_type": "code",
   "execution_count": 26,
   "metadata": {},
   "outputs": [
    {
     "name": "stdout",
     "output_type": "stream",
     "text": [
      "-> [1/61] Image processed.\n",
      "-> [2/61] Image processed.\n",
      "-> [3/61] Image processed.\n",
      "-> [4/61] Image processed.\n",
      "-> [5/61] Image processed.\n",
      "-> [6/61] Image processed.\n",
      "-> [7/61] Image processed.\n",
      "-> [8/61] Image processed.\n",
      "-> [9/61] Image processed.\n",
      "-> [10/61] Image processed.\n",
      "-> [11/61] Image processed.\n",
      "-> [12/61] Image processed.\n",
      "-> [13/61] Image processed.\n",
      "-> [14/61] Image processed.\n",
      "-> [15/61] Image processed.\n",
      "-> [16/61] Image processed.\n",
      "-> [17/61] Image processed.\n",
      "-> [18/61] Image processed.\n",
      "-> [19/61] Image processed.\n",
      "-> [20/61] Image processed.\n",
      "-> [21/61] Image processed.\n",
      "-> [22/61] Image processed.\n",
      "-> [23/61] Image processed.\n",
      "-> [24/61] Image processed.\n",
      "-> [25/61] Image processed.\n",
      "-> [26/61] Image processed.\n",
      "-> [27/61] Image processed.\n",
      "-> [28/61] Image processed.\n",
      "-> [29/61] Image processed.\n",
      "-> [30/61] Image processed.\n",
      "-> [31/61] Image processed.\n",
      "-> [32/61] Image processed.\n",
      "-> [33/61] Image processed.\n",
      "-> [34/61] Image processed.\n",
      "-> [35/61] Image processed.\n",
      "-> [36/61] Image processed.\n",
      "-> [37/61] Image processed.\n",
      "-> [38/61] Image processed.\n",
      "-> [39/61] Image processed.\n",
      "-> [40/61] Image processed.\n",
      "-> [41/61] Image processed.\n",
      "-> [42/61] Image processed.\n",
      "-> [43/61] Image processed.\n",
      "-> [44/61] Image processed.\n",
      "-> [45/61] Image processed.\n",
      "-> [46/61] Image processed.\n",
      "-> [47/61] Image processed.\n",
      "-> [48/61] Image processed.\n",
      "-> [49/61] Image processed.\n",
      "-> [50/61] Image processed.\n",
      "-> [51/61] Image processed.\n",
      "-> [52/61] Image processed.\n",
      "-> [53/61] Image processed.\n",
      "-> [54/61] Image processed.\n",
      "-> [55/61] Image processed.\n",
      "-> [56/61] Image processed.\n",
      "-> [57/61] Image processed.\n",
      "-> [58/61] Image processed.\n",
      "-> [59/61] Image processed.\n",
      "-> [60/61] Image processed.\n",
      "-> [61/61] Image processed.\n"
     ]
    }
   ],
   "source": [
    "X_3d_test, y_3d_test = get_slices_per_group_3d(X_test, y_test)"
   ]
  },
  {
   "cell_type": "code",
   "execution_count": 27,
   "metadata": {},
   "outputs": [
    {
     "name": "stdout",
     "output_type": "stream",
     "text": [
      "Train: (241, 32, 180, 180, 1) 241\n",
      "Test: (61, 32, 180, 180, 1) 61\n"
     ]
    }
   ],
   "source": [
    "print(\"Train:\",X_3d_train.shape, len(y_3d_train))\n",
    "print(\"Test:\",X_3d_test.shape, len(y_3d_test))"
   ]
  },
  {
   "cell_type": "markdown",
   "metadata": {},
   "source": [
    "### VGG19 "
   ]
  },
  {
   "cell_type": "code",
   "execution_count": 28,
   "metadata": {},
   "outputs": [],
   "source": [
    "import keras\n",
    "from keras.models import Sequential\n",
    "from keras.layers import Dense, Conv3D, MaxPool3D , Flatten\n",
    "from keras.preprocessing.image import ImageDataGenerator\n",
    "from keras.layers import Dropout\n",
    "from keras.callbacks import ModelCheckpoint, EarlyStopping\n",
    "import tensorflow as tf"
   ]
  },
  {
   "cell_type": "code",
   "execution_count": 29,
   "metadata": {},
   "outputs": [
    {
     "name": "stdout",
     "output_type": "stream",
     "text": [
      "Model: \"sequential\"\n",
      "_________________________________________________________________\n",
      "Layer (type)                 Output Shape              Param #   \n",
      "=================================================================\n",
      "conv3d (Conv3D)              (None, 32, 120, 120, 20)  560       \n",
      "_________________________________________________________________\n",
      "conv3d_1 (Conv3D)            (None, 32, 120, 120, 64)  34624     \n",
      "_________________________________________________________________\n",
      "dropout (Dropout)            (None, 32, 120, 120, 64)  0         \n",
      "_________________________________________________________________\n",
      "max_pooling3d (MaxPooling3D) (None, 16, 60, 60, 64)    0         \n",
      "_________________________________________________________________\n",
      "conv3d_2 (Conv3D)            (None, 16, 60, 60, 128)   221312    \n",
      "_________________________________________________________________\n",
      "conv3d_3 (Conv3D)            (None, 16, 60, 60, 128)   442496    \n",
      "_________________________________________________________________\n",
      "dropout_1 (Dropout)          (None, 16, 60, 60, 128)   0         \n",
      "_________________________________________________________________\n",
      "max_pooling3d_1 (MaxPooling3 (None, 8, 30, 30, 128)    0         \n",
      "_________________________________________________________________\n",
      "conv3d_4 (Conv3D)            (None, 8, 30, 30, 256)    884992    \n",
      "_________________________________________________________________\n",
      "conv3d_5 (Conv3D)            (None, 8, 30, 30, 256)    1769728   \n",
      "_________________________________________________________________\n",
      "conv3d_6 (Conv3D)            (None, 8, 30, 30, 256)    1769728   \n",
      "_________________________________________________________________\n",
      "conv3d_7 (Conv3D)            (None, 8, 30, 30, 256)    1769728   \n",
      "_________________________________________________________________\n",
      "dropout_2 (Dropout)          (None, 8, 30, 30, 256)    0         \n",
      "_________________________________________________________________\n",
      "max_pooling3d_2 (MaxPooling3 (None, 4, 15, 15, 256)    0         \n",
      "_________________________________________________________________\n",
      "conv3d_8 (Conv3D)            (None, 4, 15, 15, 512)    3539456   \n",
      "_________________________________________________________________\n",
      "conv3d_9 (Conv3D)            (None, 4, 15, 15, 512)    7078400   \n",
      "_________________________________________________________________\n",
      "conv3d_10 (Conv3D)           (None, 4, 15, 15, 512)    7078400   \n",
      "_________________________________________________________________\n",
      "conv3d_11 (Conv3D)           (None, 4, 15, 15, 512)    7078400   \n",
      "_________________________________________________________________\n",
      "dropout_3 (Dropout)          (None, 4, 15, 15, 512)    0         \n",
      "_________________________________________________________________\n",
      "max_pooling3d_3 (MaxPooling3 (None, 2, 7, 7, 512)      0         \n",
      "_________________________________________________________________\n",
      "conv3d_12 (Conv3D)           (None, 2, 7, 7, 512)      7078400   \n",
      "_________________________________________________________________\n",
      "conv3d_13 (Conv3D)           (None, 2, 7, 7, 512)      7078400   \n",
      "_________________________________________________________________\n",
      "conv3d_14 (Conv3D)           (None, 2, 7, 7, 512)      7078400   \n",
      "_________________________________________________________________\n",
      "conv3d_15 (Conv3D)           (None, 2, 7, 7, 512)      7078400   \n",
      "_________________________________________________________________\n",
      "dropout_4 (Dropout)          (None, 2, 7, 7, 512)      0         \n",
      "_________________________________________________________________\n",
      "max_pooling3d_4 (MaxPooling3 (None, 1, 3, 3, 512)      0         \n",
      "_________________________________________________________________\n",
      "flatten (Flatten)            (None, 4608)              0         \n",
      "_________________________________________________________________\n",
      "dense (Dense)                (None, 4096)              18878464  \n",
      "_________________________________________________________________\n",
      "dense_1 (Dense)              (None, 4096)              16781312  \n",
      "_________________________________________________________________\n",
      "dense_2 (Dense)              (None, 1000)              4097000   \n",
      "_________________________________________________________________\n",
      "dense_3 (Dense)              (None, 1)                 1001      \n",
      "=================================================================\n",
      "Total params: 99,739,201\n",
      "Trainable params: 99,739,201\n",
      "Non-trainable params: 0\n",
      "_________________________________________________________________\n",
      "None\n"
     ]
    }
   ],
   "source": [
    "model = Sequential()\n",
    "model.add(Conv3D(input_shape=(32,120,120,1),filters=20,kernel_size=3,padding=\"same\", activation=\"relu\"))\n",
    "model.add(Conv3D(filters=64,kernel_size=3,padding=\"same\", activation=\"relu\"))\n",
    "model.add(Dropout(0.4))\n",
    "model.add(MaxPool3D(pool_size=2,strides=(2,2,2)))\n",
    "model.add(Conv3D(filters=128, kernel_size=3, padding=\"same\", activation=\"relu\"))\n",
    "model.add(Conv3D(filters=128, kernel_size=3, padding=\"same\", activation=\"relu\"))\n",
    "model.add(Dropout(0.6))\n",
    "model.add(MaxPool3D(pool_size=2,strides=(2,2,2)))\n",
    "model.add(Conv3D(filters=256, kernel_size=3, padding=\"same\", activation=\"relu\"))\n",
    "model.add(Conv3D(filters=256, kernel_size=3, padding=\"same\", activation=\"relu\"))\n",
    "model.add(Conv3D(filters=256, kernel_size=3, padding=\"same\", activation=\"relu\"))\n",
    "model.add(Conv3D(filters=256, kernel_size=3, padding=\"same\", activation=\"relu\"))\n",
    "model.add(Dropout(0.8))\n",
    "model.add(MaxPool3D(pool_size=2,strides=(2,2,2)))\n",
    "model.add(Conv3D(filters=512, kernel_size=3, padding=\"same\", activation=\"relu\"))\n",
    "model.add(Conv3D(filters=512, kernel_size=3, padding=\"same\", activation=\"relu\"))\n",
    "model.add(Conv3D(filters=512, kernel_size=3, padding=\"same\", activation=\"relu\"))\n",
    "model.add(Conv3D(filters=512, kernel_size=3, padding=\"same\", activation=\"relu\"))\n",
    "model.add(Dropout(0.8))\n",
    "model.add(MaxPool3D(pool_size=2,strides=(2,2,2)))\n",
    "model.add(Conv3D(filters=512, kernel_size=3, padding=\"same\", activation=\"relu\"))\n",
    "model.add(Conv3D(filters=512, kernel_size=3, padding=\"same\", activation=\"relu\"))\n",
    "model.add(Conv3D(filters=512, kernel_size=3, padding=\"same\", activation=\"relu\"))\n",
    "model.add(Conv3D(filters=512, kernel_size=3, padding=\"same\", activation=\"relu\"))\n",
    "model.add(Dropout(0.4))\n",
    "model.add(MaxPool3D(pool_size=2,strides=(2,2,2)))\n",
    "\n",
    "#Dense layer\n",
    "model.add(Flatten())\n",
    "model.add(Dense(units=4096,activation=\"relu\"))\n",
    "model.add(Dense(units=4096,activation=\"relu\"))\n",
    "model.add(Dense(units=1000,activation=\"relu\"))\n",
    "model.add(Dense(1, activation=\"softmax\"))\n",
    "\n",
    "model.compile(optimizer='adam', loss=keras.losses.binary_crossentropy, metrics=['accuracy'])\n",
    "\n",
    "print(model.summary())"
   ]
  },
  {
   "cell_type": "code",
   "execution_count": 30,
   "metadata": {},
   "outputs": [
    {
     "name": "stdout",
     "output_type": "stream",
     "text": [
      "WARNING:tensorflow:`period` argument is deprecated. Please use `save_freq` to specify the frequency in number of batches seen.\n"
     ]
    }
   ],
   "source": [
    "checkpoint = ModelCheckpoint(\"vgg19_3d.h5\", monitor='val_accuracy', verbose=1, save_best_only=True, save_weights_only=False, mode='auto', period=1)\n",
    "early = EarlyStopping(monitor='val_acc', min_delta=0, patience=20, verbose=1, mode='auto')\n",
    "#fit_generator(steps_per_epoch=1,generator=traindata, validation_data= testdata, validation_steps=1,epochs=50,callbacks=[checkpoint])\n",
    "# hist = model.fit(traindata, testdata, batch_size=10, epochs=20, verbose=0, shuffle=True,validation_split=0.2,callbacks=[checkpoint])"
   ]
  },
  {
   "cell_type": "code",
   "execution_count": 31,
   "metadata": {},
   "outputs": [
    {
     "name": "stdout",
     "output_type": "stream",
     "text": [
      "Epoch 1/10\n",
      "WARNING:tensorflow:Model was constructed with shape (None, 32, 120, 120, 1) for input KerasTensor(type_spec=TensorSpec(shape=(None, 32, 120, 120, 1), dtype=tf.float32, name='conv3d_input'), name='conv3d_input', description=\"created by layer 'conv3d_input'\"), but it was called on an input with incompatible shape (None, 32, 180, 180, 1).\n"
     ]
    },
    {
     "ename": "ValueError",
     "evalue": "in user code:\n\n    c:\\python39\\lib\\site-packages\\keras\\engine\\training.py:853 train_function  *\n        return step_function(self, iterator)\n    c:\\python39\\lib\\site-packages\\keras\\engine\\training.py:842 step_function  **\n        outputs = model.distribute_strategy.run(run_step, args=(data,))\n    c:\\python39\\lib\\site-packages\\tensorflow\\python\\distribute\\distribute_lib.py:1286 run\n        return self._extended.call_for_each_replica(fn, args=args, kwargs=kwargs)\n    c:\\python39\\lib\\site-packages\\tensorflow\\python\\distribute\\distribute_lib.py:2849 call_for_each_replica\n        return self._call_for_each_replica(fn, args, kwargs)\n    c:\\python39\\lib\\site-packages\\tensorflow\\python\\distribute\\distribute_lib.py:3632 _call_for_each_replica\n        return fn(*args, **kwargs)\n    c:\\python39\\lib\\site-packages\\keras\\engine\\training.py:835 run_step  **\n        outputs = model.train_step(data)\n    c:\\python39\\lib\\site-packages\\keras\\engine\\training.py:787 train_step\n        y_pred = self(x, training=True)\n    c:\\python39\\lib\\site-packages\\keras\\engine\\base_layer.py:1037 __call__\n        outputs = call_fn(inputs, *args, **kwargs)\n    c:\\python39\\lib\\site-packages\\keras\\engine\\sequential.py:369 call\n        return super(Sequential, self).call(inputs, training=training, mask=mask)\n    c:\\python39\\lib\\site-packages\\keras\\engine\\functional.py:414 call\n        return self._run_internal_graph(\n    c:\\python39\\lib\\site-packages\\keras\\engine\\functional.py:550 _run_internal_graph\n        outputs = node.layer(*args, **kwargs)\n    c:\\python39\\lib\\site-packages\\keras\\engine\\base_layer.py:1020 __call__\n        input_spec.assert_input_compatibility(self.input_spec, inputs, self.name)\n    c:\\python39\\lib\\site-packages\\keras\\engine\\input_spec.py:250 assert_input_compatibility\n        raise ValueError(\n\n    ValueError: Input 0 of layer dense is incompatible with the layer: expected axis -1 of input shape to have value 4608 but received input with shape (None, 12800)\n",
     "output_type": "error",
     "traceback": [
      "\u001b[1;31m---------------------------------------------------------------------------\u001b[0m",
      "\u001b[1;31mValueError\u001b[0m                                Traceback (most recent call last)",
      "\u001b[1;32m~\\AppData\\Local\\Temp/ipykernel_12260/3070450791.py\u001b[0m in \u001b[0;36m<module>\u001b[1;34m\u001b[0m\n\u001b[1;32m----> 1\u001b[1;33m \u001b[0mhist\u001b[0m \u001b[1;33m=\u001b[0m \u001b[0mmodel\u001b[0m\u001b[1;33m.\u001b[0m\u001b[0mfit\u001b[0m\u001b[1;33m(\u001b[0m\u001b[0mX_3d_train\u001b[0m\u001b[1;33m,\u001b[0m \u001b[0my_3d_train\u001b[0m\u001b[1;33m,\u001b[0m \u001b[0mbatch_size\u001b[0m\u001b[1;33m=\u001b[0m\u001b[1;36m10\u001b[0m\u001b[1;33m,\u001b[0m\u001b[0mepochs\u001b[0m\u001b[1;33m=\u001b[0m\u001b[1;36m10\u001b[0m\u001b[1;33m,\u001b[0m\u001b[0mvalidation_split\u001b[0m\u001b[1;33m=\u001b[0m\u001b[1;36m0.2\u001b[0m\u001b[1;33m,\u001b[0m \u001b[0mcallbacks\u001b[0m\u001b[1;33m=\u001b[0m\u001b[1;33m[\u001b[0m\u001b[0mcheckpoint\u001b[0m\u001b[1;33m]\u001b[0m\u001b[1;33m)\u001b[0m\u001b[1;33m\u001b[0m\u001b[1;33m\u001b[0m\u001b[0m\n\u001b[0m",
      "\u001b[1;32mc:\\python39\\lib\\site-packages\\keras\\engine\\training.py\u001b[0m in \u001b[0;36mfit\u001b[1;34m(self, x, y, batch_size, epochs, verbose, callbacks, validation_split, validation_data, shuffle, class_weight, sample_weight, initial_epoch, steps_per_epoch, validation_steps, validation_batch_size, validation_freq, max_queue_size, workers, use_multiprocessing)\u001b[0m\n\u001b[0;32m   1182\u001b[0m                 _r=1):\n\u001b[0;32m   1183\u001b[0m               \u001b[0mcallbacks\u001b[0m\u001b[1;33m.\u001b[0m\u001b[0mon_train_batch_begin\u001b[0m\u001b[1;33m(\u001b[0m\u001b[0mstep\u001b[0m\u001b[1;33m)\u001b[0m\u001b[1;33m\u001b[0m\u001b[1;33m\u001b[0m\u001b[0m\n\u001b[1;32m-> 1184\u001b[1;33m               \u001b[0mtmp_logs\u001b[0m \u001b[1;33m=\u001b[0m \u001b[0mself\u001b[0m\u001b[1;33m.\u001b[0m\u001b[0mtrain_function\u001b[0m\u001b[1;33m(\u001b[0m\u001b[0miterator\u001b[0m\u001b[1;33m)\u001b[0m\u001b[1;33m\u001b[0m\u001b[1;33m\u001b[0m\u001b[0m\n\u001b[0m\u001b[0;32m   1185\u001b[0m               \u001b[1;32mif\u001b[0m \u001b[0mdata_handler\u001b[0m\u001b[1;33m.\u001b[0m\u001b[0mshould_sync\u001b[0m\u001b[1;33m:\u001b[0m\u001b[1;33m\u001b[0m\u001b[1;33m\u001b[0m\u001b[0m\n\u001b[0;32m   1186\u001b[0m                 \u001b[0mcontext\u001b[0m\u001b[1;33m.\u001b[0m\u001b[0masync_wait\u001b[0m\u001b[1;33m(\u001b[0m\u001b[1;33m)\u001b[0m\u001b[1;33m\u001b[0m\u001b[1;33m\u001b[0m\u001b[0m\n",
      "\u001b[1;32mc:\\python39\\lib\\site-packages\\tensorflow\\python\\eager\\def_function.py\u001b[0m in \u001b[0;36m__call__\u001b[1;34m(self, *args, **kwds)\u001b[0m\n\u001b[0;32m    883\u001b[0m \u001b[1;33m\u001b[0m\u001b[0m\n\u001b[0;32m    884\u001b[0m       \u001b[1;32mwith\u001b[0m \u001b[0mOptionalXlaContext\u001b[0m\u001b[1;33m(\u001b[0m\u001b[0mself\u001b[0m\u001b[1;33m.\u001b[0m\u001b[0m_jit_compile\u001b[0m\u001b[1;33m)\u001b[0m\u001b[1;33m:\u001b[0m\u001b[1;33m\u001b[0m\u001b[1;33m\u001b[0m\u001b[0m\n\u001b[1;32m--> 885\u001b[1;33m         \u001b[0mresult\u001b[0m \u001b[1;33m=\u001b[0m \u001b[0mself\u001b[0m\u001b[1;33m.\u001b[0m\u001b[0m_call\u001b[0m\u001b[1;33m(\u001b[0m\u001b[1;33m*\u001b[0m\u001b[0margs\u001b[0m\u001b[1;33m,\u001b[0m \u001b[1;33m**\u001b[0m\u001b[0mkwds\u001b[0m\u001b[1;33m)\u001b[0m\u001b[1;33m\u001b[0m\u001b[1;33m\u001b[0m\u001b[0m\n\u001b[0m\u001b[0;32m    886\u001b[0m \u001b[1;33m\u001b[0m\u001b[0m\n\u001b[0;32m    887\u001b[0m       \u001b[0mnew_tracing_count\u001b[0m \u001b[1;33m=\u001b[0m \u001b[0mself\u001b[0m\u001b[1;33m.\u001b[0m\u001b[0mexperimental_get_tracing_count\u001b[0m\u001b[1;33m(\u001b[0m\u001b[1;33m)\u001b[0m\u001b[1;33m\u001b[0m\u001b[1;33m\u001b[0m\u001b[0m\n",
      "\u001b[1;32mc:\\python39\\lib\\site-packages\\tensorflow\\python\\eager\\def_function.py\u001b[0m in \u001b[0;36m_call\u001b[1;34m(self, *args, **kwds)\u001b[0m\n\u001b[0;32m    931\u001b[0m       \u001b[1;31m# This is the first call of __call__, so we have to initialize.\u001b[0m\u001b[1;33m\u001b[0m\u001b[1;33m\u001b[0m\u001b[1;33m\u001b[0m\u001b[0m\n\u001b[0;32m    932\u001b[0m       \u001b[0minitializers\u001b[0m \u001b[1;33m=\u001b[0m \u001b[1;33m[\u001b[0m\u001b[1;33m]\u001b[0m\u001b[1;33m\u001b[0m\u001b[1;33m\u001b[0m\u001b[0m\n\u001b[1;32m--> 933\u001b[1;33m       \u001b[0mself\u001b[0m\u001b[1;33m.\u001b[0m\u001b[0m_initialize\u001b[0m\u001b[1;33m(\u001b[0m\u001b[0margs\u001b[0m\u001b[1;33m,\u001b[0m \u001b[0mkwds\u001b[0m\u001b[1;33m,\u001b[0m \u001b[0madd_initializers_to\u001b[0m\u001b[1;33m=\u001b[0m\u001b[0minitializers\u001b[0m\u001b[1;33m)\u001b[0m\u001b[1;33m\u001b[0m\u001b[1;33m\u001b[0m\u001b[0m\n\u001b[0m\u001b[0;32m    934\u001b[0m     \u001b[1;32mfinally\u001b[0m\u001b[1;33m:\u001b[0m\u001b[1;33m\u001b[0m\u001b[1;33m\u001b[0m\u001b[0m\n\u001b[0;32m    935\u001b[0m       \u001b[1;31m# At this point we know that the initialization is complete (or less\u001b[0m\u001b[1;33m\u001b[0m\u001b[1;33m\u001b[0m\u001b[1;33m\u001b[0m\u001b[0m\n",
      "\u001b[1;32mc:\\python39\\lib\\site-packages\\tensorflow\\python\\eager\\def_function.py\u001b[0m in \u001b[0;36m_initialize\u001b[1;34m(self, args, kwds, add_initializers_to)\u001b[0m\n\u001b[0;32m    757\u001b[0m     \u001b[0mself\u001b[0m\u001b[1;33m.\u001b[0m\u001b[0m_graph_deleter\u001b[0m \u001b[1;33m=\u001b[0m \u001b[0mFunctionDeleter\u001b[0m\u001b[1;33m(\u001b[0m\u001b[0mself\u001b[0m\u001b[1;33m.\u001b[0m\u001b[0m_lifted_initializer_graph\u001b[0m\u001b[1;33m)\u001b[0m\u001b[1;33m\u001b[0m\u001b[1;33m\u001b[0m\u001b[0m\n\u001b[0;32m    758\u001b[0m     self._concrete_stateful_fn = (\n\u001b[1;32m--> 759\u001b[1;33m         self._stateful_fn._get_concrete_function_internal_garbage_collected(  # pylint: disable=protected-access\n\u001b[0m\u001b[0;32m    760\u001b[0m             *args, **kwds))\n\u001b[0;32m    761\u001b[0m \u001b[1;33m\u001b[0m\u001b[0m\n",
      "\u001b[1;32mc:\\python39\\lib\\site-packages\\tensorflow\\python\\eager\\function.py\u001b[0m in \u001b[0;36m_get_concrete_function_internal_garbage_collected\u001b[1;34m(self, *args, **kwargs)\u001b[0m\n\u001b[0;32m   3064\u001b[0m       \u001b[0margs\u001b[0m\u001b[1;33m,\u001b[0m \u001b[0mkwargs\u001b[0m \u001b[1;33m=\u001b[0m \u001b[1;32mNone\u001b[0m\u001b[1;33m,\u001b[0m \u001b[1;32mNone\u001b[0m\u001b[1;33m\u001b[0m\u001b[1;33m\u001b[0m\u001b[0m\n\u001b[0;32m   3065\u001b[0m     \u001b[1;32mwith\u001b[0m \u001b[0mself\u001b[0m\u001b[1;33m.\u001b[0m\u001b[0m_lock\u001b[0m\u001b[1;33m:\u001b[0m\u001b[1;33m\u001b[0m\u001b[1;33m\u001b[0m\u001b[0m\n\u001b[1;32m-> 3066\u001b[1;33m       \u001b[0mgraph_function\u001b[0m\u001b[1;33m,\u001b[0m \u001b[0m_\u001b[0m \u001b[1;33m=\u001b[0m \u001b[0mself\u001b[0m\u001b[1;33m.\u001b[0m\u001b[0m_maybe_define_function\u001b[0m\u001b[1;33m(\u001b[0m\u001b[0margs\u001b[0m\u001b[1;33m,\u001b[0m \u001b[0mkwargs\u001b[0m\u001b[1;33m)\u001b[0m\u001b[1;33m\u001b[0m\u001b[1;33m\u001b[0m\u001b[0m\n\u001b[0m\u001b[0;32m   3067\u001b[0m     \u001b[1;32mreturn\u001b[0m \u001b[0mgraph_function\u001b[0m\u001b[1;33m\u001b[0m\u001b[1;33m\u001b[0m\u001b[0m\n\u001b[0;32m   3068\u001b[0m \u001b[1;33m\u001b[0m\u001b[0m\n",
      "\u001b[1;32mc:\\python39\\lib\\site-packages\\tensorflow\\python\\eager\\function.py\u001b[0m in \u001b[0;36m_maybe_define_function\u001b[1;34m(self, args, kwargs)\u001b[0m\n\u001b[0;32m   3461\u001b[0m \u001b[1;33m\u001b[0m\u001b[0m\n\u001b[0;32m   3462\u001b[0m           \u001b[0mself\u001b[0m\u001b[1;33m.\u001b[0m\u001b[0m_function_cache\u001b[0m\u001b[1;33m.\u001b[0m\u001b[0mmissed\u001b[0m\u001b[1;33m.\u001b[0m\u001b[0madd\u001b[0m\u001b[1;33m(\u001b[0m\u001b[0mcall_context_key\u001b[0m\u001b[1;33m)\u001b[0m\u001b[1;33m\u001b[0m\u001b[1;33m\u001b[0m\u001b[0m\n\u001b[1;32m-> 3463\u001b[1;33m           \u001b[0mgraph_function\u001b[0m \u001b[1;33m=\u001b[0m \u001b[0mself\u001b[0m\u001b[1;33m.\u001b[0m\u001b[0m_create_graph_function\u001b[0m\u001b[1;33m(\u001b[0m\u001b[0margs\u001b[0m\u001b[1;33m,\u001b[0m \u001b[0mkwargs\u001b[0m\u001b[1;33m)\u001b[0m\u001b[1;33m\u001b[0m\u001b[1;33m\u001b[0m\u001b[0m\n\u001b[0m\u001b[0;32m   3464\u001b[0m           \u001b[0mself\u001b[0m\u001b[1;33m.\u001b[0m\u001b[0m_function_cache\u001b[0m\u001b[1;33m.\u001b[0m\u001b[0mprimary\u001b[0m\u001b[1;33m[\u001b[0m\u001b[0mcache_key\u001b[0m\u001b[1;33m]\u001b[0m \u001b[1;33m=\u001b[0m \u001b[0mgraph_function\u001b[0m\u001b[1;33m\u001b[0m\u001b[1;33m\u001b[0m\u001b[0m\n\u001b[0;32m   3465\u001b[0m \u001b[1;33m\u001b[0m\u001b[0m\n",
      "\u001b[1;32mc:\\python39\\lib\\site-packages\\tensorflow\\python\\eager\\function.py\u001b[0m in \u001b[0;36m_create_graph_function\u001b[1;34m(self, args, kwargs, override_flat_arg_shapes)\u001b[0m\n\u001b[0;32m   3296\u001b[0m     \u001b[0marg_names\u001b[0m \u001b[1;33m=\u001b[0m \u001b[0mbase_arg_names\u001b[0m \u001b[1;33m+\u001b[0m \u001b[0mmissing_arg_names\u001b[0m\u001b[1;33m\u001b[0m\u001b[1;33m\u001b[0m\u001b[0m\n\u001b[0;32m   3297\u001b[0m     graph_function = ConcreteFunction(\n\u001b[1;32m-> 3298\u001b[1;33m         func_graph_module.func_graph_from_py_func(\n\u001b[0m\u001b[0;32m   3299\u001b[0m             \u001b[0mself\u001b[0m\u001b[1;33m.\u001b[0m\u001b[0m_name\u001b[0m\u001b[1;33m,\u001b[0m\u001b[1;33m\u001b[0m\u001b[1;33m\u001b[0m\u001b[0m\n\u001b[0;32m   3300\u001b[0m             \u001b[0mself\u001b[0m\u001b[1;33m.\u001b[0m\u001b[0m_python_function\u001b[0m\u001b[1;33m,\u001b[0m\u001b[1;33m\u001b[0m\u001b[1;33m\u001b[0m\u001b[0m\n",
      "\u001b[1;32mc:\\python39\\lib\\site-packages\\tensorflow\\python\\framework\\func_graph.py\u001b[0m in \u001b[0;36mfunc_graph_from_py_func\u001b[1;34m(name, python_func, args, kwargs, signature, func_graph, autograph, autograph_options, add_control_dependencies, arg_names, op_return_value, collections, capture_by_value, override_flat_arg_shapes, acd_record_initial_resource_uses)\u001b[0m\n\u001b[0;32m   1005\u001b[0m         \u001b[0m_\u001b[0m\u001b[1;33m,\u001b[0m \u001b[0moriginal_func\u001b[0m \u001b[1;33m=\u001b[0m \u001b[0mtf_decorator\u001b[0m\u001b[1;33m.\u001b[0m\u001b[0munwrap\u001b[0m\u001b[1;33m(\u001b[0m\u001b[0mpython_func\u001b[0m\u001b[1;33m)\u001b[0m\u001b[1;33m\u001b[0m\u001b[1;33m\u001b[0m\u001b[0m\n\u001b[0;32m   1006\u001b[0m \u001b[1;33m\u001b[0m\u001b[0m\n\u001b[1;32m-> 1007\u001b[1;33m       \u001b[0mfunc_outputs\u001b[0m \u001b[1;33m=\u001b[0m \u001b[0mpython_func\u001b[0m\u001b[1;33m(\u001b[0m\u001b[1;33m*\u001b[0m\u001b[0mfunc_args\u001b[0m\u001b[1;33m,\u001b[0m \u001b[1;33m**\u001b[0m\u001b[0mfunc_kwargs\u001b[0m\u001b[1;33m)\u001b[0m\u001b[1;33m\u001b[0m\u001b[1;33m\u001b[0m\u001b[0m\n\u001b[0m\u001b[0;32m   1008\u001b[0m \u001b[1;33m\u001b[0m\u001b[0m\n\u001b[0;32m   1009\u001b[0m       \u001b[1;31m# invariant: `func_outputs` contains only Tensors, CompositeTensors,\u001b[0m\u001b[1;33m\u001b[0m\u001b[1;33m\u001b[0m\u001b[1;33m\u001b[0m\u001b[0m\n",
      "\u001b[1;32mc:\\python39\\lib\\site-packages\\tensorflow\\python\\eager\\def_function.py\u001b[0m in \u001b[0;36mwrapped_fn\u001b[1;34m(*args, **kwds)\u001b[0m\n\u001b[0;32m    666\u001b[0m         \u001b[1;31m# the function a weak reference to itself to avoid a reference cycle.\u001b[0m\u001b[1;33m\u001b[0m\u001b[1;33m\u001b[0m\u001b[1;33m\u001b[0m\u001b[0m\n\u001b[0;32m    667\u001b[0m         \u001b[1;32mwith\u001b[0m \u001b[0mOptionalXlaContext\u001b[0m\u001b[1;33m(\u001b[0m\u001b[0mcompile_with_xla\u001b[0m\u001b[1;33m)\u001b[0m\u001b[1;33m:\u001b[0m\u001b[1;33m\u001b[0m\u001b[1;33m\u001b[0m\u001b[0m\n\u001b[1;32m--> 668\u001b[1;33m           \u001b[0mout\u001b[0m \u001b[1;33m=\u001b[0m \u001b[0mweak_wrapped_fn\u001b[0m\u001b[1;33m(\u001b[0m\u001b[1;33m)\u001b[0m\u001b[1;33m.\u001b[0m\u001b[0m__wrapped__\u001b[0m\u001b[1;33m(\u001b[0m\u001b[1;33m*\u001b[0m\u001b[0margs\u001b[0m\u001b[1;33m,\u001b[0m \u001b[1;33m**\u001b[0m\u001b[0mkwds\u001b[0m\u001b[1;33m)\u001b[0m\u001b[1;33m\u001b[0m\u001b[1;33m\u001b[0m\u001b[0m\n\u001b[0m\u001b[0;32m    669\u001b[0m         \u001b[1;32mreturn\u001b[0m \u001b[0mout\u001b[0m\u001b[1;33m\u001b[0m\u001b[1;33m\u001b[0m\u001b[0m\n\u001b[0;32m    670\u001b[0m \u001b[1;33m\u001b[0m\u001b[0m\n",
      "\u001b[1;32mc:\\python39\\lib\\site-packages\\tensorflow\\python\\framework\\func_graph.py\u001b[0m in \u001b[0;36mwrapper\u001b[1;34m(*args, **kwargs)\u001b[0m\n\u001b[0;32m    992\u001b[0m           \u001b[1;32mexcept\u001b[0m \u001b[0mException\u001b[0m \u001b[1;32mas\u001b[0m \u001b[0me\u001b[0m\u001b[1;33m:\u001b[0m  \u001b[1;31m# pylint:disable=broad-except\u001b[0m\u001b[1;33m\u001b[0m\u001b[1;33m\u001b[0m\u001b[0m\n\u001b[0;32m    993\u001b[0m             \u001b[1;32mif\u001b[0m \u001b[0mhasattr\u001b[0m\u001b[1;33m(\u001b[0m\u001b[0me\u001b[0m\u001b[1;33m,\u001b[0m \u001b[1;34m\"ag_error_metadata\"\u001b[0m\u001b[1;33m)\u001b[0m\u001b[1;33m:\u001b[0m\u001b[1;33m\u001b[0m\u001b[1;33m\u001b[0m\u001b[0m\n\u001b[1;32m--> 994\u001b[1;33m               \u001b[1;32mraise\u001b[0m \u001b[0me\u001b[0m\u001b[1;33m.\u001b[0m\u001b[0mag_error_metadata\u001b[0m\u001b[1;33m.\u001b[0m\u001b[0mto_exception\u001b[0m\u001b[1;33m(\u001b[0m\u001b[0me\u001b[0m\u001b[1;33m)\u001b[0m\u001b[1;33m\u001b[0m\u001b[1;33m\u001b[0m\u001b[0m\n\u001b[0m\u001b[0;32m    995\u001b[0m             \u001b[1;32melse\u001b[0m\u001b[1;33m:\u001b[0m\u001b[1;33m\u001b[0m\u001b[1;33m\u001b[0m\u001b[0m\n\u001b[0;32m    996\u001b[0m               \u001b[1;32mraise\u001b[0m\u001b[1;33m\u001b[0m\u001b[1;33m\u001b[0m\u001b[0m\n",
      "\u001b[1;31mValueError\u001b[0m: in user code:\n\n    c:\\python39\\lib\\site-packages\\keras\\engine\\training.py:853 train_function  *\n        return step_function(self, iterator)\n    c:\\python39\\lib\\site-packages\\keras\\engine\\training.py:842 step_function  **\n        outputs = model.distribute_strategy.run(run_step, args=(data,))\n    c:\\python39\\lib\\site-packages\\tensorflow\\python\\distribute\\distribute_lib.py:1286 run\n        return self._extended.call_for_each_replica(fn, args=args, kwargs=kwargs)\n    c:\\python39\\lib\\site-packages\\tensorflow\\python\\distribute\\distribute_lib.py:2849 call_for_each_replica\n        return self._call_for_each_replica(fn, args, kwargs)\n    c:\\python39\\lib\\site-packages\\tensorflow\\python\\distribute\\distribute_lib.py:3632 _call_for_each_replica\n        return fn(*args, **kwargs)\n    c:\\python39\\lib\\site-packages\\keras\\engine\\training.py:835 run_step  **\n        outputs = model.train_step(data)\n    c:\\python39\\lib\\site-packages\\keras\\engine\\training.py:787 train_step\n        y_pred = self(x, training=True)\n    c:\\python39\\lib\\site-packages\\keras\\engine\\base_layer.py:1037 __call__\n        outputs = call_fn(inputs, *args, **kwargs)\n    c:\\python39\\lib\\site-packages\\keras\\engine\\sequential.py:369 call\n        return super(Sequential, self).call(inputs, training=training, mask=mask)\n    c:\\python39\\lib\\site-packages\\keras\\engine\\functional.py:414 call\n        return self._run_internal_graph(\n    c:\\python39\\lib\\site-packages\\keras\\engine\\functional.py:550 _run_internal_graph\n        outputs = node.layer(*args, **kwargs)\n    c:\\python39\\lib\\site-packages\\keras\\engine\\base_layer.py:1020 __call__\n        input_spec.assert_input_compatibility(self.input_spec, inputs, self.name)\n    c:\\python39\\lib\\site-packages\\keras\\engine\\input_spec.py:250 assert_input_compatibility\n        raise ValueError(\n\n    ValueError: Input 0 of layer dense is incompatible with the layer: expected axis -1 of input shape to have value 4608 but received input with shape (None, 12800)\n"
     ]
    }
   ],
   "source": [
    "hist = model.fit(X_3d_train, y_3d_train, batch_size=10,epochs=10,validation_split=0.2, callbacks=[checkpoint])"
   ]
  },
  {
   "cell_type": "code",
   "execution_count": null,
   "metadata": {},
   "outputs": [],
   "source": [
    "import matplotlib.pyplot as plt\n",
    "\n",
    "plt.plot(hist.history[\"accuracy\"])\n",
    "plt.plot(hist.history['val_accuracy'])\n",
    "plt.plot(hist.history['loss'])\n",
    "plt.plot(hist.history['val_loss'])\n",
    "plt.title(\"model accuracy\")\n",
    "plt.ylabel(\"Accuracy\")\n",
    "plt.xlabel(\"Epoch\")\n",
    "plt.legend([\"Accuracy\",\"Validation Accuracy\",\"loss\",\"Validation Loss\"])\n",
    "plt.savefig('3d_graph_13122021.png')"
   ]
  },
  {
   "cell_type": "code",
   "execution_count": null,
   "metadata": {},
   "outputs": [],
   "source": [
    "model.load_weights(\"./vgg19_3d.h5\")\n",
    "test_results = model.evaluate(X_3d_test, y_3d_test)\n",
    "test_results"
   ]
  },
  {
   "cell_type": "markdown",
   "metadata": {
    "id": "TTMlHtqbcTsm"
   },
   "source": [
    "## AXIAL"
   ]
  },
  {
   "cell_type": "code",
   "execution_count": 42,
   "metadata": {
    "colab": {
     "base_uri": "https://localhost:8080/"
    },
    "id": "a6KuVpJFev4t",
    "outputId": "c6f3ceb6-6a1b-437d-c93e-14c47265bf01"
   },
   "outputs": [
    {
     "name": "stdout",
     "output_type": "stream",
     "text": [
      "-> [1/241] Slices processed 31.\n",
      "-> [2/241] Slices processed 62.\n",
      "-> [3/241] Slices processed 90.\n",
      "-> [4/241] Slices processed 119.\n",
      "-> [5/241] Slices processed 149.\n",
      "-> [6/241] Slices processed 180.\n",
      "-> [7/241] Slices processed 205.\n",
      "-> [8/241] Slices processed 236.\n",
      "-> [9/241] Slices processed 262.\n",
      "-> [10/241] Slices processed 290.\n",
      "-> [11/241] Slices processed 321.\n",
      "-> [12/241] Slices processed 352.\n",
      "-> [13/241] Slices processed 383.\n",
      "-> [14/241] Slices processed 414.\n",
      "-> [15/241] Slices processed 444.\n",
      "-> [16/241] Slices processed 472.\n",
      "-> [17/241] Slices processed 503.\n",
      "-> [18/241] Slices processed 534.\n",
      "-> [19/241] Slices processed 564.\n",
      "-> [20/241] Slices processed 594.\n",
      "-> [21/241] Slices processed 625.\n",
      "-> [22/241] Slices processed 656.\n",
      "-> [23/241] Slices processed 683.\n",
      "-> [24/241] Slices processed 713.\n",
      "-> [25/241] Slices processed 743.\n",
      "-> [26/241] Slices processed 774.\n",
      "-> [27/241] Slices processed 804.\n",
      "-> [28/241] Slices processed 832.\n",
      "-> [29/241] Slices processed 863.\n",
      "-> [30/241] Slices processed 891.\n",
      "-> [31/241] Slices processed 921.\n",
      "-> [32/241] Slices processed 952.\n",
      "-> [33/241] Slices processed 978.\n",
      "-> [34/241] Slices processed 1009.\n",
      "-> [35/241] Slices processed 1039.\n",
      "-> [36/241] Slices processed 1070.\n",
      "-> [37/241] Slices processed 1099.\n",
      "-> [38/241] Slices processed 1130.\n",
      "-> [39/241] Slices processed 1159.\n",
      "-> [40/241] Slices processed 1188.\n",
      "-> [41/241] Slices processed 1218.\n",
      "-> [42/241] Slices processed 1246.\n",
      "-> [43/241] Slices processed 1271.\n",
      "-> [44/241] Slices processed 1302.\n",
      "-> [45/241] Slices processed 1332.\n",
      "-> [46/241] Slices processed 1363.\n",
      "-> [47/241] Slices processed 1394.\n",
      "-> [48/241] Slices processed 1424.\n",
      "-> [49/241] Slices processed 1450.\n",
      "-> [50/241] Slices processed 1480.\n",
      "-> [51/241] Slices processed 1510.\n",
      "-> [52/241] Slices processed 1541.\n",
      "-> [53/241] Slices processed 1571.\n",
      "-> [54/241] Slices processed 1599.\n",
      "-> [55/241] Slices processed 1628.\n",
      "-> [56/241] Slices processed 1657.\n",
      "-> [57/241] Slices processed 1686.\n",
      "-> [58/241] Slices processed 1712.\n",
      "-> [59/241] Slices processed 1743.\n",
      "-> [60/241] Slices processed 1772.\n",
      "-> [61/241] Slices processed 1802.\n",
      "-> [62/241] Slices processed 1831.\n",
      "-> [63/241] Slices processed 1862.\n",
      "-> [64/241] Slices processed 1890.\n",
      "-> [65/241] Slices processed 1921.\n",
      "-> [66/241] Slices processed 1952.\n",
      "-> [67/241] Slices processed 1980.\n",
      "-> [68/241] Slices processed 2011.\n",
      "-> [69/241] Slices processed 2042.\n",
      "-> [70/241] Slices processed 2071.\n",
      "-> [71/241] Slices processed 2102.\n",
      "-> [72/241] Slices processed 2128.\n",
      "-> [73/241] Slices processed 2155.\n",
      "-> [74/241] Slices processed 2182.\n",
      "-> [75/241] Slices processed 2213.\n",
      "-> [76/241] Slices processed 2242.\n",
      "-> [77/241] Slices processed 2270.\n",
      "-> [78/241] Slices processed 2301.\n",
      "-> [79/241] Slices processed 2331.\n",
      "-> [80/241] Slices processed 2356.\n",
      "-> [81/241] Slices processed 2384.\n",
      "-> [82/241] Slices processed 2415.\n",
      "-> [83/241] Slices processed 2443.\n",
      "-> [84/241] Slices processed 2473.\n",
      "-> [85/241] Slices processed 2501.\n",
      "-> [86/241] Slices processed 2527.\n",
      "-> [87/241] Slices processed 2555.\n",
      "-> [88/241] Slices processed 2584.\n",
      "-> [89/241] Slices processed 2613.\n",
      "-> [90/241] Slices processed 2643.\n",
      "-> [91/241] Slices processed 2674.\n",
      "-> [92/241] Slices processed 2705.\n",
      "-> [93/241] Slices processed 2735.\n",
      "-> [94/241] Slices processed 2764.\n",
      "-> [95/241] Slices processed 2795.\n",
      "-> [96/241] Slices processed 2826.\n",
      "-> [97/241] Slices processed 2857.\n",
      "-> [98/241] Slices processed 2885.\n",
      "-> [99/241] Slices processed 2915.\n",
      "-> [100/241] Slices processed 2940.\n",
      "-> [101/241] Slices processed 2969.\n",
      "-> [102/241] Slices processed 2995.\n",
      "-> [103/241] Slices processed 3026.\n"
     ]
    },
    {
     "name": "stderr",
     "output_type": "stream",
     "text": [
      "C:\\Users\\josie\\AppData\\Local\\Temp/ipykernel_11436/2714929318.py:9: RuntimeWarning: invalid value encountered in true_divide\n",
      "  arr = arr / arr.max()\n"
     ]
    },
    {
     "name": "stdout",
     "output_type": "stream",
     "text": [
      "-> [104/241] Slices processed 3077.\n",
      "-> [105/241] Slices processed 3101.\n",
      "-> [106/241] Slices processed 3131.\n",
      "-> [107/241] Slices processed 3160.\n",
      "-> [108/241] Slices processed 3191.\n",
      "-> [109/241] Slices processed 3222.\n",
      "-> [110/241] Slices processed 3253.\n",
      "-> [111/241] Slices processed 3284.\n",
      "-> [112/241] Slices processed 3312.\n",
      "-> [113/241] Slices processed 3343.\n",
      "-> [114/241] Slices processed 3369.\n",
      "-> [115/241] Slices processed 3397.\n",
      "-> [116/241] Slices processed 3427.\n",
      "-> [117/241] Slices processed 3457.\n",
      "-> [118/241] Slices processed 3488.\n",
      "-> [119/241] Slices processed 3519.\n",
      "-> [120/241] Slices processed 3548.\n",
      "-> [121/241] Slices processed 3577.\n",
      "-> [122/241] Slices processed 3584.\n",
      "-> [123/241] Slices processed 3615.\n",
      "-> [124/241] Slices processed 3639.\n",
      "-> [125/241] Slices processed 3667.\n",
      "-> [126/241] Slices processed 3693.\n",
      "-> [127/241] Slices processed 3718.\n",
      "-> [128/241] Slices processed 3741.\n",
      "-> [129/241] Slices processed 3769.\n",
      "-> [130/241] Slices processed 3800.\n",
      "-> [131/241] Slices processed 3828.\n",
      "-> [132/241] Slices processed 3858.\n",
      "-> [133/241] Slices processed 3883.\n",
      "-> [134/241] Slices processed 3912.\n",
      "-> [135/241] Slices processed 3942.\n",
      "-> [136/241] Slices processed 3969.\n",
      "-> [137/241] Slices processed 3998.\n",
      "-> [138/241] Slices processed 4029.\n",
      "-> [139/241] Slices processed 4057.\n",
      "-> [140/241] Slices processed 4088.\n",
      "-> [141/241] Slices processed 4116.\n",
      "-> [142/241] Slices processed 4143.\n",
      "-> [143/241] Slices processed 4172.\n",
      "-> [144/241] Slices processed 4199.\n",
      "-> [145/241] Slices processed 4227.\n",
      "-> [146/241] Slices processed 4256.\n",
      "-> [147/241] Slices processed 4286.\n",
      "-> [148/241] Slices processed 4317.\n",
      "-> [149/241] Slices processed 4346.\n",
      "-> [150/241] Slices processed 4374.\n",
      "-> [151/241] Slices processed 4403.\n",
      "-> [152/241] Slices processed 4431.\n",
      "-> [153/241] Slices processed 4459.\n",
      "-> [154/241] Slices processed 4484.\n",
      "-> [155/241] Slices processed 4511.\n",
      "-> [156/241] Slices processed 4536.\n",
      "-> [157/241] Slices processed 4564.\n",
      "-> [158/241] Slices processed 4583.\n",
      "-> [159/241] Slices processed 4612.\n",
      "-> [160/241] Slices processed 4643.\n",
      "-> [161/241] Slices processed 4674.\n",
      "-> [162/241] Slices processed 4705.\n",
      "-> [163/241] Slices processed 4732.\n",
      "-> [164/241] Slices processed 4763.\n",
      "-> [165/241] Slices processed 4794.\n",
      "-> [166/241] Slices processed 4820.\n",
      "-> [167/241] Slices processed 4851.\n",
      "-> [168/241] Slices processed 4879.\n",
      "-> [169/241] Slices processed 4907.\n",
      "-> [170/241] Slices processed 4938.\n",
      "-> [171/241] Slices processed 4969.\n",
      "-> [172/241] Slices processed 5000.\n",
      "-> [173/241] Slices processed 5023.\n",
      "-> [174/241] Slices processed 5054.\n",
      "-> [175/241] Slices processed 5085.\n",
      "-> [176/241] Slices processed 5115.\n",
      "-> [177/241] Slices processed 5141.\n",
      "-> [178/241] Slices processed 5172.\n",
      "-> [179/241] Slices processed 5198.\n",
      "-> [180/241] Slices processed 5228.\n",
      "-> [181/241] Slices processed 5249.\n",
      "-> [182/241] Slices processed 5280.\n",
      "-> [183/241] Slices processed 5311.\n",
      "-> [184/241] Slices processed 5331.\n",
      "-> [185/241] Slices processed 5360.\n",
      "-> [186/241] Slices processed 5389.\n",
      "-> [187/241] Slices processed 5419.\n",
      "-> [188/241] Slices processed 5447.\n",
      "-> [189/241] Slices processed 5478.\n",
      "-> [190/241] Slices processed 5509.\n",
      "-> [191/241] Slices processed 5540.\n",
      "-> [192/241] Slices processed 5568.\n",
      "-> [193/241] Slices processed 5594.\n",
      "-> [194/241] Slices processed 5625.\n",
      "-> [195/241] Slices processed 5653.\n",
      "-> [196/241] Slices processed 5680.\n",
      "-> [197/241] Slices processed 5711.\n",
      "-> [198/241] Slices processed 5737.\n",
      "-> [199/241] Slices processed 5766.\n",
      "-> [200/241] Slices processed 5796.\n",
      "-> [201/241] Slices processed 5824.\n",
      "-> [202/241] Slices processed 5854.\n",
      "-> [203/241] Slices processed 5885.\n",
      "-> [204/241] Slices processed 5913.\n",
      "-> [205/241] Slices processed 5939.\n",
      "-> [206/241] Slices processed 5970.\n",
      "-> [207/241] Slices processed 6000.\n",
      "-> [208/241] Slices processed 6031.\n",
      "-> [209/241] Slices processed 6060.\n",
      "-> [210/241] Slices processed 6087.\n",
      "-> [211/241] Slices processed 6118.\n",
      "-> [212/241] Slices processed 6149.\n",
      "-> [213/241] Slices processed 6151.\n",
      "-> [214/241] Slices processed 6181.\n",
      "-> [215/241] Slices processed 6212.\n",
      "-> [216/241] Slices processed 6243.\n",
      "-> [217/241] Slices processed 6274.\n",
      "-> [218/241] Slices processed 6305.\n",
      "-> [219/241] Slices processed 6336.\n",
      "-> [220/241] Slices processed 6367.\n",
      "-> [221/241] Slices processed 6395.\n",
      "-> [222/241] Slices processed 6426.\n",
      "-> [223/241] Slices processed 6457.\n",
      "-> [224/241] Slices processed 6488.\n",
      "-> [225/241] Slices processed 6519.\n",
      "-> [226/241] Slices processed 6548.\n",
      "-> [227/241] Slices processed 6576.\n",
      "-> [228/241] Slices processed 6605.\n",
      "-> [229/241] Slices processed 6636.\n",
      "-> [230/241] Slices processed 6666.\n",
      "-> [231/241] Slices processed 6695.\n",
      "-> [232/241] Slices processed 6724.\n",
      "-> [233/241] Slices processed 6751.\n",
      "-> [234/241] Slices processed 6777.\n",
      "-> [235/241] Slices processed 6807.\n",
      "-> [236/241] Slices processed 6838.\n",
      "-> [237/241] Slices processed 6869.\n",
      "-> [238/241] Slices processed 6898.\n",
      "-> [239/241] Slices processed 6927.\n",
      "-> [240/241] Slices processed 6958.\n",
      "-> [241/241] Slices processed 6984.\n",
      "-> [1/61] Slices processed 28.\n",
      "-> [2/61] Slices processed 59.\n",
      "-> [3/61] Slices processed 90.\n",
      "-> [4/61] Slices processed 120.\n",
      "-> [5/61] Slices processed 151.\n",
      "-> [6/61] Slices processed 181.\n",
      "-> [7/61] Slices processed 212.\n",
      "-> [8/61] Slices processed 243.\n",
      "-> [9/61] Slices processed 268.\n",
      "-> [10/61] Slices processed 296.\n",
      "-> [11/61] Slices processed 324.\n",
      "-> [12/61] Slices processed 350.\n",
      "-> [13/61] Slices processed 381.\n",
      "-> [14/61] Slices processed 406.\n",
      "-> [15/61] Slices processed 434.\n",
      "-> [16/61] Slices processed 464.\n",
      "-> [17/61] Slices processed 492.\n",
      "-> [18/61] Slices processed 517.\n",
      "-> [19/61] Slices processed 547.\n",
      "-> [20/61] Slices processed 575.\n",
      "-> [21/61] Slices processed 606.\n",
      "-> [22/61] Slices processed 637.\n",
      "-> [23/61] Slices processed 665.\n",
      "-> [24/61] Slices processed 694.\n",
      "-> [25/61] Slices processed 725.\n",
      "-> [26/61] Slices processed 756.\n",
      "-> [27/61] Slices processed 785.\n",
      "-> [28/61] Slices processed 812.\n",
      "-> [29/61] Slices processed 843.\n",
      "-> [30/61] Slices processed 872.\n",
      "-> [31/61] Slices processed 901.\n",
      "-> [32/61] Slices processed 932.\n",
      "-> [33/61] Slices processed 963.\n",
      "-> [34/61] Slices processed 993.\n",
      "-> [35/61] Slices processed 1024.\n",
      "-> [36/61] Slices processed 1055.\n",
      "-> [37/61] Slices processed 1085.\n",
      "-> [38/61] Slices processed 1116.\n",
      "-> [39/61] Slices processed 1147.\n",
      "-> [40/61] Slices processed 1174.\n",
      "-> [41/61] Slices processed 1205.\n",
      "-> [42/61] Slices processed 1236.\n",
      "-> [43/61] Slices processed 1265.\n",
      "-> [44/61] Slices processed 1296.\n",
      "-> [45/61] Slices processed 1323.\n",
      "-> [46/61] Slices processed 1352.\n",
      "-> [47/61] Slices processed 1383.\n",
      "-> [48/61] Slices processed 1411.\n",
      "-> [49/61] Slices processed 1442.\n",
      "-> [50/61] Slices processed 1472.\n",
      "-> [51/61] Slices processed 1503.\n",
      "-> [52/61] Slices processed 1534.\n",
      "-> [53/61] Slices processed 1564.\n",
      "-> [54/61] Slices processed 1595.\n",
      "-> [55/61] Slices processed 1624.\n",
      "-> [56/61] Slices processed 1655.\n",
      "-> [57/61] Slices processed 1683.\n",
      "-> [58/61] Slices processed 1711.\n",
      "-> [59/61] Slices processed 1740.\n",
      "-> [60/61] Slices processed 1764.\n",
      "-> [61/61] Slices processed 1793.\n"
     ]
    }
   ],
   "source": [
    "X_axial_train, y_axial_train = get_slices_per_group_axial(X_train, y_train)\n",
    "X_axial_train = X_axial_train.reshape(-1, X_axial_train.shape[1], X_axial_train.shape[2], 1)\n",
    "\n",
    "X_axial_test, y_axial_test = get_slices_per_group_axial(X_test, y_test)\n",
    "X_axial_test = X_axial_test.reshape(-1, X_axial_train.shape[1], X_axial_train.shape[2], 1)"
   ]
  },
  {
   "cell_type": "code",
   "execution_count": 43,
   "metadata": {
    "colab": {
     "base_uri": "https://localhost:8080/"
    },
    "id": "D-36EzPmfjyA",
    "outputId": "e17efeb8-62c4-49ef-8446-1ec8863ff0fb"
   },
   "outputs": [
    {
     "name": "stdout",
     "output_type": "stream",
     "text": [
      "Train: X:(6984, 120, 120, 1), y: 6984\n",
      "Test: X:(1793, 120, 120, 1), y: 1793\n"
     ]
    }
   ],
   "source": [
    "print(\"Train: X:(%d, %d, %d, %d), y: %d\" %(X_axial_train.shape[0],X_axial_train.shape[1],X_axial_train.shape[2],X_axial_train.shape[3], len(y_axial_train)))\n",
    "print(\"Test: X:(%d, %d, %d, %d), y: %d\" %(X_axial_test.shape[0],X_axial_test.shape[1],X_axial_test.shape[2],X_axial_test.shape[3], len(y_axial_test)))"
   ]
  },
  {
   "cell_type": "code",
   "execution_count": 44,
   "metadata": {},
   "outputs": [
    {
     "name": "stdout",
     "output_type": "stream",
     "text": [
      "1265.5600960734453\n"
     ]
    },
    {
     "data": {
      "image/png": "[encoded data removed]",
      "text/plain": [
       "<Figure size 432x288 with 1 Axes>"
      ]
     },
     "metadata": {
      "needs_background": "light"
     },
     "output_type": "display_data"
    }
   ],
   "source": [
    "import matplotlib.pyplot as plt\n",
    "import matplotlib.cbook as cbook\n",
    "import cv2\n",
    "\n",
    "i= 1\n",
    "fig, ax = plt.subplots(num=\"MRI_demo\")\n",
    "ax.imshow(X_axial_train[i, : , :, 0], cmap=\"gray\")\n",
    "print(X_axial_train[i, : , :, 0].sum())\n",
    "plt.show()"
   ]
  },
  {
   "cell_type": "markdown",
   "metadata": {
    "id": "X7bK3grjmDsh"
   },
   "source": [
    "###VGG19"
   ]
  },
  {
   "cell_type": "code",
   "execution_count": 45,
   "metadata": {
    "id": "GmsZwEJRpg-t"
   },
   "outputs": [],
   "source": [
    "import keras\n",
    "from keras.models import Sequential\n",
    "from keras.layers import Dense, Conv2D, MaxPool2D , Flatten\n",
    "from keras.preprocessing.image import ImageDataGenerator\n",
    "from keras.layers import Dropout\n",
    "from keras.callbacks import ModelCheckpoint, EarlyStopping\n",
    "import tensorflow as tf"
   ]
  },
  {
   "cell_type": "code",
   "execution_count": 46,
   "metadata": {
    "colab": {
     "base_uri": "https://localhost:8080/"
    },
    "id": "7Y7XVr5bl5MU",
    "outputId": "18ce578d-5d08-4ce3-f8cc-aad0bd5b537b"
   },
   "outputs": [
    {
     "name": "stdout",
     "output_type": "stream",
     "text": [
      "Model: \"sequential_2\"\n",
      "_________________________________________________________________\n",
      "Layer (type)                 Output Shape              Param #   \n",
      "=================================================================\n",
      "conv2d_32 (Conv2D)           (None, 120, 120, 64)      640       \n",
      "_________________________________________________________________\n",
      "conv2d_33 (Conv2D)           (None, 120, 120, 64)      36928     \n",
      "_________________________________________________________________\n",
      "dropout_10 (Dropout)         (None, 120, 120, 64)      0         \n",
      "_________________________________________________________________\n",
      "max_pooling2d_10 (MaxPooling (None, 60, 60, 64)        0         \n",
      "_________________________________________________________________\n",
      "conv2d_34 (Conv2D)           (None, 60, 60, 128)       73856     \n",
      "_________________________________________________________________\n",
      "conv2d_35 (Conv2D)           (None, 60, 60, 128)       147584    \n",
      "_________________________________________________________________\n",
      "dropout_11 (Dropout)         (None, 60, 60, 128)       0         \n",
      "_________________________________________________________________\n",
      "max_pooling2d_11 (MaxPooling (None, 30, 30, 128)       0         \n",
      "_________________________________________________________________\n",
      "conv2d_36 (Conv2D)           (None, 30, 30, 256)       295168    \n",
      "_________________________________________________________________\n",
      "conv2d_37 (Conv2D)           (None, 30, 30, 256)       590080    \n",
      "_________________________________________________________________\n",
      "conv2d_38 (Conv2D)           (None, 30, 30, 256)       590080    \n",
      "_________________________________________________________________\n",
      "conv2d_39 (Conv2D)           (None, 30, 30, 256)       590080    \n",
      "_________________________________________________________________\n",
      "dropout_12 (Dropout)         (None, 30, 30, 256)       0         \n",
      "_________________________________________________________________\n",
      "max_pooling2d_12 (MaxPooling (None, 15, 15, 256)       0         \n",
      "_________________________________________________________________\n",
      "conv2d_40 (Conv2D)           (None, 15, 15, 512)       1180160   \n",
      "_________________________________________________________________\n",
      "conv2d_41 (Conv2D)           (None, 15, 15, 512)       2359808   \n",
      "_________________________________________________________________\n",
      "conv2d_42 (Conv2D)           (None, 15, 15, 512)       2359808   \n",
      "_________________________________________________________________\n",
      "conv2d_43 (Conv2D)           (None, 15, 15, 512)       2359808   \n",
      "_________________________________________________________________\n",
      "dropout_13 (Dropout)         (None, 15, 15, 512)       0         \n",
      "_________________________________________________________________\n",
      "max_pooling2d_13 (MaxPooling (None, 7, 7, 512)         0         \n",
      "_________________________________________________________________\n",
      "conv2d_44 (Conv2D)           (None, 7, 7, 512)         2359808   \n",
      "_________________________________________________________________\n",
      "conv2d_45 (Conv2D)           (None, 7, 7, 512)         2359808   \n",
      "_________________________________________________________________\n",
      "conv2d_46 (Conv2D)           (None, 7, 7, 512)         2359808   \n",
      "_________________________________________________________________\n",
      "conv2d_47 (Conv2D)           (None, 7, 7, 512)         2359808   \n",
      "_________________________________________________________________\n",
      "dropout_14 (Dropout)         (None, 7, 7, 512)         0         \n",
      "_________________________________________________________________\n",
      "max_pooling2d_14 (MaxPooling (None, 3, 3, 512)         0         \n",
      "_________________________________________________________________\n",
      "flatten_2 (Flatten)          (None, 4608)              0         \n",
      "_________________________________________________________________\n",
      "dense_8 (Dense)              (None, 4096)              18878464  \n",
      "_________________________________________________________________\n",
      "dense_9 (Dense)              (None, 4096)              16781312  \n",
      "_________________________________________________________________\n",
      "dense_10 (Dense)             (None, 1000)              4097000   \n",
      "_________________________________________________________________\n",
      "dense_11 (Dense)             (None, 1)                 1001      \n",
      "=================================================================\n",
      "Total params: 59,781,009\n",
      "Trainable params: 59,781,009\n",
      "Non-trainable params: 0\n",
      "_________________________________________________________________\n",
      "None\n"
     ]
    }
   ],
   "source": [
    "model = Sequential()\n",
    "model.add(Conv2D(input_shape=(120,120,1),filters=64,kernel_size=(3,3),padding=\"same\", activation=\"relu\"))\n",
    "model.add(Conv2D(filters=64,kernel_size=(3,3),padding=\"same\", activation=\"relu\"))\n",
    "model.add(Dropout(0.4))\n",
    "model.add(MaxPool2D(pool_size=(2,2),strides=(2,2)))\n",
    "model.add(Conv2D(filters=128, kernel_size=(3,3), padding=\"same\", activation=\"relu\"))\n",
    "model.add(Conv2D(filters=128, kernel_size=(3,3), padding=\"same\", activation=\"relu\"))\n",
    "model.add(Dropout(0.6))\n",
    "model.add(MaxPool2D(pool_size=(2,2),strides=(2,2)))\n",
    "model.add(Conv2D(filters=256, kernel_size=(3,3), padding=\"same\", activation=\"relu\"))\n",
    "model.add(Conv2D(filters=256, kernel_size=(3,3), padding=\"same\", activation=\"relu\"))\n",
    "model.add(Conv2D(filters=256, kernel_size=(3,3), padding=\"same\", activation=\"relu\"))\n",
    "model.add(Conv2D(filters=256, kernel_size=(3,3), padding=\"same\", activation=\"relu\"))\n",
    "model.add(Dropout(0.8))\n",
    "model.add(MaxPool2D(pool_size=(2,2),strides=(2,2)))\n",
    "model.add(Conv2D(filters=512, kernel_size=(3,3), padding=\"same\", activation=\"relu\"))\n",
    "model.add(Conv2D(filters=512, kernel_size=(3,3), padding=\"same\", activation=\"relu\"))\n",
    "model.add(Conv2D(filters=512, kernel_size=(3,3), padding=\"same\", activation=\"relu\"))\n",
    "model.add(Conv2D(filters=512, kernel_size=(3,3), padding=\"same\", activation=\"relu\"))\n",
    "model.add(Dropout(0.8))\n",
    "model.add(MaxPool2D(pool_size=(2,2),strides=(2,2)))\n",
    "model.add(Conv2D(filters=512, kernel_size=(3,3), padding=\"same\", activation=\"relu\"))\n",
    "model.add(Conv2D(filters=512, kernel_size=(3,3), padding=\"same\", activation=\"relu\"))\n",
    "model.add(Conv2D(filters=512, kernel_size=(3,3), padding=\"same\", activation=\"relu\"))\n",
    "model.add(Conv2D(filters=512, kernel_size=(3,3), padding=\"same\", activation=\"relu\"))\n",
    "model.add(Dropout(0.4))\n",
    "model.add(MaxPool2D(pool_size=(2,2),strides=(2,2)))\n",
    "\n",
    "#Dense layer\n",
    "model.add(Flatten())\n",
    "model.add(Dense(units=4096,activation=\"relu\"))\n",
    "model.add(Dense(units=4096,activation=\"relu\"))\n",
    "model.add(Dense(units=1000,activation=\"relu\"))\n",
    "model.add(Dense(1, activation=\"softmax\"))\n",
    "\n",
    "model.compile(optimizer='adam', loss=keras.losses.binary_crossentropy, metrics=['accuracy'])\n",
    "\n",
    "print(model.summary())"
   ]
  },
  {
   "cell_type": "code",
   "execution_count": 47,
   "metadata": {
    "colab": {
     "base_uri": "https://localhost:8080/"
    },
    "id": "5-ixtI5Tpsv0",
    "outputId": "07ba67f2-d3ea-4cd9-8074-212236f6b3d0"
   },
   "outputs": [
    {
     "name": "stdout",
     "output_type": "stream",
     "text": [
      "WARNING:tensorflow:`period` argument is deprecated. Please use `save_freq` to specify the frequency in number of batches seen.\n"
     ]
    }
   ],
   "source": [
    "checkpoint = ModelCheckpoint(\"vgg19_30slices.h5\", monitor='val_accuracy', verbose=1, save_best_only=True, save_weights_only=False, mode='auto', period=1)\n",
    "early = EarlyStopping(monitor='val_acc', min_delta=0, patience=20, verbose=1, mode='auto')\n",
    "#fit_generator(steps_per_epoch=1,generator=traindata, validation_data= testdata, validation_steps=1,epochs=50,callbacks=[checkpoint])\n",
    "# hist = model.fit(traindata, testdata, batch_size=10, epochs=20, verbose=0, shuffle=True,validation_split=0.2,callbacks=[checkpoint])"
   ]
  },
  {
   "cell_type": "code",
   "execution_count": 48,
   "metadata": {},
   "outputs": [
    {
     "name": "stdout",
     "output_type": "stream",
     "text": [
      "Epoch 1/30\n",
      "559/559 [==============================] - 1667s 3s/step - loss: nan - accuracy: 0.6526 - val_loss: nan - val_accuracy: 0.6786\n",
      "\n",
      "Epoch 00001: val_accuracy improved from -inf to 0.67860, saving model to vgg19_30slices.h5\n",
      "Epoch 2/30\n",
      "559/559 [==============================] - 1719s 3s/step - loss: nan - accuracy: 0.6603 - val_loss: nan - val_accuracy: 0.6786\n",
      "\n",
      "Epoch 00002: val_accuracy did not improve from 0.67860\n",
      "Epoch 3/30\n",
      "559/559 [==============================] - 1660s 3s/step - loss: nan - accuracy: 0.6603 - val_loss: nan - val_accuracy: 0.6786\n",
      "\n",
      "Epoch 00003: val_accuracy did not improve from 0.67860\n",
      "Epoch 4/30\n",
      "559/559 [==============================] - 1666s 3s/step - loss: nan - accuracy: 0.6603 - val_loss: nan - val_accuracy: 0.6786\n",
      "\n",
      "Epoch 00004: val_accuracy did not improve from 0.67860\n",
      "Epoch 5/30\n",
      "559/559 [==============================] - 1662s 3s/step - loss: nan - accuracy: 0.6603 - val_loss: nan - val_accuracy: 0.6786\n",
      "\n",
      "Epoch 00005: val_accuracy did not improve from 0.67860\n",
      "Epoch 6/30\n",
      "559/559 [==============================] - 1661s 3s/step - loss: nan - accuracy: 0.6603 - val_loss: nan - val_accuracy: 0.6786\n",
      "\n",
      "Epoch 00006: val_accuracy did not improve from 0.67860\n",
      "Epoch 7/30\n",
      "559/559 [==============================] - 1662s 3s/step - loss: nan - accuracy: 0.6603 - val_loss: nan - val_accuracy: 0.6786\n",
      "\n",
      "Epoch 00007: val_accuracy did not improve from 0.67860\n",
      "Epoch 8/30\n",
      "559/559 [==============================] - 1666s 3s/step - loss: nan - accuracy: 0.6603 - val_loss: nan - val_accuracy: 0.6786\n",
      "\n",
      "Epoch 00008: val_accuracy did not improve from 0.67860\n",
      "Epoch 9/30\n",
      "559/559 [==============================] - 1657s 3s/step - loss: nan - accuracy: 0.6603 - val_loss: nan - val_accuracy: 0.6786\n",
      "\n",
      "Epoch 00009: val_accuracy did not improve from 0.67860\n",
      "Epoch 10/30\n",
      "559/559 [==============================] - 1638s 3s/step - loss: nan - accuracy: 0.6603 - val_loss: nan - val_accuracy: 0.6786\n",
      "\n",
      "Epoch 00010: val_accuracy did not improve from 0.67860\n",
      "Epoch 11/30\n",
      "559/559 [==============================] - 3098s 6s/step - loss: nan - accuracy: 0.6603 - val_loss: nan - val_accuracy: 0.6786\n",
      "\n",
      "Epoch 00011: val_accuracy did not improve from 0.67860\n",
      "Epoch 12/30\n",
      "559/559 [==============================] - 2992s 5s/step - loss: nan - accuracy: 0.6603 - val_loss: nan - val_accuracy: 0.6786\n",
      "\n",
      "Epoch 00012: val_accuracy did not improve from 0.67860\n",
      "Epoch 13/30\n",
      "559/559 [==============================] - 2213s 4s/step - loss: nan - accuracy: 0.6603 - val_loss: nan - val_accuracy: 0.6786\n",
      "\n",
      "Epoch 00013: val_accuracy did not improve from 0.67860\n",
      "Epoch 14/30\n",
      "559/559 [==============================] - 2076s 4s/step - loss: nan - accuracy: 0.6603 - val_loss: nan - val_accuracy: 0.6786\n",
      "\n",
      "Epoch 00014: val_accuracy did not improve from 0.67860\n",
      "Epoch 15/30\n",
      "559/559 [==============================] - 2036s 4s/step - loss: nan - accuracy: 0.6603 - val_loss: nan - val_accuracy: 0.6786\n",
      "\n",
      "Epoch 00015: val_accuracy did not improve from 0.67860\n",
      "Epoch 16/30\n",
      "559/559 [==============================] - 2036s 4s/step - loss: nan - accuracy: 0.6603 - val_loss: nan - val_accuracy: 0.6786\n",
      "\n",
      "Epoch 00016: val_accuracy did not improve from 0.67860\n",
      "Epoch 17/30\n",
      "559/559 [==============================] - 2040s 4s/step - loss: nan - accuracy: 0.6603 - val_loss: nan - val_accuracy: 0.6786\n",
      "\n",
      "Epoch 00017: val_accuracy did not improve from 0.67860\n",
      "Epoch 18/30\n",
      "559/559 [==============================] - 2058s 4s/step - loss: nan - accuracy: 0.6603 - val_loss: nan - val_accuracy: 0.6786\n",
      "\n",
      "Epoch 00018: val_accuracy did not improve from 0.67860\n",
      "Epoch 19/30\n",
      "559/559 [==============================] - 2077s 4s/step - loss: nan - accuracy: 0.6603 - val_loss: nan - val_accuracy: 0.6786\n",
      "\n",
      "Epoch 00019: val_accuracy did not improve from 0.67860\n",
      "Epoch 20/30\n",
      "559/559 [==============================] - 2085s 4s/step - loss: nan - accuracy: 0.6603 - val_loss: nan - val_accuracy: 0.6786\n",
      "\n",
      "Epoch 00020: val_accuracy did not improve from 0.67860\n",
      "Epoch 21/30\n",
      "559/559 [==============================] - 2079s 4s/step - loss: nan - accuracy: 0.6603 - val_loss: nan - val_accuracy: 0.6786\n",
      "\n",
      "Epoch 00021: val_accuracy did not improve from 0.67860\n",
      "Epoch 22/30\n",
      "559/559 [==============================] - 2149s 4s/step - loss: nan - accuracy: 0.6603 - val_loss: nan - val_accuracy: 0.6786\n",
      "\n",
      "Epoch 00022: val_accuracy did not improve from 0.67860\n",
      "Epoch 23/30\n",
      "559/559 [==============================] - 2119s 4s/step - loss: nan - accuracy: 0.6603 - val_loss: nan - val_accuracy: 0.6786\n",
      "\n",
      "Epoch 00023: val_accuracy did not improve from 0.67860\n",
      "Epoch 24/30\n",
      "559/559 [==============================] - 2115s 4s/step - loss: nan - accuracy: 0.6603 - val_loss: nan - val_accuracy: 0.6786\n",
      "\n",
      "Epoch 00024: val_accuracy did not improve from 0.67860\n",
      "Epoch 25/30\n",
      "559/559 [==============================] - 2105s 4s/step - loss: nan - accuracy: 0.6603 - val_loss: nan - val_accuracy: 0.6786\n",
      "\n",
      "Epoch 00025: val_accuracy did not improve from 0.67860\n",
      "Epoch 26/30\n",
      "559/559 [==============================] - 2120s 4s/step - loss: nan - accuracy: 0.6603 - val_loss: nan - val_accuracy: 0.6786\n",
      "\n",
      "Epoch 00026: val_accuracy did not improve from 0.67860\n",
      "Epoch 27/30\n",
      "559/559 [==============================] - 2111s 4s/step - loss: nan - accuracy: 0.6603 - val_loss: nan - val_accuracy: 0.6786\n",
      "\n",
      "Epoch 00027: val_accuracy did not improve from 0.67860\n",
      "Epoch 28/30\n",
      "559/559 [==============================] - 2117s 4s/step - loss: nan - accuracy: 0.6603 - val_loss: nan - val_accuracy: 0.6786\n",
      "\n",
      "Epoch 00028: val_accuracy did not improve from 0.67860\n",
      "Epoch 29/30\n",
      "559/559 [==============================] - 2120s 4s/step - loss: nan - accuracy: 0.6603 - val_loss: nan - val_accuracy: 0.6786\n",
      "\n",
      "Epoch 00029: val_accuracy did not improve from 0.67860\n",
      "Epoch 30/30\n",
      "559/559 [==============================] - 2100s 4s/step - loss: nan - accuracy: 0.6603 - val_loss: nan - val_accuracy: 0.6786\n",
      "\n",
      "Epoch 00030: val_accuracy did not improve from 0.67860\n"
     ]
    }
   ],
   "source": [
    "hist = model.fit(X_axial_train, y_axial_train, batch_size=10,epochs=30,validation_split=0.2, callbacks=[checkpoint])"
   ]
  },
  {
   "cell_type": "code",
   "execution_count": 49,
   "metadata": {
    "colab": {
     "base_uri": "https://localhost:8080/",
     "height": 231
    },
    "id": "seDApqQk5FtY",
    "outputId": "fc45785c-eb2f-465f-eef0-94b3ffe8452c"
   },
   "outputs": [
    {
     "data": {
      "image/png": "[encoded data removed]",
      "text/plain": [
       "<Figure size 432x288 with 1 Axes>"
      ]
     },
     "metadata": {
      "needs_background": "light"
     },
     "output_type": "display_data"
    }
   ],
   "source": [
    "import matplotlib.pyplot as plt\n",
    "\n",
    "plt.plot(hist.history[\"accuracy\"])\n",
    "plt.plot(hist.history['val_accuracy'])\n",
    "plt.plot(hist.history['loss'])\n",
    "plt.plot(hist.history['val_loss'])\n",
    "plt.title(\"model accuracy\")\n",
    "plt.ylabel(\"Accuracy\")\n",
    "plt.xlabel(\"Epoch\")\n",
    "plt.legend([\"Accuracy\",\"Validation Accuracy\",\"loss\",\"Validation Loss\"])\n",
    "plt.show()"
   ]
  },
  {
   "cell_type": "code",
   "execution_count": 50,
   "metadata": {},
   "outputs": [
    {
     "name": "stdout",
     "output_type": "stream",
     "text": [
      "57/57 [==============================] - 112s 2s/step - loss: nan - accuracy: 0.6642\n"
     ]
    },
    {
     "data": {
      "text/plain": [
       "[nan, 0.664249837398529]"
      ]
     },
     "execution_count": 50,
     "metadata": {},
     "output_type": "execute_result"
    }
   ],
   "source": [
    "test_results = model.evaluate(X_axial_test, y_axial_test)\n",
    "test_results"
   ]
  },
  {
   "cell_type": "code",
   "execution_count": null,
   "metadata": {},
   "outputs": [],
   "source": []
  },
  {
   "cell_type": "markdown",
   "metadata": {
    "id": "cJxGks6FB7W8"
   },
   "source": [
    "# CORONAL"
   ]
  },
  {
   "cell_type": "code",
   "execution_count": 20,
   "metadata": {
    "colab": {
     "base_uri": "https://localhost:8080/"
    },
    "id": "9C4njiq6B7XG",
    "outputId": "4a93da83-0133-4de3-c371-91d13555ce4c"
   },
   "outputs": [
    {
     "name": "stdout",
     "output_type": "stream",
     "text": [
      "-> [1/173] Slices processed 67.\n",
      "-> [2/173] Slices processed 134.\n",
      "-> [3/173] Slices processed 160.\n",
      "-> [4/173] Slices processed 227.\n",
      "-> [5/173] Slices processed 294.\n",
      "-> [6/173] Slices processed 361.\n",
      "-> [7/173] Slices processed 428.\n",
      "-> [8/173] Slices processed 495.\n",
      "-> [9/173] Slices processed 562.\n",
      "-> [10/173] Slices processed 629.\n",
      "-> [11/173] Slices processed 696.\n",
      "-> [12/173] Slices processed 763.\n",
      "-> [13/173] Slices processed 830.\n",
      "-> [14/173] Slices processed 897.\n",
      "-> [15/173] Slices processed 964.\n",
      "-> [16/173] Slices processed 1031.\n"
     ]
    },
    {
     "name": "stderr",
     "output_type": "stream",
     "text": [
      "C:\\Users\\josie\\AppData\\Local\\Temp/ipykernel_22212/1790016269.py:22: RuntimeWarning: invalid value encountered in true_divide\n",
      "  arr = arr / arr.max()\n"
     ]
    },
    {
     "name": "stdout",
     "output_type": "stream",
     "text": [
      "-> [17/173] Slices processed 1212.\n",
      "-> [18/173] Slices processed 1279.\n",
      "-> [19/173] Slices processed 1346.\n",
      "-> [20/173] Slices processed 1413.\n",
      "-> [21/173] Slices processed 1480.\n",
      "-> [22/173] Slices processed 1547.\n",
      "-> [23/173] Slices processed 1570.\n",
      "-> [24/173] Slices processed 1637.\n",
      "-> [25/173] Slices processed 1704.\n",
      "-> [26/173] Slices processed 1771.\n",
      "-> [27/173] Slices processed 1838.\n",
      "-> [28/173] Slices processed 1905.\n",
      "-> [29/173] Slices processed 1972.\n",
      "-> [30/173] Slices processed 2039.\n",
      "-> [31/173] Slices processed 2106.\n",
      "-> [32/173] Slices processed 2173.\n",
      "-> [33/173] Slices processed 2240.\n",
      "-> [34/173] Slices processed 2307.\n",
      "-> [35/173] Slices processed 2374.\n",
      "-> [36/173] Slices processed 2441.\n",
      "-> [37/173] Slices processed 2508.\n",
      "-> [38/173] Slices processed 2575.\n",
      "-> [39/173] Slices processed 2642.\n",
      "-> [40/173] Slices processed 2709.\n",
      "-> [41/173] Slices processed 2776.\n",
      "-> [42/173] Slices processed 2843.\n",
      "-> [43/173] Slices processed 2910.\n",
      "-> [44/173] Slices processed 2977.\n",
      "-> [45/173] Slices processed 3044.\n",
      "-> [46/173] Slices processed 3111.\n",
      "-> [47/173] Slices processed 3178.\n",
      "-> [48/173] Slices processed 3245.\n",
      "-> [49/173] Slices processed 3312.\n",
      "-> [50/173] Slices processed 3379.\n",
      "-> [51/173] Slices processed 3446.\n",
      "-> [52/173] Slices processed 3449.\n",
      "-> [53/173] Slices processed 3516.\n",
      "-> [54/173] Slices processed 3583.\n",
      "-> [55/173] Slices processed 3650.\n",
      "-> [56/173] Slices processed 3717.\n",
      "-> [57/173] Slices processed 3784.\n",
      "-> [58/173] Slices processed 3851.\n",
      "-> [59/173] Slices processed 3918.\n",
      "-> [60/173] Slices processed 3985.\n",
      "-> [61/173] Slices processed 4052.\n",
      "-> [62/173] Slices processed 4119.\n",
      "-> [63/173] Slices processed 4186.\n",
      "-> [64/173] Slices processed 4253.\n",
      "-> [65/173] Slices processed 4320.\n",
      "-> [66/173] Slices processed 4387.\n",
      "-> [67/173] Slices processed 4454.\n",
      "-> [68/173] Slices processed 4521.\n",
      "-> [69/173] Slices processed 4588.\n",
      "-> [70/173] Slices processed 4655.\n",
      "-> [71/173] Slices processed 4722.\n",
      "-> [72/173] Slices processed 4789.\n",
      "-> [73/173] Slices processed 4856.\n",
      "-> [74/173] Slices processed 4923.\n",
      "-> [75/173] Slices processed 4990.\n",
      "-> [76/173] Slices processed 5057.\n",
      "-> [77/173] Slices processed 5124.\n",
      "-> [78/173] Slices processed 5191.\n",
      "-> [79/173] Slices processed 5258.\n",
      "-> [80/173] Slices processed 5325.\n",
      "-> [81/173] Slices processed 5392.\n",
      "-> [82/173] Slices processed 5459.\n",
      "-> [83/173] Slices processed 5526.\n",
      "-> [84/173] Slices processed 5593.\n",
      "-> [85/173] Slices processed 5660.\n",
      "-> [86/173] Slices processed 5727.\n",
      "-> [87/173] Slices processed 5794.\n",
      "-> [88/173] Slices processed 5861.\n",
      "-> [89/173] Slices processed 5928.\n",
      "-> [90/173] Slices processed 5995.\n",
      "-> [91/173] Slices processed 6062.\n",
      "-> [92/173] Slices processed 6129.\n",
      "-> [93/173] Slices processed 6196.\n",
      "-> [94/173] Slices processed 6263.\n",
      "-> [95/173] Slices processed 6330.\n",
      "-> [96/173] Slices processed 6397.\n",
      "-> [97/173] Slices processed 6464.\n",
      "-> [98/173] Slices processed 6531.\n",
      "-> [99/173] Slices processed 6598.\n",
      "-> [100/173] Slices processed 6665.\n",
      "-> [101/173] Slices processed 6732.\n",
      "-> [102/173] Slices processed 6799.\n",
      "-> [103/173] Slices processed 6866.\n",
      "-> [104/173] Slices processed 6933.\n",
      "-> [105/173] Slices processed 7000.\n",
      "-> [106/173] Slices processed 7067.\n",
      "-> [107/173] Slices processed 7134.\n",
      "-> [108/173] Slices processed 7201.\n",
      "-> [109/173] Slices processed 7268.\n",
      "-> [110/173] Slices processed 7335.\n",
      "-> [111/173] Slices processed 7402.\n",
      "-> [112/173] Slices processed 7469.\n",
      "-> [113/173] Slices processed 7536.\n",
      "-> [114/173] Slices processed 7603.\n",
      "-> [115/173] Slices processed 7670.\n",
      "-> [116/173] Slices processed 7737.\n",
      "-> [117/173] Slices processed 7804.\n",
      "-> [118/173] Slices processed 7871.\n",
      "-> [119/173] Slices processed 7938.\n",
      "-> [120/173] Slices processed 8005.\n",
      "-> [121/173] Slices processed 8072.\n",
      "-> [122/173] Slices processed 8139.\n",
      "-> [123/173] Slices processed 8206.\n",
      "-> [124/173] Slices processed 8273.\n",
      "-> [125/173] Slices processed 8340.\n",
      "-> [126/173] Slices processed 8407.\n",
      "-> [127/173] Slices processed 8474.\n",
      "-> [128/173] Slices processed 8541.\n",
      "-> [129/173] Slices processed 8608.\n",
      "-> [130/173] Slices processed 8675.\n",
      "-> [131/173] Slices processed 8742.\n",
      "-> [132/173] Slices processed 8809.\n",
      "-> [133/173] Slices processed 8876.\n",
      "-> [134/173] Slices processed 8943.\n",
      "-> [135/173] Slices processed 9010.\n",
      "-> [136/173] Slices processed 9077.\n",
      "-> [137/173] Slices processed 9144.\n",
      "-> [138/173] Slices processed 9211.\n",
      "-> [139/173] Slices processed 9278.\n",
      "-> [140/173] Slices processed 9345.\n",
      "-> [141/173] Slices processed 9412.\n",
      "-> [142/173] Slices processed 9479.\n",
      "-> [143/173] Slices processed 9546.\n",
      "-> [144/173] Slices processed 9613.\n",
      "-> [145/173] Slices processed 9680.\n",
      "-> [146/173] Slices processed 9747.\n",
      "-> [147/173] Slices processed 9814.\n",
      "-> [148/173] Slices processed 9881.\n",
      "-> [149/173] Slices processed 9948.\n",
      "-> [150/173] Slices processed 10015.\n",
      "-> [151/173] Slices processed 10082.\n",
      "-> [152/173] Slices processed 10149.\n",
      "-> [153/173] Slices processed 10216.\n",
      "-> [154/173] Slices processed 10283.\n",
      "-> [155/173] Slices processed 10350.\n",
      "-> [156/173] Slices processed 10417.\n",
      "-> [157/173] Slices processed 10484.\n",
      "-> [158/173] Slices processed 10551.\n",
      "-> [159/173] Slices processed 10618.\n",
      "-> [160/173] Slices processed 10685.\n",
      "-> [161/173] Slices processed 10752.\n",
      "-> [162/173] Slices processed 10819.\n",
      "-> [163/173] Slices processed 10886.\n",
      "-> [164/173] Slices processed 10953.\n",
      "-> [165/173] Slices processed 11020.\n",
      "-> [166/173] Slices processed 11087.\n",
      "-> [167/173] Slices processed 11154.\n",
      "-> [168/173] Slices processed 11221.\n",
      "-> [169/173] Slices processed 11288.\n",
      "-> [170/173] Slices processed 11355.\n",
      "-> [171/173] Slices processed 11422.\n",
      "-> [172/173] Slices processed 11489.\n",
      "-> [173/173] Slices processed 11556.\n"
     ]
    }
   ],
   "source": [
    "X_coronal_train, y_coronal_train = get_slices_per_group_coronal(X_train, y_train)\n",
    "X_coronal_train = X_coronal_train.reshape(-1, X_coronal_train.shape[1], X_coronal_train.shape[2], 1)"
   ]
  },
  {
   "cell_type": "code",
   "execution_count": 21,
   "metadata": {
    "colab": {
     "base_uri": "https://localhost:8080/"
    },
    "id": "QMncXN8hITS-",
    "outputId": "12c8b938-1747-4d6d-e030-acb66e2990f6"
   },
   "outputs": [
    {
     "name": "stdout",
     "output_type": "stream",
     "text": [
      "-> [1/44] Slices processed 67.\n",
      "-> [2/44] Slices processed 134.\n",
      "-> [3/44] Slices processed 198.\n",
      "-> [4/44] Slices processed 265.\n",
      "-> [5/44] Slices processed 332.\n",
      "-> [6/44] Slices processed 399.\n",
      "-> [7/44] Slices processed 466.\n",
      "-> [8/44] Slices processed 533.\n",
      "-> [9/44] Slices processed 600.\n",
      "-> [10/44] Slices processed 667.\n",
      "-> [11/44] Slices processed 734.\n",
      "-> [12/44] Slices processed 801.\n",
      "-> [13/44] Slices processed 868.\n",
      "-> [14/44] Slices processed 935.\n",
      "-> [15/44] Slices processed 1002.\n",
      "-> [16/44] Slices processed 1069.\n",
      "-> [17/44] Slices processed 1136.\n",
      "-> [18/44] Slices processed 1203.\n",
      "-> [19/44] Slices processed 1270.\n",
      "-> [20/44] Slices processed 1337.\n",
      "-> [21/44] Slices processed 1404.\n",
      "-> [22/44] Slices processed 1471.\n",
      "-> [23/44] Slices processed 1538.\n",
      "-> [24/44] Slices processed 1605.\n",
      "-> [25/44] Slices processed 1672.\n",
      "-> [26/44] Slices processed 1739.\n",
      "-> [27/44] Slices processed 1806.\n",
      "-> [28/44] Slices processed 1873.\n",
      "-> [29/44] Slices processed 1940.\n",
      "-> [30/44] Slices processed 2007.\n",
      "-> [31/44] Slices processed 2074.\n",
      "-> [32/44] Slices processed 2141.\n",
      "-> [33/44] Slices processed 2208.\n",
      "-> [34/44] Slices processed 2275.\n",
      "-> [35/44] Slices processed 2342.\n",
      "-> [36/44] Slices processed 2409.\n",
      "-> [37/44] Slices processed 2476.\n",
      "-> [38/44] Slices processed 2543.\n",
      "-> [39/44] Slices processed 2610.\n",
      "-> [40/44] Slices processed 2677.\n",
      "-> [41/44] Slices processed 2744.\n",
      "-> [42/44] Slices processed 2811.\n",
      "-> [43/44] Slices processed 2878.\n",
      "-> [44/44] Slices processed 2945.\n"
     ]
    }
   ],
   "source": [
    "X_coronal_test, y_coronal_test = get_slices_per_group_coronal(X_test, y_test)\n",
    "X_coronal_test = X_coronal_test.reshape(-1, X_coronal_train.shape[1], X_coronal_train.shape[2], 1)"
   ]
  },
  {
   "cell_type": "code",
   "execution_count": 22,
   "metadata": {
    "colab": {
     "base_uri": "https://localhost:8080/"
    },
    "id": "viljIspWB7XG",
    "outputId": "fd32e79d-f158-463e-8507-4ffd28f3a3bd"
   },
   "outputs": [
    {
     "name": "stdout",
     "output_type": "stream",
     "text": [
      "Train: X:(11556, 224, 224, 1), y: 11556\n",
      "Test: X:(2945, 224, 224, 1), y: 2945\n"
     ]
    }
   ],
   "source": [
    "print(\"Train: X:(%d, %d, %d, %d), y: %d\" %(X_coronal_train.shape[0],X_coronal_train.shape[1],X_coronal_train.shape[2],X_coronal_train.shape[3], len(y_coronal_train)))\n",
    "print(\"Test: X:(%d, %d, %d, %d), y: %d\" %(X_coronal_test.shape[0],X_coronal_test.shape[1],X_coronal_test.shape[2],X_coronal_test.shape[3], len(y_coronal_test)))"
   ]
  },
  {
   "cell_type": "markdown",
   "metadata": {
    "id": "PURhal9KB7XG"
   },
   "source": [
    "# VGG19"
   ]
  },
  {
   "cell_type": "code",
   "execution_count": 16,
   "metadata": {
    "id": "O5ckKc9YB7XG"
   },
   "outputs": [],
   "source": [
    "import keras\n",
    "from keras.models import Sequential\n",
    "from keras.layers import Dense, Conv2D, MaxPool2D , Flatten\n",
    "from keras.preprocessing.image import ImageDataGenerator\n",
    "from keras.layers import Dropout\n",
    "from keras.callbacks import ModelCheckpoint, EarlyStopping\n",
    "import imageio\n",
    "import tensorflow as tf"
   ]
  },
  {
   "cell_type": "code",
   "execution_count": 23,
   "metadata": {
    "colab": {
     "base_uri": "https://localhost:8080/"
    },
    "id": "PknsV4akB7XG",
    "outputId": "a3b91a1b-36a8-4351-b9e3-466e0bfd7579",
    "scrolled": true
   },
   "outputs": [
    {
     "name": "stdout",
     "output_type": "stream",
     "text": [
      "Model: \"sequential_1\"\n",
      "_________________________________________________________________\n",
      "Layer (type)                 Output Shape              Param #   \n",
      "=================================================================\n",
      "conv2d_16 (Conv2D)           (None, 224, 224, 64)      640       \n",
      "_________________________________________________________________\n",
      "conv2d_17 (Conv2D)           (None, 224, 224, 64)      36928     \n",
      "_________________________________________________________________\n",
      "dropout_5 (Dropout)          (None, 224, 224, 64)      0         \n",
      "_________________________________________________________________\n",
      "max_pooling2d_5 (MaxPooling2 (None, 112, 112, 64)      0         \n",
      "_________________________________________________________________\n",
      "conv2d_18 (Conv2D)           (None, 112, 112, 128)     73856     \n",
      "_________________________________________________________________\n",
      "conv2d_19 (Conv2D)           (None, 112, 112, 128)     147584    \n",
      "_________________________________________________________________\n",
      "dropout_6 (Dropout)          (None, 112, 112, 128)     0         \n",
      "_________________________________________________________________\n",
      "max_pooling2d_6 (MaxPooling2 (None, 56, 56, 128)       0         \n",
      "_________________________________________________________________\n",
      "conv2d_20 (Conv2D)           (None, 56, 56, 256)       295168    \n",
      "_________________________________________________________________\n",
      "conv2d_21 (Conv2D)           (None, 56, 56, 256)       590080    \n",
      "_________________________________________________________________\n",
      "conv2d_22 (Conv2D)           (None, 56, 56, 256)       590080    \n",
      "_________________________________________________________________\n",
      "conv2d_23 (Conv2D)           (None, 56, 56, 256)       590080    \n",
      "_________________________________________________________________\n",
      "dropout_7 (Dropout)          (None, 56, 56, 256)       0         \n",
      "_________________________________________________________________\n",
      "max_pooling2d_7 (MaxPooling2 (None, 28, 28, 256)       0         \n",
      "_________________________________________________________________\n",
      "conv2d_24 (Conv2D)           (None, 28, 28, 512)       1180160   \n",
      "_________________________________________________________________\n",
      "conv2d_25 (Conv2D)           (None, 28, 28, 512)       2359808   \n",
      "_________________________________________________________________\n",
      "conv2d_26 (Conv2D)           (None, 28, 28, 512)       2359808   \n",
      "_________________________________________________________________\n",
      "conv2d_27 (Conv2D)           (None, 28, 28, 512)       2359808   \n",
      "_________________________________________________________________\n",
      "dropout_8 (Dropout)          (None, 28, 28, 512)       0         \n",
      "_________________________________________________________________\n",
      "max_pooling2d_8 (MaxPooling2 (None, 14, 14, 512)       0         \n",
      "_________________________________________________________________\n",
      "conv2d_28 (Conv2D)           (None, 14, 14, 512)       2359808   \n",
      "_________________________________________________________________\n",
      "conv2d_29 (Conv2D)           (None, 14, 14, 512)       2359808   \n",
      "_________________________________________________________________\n",
      "conv2d_30 (Conv2D)           (None, 14, 14, 512)       2359808   \n",
      "_________________________________________________________________\n",
      "conv2d_31 (Conv2D)           (None, 14, 14, 512)       2359808   \n",
      "_________________________________________________________________\n",
      "dropout_9 (Dropout)          (None, 14, 14, 512)       0         \n",
      "_________________________________________________________________\n",
      "max_pooling2d_9 (MaxPooling2 (None, 7, 7, 512)         0         \n",
      "_________________________________________________________________\n",
      "flatten_1 (Flatten)          (None, 25088)             0         \n",
      "_________________________________________________________________\n",
      "dense_4 (Dense)              (None, 4096)              102764544 \n",
      "_________________________________________________________________\n",
      "dense_5 (Dense)              (None, 4096)              16781312  \n",
      "_________________________________________________________________\n",
      "dense_6 (Dense)              (None, 1000)              4097000   \n",
      "_________________________________________________________________\n",
      "dense_7 (Dense)              (None, 1)                 1001      \n",
      "=================================================================\n",
      "Total params: 143,667,089\n",
      "Trainable params: 143,667,089\n",
      "Non-trainable params: 0\n",
      "_________________________________________________________________\n",
      "None\n"
     ]
    }
   ],
   "source": [
    "model = Sequential()\n",
    "model.add(Conv2D(input_shape=(224,224,1),filters=64,kernel_size=(3,3),padding=\"same\", activation=\"relu\"))\n",
    "model.add(Conv2D(filters=64,kernel_size=(3,3),padding=\"same\", activation=\"relu\"))\n",
    "model.add(Dropout(0.4))\n",
    "model.add(MaxPool2D(pool_size=(2,2),strides=(2,2)))\n",
    "model.add(Conv2D(filters=128, kernel_size=(3,3), padding=\"same\", activation=\"relu\"))\n",
    "model.add(Conv2D(filters=128, kernel_size=(3,3), padding=\"same\", activation=\"relu\"))\n",
    "model.add(Dropout(0.6))\n",
    "model.add(MaxPool2D(pool_size=(2,2),strides=(2,2)))\n",
    "model.add(Conv2D(filters=256, kernel_size=(3,3), padding=\"same\", activation=\"relu\"))\n",
    "model.add(Conv2D(filters=256, kernel_size=(3,3), padding=\"same\", activation=\"relu\"))\n",
    "model.add(Conv2D(filters=256, kernel_size=(3,3), padding=\"same\", activation=\"relu\"))\n",
    "model.add(Conv2D(filters=256, kernel_size=(3,3), padding=\"same\", activation=\"relu\"))\n",
    "model.add(Dropout(0.8))\n",
    "model.add(MaxPool2D(pool_size=(2,2),strides=(2,2)))\n",
    "model.add(Conv2D(filters=512, kernel_size=(3,3), padding=\"same\", activation=\"relu\"))\n",
    "model.add(Conv2D(filters=512, kernel_size=(3,3), padding=\"same\", activation=\"relu\"))\n",
    "model.add(Conv2D(filters=512, kernel_size=(3,3), padding=\"same\", activation=\"relu\"))\n",
    "model.add(Conv2D(filters=512, kernel_size=(3,3), padding=\"same\", activation=\"relu\"))\n",
    "model.add(Dropout(0.8))\n",
    "model.add(MaxPool2D(pool_size=(2,2),strides=(2,2)))\n",
    "model.add(Conv2D(filters=512, kernel_size=(3,3), padding=\"same\", activation=\"relu\"))\n",
    "model.add(Conv2D(filters=512, kernel_size=(3,3), padding=\"same\", activation=\"relu\"))\n",
    "model.add(Conv2D(filters=512, kernel_size=(3,3), padding=\"same\", activation=\"relu\"))\n",
    "model.add(Conv2D(filters=512, kernel_size=(3,3), padding=\"same\", activation=\"relu\"))\n",
    "model.add(Dropout(0.4))\n",
    "model.add(MaxPool2D(pool_size=(2,2),strides=(2,2)))\n",
    "\n",
    "#Dense layer\n",
    "model.add(Flatten())\n",
    "model.add(Dense(units=4096,activation=\"relu\"))\n",
    "model.add(Dense(units=4096,activation=\"relu\"))\n",
    "model.add(Dense(units=1000,activation=\"relu\"))\n",
    "model.add(Dense(1, activation=\"softmax\"))\n",
    "\n",
    "model.compile(optimizer='adam', loss=keras.losses.binary_crossentropy, metrics=['accuracy'])\n",
    "\n",
    "print(model.summary())"
   ]
  },
  {
   "cell_type": "code",
   "execution_count": 22,
   "metadata": {
    "colab": {
     "base_uri": "https://localhost:8080/"
    },
    "id": "WBG1DJV4B7XG",
    "outputId": "6511ab56-e480-4dca-f6dc-180ae9486714"
   },
   "outputs": [
    {
     "name": "stdout",
     "output_type": "stream",
     "text": [
      "WARNING:tensorflow:`period` argument is deprecated. Please use `save_freq` to specify the frequency in number of batches seen.\n"
     ]
    }
   ],
   "source": [
    "checkpoint = ModelCheckpoint(\"vgg19_coronal.h5\", monitor='val_accuracy', verbose=1, save_best_only=True, save_weights_only=False, mode='auto', period=1)\n",
    "early = EarlyStopping(monitor='val_acc', min_delta=0, patience=20, verbose=1, mode='auto')\n",
    "#fit_generator(steps_per_epoch=1,generator=traindata, validation_data= testdata, validation_steps=1,epochs=50,callbacks=[checkpoint])\n",
    "# hist = model.fit(traindata, testdata, batch_size=10, epochs=20, verbose=0, shuffle=True,validation_split=0.2,callbacks=[checkpoint])"
   ]
  },
  {
   "cell_type": "code",
   "execution_count": null,
   "metadata": {
    "id": "afbB58ZAETXD"
   },
   "outputs": [
    {
     "name": "stdout",
     "output_type": "stream",
     "text": [
      "Epoch 1/50\n",
      "928/928 [==============================] - 8392s 9s/step - loss: nan - accuracy: 0.5174 - val_loss: nan - val_accuracy: 0.6246\n",
      "\n",
      "Epoch 00001: val_accuracy improved from -inf to 0.62457, saving model to vgg19_coronal.h5\n",
      "Epoch 2/50\n",
      "928/928 [==============================] - 8386s 9s/step - loss: nan - accuracy: 0.5164 - val_loss: nan - val_accuracy: 0.6246\n",
      "\n",
      "Epoch 00002: val_accuracy did not improve from 0.62457\n",
      "Epoch 3/50\n",
      "928/928 [==============================] - 8388s 9s/step - loss: nan - accuracy: 0.5164 - val_loss: nan - val_accuracy: 0.6246\n",
      "\n",
      "Epoch 00003: val_accuracy did not improve from 0.62457\n",
      "Epoch 4/50\n",
      "928/928 [==============================] - 8408s 9s/step - loss: nan - accuracy: 0.5164 - val_loss: nan - val_accuracy: 0.6246\n",
      "\n",
      "Epoch 00004: val_accuracy did not improve from 0.62457\n",
      "Epoch 5/50\n",
      "928/928 [==============================] - 8387s 9s/step - loss: nan - accuracy: 0.5164 - val_loss: nan - val_accuracy: 0.6246\n",
      "\n",
      "Epoch 00005: val_accuracy did not improve from 0.62457\n",
      "Epoch 6/50\n",
      "928/928 [==============================] - ETA: 0s - loss: nan - accuracy: 0.5164"
     ]
    }
   ],
   "source": [
    "hist = model.fit(X_coronal_train, y_coronal_train, batch_size=10,epochs=50,validation_split=0.2, callbacks=[checkpoint])"
   ]
  },
  {
   "cell_type": "code",
   "execution_count": null,
   "metadata": {
    "id": "D2nzYIb4B7XG"
   },
   "outputs": [],
   "source": [
    "import matplotlib.pyplot as plt\n",
    "\n",
    "plt.plot(hist.history[\"accuracy\"])\n",
    "plt.plot(hist.history['val_accuracy'])\n",
    "plt.plot(hist.history['loss'])\n",
    "plt.plot(hist.history['val_loss'])\n",
    "plt.title(\"model accuracy\")\n",
    "plt.ylabel(\"Accuracy\")\n",
    "plt.xlabel(\"Epoch\")\n",
    "plt.legend([\"Accuracy\",\"Validation Accuracy\",\"loss\",\"Validation Loss\"])\n",
    "plt.show()"
   ]
  },
  {
   "cell_type": "code",
   "execution_count": 24,
   "metadata": {},
   "outputs": [
    {
     "name": "stdout",
     "output_type": "stream",
     "text": [
      "93/93 [==============================] - 561s 6s/step - loss: 0.6890 - accuracy: 0.4540\n"
     ]
    },
    {
     "data": {
      "text/plain": [
       "[0.6889810562133789, 0.45398980379104614]"
      ]
     },
     "execution_count": 24,
     "metadata": {},
     "output_type": "execute_result"
    }
   ],
   "source": [
    "model.load_weights(\"./vgg19_coronal.h5\")\n",
    "test_results = model.evaluate(X_coronal_test, y_coronal_test)\n",
    "test_results"
   ]
  },
  {
   "cell_type": "markdown",
   "metadata": {},
   "source": [
    "# Sagital"
   ]
  },
  {
   "cell_type": "code",
   "execution_count": 34,
   "metadata": {},
   "outputs": [
    {
     "name": "stdout",
     "output_type": "stream",
     "text": [
      "-> [1/214] Slices processed 153.\n"
     ]
    },
    {
     "ename": "ValueError",
     "evalue": "all the input arrays must have same number of dimensions, but the array at index 0 has 3 dimension(s) and the array at index 1 has 0 dimension(s)",
     "output_type": "error",
     "traceback": [
      "\u001b[1;31m---------------------------------------------------------------------------\u001b[0m",
      "\u001b[1;31mValueError\u001b[0m                                Traceback (most recent call last)",
      "\u001b[1;32m~\\AppData\\Local\\Temp/ipykernel_9404/4091277702.py\u001b[0m in \u001b[0;36m<module>\u001b[1;34m\u001b[0m\n\u001b[1;32m----> 1\u001b[1;33m \u001b[0mX_sagital_train\u001b[0m\u001b[1;33m,\u001b[0m \u001b[0my_sagital_train\u001b[0m \u001b[1;33m=\u001b[0m \u001b[0mget_slices_per_group_sagital\u001b[0m\u001b[1;33m(\u001b[0m\u001b[0mX_train\u001b[0m\u001b[1;33m,\u001b[0m \u001b[0my_train\u001b[0m\u001b[1;33m)\u001b[0m\u001b[1;33m\u001b[0m\u001b[1;33m\u001b[0m\u001b[0m\n\u001b[0m\u001b[0;32m      2\u001b[0m \u001b[0mX_sagital_train\u001b[0m \u001b[1;33m=\u001b[0m \u001b[0mX_sagital_train\u001b[0m\u001b[1;33m.\u001b[0m\u001b[0mreshape\u001b[0m\u001b[1;33m(\u001b[0m\u001b[1;33m-\u001b[0m\u001b[1;36m1\u001b[0m\u001b[1;33m,\u001b[0m \u001b[0mX_sagital_train\u001b[0m\u001b[1;33m.\u001b[0m\u001b[0mshape\u001b[0m\u001b[1;33m[\u001b[0m\u001b[1;36m1\u001b[0m\u001b[1;33m]\u001b[0m\u001b[1;33m,\u001b[0m \u001b[0mX_sagital_train\u001b[0m\u001b[1;33m.\u001b[0m\u001b[0mshape\u001b[0m\u001b[1;33m[\u001b[0m\u001b[1;36m2\u001b[0m\u001b[1;33m]\u001b[0m\u001b[1;33m,\u001b[0m \u001b[1;36m1\u001b[0m\u001b[1;33m)\u001b[0m\u001b[1;33m\u001b[0m\u001b[1;33m\u001b[0m\u001b[0m\n",
      "\u001b[1;32m~\\AppData\\Local\\Temp/ipykernel_9404/220353594.py\u001b[0m in \u001b[0;36mget_slices_per_group_sagital\u001b[1;34m(paths, categories)\u001b[0m\n\u001b[0;32m     10\u001b[0m     \u001b[1;32melse\u001b[0m\u001b[1;33m:\u001b[0m\u001b[1;33m\u001b[0m\u001b[1;33m\u001b[0m\u001b[0m\n\u001b[0;32m     11\u001b[0m       \u001b[0mnew_group\u001b[0m\u001b[1;33m,\u001b[0m \u001b[0mnew_group_cat\u001b[0m \u001b[1;33m=\u001b[0m \u001b[0mget_slices_sagital\u001b[0m\u001b[1;33m(\u001b[0m\u001b[0mpath\u001b[0m\u001b[1;33m,\u001b[0m \u001b[0mcategories\u001b[0m\u001b[1;33m[\u001b[0m\u001b[0mi\u001b[0m\u001b[1;33m]\u001b[0m\u001b[1;33m)\u001b[0m\u001b[1;33m\u001b[0m\u001b[1;33m\u001b[0m\u001b[0m\n\u001b[1;32m---> 12\u001b[1;33m       \u001b[0mgroup\u001b[0m \u001b[1;33m=\u001b[0m \u001b[0mnp\u001b[0m\u001b[1;33m.\u001b[0m\u001b[0mconcatenate\u001b[0m\u001b[1;33m(\u001b[0m\u001b[1;33m(\u001b[0m\u001b[0mgroup\u001b[0m\u001b[1;33m,\u001b[0m \u001b[0mnew_group\u001b[0m\u001b[1;33m)\u001b[0m\u001b[1;33m)\u001b[0m\u001b[1;33m\u001b[0m\u001b[1;33m\u001b[0m\u001b[0m\n\u001b[0m\u001b[0;32m     13\u001b[0m       \u001b[0mgroup_cat\u001b[0m \u001b[1;33m=\u001b[0m \u001b[0mnp\u001b[0m\u001b[1;33m.\u001b[0m\u001b[0mconcatenate\u001b[0m\u001b[1;33m(\u001b[0m\u001b[1;33m(\u001b[0m\u001b[0mgroup_cat\u001b[0m\u001b[1;33m,\u001b[0m \u001b[0mnew_group_cat\u001b[0m\u001b[1;33m)\u001b[0m\u001b[1;33m)\u001b[0m\u001b[1;33m\u001b[0m\u001b[1;33m\u001b[0m\u001b[0m\n\u001b[0;32m     14\u001b[0m \u001b[1;33m\u001b[0m\u001b[0m\n",
      "\u001b[1;32m<__array_function__ internals>\u001b[0m in \u001b[0;36mconcatenate\u001b[1;34m(*args, **kwargs)\u001b[0m\n",
      "\u001b[1;31mValueError\u001b[0m: all the input arrays must have same number of dimensions, but the array at index 0 has 3 dimension(s) and the array at index 1 has 0 dimension(s)"
     ]
    }
   ],
   "source": [
    "X_sagital_train, y_sagital_train = get_slices_per_group_sagital(X_train, y_train)\n",
    "X_sagital_train = X_sagital_train.reshape(-1, X_sagital_train.shape[1], X_sagital_train.shape[2], 1)"
   ]
  },
  {
   "cell_type": "code",
   "execution_count": null,
   "metadata": {},
   "outputs": [],
   "source": [
    "print(\"Train: X:(%d, %d, %d, %d), y: %d\" %(X_sagital_train.shape[0],X_sagital_train.shape[1],X_sagital_train.shape[2],X_sagital_train.shape[3], len(y_sagital_train)))\n",
    "print(\"Test: X:(%d, %d, %d, %d), y: %d\" %(X_sagital_test.shape[0],X_sagital_test.shape[1],X_sagital_test.shape[2],X_sagital_test.shape[3], len(y_sagital_test)))"
   ]
  },
  {
   "cell_type": "markdown",
   "metadata": {
    "id": "kl1Z4kUYHNuR"
   },
   "source": [
    "#EXTRA"
   ]
  },
  {
   "cell_type": "code",
   "execution_count": null,
   "metadata": {
    "id": "FuHg_UWaoSrD"
   },
   "outputs": [],
   "source": [
    "import matplotlib.pyplot as plt\n",
    "import matplotlib.cbook as cbook\n",
    "import cv2\n",
    "img = sitk.ReadImage(PD_file_paths[1], sitk.sitkFloat64)\n",
    "arr = sitk.GetArrayFromImage(img)\n",
    "print(arr.shape, arr.min())\n",
    "\n",
    "fig, ax = plt.subplots(num=\"MRI_demo\")\n",
    "ax.imshow(arr[38, : , :], cmap=\"gray\")\n",
    "plt.show()"
   ]
  },
  {
   "cell_type": "code",
   "execution_count": null,
   "metadata": {
    "id": "6oFQ-zSoGTni"
   },
   "outputs": [],
   "source": [
    "arr_reshaped = cv2.resize(arr[:, : , 100], (224, 224), interpolation=cv2.INTER_CUBIC)\n",
    "arr_reshaped[arr_reshaped < 0] = 0\n",
    "print(arr_reshaped.shape, arr_reshaped.min())"
   ]
  },
  {
   "cell_type": "code",
   "execution_count": 33,
   "metadata": {
    "id": "8Rf70BKGtaSF"
   },
   "outputs": [
    {
     "ename": "NameError",
     "evalue": "name 'arr_reshaped' is not defined",
     "output_type": "error",
     "traceback": [
      "\u001b[1;31m---------------------------------------------------------------------------\u001b[0m",
      "\u001b[1;31mNameError\u001b[0m                                 Traceback (most recent call last)",
      "\u001b[1;32m~\\AppData\\Local\\Temp/ipykernel_9404/911365263.py\u001b[0m in \u001b[0;36m<module>\u001b[1;34m\u001b[0m\n\u001b[1;32m----> 1\u001b[1;33m \u001b[0marr_reshaped\u001b[0m\u001b[1;33m[\u001b[0m\u001b[0marr_reshaped\u001b[0m \u001b[1;33m<\u001b[0m \u001b[1;36m0\u001b[0m\u001b[1;33m]\u001b[0m \u001b[1;33m=\u001b[0m \u001b[1;36m0\u001b[0m\u001b[1;33m\u001b[0m\u001b[1;33m\u001b[0m\u001b[0m\n\u001b[0m\u001b[0;32m      2\u001b[0m \u001b[0mprint\u001b[0m\u001b[1;33m(\u001b[0m\u001b[0marr_reshaped\u001b[0m\u001b[1;33m.\u001b[0m\u001b[0mshape\u001b[0m\u001b[1;33m,\u001b[0m \u001b[0marr_reshaped\u001b[0m\u001b[1;33m.\u001b[0m\u001b[0mmin\u001b[0m\u001b[1;33m(\u001b[0m\u001b[1;33m)\u001b[0m\u001b[1;33m)\u001b[0m\u001b[1;33m\u001b[0m\u001b[1;33m\u001b[0m\u001b[0m\n",
      "\u001b[1;31mNameError\u001b[0m: name 'arr_reshaped' is not defined"
     ]
    }
   ],
   "source": [
    "arr_reshaped[arr_reshaped < 0] = 0\n",
    "print(arr_reshaped.shape, arr_reshaped.min())"
   ]
  },
  {
   "cell_type": "code",
   "execution_count": 15,
   "metadata": {
    "id": "r5QBdyYNHOVD"
   },
   "outputs": [
    {
     "data": {
      "image/png": "[encoded data removed]",
      "text/plain": [
       "<Figure size 432x288 with 1 Axes>"
      ]
     },
     "metadata": {
      "needs_background": "light"
     },
     "output_type": "display_data"
    }
   ],
   "source": [
    "fig, ax = plt.subplots(num=\"MRI_demo\")\n",
    "ax.imshow(arr_reshaped, cmap=\"gray\") \n",
    "\n",
    "plt.show()"
   ]
  },
  {
   "cell_type": "code",
   "execution_count": 5,
   "metadata": {},
   "outputs": [
    {
     "ename": "NameError",
     "evalue": "name 'glob' is not defined",
     "output_type": "error",
     "traceback": [
      "\u001b[1;31m---------------------------------------------------------------------------\u001b[0m",
      "\u001b[1;31mNameError\u001b[0m                                 Traceback (most recent call last)",
      "\u001b[1;32m~\\AppData\\Local\\Temp/ipykernel_25788/1415570555.py\u001b[0m in \u001b[0;36m<module>\u001b[1;34m\u001b[0m\n\u001b[1;32m----> 1\u001b[1;33m \u001b[0mBUY_file_paths\u001b[0m \u001b[1;33m=\u001b[0m  \u001b[0msorted\u001b[0m\u001b[1;33m(\u001b[0m\u001b[0mglob\u001b[0m\u001b[1;33m(\u001b[0m\u001b[1;34m\"E:/ESPOL/integradora/images_preprocessed/BUY/*/ex_*.nii.gz\"\u001b[0m\u001b[1;33m)\u001b[0m\u001b[1;33m)\u001b[0m  \u001b[1;31m#68 files\u001b[0m\u001b[1;33m\u001b[0m\u001b[1;33m\u001b[0m\u001b[0m\n\u001b[0m\u001b[0;32m      2\u001b[0m \u001b[0mEAT_file_paths\u001b[0m \u001b[1;33m=\u001b[0m  \u001b[0msorted\u001b[0m\u001b[1;33m(\u001b[0m\u001b[0mglob\u001b[0m\u001b[1;33m(\u001b[0m\u001b[1;34m\"E:/ESPOL/integradora/images_preprocessed/EAT/*/ex_*.nii.gz\"\u001b[0m\u001b[1;33m)\u001b[0m\u001b[1;33m)\u001b[0m \u001b[1;31m#81files\u001b[0m\u001b[1;33m\u001b[0m\u001b[1;33m\u001b[0m\u001b[0m\n\u001b[0;32m      3\u001b[0m \u001b[0mGAMBLE_file_paths\u001b[0m \u001b[1;33m=\u001b[0m  \u001b[0msorted\u001b[0m\u001b[1;33m(\u001b[0m\u001b[0mglob\u001b[0m\u001b[1;33m(\u001b[0m\u001b[1;34m\"E:/ESPOL/integradora/images_preprocessed/GAMBLE/*/ex_*.nii.gz\"\u001b[0m\u001b[1;33m)\u001b[0m\u001b[1;33m)\u001b[0m  \u001b[1;31m#7 files\u001b[0m\u001b[1;33m\u001b[0m\u001b[1;33m\u001b[0m\u001b[0m\n\u001b[0;32m      4\u001b[0m \u001b[0mSEX_file_paths\u001b[0m \u001b[1;33m=\u001b[0m  \u001b[0msorted\u001b[0m\u001b[1;33m(\u001b[0m\u001b[0mglob\u001b[0m\u001b[1;33m(\u001b[0m\u001b[1;34m\"E:/ESPOL/integradora/images_preprocessed/SEX/*/ex_*.nii.gz\"\u001b[0m\u001b[1;33m)\u001b[0m\u001b[1;33m)\u001b[0m  \u001b[1;31m#42 files\u001b[0m\u001b[1;33m\u001b[0m\u001b[1;33m\u001b[0m\u001b[0m\n\u001b[0;32m      5\u001b[0m \u001b[1;33m\u001b[0m\u001b[0m\n",
      "\u001b[1;31mNameError\u001b[0m: name 'glob' is not defined"
     ]
    }
   ],
   "source": [
    "BUY_file_paths =  sorted(glob(\"E:/ESPOL/integradora/images_preprocessed/BUY/*/ex_*.nii.gz\"))  #68 files\n",
    "EAT_file_paths =  sorted(glob(\"E:/ESPOL/integradora/images_preprocessed/EAT/*/ex_*.nii.gz\")) #81files\n",
    "GAMBLE_file_paths =  sorted(glob(\"E:/ESPOL/integradora/images_preprocessed/GAMBLE/*/ex_*.nii.gz\"))  #7 files\n",
    "SEX_file_paths =  sorted(glob(\"E:/ESPOL/integradora/images_preprocessed/SEX/*/ex_*.nii.gz\"))  #42 files\n",
    "\n",
    "PD_file_paths =  sorted(glob(\"E:/ESPOL/integradora/images_preprocessed/PD/*/ex_*.nii.gz\"))  #100 files"
   ]
  },
  {
   "cell_type": "code",
   "execution_count": 6,
   "metadata": {},
   "outputs": [
    {
     "ename": "NameError",
     "evalue": "name 'BUY_file_paths' is not defined",
     "output_type": "error",
     "traceback": [
      "\u001b[1;31m---------------------------------------------------------------------------\u001b[0m",
      "\u001b[1;31mNameError\u001b[0m                                 Traceback (most recent call last)",
      "\u001b[1;32m~\\AppData\\Local\\Temp/ipykernel_25788/512374688.py\u001b[0m in \u001b[0;36m<module>\u001b[1;34m\u001b[0m\n\u001b[1;32m----> 1\u001b[1;33m \u001b[0mprint\u001b[0m\u001b[1;33m(\u001b[0m\u001b[0mlen\u001b[0m\u001b[1;33m(\u001b[0m\u001b[0mBUY_file_paths\u001b[0m\u001b[1;33m)\u001b[0m\u001b[1;33m,\u001b[0m \u001b[0mBUY_file_paths\u001b[0m\u001b[1;33m[\u001b[0m\u001b[1;33m:\u001b[0m\u001b[1;36m3\u001b[0m\u001b[1;33m]\u001b[0m\u001b[1;33m)\u001b[0m\u001b[1;33m\u001b[0m\u001b[1;33m\u001b[0m\u001b[0m\n\u001b[0m\u001b[0;32m      2\u001b[0m \u001b[0mprint\u001b[0m\u001b[1;33m(\u001b[0m\u001b[0mlen\u001b[0m\u001b[1;33m(\u001b[0m\u001b[0mEAT_file_paths\u001b[0m\u001b[1;33m)\u001b[0m\u001b[1;33m,\u001b[0m \u001b[0mEAT_file_paths\u001b[0m\u001b[1;33m[\u001b[0m\u001b[1;33m:\u001b[0m\u001b[1;36m3\u001b[0m\u001b[1;33m]\u001b[0m\u001b[1;33m)\u001b[0m\u001b[1;33m\u001b[0m\u001b[1;33m\u001b[0m\u001b[0m\n\u001b[0;32m      3\u001b[0m \u001b[0mprint\u001b[0m\u001b[1;33m(\u001b[0m\u001b[0mlen\u001b[0m\u001b[1;33m(\u001b[0m\u001b[0mGAMBLE_file_paths\u001b[0m\u001b[1;33m)\u001b[0m\u001b[1;33m,\u001b[0m \u001b[0mGAMBLE_file_paths\u001b[0m\u001b[1;33m[\u001b[0m\u001b[1;33m:\u001b[0m\u001b[1;36m3\u001b[0m\u001b[1;33m]\u001b[0m\u001b[1;33m)\u001b[0m\u001b[1;33m\u001b[0m\u001b[1;33m\u001b[0m\u001b[0m\n\u001b[0;32m      4\u001b[0m \u001b[0mprint\u001b[0m\u001b[1;33m(\u001b[0m\u001b[0mlen\u001b[0m\u001b[1;33m(\u001b[0m\u001b[0mSEX_file_paths\u001b[0m\u001b[1;33m)\u001b[0m\u001b[1;33m,\u001b[0m \u001b[0mSEX_file_paths\u001b[0m\u001b[1;33m[\u001b[0m\u001b[1;33m:\u001b[0m\u001b[1;36m3\u001b[0m\u001b[1;33m]\u001b[0m\u001b[1;33m)\u001b[0m\u001b[1;33m\u001b[0m\u001b[1;33m\u001b[0m\u001b[0m\n\u001b[0;32m      5\u001b[0m \u001b[1;33m\u001b[0m\u001b[0m\n",
      "\u001b[1;31mNameError\u001b[0m: name 'BUY_file_paths' is not defined"
     ]
    }
   ],
   "source": [
    "print(len(BUY_file_paths), BUY_file_paths[:3])\n",
    "print(len(EAT_file_paths), EAT_file_paths[:3])\n",
    "print(len(GAMBLE_file_paths), GAMBLE_file_paths[:3])\n",
    "print(len(SEX_file_paths), SEX_file_paths[:3])\n",
    "\n",
    "print(len(PD_file_paths), PD_file_paths[:3])"
   ]
  },
  {
   "cell_type": "code",
   "execution_count": 3,
   "metadata": {},
   "outputs": [],
   "source": [
    "import os\n",
    "import shutil\n",
    "import subprocess"
   ]
  },
  {
   "cell_type": "code",
   "execution_count": 4,
   "metadata": {},
   "outputs": [
    {
     "ename": "NameError",
     "evalue": "name 'BUY_file_paths' is not defined",
     "output_type": "error",
     "traceback": [
      "\u001b[1;31m---------------------------------------------------------------------------\u001b[0m",
      "\u001b[1;31mNameError\u001b[0m                                 Traceback (most recent call last)",
      "\u001b[1;32m~\\AppData\\Local\\Temp/ipykernel_25788/2524329886.py\u001b[0m in \u001b[0;36m<module>\u001b[1;34m\u001b[0m\n\u001b[0;32m      1\u001b[0m \u001b[0mdestiny\u001b[0m \u001b[1;33m=\u001b[0m \u001b[1;34m\"E:/ESPOL/integradora/desorders/PREPROCESSED/\"\u001b[0m \u001b[1;33m+\u001b[0m \u001b[1;34m\"BUY/\"\u001b[0m\u001b[1;33m\u001b[0m\u001b[1;33m\u001b[0m\u001b[0m\n\u001b[0;32m      2\u001b[0m \u001b[1;33m\u001b[0m\u001b[0m\n\u001b[1;32m----> 3\u001b[1;33m \u001b[1;32mfor\u001b[0m \u001b[0mfile\u001b[0m \u001b[1;32min\u001b[0m \u001b[0mBUY_file_paths\u001b[0m\u001b[1;33m:\u001b[0m\u001b[1;33m\u001b[0m\u001b[1;33m\u001b[0m\u001b[0m\n\u001b[0m\u001b[0;32m      4\u001b[0m     \u001b[0mid\u001b[0m \u001b[1;33m=\u001b[0m \u001b[0mfile\u001b[0m\u001b[1;33m.\u001b[0m\u001b[0msplit\u001b[0m\u001b[1;33m(\u001b[0m\u001b[1;34m\"\\\\\"\u001b[0m\u001b[1;33m)\u001b[0m\u001b[1;33m[\u001b[0m\u001b[1;36m1\u001b[0m\u001b[1;33m]\u001b[0m\u001b[1;33m\u001b[0m\u001b[1;33m\u001b[0m\u001b[0m\n\u001b[0;32m      5\u001b[0m     \u001b[0mshutil\u001b[0m\u001b[1;33m.\u001b[0m\u001b[0mcopyfile\u001b[0m\u001b[1;33m(\u001b[0m\u001b[0mfile\u001b[0m\u001b[1;33m,\u001b[0m \u001b[0mdestiny\u001b[0m \u001b[1;33m+\u001b[0m \u001b[0mid\u001b[0m \u001b[1;33m+\u001b[0m \u001b[1;34m\".nii.gz\"\u001b[0m\u001b[1;33m)\u001b[0m\u001b[1;33m\u001b[0m\u001b[1;33m\u001b[0m\u001b[0m\n",
      "\u001b[1;31mNameError\u001b[0m: name 'BUY_file_paths' is not defined"
     ]
    }
   ],
   "source": [
    "destiny = \"E:/ESPOL/integradora/desorders/PREPROCESSED/\" + \"BUY/\"\n",
    "\n",
    "for file in BUY_file_paths:\n",
    "    id = file.split(\"\\\\\")[1]\n",
    "    shutil.copyfile(file, destiny + id + \".nii.gz\")"
   ]
  },
  {
   "cell_type": "code",
   "execution_count": null,
   "metadata": {},
   "outputs": [],
   "source": []
  }
 ],
 "metadata": {
  "colab": {
   "collapsed_sections": [
    "PvAOESUMZ3vC"
   ],
   "name": "Models.ipynb",
   "provenance": []
  },
  "kernelspec": {
   "display_name": "Python 3 (ipykernel)",
   "language": "python",
   "name": "python3"
  },
  "language_info": {
   "codemirror_mode": {
    "name": "ipython",
    "version": 3
   },
   "file_extension": ".py",
   "mimetype": "text/x-python",
   "name": "python",
   "nbconvert_exporter": "python",
   "pygments_lexer": "ipython3",
   "version": "3.9.5"
  }
 },
 "nbformat": 4,
 "nbformat_minor": 1
}
