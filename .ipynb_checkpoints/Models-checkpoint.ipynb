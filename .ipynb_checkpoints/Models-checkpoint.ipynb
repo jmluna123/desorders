{
 "cells": [
  {
   "cell_type": "code",
   "execution_count": 1,
   "metadata": {
    "id": "5O_u_2VEVaxu"
   },
   "outputs": [],
   "source": [
    "import numpy as np\n",
    "import SimpleITK as sitk\n",
    "import os\n",
    "os.environ['TF_CPP_MIN_LOG_LEVEL'] = '2'"
   ]
  },
  {
   "cell_type": "markdown",
   "metadata": {
    "id": "3ZDM9TeHSpdz"
   },
   "source": [
    "# DATA\n"
   ]
  },
  {
   "cell_type": "markdown",
   "metadata": {
    "id": "PvAOESUMZ3vC"
   },
   "source": [
    "## GET DATA"
   ]
  },
  {
   "cell_type": "code",
   "execution_count": 2,
   "metadata": {
    "id": "UEuSwGAuUIDE"
   },
   "outputs": [],
   "source": [
    "from glob import glob\n",
    "from typing import  List"
   ]
  },
  {
   "cell_type": "code",
   "execution_count": 52,
   "metadata": {
    "id": "M_bEIIkaTMVc"
   },
   "outputs": [],
   "source": [
    "BUY_file_paths =  sorted(glob(\"./SEGMENTED/BUY/*.nii.gz\"))  #68 files\n",
    "EAT_file_paths =  sorted(glob(\"./SEGMENTED/EAT/*.nii.gz\"))  #85 files\n",
    "GAMBLE_file_paths =  sorted(glob(\"./SEGMENTED/GAMBLE/*.nii.gz\")) #7 files\n",
    "SEX_file_paths =  sorted(glob(\"./SEGMENTED/SEX/*.nii.gz\"))  #42 files\n",
    "\n",
    "PD_file_paths =  sorted(glob(\"./SEGMENTED/PD/*.nii.gz\"))  #100 files"
   ]
  },
  {
   "cell_type": "code",
   "execution_count": 53,
   "metadata": {},
   "outputs": [],
   "source": [
    "BUY_file_paths =  sorted(glob(\"./PREPROCESSED/BUY/*.nii.gz\"))  #42 files\n",
    "EAT_file_paths =  sorted(glob(\"./PREPROCESSED/EAT/*.nii.gz\"))  #81 files\n",
    "GAMBLE_file_paths =  []#sorted(glob(\"./PREPROCESSED/GAMBLE/*.nii.gz\")) #7 files\n",
    "SEX_file_paths =  []#sorted(glob(\"./PREPROCESSED/SEX/*.nii.gz\"))  #22 files\n",
    "\n",
    "PD_file_paths =  sorted(glob(\"./PREPROCESSED/PD/*.nii.gz\"))  #116 files"
   ]
  },
  {
   "cell_type": "code",
   "execution_count": 54,
   "metadata": {
    "colab": {
     "base_uri": "https://localhost:8080/"
    },
    "id": "FhjKHY1eUK8T",
    "outputId": "b3e7fe30-d891-486d-d291-af6046269e15"
   },
   "outputs": [
    {
     "name": "stdout",
     "output_type": "stream",
     "text": [
      "42 ['./PREPROCESSED/BUY\\\\3018.nii.gz', './PREPROCESSED/BUY\\\\3062.nii.gz', './PREPROCESSED/BUY\\\\3168.nii.gz']\n",
      "81 ['./PREPROCESSED/EAT\\\\3002.nii.gz', './PREPROCESSED/EAT\\\\3023.nii.gz', './PREPROCESSED/EAT\\\\3062.nii.gz']\n",
      "0 []\n",
      "0 []\n",
      "116 ['./PREPROCESSED/PD\\\\3006.nii.gz', './PREPROCESSED/PD\\\\3012.nii.gz', './PREPROCESSED/PD\\\\3014.nii.gz']\n"
     ]
    }
   ],
   "source": [
    "print(len(BUY_file_paths), BUY_file_paths[:3])\n",
    "print(len(EAT_file_paths), EAT_file_paths[:3])\n",
    "print(len(GAMBLE_file_paths), GAMBLE_file_paths[:3])\n",
    "print(len(SEX_file_paths), SEX_file_paths[:3])\n",
    "\n",
    "print(len(PD_file_paths), PD_file_paths[:3])"
   ]
  },
  {
   "cell_type": "code",
   "execution_count": 55,
   "metadata": {},
   "outputs": [
    {
     "name": "stdout",
     "output_type": "stream",
     "text": [
      "123\n",
      "116\n"
     ]
    }
   ],
   "source": [
    "print(len(BUY_file_paths) + len(EAT_file_paths) + len(GAMBLE_file_paths) + len(SEX_file_paths))\n",
    "print(len(PD_file_paths))"
   ]
  },
  {
   "cell_type": "markdown",
   "metadata": {
    "id": "oIEPs4fyi_Do"
   },
   "source": [
    "## SPLIT DATA"
   ]
  },
  {
   "cell_type": "code",
   "execution_count": 6,
   "metadata": {
    "colab": {
     "base_uri": "https://localhost:8080/"
    },
    "id": "smYhVSm3REZT",
    "outputId": "4e5fb0de-9dbb-4e64-f4ac-07e3dd37abe6"
   },
   "outputs": [
    {
     "data": {
      "text/plain": [
       "(None, None)"
      ]
     },
     "execution_count": 6,
     "metadata": {},
     "output_type": "execute_result"
    }
   ],
   "source": [
    "X_dataset = []\n",
    "y_dataset = []\n",
    "\n",
    "X_dataset.extend(PD_file_paths), y_dataset.extend([1] * len(PD_file_paths))\n",
    "X_dataset.extend(BUY_file_paths), y_dataset.extend([2] * len(BUY_file_paths))\n",
    "X_dataset.extend(EAT_file_paths), y_dataset.extend([3] * len(EAT_file_paths))\n",
    "#X_dataset.extend(GAMBLE_file_paths), y_dataset.extend([4] * len(GAMBLE_file_paths))\n",
    "#X_dataset.extend(SEX_file_paths), y_dataset.extend([5] * len(SEX_file_paths))"
   ]
  },
  {
   "cell_type": "code",
   "execution_count": 7,
   "metadata": {
    "id": "Uqc7y2bki-jm"
   },
   "outputs": [],
   "source": [
    "from sklearn.model_selection import train_test_split\n",
    "X_train, X_test, y_train, y_test = train_test_split(X_dataset, y_dataset, test_size = 0.2, stratify=y_dataset)"
   ]
  },
  {
   "cell_type": "code",
   "execution_count": 8,
   "metadata": {
    "colab": {
     "base_uri": "https://localhost:8080/"
    },
    "id": "ulHtkPzaYDdz",
    "outputId": "68995ed6-84a9-4e22-c0d2-0326b3d42b74"
   },
   "outputs": [
    {
     "name": "stdout",
     "output_type": "stream",
     "text": [
      "Dataset: 239 239\n",
      "Train: 191 191\n",
      "Test: 48 48\n"
     ]
    }
   ],
   "source": [
    "print(\"Dataset:\", len(X_dataset), len(y_dataset))\n",
    "print(\"Train:\", len(X_train), len(y_train))\n",
    "print(\"Test:\", len(X_test), len(y_test))"
   ]
  },
  {
   "cell_type": "markdown",
   "metadata": {
    "id": "V5gQU1FEGLxm"
   },
   "source": [
    "## PREPROSSESING"
   ]
  },
  {
   "cell_type": "code",
   "execution_count": 9,
   "metadata": {
    "id": "tmO7ktYZjyzg"
   },
   "outputs": [],
   "source": [
    "def get_category(category, is_binary = True):\n",
    "  result = np.zeros(2 if is_binary else 5)\n",
    "  if is_binary:\n",
    "    return 1 if category == 1 else 0\n",
    "  elif category == 1:\n",
    "    result[0] = 1\n",
    "  else:\n",
    "    result[category-1] = 1\n",
    "  return result"
   ]
  },
  {
   "cell_type": "code",
   "execution_count": 10,
   "metadata": {
    "id": "dodkXvulaU6J"
   },
   "outputs": [],
   "source": [
    "def get_categories(y_data):\n",
    "  categories = None\n",
    "  is_first = True\n",
    "  for category in y_data:\n",
    "    if is_first:\n",
    "      categories = np.array([get_category(category)])\n",
    "      is_first = False\n",
    "    else:\n",
    "      categories = np.concatenate((categories,[get_category(category)]))\n",
    "  return categories"
   ]
  },
  {
   "cell_type": "code",
   "execution_count": 11,
   "metadata": {
    "colab": {
     "base_uri": "https://localhost:8080/"
    },
    "id": "SVlfjfF3NfXM",
    "outputId": "393185e6-679c-4a30-8782-66dea49fdeec"
   },
   "outputs": [
    {
     "name": "stdout",
     "output_type": "stream",
     "text": [
      "0 [0. 0. 0. 0. 1.]\n",
      "1 [1. 0. 0. 0. 0.]\n"
     ]
    }
   ],
   "source": [
    "print(get_category(5, True), get_category(5, False))\n",
    "print(get_category(1, True), get_category(1, False))"
   ]
  },
  {
   "cell_type": "markdown",
   "metadata": {},
   "source": [
    "## 3D All Brain"
   ]
  },
  {
   "cell_type": "code",
   "execution_count": 12,
   "metadata": {},
   "outputs": [],
   "source": [
    "import cv2\n",
    "from scipy import ndimage\n",
    "dimension = 100\n",
    "def get_slices_3d_all(path, category):\n",
    "    img = sitk.ReadImage(path, sitk.sitkFloat64)\n",
    "    arr = sitk.GetArrayFromImage(img)\n",
    "    \n",
    "    slice = arr[30:130, : , :]\n",
    "    \n",
    "    arr = np.zeros([slice.shape[0], dimension,dimension])\n",
    "    \n",
    "    count = 0\n",
    "    for i in range(arr.shape[0]):\n",
    "        if arr[i:,:].max() != 0.0:\n",
    "            print(count)\n",
    "        arr[i, : , :] = cv2.resize(slice[i, : , :], (dimension, dimension), interpolation=cv2.INTER_CUBIC)\n",
    "        arr[arr<0] = 0\n",
    "        count += 1\n",
    "    \n",
    "    slices = np.array([arr])\n",
    "    slices = slices.reshape(1,arr.shape[0], arr.shape[1], arr.shape[2], 1)\n",
    "    slices_cat = np.array([get_category(category)])\n",
    "    \n",
    "    rotated = ndimage.rotate(arr, 45, reshape=False, axes=(1, 2))\n",
    "    rotated = rotated.reshape(1,arr.shape[0], arr.shape[1], arr.shape[2], 1)\n",
    "    slices = np.concatenate((slices, rotated))\n",
    "    slices_cat = np.concatenate((slices_cat, [get_category(category)]))\n",
    "    \n",
    "    return slices, slices_cat"
   ]
  },
  {
   "cell_type": "code",
   "execution_count": 13,
   "metadata": {},
   "outputs": [],
   "source": [
    "def get_slices_per_group_3d_all(paths, categories):\n",
    "    group = None\n",
    "    group_cat = None\n",
    "\n",
    "    count = 1\n",
    "    for i in range(len(paths)):\n",
    "        path = paths[i]\n",
    "        try:\n",
    "            if i == 0:\n",
    "                group, group_cat = get_slices_3d_all(path, categories[i])\n",
    "            else:\n",
    "                new_group, new_group_cat = get_slices_3d_all(path, categories[i])\n",
    "                group = np.concatenate((group, new_group))\n",
    "                group_cat = np.concatenate((group_cat, new_group_cat))\n",
    "\n",
    "            print(\"-> [%d/%d] Image processed.\" %(count,len(paths)))\n",
    "            count+=1\n",
    "        except:\n",
    "            print(\"Error in\", path)\n",
    "    return group, group_cat"
   ]
  },
  {
   "cell_type": "code",
   "execution_count": 14,
   "metadata": {},
   "outputs": [
    {
     "name": "stdout",
     "output_type": "stream",
     "text": [
      "(2, 100, 100, 100, 1)\n",
      "(2,)\n"
     ]
    }
   ],
   "source": [
    "#test with one image\n",
    "slices, slices_cat = get_slices_3d_all(X_dataset[11], y_dataset[0])\n",
    "print(slices.shape)\n",
    "print(slices_cat.shape)"
   ]
  },
  {
   "cell_type": "code",
   "execution_count": 15,
   "metadata": {},
   "outputs": [
    {
     "name": "stdout",
     "output_type": "stream",
     "text": [
      "-> [1/3] Image processed.\n",
      "-> [2/3] Image processed.\n",
      "-> [3/3] Image processed.\n",
      "(6, 100, 100, 100, 1)\n",
      "(6,)\n"
     ]
    }
   ],
   "source": [
    "slices, slices_cat = get_slices_per_group_3d_all(X_dataset[:3], y_dataset[:3])\n",
    "print(slices.shape)\n",
    "print(slices_cat.shape)"
   ]
  },
  {
   "cell_type": "code",
   "execution_count": 16,
   "metadata": {},
   "outputs": [
    {
     "name": "stdout",
     "output_type": "stream",
     "text": [
      "3854.9990418601315\n"
     ]
    },
    {
     "data": {
      "image/png": "[encoded data removed]",
      "text/plain": [
       "<Figure size 432x288 with 1 Axes>"
      ]
     },
     "metadata": {
      "needs_background": "light"
     },
     "output_type": "display_data"
    }
   ],
   "source": [
    "import matplotlib.pyplot as plt\n",
    "import matplotlib.cbook as cbook\n",
    "\n",
    "i = 50\n",
    "print(slices[0,i,:,:,0].max())\n",
    "fig, ax = plt.subplots(num=\"MRI_demo\")\n",
    "ax.imshow(slices[5,i,:,:,0], cmap=\"gray\")\n",
    "plt.show()"
   ]
  },
  {
   "cell_type": "markdown",
   "metadata": {},
   "source": [
    "## 3D"
   ]
  },
  {
   "cell_type": "code",
   "execution_count": 17,
   "metadata": {},
   "outputs": [],
   "source": [
    "import cv2\n",
    "\n",
    "dimension = 120\n",
    "x = 32\n",
    "def get_slices_3d(path, category):\n",
    "    img = sitk.ReadImage(path, sitk.sitkFloat64)\n",
    "    arr = sitk.GetArrayFromImage(img)\n",
    "\n",
    "    #normalize the matrix, numbers between 0.0 - 1.0\n",
    "    #arr = arr / arr.max()\n",
    "    \n",
    "    slice = arr[68 - x :68,115:200,30:150]\n",
    "    \n",
    "    arr = np.zeros([x, dimension,dimension])\n",
    "    \n",
    "    for i in range(arr.shape[0]):\n",
    "        arr[i, : , :] = cv2.resize(slice[i, : , :], (dimension, dimension), interpolation=cv2.INTER_CUBIC)\n",
    "    \n",
    "    slices = np.array([arr])\n",
    "    slices = slices.reshape(1,arr.shape[0], arr.shape[1], arr.shape[2], 1)\n",
    "    slices_cat = np.array([get_category(category)])\n",
    "    \n",
    "    return slices, slices_cat"
   ]
  },
  {
   "cell_type": "code",
   "execution_count": 18,
   "metadata": {},
   "outputs": [],
   "source": [
    "def get_slices_per_group_3d(paths, categories):\n",
    "    group = None\n",
    "    group_cat = None\n",
    "\n",
    "    count = 1\n",
    "    for i in range(len(paths)):\n",
    "        path = paths[i]\n",
    "        if i == 0:\n",
    "            group, group_cat = get_slices_3d(path, categories[i])\n",
    "        else:\n",
    "            new_group, new_group_cat = get_slices_3d(path, categories[i])\n",
    "            group = np.concatenate((group, new_group))\n",
    "            group_cat = np.concatenate((group_cat, new_group_cat))\n",
    "\n",
    "        print(\"-> [%d/%d] Image processed.\" %(count,len(paths)))\n",
    "        count+=1\n",
    "    return group, group_cat"
   ]
  },
  {
   "cell_type": "code",
   "execution_count": 19,
   "metadata": {},
   "outputs": [
    {
     "name": "stdout",
     "output_type": "stream",
     "text": [
      "(1, 32, 120, 120, 1)\n",
      "(1,)\n"
     ]
    }
   ],
   "source": [
    "#test with one image\n",
    "slices, slices_cat = get_slices_3d(X_dataset[0], y_dataset[0])\n",
    "print(slices.shape)\n",
    "print(slices_cat.shape)"
   ]
  },
  {
   "cell_type": "code",
   "execution_count": 20,
   "metadata": {},
   "outputs": [
    {
     "name": "stdout",
     "output_type": "stream",
     "text": [
      "-> [1/3] Image processed.\n",
      "-> [2/3] Image processed.\n",
      "-> [3/3] Image processed.\n",
      "(3, 32, 120, 120, 1)\n",
      "(3,)\n"
     ]
    }
   ],
   "source": [
    "slices, slices_cat = get_slices_per_group_3d(X_dataset[:3], y_dataset[:3])\n",
    "print(slices.shape)\n",
    "print(slices_cat.shape)"
   ]
  },
  {
   "cell_type": "markdown",
   "metadata": {
    "id": "nwSGlhsb0Iaw"
   },
   "source": [
    "## AXIAL (3 channels)\n",
    "arr[ xxx , : , : ] axial"
   ]
  },
  {
   "cell_type": "code",
   "execution_count": 21,
   "metadata": {},
   "outputs": [],
   "source": [
    "import cv2\n",
    "\n",
    "SLICE_NUMBER = 50\n",
    "dim = 224\n",
    "def get_slices_axial_3c(path, category):\n",
    "  img = sitk.ReadImage(path, sitk.sitkFloat64)\n",
    "  arr = sitk.GetArrayFromImage(img)\n",
    "  arr = arr[49:68,115:200,30:150]\n",
    "\n",
    "  slices = None\n",
    "  slices_cat = None\n",
    "  count = 0\n",
    "\n",
    "  for i in range(arr.shape[0]):\n",
    "    slice = arr[arr.shape[0] - i -1, : , : ]\n",
    "    slice = cv2.resize(slice, (dim, dim), interpolation=cv2.INTER_CUBIC)\n",
    "    slice[slice < 0] = 0\n",
    "    if slice.max() != 0:\n",
    "        slice = cv2.merge((slice,slice,slice))\n",
    "        if count == 0:\n",
    "            slices = np.array([slice])\n",
    "            slices_cat = np.array([get_category(category)])\n",
    "        if count < SLICE_NUMBER:\n",
    "            slices = np.concatenate((slices,[slice]))\n",
    "            slices_cat = np.concatenate((slices_cat,[get_category(category)]))\n",
    "        count+=1\n",
    "  #print(\"->\", count , \"slices of\", arr.shape[0], \"where used for image\", path)\n",
    "  return slices, slices_cat"
   ]
  },
  {
   "cell_type": "code",
   "execution_count": 22,
   "metadata": {},
   "outputs": [],
   "source": [
    "def get_slices_per_group_axial_3c(paths, categories):\n",
    "    \n",
    "    group = None\n",
    "    group_cat = None\n",
    "\n",
    "    count = 1\n",
    "    for i in range(len(paths)):\n",
    "        path = paths[i]\n",
    "        if i == 0:\n",
    "            group, group_cat = get_slices_axial_3c(path, categories[i])\n",
    "        else:\n",
    "            try:\n",
    "                new_group, new_group_cat = get_slices_axial_3c(path, categories[i])\n",
    "                group = np.concatenate((group, new_group))\n",
    "                group_cat = np.concatenate((group_cat, new_group_cat))\n",
    "            except:\n",
    "                print('error')\n",
    "\n",
    "        print(\"-> [%d/%d] Slices processed %d.\" %(count,len(paths), group.shape[0] ))\n",
    "        count+=1\n",
    "    return group, group_cat"
   ]
  },
  {
   "cell_type": "code",
   "execution_count": 23,
   "metadata": {},
   "outputs": [
    {
     "name": "stdout",
     "output_type": "stream",
     "text": [
      "-> [1/3] Slices processed 20.\n",
      "-> [2/3] Slices processed 40.\n",
      "-> [3/3] Slices processed 60.\n",
      "(60, 224, 224, 3)\n",
      "(60,)\n"
     ]
    }
   ],
   "source": [
    "#test with one image\n",
    "i = 3\n",
    "slices, slices_cat = get_slices_per_group_axial_3c(X_dataset[0:i], y_dataset[0:i])\n",
    "print(slices.shape)\n",
    "print(slices_cat.shape)"
   ]
  },
  {
   "cell_type": "markdown",
   "metadata": {
    "id": "nwSGlhsb0Iaw"
   },
   "source": [
    "## AXIAL\n",
    "arr[ xxx , : , : ] axial"
   ]
  },
  {
   "cell_type": "code",
   "execution_count": 24,
   "metadata": {
    "id": "9cwlnfteXPLb"
   },
   "outputs": [],
   "source": [
    "import cv2\n",
    "\n",
    "SLICE_NUMBER = 20\n",
    "def get_slices_axial(path, category):\n",
    "  img = sitk.ReadImage(path, sitk.sitkFloat64)\n",
    "  arr = sitk.GetArrayFromImage(img)\n",
    "    \n",
    "  #normalize the matrix, numbers between 0.0 - 1.0\n",
    "  arr = arr / arr.max()\n",
    "  arr = arr[49:68,115:200,30:150]\n",
    "  slices = None\n",
    "  slices_cat = None\n",
    "  count = 0\n",
    "\n",
    "  for i in range(arr.shape[0]):\n",
    "    slice = arr[arr.shape[0] - i -1, : , : ]\n",
    "    slice = cv2.resize(slice, (120, 120), interpolation=cv2.INTER_CUBIC)\n",
    "    slice[slice < 0] = 0\n",
    "    if slice.max() != 0:\n",
    "      if count == 0:\n",
    "        slices = np.array([slice])\n",
    "        slices_cat = np.array([get_category(category)])\n",
    "      if count < SLICE_NUMBER:\n",
    "        slices = np.concatenate((slices,[slice]))\n",
    "        slices_cat = np.concatenate((slices_cat,[get_category(category)]))\n",
    "      count+=1\n",
    "  #print(\"->\", count , \"slices of\", arr.shape[0], \"where used for image\", path)\n",
    "  return slices, slices_cat"
   ]
  },
  {
   "cell_type": "code",
   "execution_count": 25,
   "metadata": {
    "id": "lQz7bYsHENEt"
   },
   "outputs": [],
   "source": [
    "def get_slices_per_group_axial(paths, categories):\n",
    "  group = None\n",
    "  group_cat = None\n",
    "\n",
    "  count = 1\n",
    "  for i in range(len(paths)):\n",
    "    path = paths[i]\n",
    "    if i == 0:\n",
    "      group, group_cat = get_slices_axial(path, categories[i])\n",
    "    else:\n",
    "        try:\n",
    "          new_group, new_group_cat = get_slices_axial(path, categories[i])\n",
    "          group = np.concatenate((group, new_group))\n",
    "          group_cat = np.concatenate((group_cat, new_group_cat))\n",
    "        except:\n",
    "            print(\"error\")\n",
    "    print(\"-> [%d/%d] Slices processed %d.\" %(count,len(paths), group.shape[0] ))\n",
    "    count+=1\n",
    "  return group, group_cat"
   ]
  },
  {
   "cell_type": "code",
   "execution_count": 26,
   "metadata": {
    "colab": {
     "base_uri": "https://localhost:8080/"
    },
    "id": "lhXSxy0Y1eEp",
    "outputId": "e71253d0-380d-44c8-80d8-d9ed159c0840"
   },
   "outputs": [
    {
     "name": "stdout",
     "output_type": "stream",
     "text": [
      "(20, 120, 120)\n",
      "(20,)\n"
     ]
    }
   ],
   "source": [
    "#test with one image\n",
    "slices, slices_cat = get_slices_axial(X_dataset[0], y_dataset[0])\n",
    "print(slices.shape)\n",
    "print(slices_cat.shape)"
   ]
  },
  {
   "cell_type": "markdown",
   "metadata": {
    "id": "M_DZGnMbC13P"
   },
   "source": [
    "## CORONAL\n",
    "arr[ : , xxx , : ] coronal "
   ]
  },
  {
   "cell_type": "code",
   "execution_count": 27,
   "metadata": {
    "id": "JCnw2xZj_PT7"
   },
   "outputs": [],
   "source": [
    "import cv2\n",
    "# type: the number of the group\n",
    "# group_n: the count of diferent groups\n",
    "# for example,we can have the groups \n",
    "#    1) [EAT, GAMBLE, SEX, BUY, PURE] and the image is from GAMBLE\n",
    "#     -> type = 2\n",
    "#     -> group_n = 5\n",
    "#    2) or [PURE, ICD] and the image is from PURE\n",
    "#     -> type = 1\n",
    "#     -> group_n = 2\n",
    "#output:\n",
    "#     -> normalized array of the slices \n",
    "#     -> the category of each image in one-hot encoded.\n",
    "# for example\n",
    "#   1) [0,1,0,0,0], and \n",
    "#   2) [1,0]\n",
    "def get_slices_coronal(path, category):\n",
    "  img = sitk.ReadImage(path, sitk.sitkFloat64)\n",
    "  arr = sitk.GetArrayFromImage(img)\n",
    "\n",
    "  #normalize the matrix, numbers between 0.0 - 1.0\n",
    "  arr = arr / arr.max()\n",
    "  arr = arr = arr[49:68,115:200,30:150]\n",
    "\n",
    "  slices = None\n",
    "  slices_cat = None\n",
    "  count = 0\n",
    "\n",
    "  for i in range(arr.shape[0]):\n",
    "    slice = arr[:, i , : ]\n",
    "    slice = cv2.resize(slice, (224, 224), interpolation=cv2.INTER_CUBIC)\n",
    "    slice[slice < 0] = 0\n",
    "    if slice.max() != 0:\n",
    "      if count == 0:\n",
    "        slices = np.array([slice])\n",
    "        slices_cat = np.array([get_category(category)])\n",
    "      else:\n",
    "        slices = np.concatenate((slices,[slice]))\n",
    "        slices_cat = np.concatenate((slices_cat,[get_category(category)]))\n",
    "      count+=1\n",
    "  #print(\"->\", count , \"slices of\", arr.shape[0], \"where used for image\", path)\n",
    "  return slices, slices_cat"
   ]
  },
  {
   "cell_type": "code",
   "execution_count": 28,
   "metadata": {
    "id": "9-LKeV1d_PT-"
   },
   "outputs": [],
   "source": [
    "def get_slices_per_group_coronal(paths, categories):\n",
    "  group = None\n",
    "  group_cat = None\n",
    "\n",
    "  count = 1\n",
    "  for i in range(len(paths)):\n",
    "    path = paths[i]\n",
    "    if i == 0:\n",
    "      group, group_cat = get_slices_coronal(path, categories[i])\n",
    "    else:\n",
    "        try:\n",
    "          new_group, new_group_cat = get_slices_coronal(path, categories[i])\n",
    "          group = np.concatenate((group, new_group))\n",
    "          group_cat = np.concatenate((group_cat, new_group_cat))\n",
    "        except:\n",
    "            print(\"error\")\n",
    "\n",
    "    print(\"-> [%d/%d] Slices processed %d.\" %(count,len(paths), group.shape[0] ))\n",
    "    count+=1\n",
    "  return group, group_cat"
   ]
  },
  {
   "cell_type": "code",
   "execution_count": 29,
   "metadata": {
    "colab": {
     "base_uri": "https://localhost:8080/"
    },
    "id": "2eE7lOFb_PT_",
    "outputId": "6209c074-fd58-4e2e-d6e5-64602a10d748"
   },
   "outputs": [
    {
     "name": "stdout",
     "output_type": "stream",
     "text": [
      "(19, 224, 224)\n",
      "(19,)\n"
     ]
    }
   ],
   "source": [
    "#test with one image\n",
    "slices, slices_cat = get_slices_coronal(X_dataset[0], y_dataset[0])\n",
    "print(slices.shape)\n",
    "print(slices_cat.shape)"
   ]
  },
  {
   "cell_type": "markdown",
   "metadata": {
    "id": "j3ERsrLfC87J"
   },
   "source": [
    "## SAGITAL\n",
    "arr[ : , : , xxx ] sagital "
   ]
  },
  {
   "cell_type": "code",
   "execution_count": 30,
   "metadata": {},
   "outputs": [],
   "source": [
    "import cv2\n",
    "# type: the number of the group\n",
    "# group_n: the count of diferent groups\n",
    "# for example,we can have the groups \n",
    "#    1) [EAT, GAMBLE, SEX, BUY, PURE] and the image is from GAMBLE\n",
    "#     -> type = 2\n",
    "#     -> group_n = 5\n",
    "#    2) or [PURE, ICD] and the image is from PURE\n",
    "#     -> type = 1\n",
    "#     -> group_n = 2\n",
    "#output:\n",
    "#     -> normalized array of the slices \n",
    "#     -> the category of each image in one-hot encoded.\n",
    "# for example\n",
    "#   1) [0,1,0,0,0], and \n",
    "#   2) [1,0]\n",
    "def get_slices_sagital(path, category):\n",
    "  img = sitk.ReadImage(path, sitk.sitkFloat64)\n",
    "  arr = sitk.GetArrayFromImage(img)\n",
    "\n",
    "  #normalize the matrix, numbers between 0.0 - 1.0\n",
    "  arr = arr / arr.max()\n",
    "  arr = arr = arr[49:68,115:200,30:150]\n",
    "\n",
    "  slices = None\n",
    "  slices_cat = None\n",
    "  count = 0\n",
    "\n",
    "  for i in range(arr.shape[0]):\n",
    "    slice = arr[:, : , i ]\n",
    "    slice = cv2.resize(slice, (224, 224), interpolation=cv2.INTER_CUBIC)\n",
    "    slice[slice < 0] = 0\n",
    "    if slice.max() != 0:\n",
    "      if count == 0:\n",
    "        slices = np.array([slice])\n",
    "        slices_cat = np.array([get_category(category)])\n",
    "      else:\n",
    "        slices = np.concatenate((slices,[slice]))\n",
    "        slices_cat = np.concatenate((slices_cat,[get_category(category)]))\n",
    "      count+=1\n",
    "  #print(\"->\", count , \"slices of\", arr.shape[0], \"where used for image\", path)\n",
    "  return slices, slices_cat"
   ]
  },
  {
   "cell_type": "code",
   "execution_count": 31,
   "metadata": {},
   "outputs": [],
   "source": [
    "def get_slices_per_group_sagital(paths, categories):\n",
    "  group = None\n",
    "  group_cat = None\n",
    "\n",
    "  count = 1\n",
    "  for i in range(len(paths)):\n",
    "    path = paths[i]\n",
    "    if i == 0:\n",
    "      group, group_cat = get_slices_sagital(path, categories[i])\n",
    "    else:\n",
    "        try:\n",
    "          new_group, new_group_cat = get_slices_coronal(path, categories[i])\n",
    "          group = np.concatenate((group, new_group))\n",
    "          group_cat = np.concatenate((group_cat, new_group_cat))\n",
    "        except:\n",
    "            print(\"error\")\n",
    "    print(\"-> [%d/%d] Slices processed %d.\" %(count,len(paths), group.shape[0] ))\n",
    "    count+=1\n",
    "  return group, group_cat"
   ]
  },
  {
   "cell_type": "code",
   "execution_count": 32,
   "metadata": {},
   "outputs": [
    {
     "name": "stdout",
     "output_type": "stream",
     "text": [
      "(19, 224, 224)\n",
      "(19,)\n"
     ]
    }
   ],
   "source": [
    "#test with one image\n",
    "slices, slices_cat = get_slices_sagital(X_dataset[0], y_dataset[0])\n",
    "print(slices.shape)\n",
    "print(slices_cat.shape)"
   ]
  },
  {
   "cell_type": "markdown",
   "metadata": {
    "id": "nNzzq4hUs2ww"
   },
   "source": [
    "# MODEL (BINARY)"
   ]
  },
  {
   "cell_type": "markdown",
   "metadata": {},
   "source": [
    "## Axial (Enssemble)"
   ]
  },
  {
   "cell_type": "code",
   "execution_count": 33,
   "metadata": {},
   "outputs": [],
   "source": [
    "import os\n",
    "import numpy as np\n",
    "np.random.seed(777)\n",
    "import math\n",
    "import tensorflow as tf\n",
    "import keras\n",
    "import keras.backend as K\n",
    "import h5py\n",
    "from keras.preprocessing.image import ImageDataGenerator\n",
    "from tensorflow.keras.optimizers import Adam, SGD, RMSprop\n",
    "from keras.models import Sequential\n",
    "from keras.models import Model\n",
    "from keras.layers import Input, Activation, merge, Dense, Flatten, Dropout, concatenate\n",
    "from keras.layers.convolutional import Conv2D, MaxPooling2D\n",
    "from keras.layers import BatchNormalization, add, GlobalAveragePooling2D\n",
    "from keras.utils.np_utils import to_categorical\n",
    "from sklearn.metrics import accuracy_score,roc_curve, confusion_matrix, roc_auc_score, auc, f1_score\n",
    "from keras.regularizers import l2\n",
    "from keras.applications.xception import Xception, preprocess_input\n",
    "from keras.applications.mobilenet import MobileNet\n",
    "from keras.applications.vgg16 import VGG16\n",
    "from keras.applications.vgg19 import VGG19\n",
    "from tensorflow.keras.applications import DenseNet201\n",
    "from tensorflow.keras.applications import DenseNet121\n",
    "\n",
    "from keras.layers import Input, Dense, Activation, ZeroPadding2D, BatchNormalization, Flatten, Conv2D, Lambda,Concatenate\n",
    "from keras.layers import SeparableConv2D, AveragePooling2D, MaxPooling2D, Dropout, GlobalMaxPooling2D, GlobalAveragePooling2D, Add\n",
    "\n",
    "import matplotlib.pyplot as plt\n",
    "\n",
    "plt.rcParams[\"axes.grid\"] = False\n",
    "plt.rcParams.update({'font.size': 20})"
   ]
  },
  {
   "cell_type": "code",
   "execution_count": 34,
   "metadata": {},
   "outputs": [],
   "source": [
    "import keras\n",
    "from keras.models import Sequential\n",
    "from keras.layers import Dense, Conv3D, MaxPool3D , Flatten\n",
    "from keras.preprocessing.image import ImageDataGenerator\n",
    "from keras.layers import Dropout\n",
    "from keras.callbacks import ModelCheckpoint, EarlyStopping\n",
    "import tensorflow as tf"
   ]
  },
  {
   "cell_type": "code",
   "execution_count": 56,
   "metadata": {},
   "outputs": [
    {
     "name": "stdout",
     "output_type": "stream",
     "text": [
      "-> [1/239] Slices processed 20.\n",
      "-> [2/239] Slices processed 40.\n",
      "-> [3/239] Slices processed 60.\n",
      "-> [4/239] Slices processed 80.\n",
      "-> [5/239] Slices processed 100.\n",
      "-> [6/239] Slices processed 120.\n",
      "-> [7/239] Slices processed 140.\n",
      "-> [8/239] Slices processed 160.\n",
      "-> [9/239] Slices processed 180.\n",
      "-> [10/239] Slices processed 200.\n",
      "-> [11/239] Slices processed 220.\n",
      "-> [12/239] Slices processed 240.\n",
      "-> [13/239] Slices processed 260.\n",
      "-> [14/239] Slices processed 280.\n",
      "-> [15/239] Slices processed 300.\n",
      "-> [16/239] Slices processed 320.\n",
      "-> [17/239] Slices processed 340.\n",
      "-> [18/239] Slices processed 360.\n",
      "-> [19/239] Slices processed 380.\n",
      "-> [20/239] Slices processed 400.\n",
      "-> [21/239] Slices processed 420.\n",
      "-> [22/239] Slices processed 440.\n",
      "-> [23/239] Slices processed 460.\n",
      "-> [24/239] Slices processed 480.\n",
      "-> [25/239] Slices processed 500.\n",
      "-> [26/239] Slices processed 520.\n",
      "-> [27/239] Slices processed 540.\n",
      "-> [28/239] Slices processed 560.\n",
      "-> [29/239] Slices processed 580.\n",
      "-> [30/239] Slices processed 600.\n",
      "-> [31/239] Slices processed 620.\n",
      "-> [32/239] Slices processed 640.\n",
      "-> [33/239] Slices processed 660.\n",
      "-> [34/239] Slices processed 680.\n",
      "-> [35/239] Slices processed 700.\n",
      "-> [36/239] Slices processed 720.\n",
      "-> [37/239] Slices processed 740.\n",
      "-> [38/239] Slices processed 760.\n",
      "-> [39/239] Slices processed 780.\n",
      "-> [40/239] Slices processed 800.\n",
      "-> [41/239] Slices processed 820.\n",
      "-> [42/239] Slices processed 840.\n",
      "-> [43/239] Slices processed 860.\n",
      "-> [44/239] Slices processed 880.\n",
      "-> [45/239] Slices processed 900.\n",
      "-> [46/239] Slices processed 920.\n",
      "-> [47/239] Slices processed 940.\n",
      "-> [48/239] Slices processed 960.\n",
      "-> [49/239] Slices processed 980.\n",
      "-> [50/239] Slices processed 1000.\n",
      "-> [51/239] Slices processed 1020.\n",
      "-> [52/239] Slices processed 1040.\n",
      "-> [53/239] Slices processed 1060.\n",
      "-> [54/239] Slices processed 1080.\n",
      "-> [55/239] Slices processed 1100.\n",
      "-> [56/239] Slices processed 1120.\n",
      "-> [57/239] Slices processed 1140.\n",
      "-> [58/239] Slices processed 1160.\n",
      "-> [59/239] Slices processed 1180.\n",
      "-> [60/239] Slices processed 1200.\n",
      "-> [61/239] Slices processed 1220.\n",
      "-> [62/239] Slices processed 1240.\n",
      "-> [63/239] Slices processed 1260.\n",
      "-> [64/239] Slices processed 1280.\n",
      "-> [65/239] Slices processed 1300.\n",
      "-> [66/239] Slices processed 1320.\n",
      "-> [67/239] Slices processed 1340.\n",
      "-> [68/239] Slices processed 1360.\n",
      "-> [69/239] Slices processed 1380.\n",
      "-> [70/239] Slices processed 1400.\n",
      "-> [71/239] Slices processed 1420.\n",
      "-> [72/239] Slices processed 1440.\n",
      "-> [73/239] Slices processed 1460.\n",
      "-> [74/239] Slices processed 1480.\n",
      "-> [75/239] Slices processed 1500.\n",
      "-> [76/239] Slices processed 1520.\n",
      "-> [77/239] Slices processed 1540.\n",
      "-> [78/239] Slices processed 1560.\n",
      "-> [79/239] Slices processed 1580.\n",
      "-> [80/239] Slices processed 1600.\n",
      "-> [81/239] Slices processed 1620.\n",
      "-> [82/239] Slices processed 1640.\n",
      "-> [83/239] Slices processed 1660.\n",
      "-> [84/239] Slices processed 1680.\n",
      "-> [85/239] Slices processed 1700.\n",
      "-> [86/239] Slices processed 1720.\n",
      "error\n",
      "-> [87/239] Slices processed 1720.\n",
      "-> [88/239] Slices processed 1740.\n",
      "-> [89/239] Slices processed 1760.\n",
      "-> [90/239] Slices processed 1780.\n",
      "-> [91/239] Slices processed 1800.\n",
      "-> [92/239] Slices processed 1820.\n",
      "-> [93/239] Slices processed 1840.\n",
      "-> [94/239] Slices processed 1860.\n",
      "-> [95/239] Slices processed 1880.\n",
      "-> [96/239] Slices processed 1900.\n",
      "-> [97/239] Slices processed 1920.\n",
      "-> [98/239] Slices processed 1940.\n",
      "-> [99/239] Slices processed 1960.\n",
      "-> [100/239] Slices processed 1980.\n",
      "-> [101/239] Slices processed 2000.\n",
      "-> [102/239] Slices processed 2020.\n",
      "-> [103/239] Slices processed 2040.\n",
      "-> [104/239] Slices processed 2060.\n",
      "-> [105/239] Slices processed 2080.\n",
      "-> [106/239] Slices processed 2100.\n",
      "-> [107/239] Slices processed 2120.\n",
      "-> [108/239] Slices processed 2140.\n",
      "-> [109/239] Slices processed 2160.\n",
      "-> [110/239] Slices processed 2180.\n",
      "-> [111/239] Slices processed 2200.\n",
      "-> [112/239] Slices processed 2220.\n",
      "-> [113/239] Slices processed 2240.\n",
      "-> [114/239] Slices processed 2260.\n",
      "-> [115/239] Slices processed 2280.\n",
      "-> [116/239] Slices processed 2300.\n",
      "-> [117/239] Slices processed 2320.\n",
      "-> [118/239] Slices processed 2340.\n",
      "-> [119/239] Slices processed 2360.\n",
      "-> [120/239] Slices processed 2380.\n",
      "-> [121/239] Slices processed 2400.\n",
      "-> [122/239] Slices processed 2420.\n",
      "-> [123/239] Slices processed 2440.\n",
      "-> [124/239] Slices processed 2460.\n",
      "-> [125/239] Slices processed 2480.\n",
      "-> [126/239] Slices processed 2500.\n",
      "-> [127/239] Slices processed 2520.\n",
      "-> [128/239] Slices processed 2540.\n",
      "-> [129/239] Slices processed 2560.\n",
      "-> [130/239] Slices processed 2580.\n",
      "-> [131/239] Slices processed 2600.\n",
      "-> [132/239] Slices processed 2620.\n",
      "-> [133/239] Slices processed 2640.\n",
      "-> [134/239] Slices processed 2660.\n",
      "-> [135/239] Slices processed 2680.\n",
      "-> [136/239] Slices processed 2700.\n",
      "-> [137/239] Slices processed 2720.\n",
      "-> [138/239] Slices processed 2740.\n",
      "-> [139/239] Slices processed 2760.\n",
      "-> [140/239] Slices processed 2780.\n",
      "-> [141/239] Slices processed 2800.\n",
      "-> [142/239] Slices processed 2820.\n",
      "-> [143/239] Slices processed 2840.\n",
      "-> [144/239] Slices processed 2860.\n",
      "-> [145/239] Slices processed 2880.\n",
      "-> [146/239] Slices processed 2900.\n",
      "-> [147/239] Slices processed 2920.\n",
      "-> [148/239] Slices processed 2940.\n",
      "-> [149/239] Slices processed 2960.\n",
      "-> [150/239] Slices processed 2980.\n",
      "-> [151/239] Slices processed 3000.\n",
      "-> [152/239] Slices processed 3020.\n",
      "-> [153/239] Slices processed 3040.\n",
      "-> [154/239] Slices processed 3060.\n",
      "-> [155/239] Slices processed 3080.\n",
      "-> [156/239] Slices processed 3100.\n",
      "-> [157/239] Slices processed 3120.\n",
      "-> [158/239] Slices processed 3140.\n",
      "error\n",
      "-> [159/239] Slices processed 3140.\n",
      "error\n",
      "-> [160/239] Slices processed 3140.\n",
      "error\n",
      "-> [161/239] Slices processed 3140.\n",
      "error\n",
      "-> [162/239] Slices processed 3140.\n",
      "-> [163/239] Slices processed 3154.\n",
      "error\n",
      "-> [164/239] Slices processed 3154.\n",
      "error\n",
      "-> [165/239] Slices processed 3154.\n",
      "-> [166/239] Slices processed 3157.\n",
      "error\n",
      "-> [167/239] Slices processed 3157.\n",
      "error\n",
      "-> [168/239] Slices processed 3157.\n",
      "-> [169/239] Slices processed 3170.\n",
      "error\n",
      "-> [170/239] Slices processed 3170.\n",
      "-> [171/239] Slices processed 3190.\n",
      "error\n",
      "-> [172/239] Slices processed 3190.\n",
      "error\n",
      "-> [173/239] Slices processed 3190.\n",
      "error\n",
      "-> [174/239] Slices processed 3190.\n",
      "-> [175/239] Slices processed 3201.\n",
      "-> [176/239] Slices processed 3208.\n",
      "-> [177/239] Slices processed 3219.\n",
      "error\n",
      "-> [178/239] Slices processed 3219.\n",
      "error\n",
      "-> [179/239] Slices processed 3219.\n",
      "error\n",
      "-> [180/239] Slices processed 3219.\n",
      "-> [181/239] Slices processed 3239.\n",
      "error\n",
      "-> [182/239] Slices processed 3239.\n",
      "-> [183/239] Slices processed 3250.\n",
      "error\n",
      "-> [184/239] Slices processed 3250.\n",
      "error\n",
      "-> [185/239] Slices processed 3250.\n",
      "error\n",
      "-> [186/239] Slices processed 3250.\n",
      "-> [187/239] Slices processed 3252.\n",
      "error\n",
      "-> [188/239] Slices processed 3252.\n",
      "error\n",
      "-> [189/239] Slices processed 3252.\n",
      "error\n",
      "-> [190/239] Slices processed 3252.\n",
      "-> [191/239] Slices processed 3257.\n",
      "error\n",
      "-> [192/239] Slices processed 3257.\n",
      "-> [193/239] Slices processed 3271.\n",
      "error\n",
      "-> [194/239] Slices processed 3271.\n",
      "error\n",
      "-> [195/239] Slices processed 3271.\n",
      "error\n",
      "-> [196/239] Slices processed 3271.\n",
      "error\n",
      "-> [197/239] Slices processed 3271.\n",
      "error\n",
      "-> [198/239] Slices processed 3271.\n",
      "error\n",
      "-> [199/239] Slices processed 3271.\n",
      "error\n",
      "-> [200/239] Slices processed 3271.\n",
      "error\n",
      "-> [201/239] Slices processed 3271.\n",
      "error\n",
      "-> [202/239] Slices processed 3271.\n",
      "error\n",
      "-> [203/239] Slices processed 3271.\n",
      "error\n",
      "-> [204/239] Slices processed 3271.\n",
      "-> [205/239] Slices processed 3275.\n",
      "-> [206/239] Slices processed 3294.\n",
      "error\n",
      "-> [207/239] Slices processed 3294.\n",
      "error\n",
      "-> [208/239] Slices processed 3294.\n",
      "error\n",
      "-> [209/239] Slices processed 3294.\n",
      "error\n",
      "-> [210/239] Slices processed 3294.\n",
      "-> [211/239] Slices processed 3309.\n",
      "-> [212/239] Slices processed 3324.\n",
      "error\n",
      "-> [213/239] Slices processed 3324.\n",
      "error\n",
      "-> [214/239] Slices processed 3324.\n",
      "error\n",
      "-> [215/239] Slices processed 3324.\n",
      "error\n",
      "-> [216/239] Slices processed 3324.\n",
      "-> [217/239] Slices processed 3344.\n",
      "-> [218/239] Slices processed 3347.\n",
      "-> [219/239] Slices processed 3367.\n",
      "error\n",
      "-> [220/239] Slices processed 3367.\n",
      "error\n",
      "-> [221/239] Slices processed 3367.\n",
      "error\n",
      "-> [222/239] Slices processed 3367.\n",
      "error\n",
      "-> [223/239] Slices processed 3367.\n",
      "-> [224/239] Slices processed 3374.\n",
      "error\n",
      "-> [225/239] Slices processed 3374.\n"
     ]
    },
    {
     "name": "stdout",
     "output_type": "stream",
     "text": [
      "-> [226/239] Slices processed 3394.\n",
      "-> [227/239] Slices processed 3412.\n",
      "error\n",
      "-> [228/239] Slices processed 3412.\n",
      "error\n",
      "-> [229/239] Slices processed 3412.\n",
      "error\n",
      "-> [230/239] Slices processed 3412.\n",
      "error\n",
      "-> [231/239] Slices processed 3412.\n",
      "-> [232/239] Slices processed 3420.\n",
      "-> [233/239] Slices processed 3430.\n",
      "-> [234/239] Slices processed 3443.\n",
      "-> [235/239] Slices processed 3449.\n",
      "-> [236/239] Slices processed 3457.\n",
      "-> [237/239] Slices processed 3470.\n",
      "error\n",
      "-> [238/239] Slices processed 3470.\n",
      "error\n",
      "-> [239/239] Slices processed 3470.\n"
     ]
    }
   ],
   "source": [
    "X_dataset_3c, y_axial3c = get_slices_per_group_axial_3c(X_dataset, y_dataset)"
   ]
  },
  {
   "cell_type": "code",
   "execution_count": 59,
   "metadata": {},
   "outputs": [],
   "source": [
    "from sklearn.model_selection import train_test_split\n",
    "X_train, X_test, y_train, y_test = train_test_split(X_dataset_3c, y_axial3c, test_size = 0.2, stratify=y_axial3c)"
   ]
  },
  {
   "cell_type": "code",
   "execution_count": 102,
   "metadata": {},
   "outputs": [
    {
     "name": "stdout",
     "output_type": "stream",
     "text": [
      "-> [1/100] Slices processed 20.\n",
      "-> [2/100] Slices processed 40.\n",
      "-> [3/100] Slices processed 60.\n",
      "-> [4/100] Slices processed 80.\n",
      "-> [5/100] Slices processed 100.\n",
      "-> [6/100] Slices processed 120.\n",
      "-> [7/100] Slices processed 140.\n",
      "-> [8/100] Slices processed 160.\n",
      "-> [9/100] Slices processed 180.\n",
      "-> [10/100] Slices processed 200.\n",
      "-> [11/100] Slices processed 220.\n",
      "-> [12/100] Slices processed 240.\n",
      "-> [13/100] Slices processed 260.\n",
      "-> [14/100] Slices processed 280.\n",
      "-> [15/100] Slices processed 300.\n",
      "-> [16/100] Slices processed 320.\n",
      "-> [17/100] Slices processed 340.\n",
      "-> [18/100] Slices processed 360.\n",
      "-> [19/100] Slices processed 380.\n",
      "-> [20/100] Slices processed 400.\n",
      "-> [21/100] Slices processed 420.\n",
      "-> [22/100] Slices processed 440.\n",
      "-> [23/100] Slices processed 460.\n",
      "-> [24/100] Slices processed 480.\n",
      "-> [25/100] Slices processed 500.\n",
      "-> [26/100] Slices processed 520.\n",
      "-> [27/100] Slices processed 540.\n",
      "-> [28/100] Slices processed 560.\n",
      "-> [29/100] Slices processed 580.\n",
      "-> [30/100] Slices processed 600.\n",
      "error\n",
      "-> [31/100] Slices processed 600.\n",
      "-> [32/100] Slices processed 620.\n",
      "-> [33/100] Slices processed 640.\n",
      "-> [34/100] Slices processed 660.\n",
      "-> [35/100] Slices processed 680.\n",
      "-> [36/100] Slices processed 700.\n",
      "-> [37/100] Slices processed 720.\n",
      "-> [38/100] Slices processed 740.\n",
      "-> [39/100] Slices processed 760.\n",
      "-> [40/100] Slices processed 780.\n",
      "-> [41/100] Slices processed 800.\n",
      "-> [42/100] Slices processed 820.\n",
      "-> [43/100] Slices processed 840.\n",
      "-> [44/100] Slices processed 860.\n",
      "-> [45/100] Slices processed 880.\n",
      "-> [46/100] Slices processed 900.\n",
      "-> [47/100] Slices processed 920.\n",
      "-> [48/100] Slices processed 940.\n",
      "-> [49/100] Slices processed 960.\n",
      "-> [50/100] Slices processed 980.\n",
      "-> [51/100] Slices processed 1000.\n",
      "-> [52/100] Slices processed 1020.\n",
      "-> [53/100] Slices processed 1040.\n",
      "-> [54/100] Slices processed 1060.\n",
      "-> [55/100] Slices processed 1080.\n",
      "-> [56/100] Slices processed 1100.\n",
      "-> [57/100] Slices processed 1120.\n",
      "-> [58/100] Slices processed 1140.\n",
      "-> [59/100] Slices processed 1160.\n",
      "-> [60/100] Slices processed 1180.\n",
      "-> [61/100] Slices processed 1200.\n",
      "-> [62/100] Slices processed 1220.\n",
      "-> [63/100] Slices processed 1240.\n",
      "-> [64/100] Slices processed 1260.\n",
      "-> [65/100] Slices processed 1280.\n",
      "-> [66/100] Slices processed 1300.\n",
      "-> [67/100] Slices processed 1320.\n",
      "-> [68/100] Slices processed 1340.\n",
      "-> [69/100] Slices processed 1360.\n",
      "-> [70/100] Slices processed 1380.\n",
      "-> [71/100] Slices processed 1400.\n",
      "-> [72/100] Slices processed 1420.\n",
      "-> [73/100] Slices processed 1440.\n",
      "-> [74/100] Slices processed 1460.\n",
      "-> [75/100] Slices processed 1480.\n",
      "-> [76/100] Slices processed 1500.\n",
      "-> [77/100] Slices processed 1520.\n",
      "-> [78/100] Slices processed 1540.\n",
      "-> [79/100] Slices processed 1560.\n",
      "-> [80/100] Slices processed 1580.\n",
      "-> [81/100] Slices processed 1600.\n",
      "-> [82/100] Slices processed 1620.\n",
      "-> [83/100] Slices processed 1640.\n",
      "-> [84/100] Slices processed 1660.\n",
      "-> [85/100] Slices processed 1680.\n",
      "-> [86/100] Slices processed 1700.\n",
      "-> [87/100] Slices processed 1720.\n",
      "-> [88/100] Slices processed 1740.\n",
      "-> [89/100] Slices processed 1760.\n",
      "-> [90/100] Slices processed 1780.\n",
      "-> [91/100] Slices processed 1800.\n",
      "-> [92/100] Slices processed 1820.\n",
      "-> [93/100] Slices processed 1840.\n",
      "-> [94/100] Slices processed 1860.\n",
      "-> [95/100] Slices processed 1880.\n",
      "-> [96/100] Slices processed 1900.\n",
      "-> [97/100] Slices processed 1920.\n",
      "-> [98/100] Slices processed 1940.\n",
      "-> [99/100] Slices processed 1960.\n",
      "-> [100/100] Slices processed 1980.\n"
     ]
    }
   ],
   "source": [
    "X_axial3c_train, y_axial3c_train = get_slices_per_group_axial_3c(X_train[:100], y_train[:100])"
   ]
  },
  {
   "cell_type": "code",
   "execution_count": 35,
   "metadata": {},
   "outputs": [
    {
     "name": "stdout",
     "output_type": "stream",
     "text": [
      "-> [1/47] Slices processed 20.\n",
      "-> [2/47] Slices processed 40.\n",
      "-> [3/47] Slices processed 60.\n",
      "error\n",
      "-> [4/47] Slices processed 60.\n",
      "-> [5/47] Slices processed 66.\n",
      "-> [6/47] Slices processed 86.\n",
      "-> [7/47] Slices processed 106.\n",
      "-> [8/47] Slices processed 126.\n",
      "-> [9/47] Slices processed 146.\n",
      "-> [10/47] Slices processed 166.\n",
      "-> [11/47] Slices processed 186.\n",
      "error\n",
      "-> [12/47] Slices processed 186.\n",
      "-> [13/47] Slices processed 199.\n",
      "-> [14/47] Slices processed 219.\n",
      "error\n",
      "-> [15/47] Slices processed 219.\n",
      "-> [16/47] Slices processed 239.\n",
      "-> [17/47] Slices processed 259.\n",
      "error\n",
      "-> [18/47] Slices processed 259.\n",
      "-> [19/47] Slices processed 279.\n",
      "-> [20/47] Slices processed 299.\n",
      "-> [21/47] Slices processed 317.\n",
      "-> [22/47] Slices processed 320.\n",
      "-> [23/47] Slices processed 340.\n",
      "-> [24/47] Slices processed 348.\n",
      "-> [25/47] Slices processed 368.\n",
      "-> [26/47] Slices processed 388.\n",
      "-> [27/47] Slices processed 408.\n",
      "-> [28/47] Slices processed 428.\n",
      "-> [29/47] Slices processed 448.\n",
      "-> [30/47] Slices processed 468.\n",
      "-> [31/47] Slices processed 488.\n",
      "-> [32/47] Slices processed 508.\n",
      "-> [33/47] Slices processed 528.\n",
      "-> [34/47] Slices processed 530.\n",
      "-> [35/47] Slices processed 534.\n",
      "error\n",
      "-> [36/47] Slices processed 534.\n",
      "-> [37/47] Slices processed 554.\n",
      "-> [38/47] Slices processed 574.\n",
      "-> [39/47] Slices processed 594.\n",
      "error\n",
      "-> [40/47] Slices processed 594.\n",
      "-> [41/47] Slices processed 614.\n",
      "-> [42/47] Slices processed 634.\n",
      "-> [43/47] Slices processed 654.\n",
      "-> [44/47] Slices processed 674.\n",
      "-> [45/47] Slices processed 694.\n",
      "error\n",
      "-> [46/47] Slices processed 694.\n",
      "-> [47/47] Slices processed 714.\n"
     ]
    }
   ],
   "source": [
    "X_axial3c_test, y_axial3c_test = get_slices_per_group_axial_3c(X_test[1:], y_test[1:])"
   ]
  },
  {
   "cell_type": "code",
   "execution_count": 104,
   "metadata": {},
   "outputs": [
    {
     "name": "stdout",
     "output_type": "stream",
     "text": [
      "(1980, 224, 224, 3) (1980,)\n",
      "(964, 224, 224, 3) (964,)\n"
     ]
    }
   ],
   "source": [
    "print(X_axial3c_train.shape, y_axial3c_train.shape)\n",
    "print(X_axial3c_test.shape, y_axial3c_test.shape)"
   ]
  },
  {
   "cell_type": "code",
   "execution_count": 64,
   "metadata": {},
   "outputs": [],
   "source": [
    "img_height, img_width = 224, 224\n",
    "input_shape = (img_height, img_width, 3)\n",
    "epochs = 1000\n",
    "num_classes = 1"
   ]
  },
  {
   "cell_type": "code",
   "execution_count": 65,
   "metadata": {},
   "outputs": [],
   "source": [
    "from tensorflow.keras.applications import VGG19\n",
    "\n",
    "input_tensor = Input(shape = input_shape)  \n",
    "\n",
    "base_model =VGG19(input_shape= input_shape,weights='imagenet', include_top=False, input_tensor=input_tensor)\n",
    "import keras\n",
    "from keras.models import Sequential\n",
    "from keras.layers import Dense, Conv3D, MaxPool3D , Flatten\n",
    "from keras.preprocessing.image import ImageDataGenerator\n",
    "from keras.layers import Dropout\n",
    "from keras.callbacks import ModelCheckpoint, EarlyStopping\n",
    "import tensorflow as tf\n",
    "x = base_model.output\n",
    "x = GlobalAveragePooling2D()(x)\n",
    "\n",
    "predictions = Dense(num_classes, activation='softmax')(x)\n",
    "\n",
    "model = Model(inputs=input_tensor,outputs=predictions)"
   ]
  },
  {
   "cell_type": "code",
   "execution_count": 66,
   "metadata": {},
   "outputs": [],
   "source": [
    "from keras.applications.densenet import DenseNet169\n",
    "from keras.applications.inception_v3 import InceptionV3\n",
    "from keras.applications.nasnet import NASNetMobile\n",
    "from tensorflow.keras.applications import VGG19\n",
    "\n",
    "input_tensor = Input(shape = input_shape)  \n",
    "\n",
    "base_model1=NASNetMobile(input_shape= input_shape,weights='imagenet', include_top=False, input_tensor=input_tensor)\n",
    "base_model2=InceptionV3(input_shape= input_shape,weights='imagenet', include_top=False, input_tensor=input_tensor)\n",
    "base_model3=DenseNet201(input_shape= input_shape,weights='imagenet', include_top=False, input_tensor=input_tensor)\n",
    "base_model4=VGG19(input_shape= input_shape,weights='imagenet', include_top=False, input_tensor=input_tensor)\n",
    "\n",
    "x1 = base_model1.output\n",
    "x1 = GlobalAveragePooling2D()(x1)\n",
    "\n",
    "x2 = base_model2.output\n",
    "x2 = GlobalAveragePooling2D()(x2)\n",
    "\n",
    "x3 = base_model3.output\n",
    "x3 = GlobalAveragePooling2D()(x3)\n",
    "\n",
    "x4 = base_model4.output\n",
    "x4 = GlobalAveragePooling2D()(x4)\n",
    "\n",
    "merge = concatenate([x1, x2, x3 , x4])\n",
    "predictions = Dense(1, activation='sigmoid')(merge)\n",
    "\n",
    "model = Model(inputs=input_tensor,outputs=predictions)"
   ]
  },
  {
   "cell_type": "code",
   "execution_count": 68,
   "metadata": {},
   "outputs": [
    {
     "name": "stderr",
     "output_type": "stream",
     "text": [
      "c:\\python39\\lib\\site-packages\\keras\\optimizer_v2\\optimizer_v2.py:355: UserWarning: The `lr` argument is deprecated, use `learning_rate` instead.\n",
      "  warnings.warn(\n"
     ]
    }
   ],
   "source": [
    "model.compile(optimizer=tf.keras.optimizers.Adam(lr = 0.0001, beta_1=0.7, beta_2=0.995, amsgrad=True),loss=keras.losses.binary_crossentropy,metrics=['accuracy'])"
   ]
  },
  {
   "cell_type": "code",
   "execution_count": null,
   "metadata": {},
   "outputs": [
    {
     "name": "stdout",
     "output_type": "stream",
     "text": [
      "WARNING:tensorflow:`period` argument is deprecated. Please use `save_freq` to specify the frequency in number of batches seen.\n",
      "Epoch 1/1000\n",
      "222/222 - 5674s - loss: 0.5406 - accuracy: 0.7757 - val_loss: 0.5019 - val_accuracy: 0.7752\n",
      "\n",
      "Epoch 00001: val_accuracy improved from -inf to 0.77518, saving model to vgg19_axial3c_17012022_1741.h5\n"
     ]
    },
    {
     "name": "stderr",
     "output_type": "stream",
     "text": [
      "c:\\python39\\lib\\site-packages\\keras\\utils\\generic_utils.py:494: CustomMaskWarning: Custom mask layers require a config and must override get_config. When loading, the custom mask layer must be passed to the custom_objects argument.\n",
      "  warnings.warn('Custom mask layers require a config and must override '\n"
     ]
    },
    {
     "name": "stdout",
     "output_type": "stream",
     "text": [
      "Epoch 2/1000\n",
      "222/222 - 5455s - loss: 0.2560 - accuracy: 0.8919 - val_loss: 0.4450 - val_accuracy: 0.8273\n",
      "\n",
      "Epoch 00002: val_accuracy improved from 0.77518 to 0.82734, saving model to vgg19_axial3c_17012022_1741.h5\n",
      "Epoch 3/1000\n",
      "222/222 - 5306s - loss: 0.1603 - accuracy: 0.9392 - val_loss: 0.1700 - val_accuracy: 0.9406\n",
      "\n",
      "Epoch 00003: val_accuracy improved from 0.82734 to 0.94065, saving model to vgg19_axial3c_17012022_1741.h5\n",
      "Epoch 4/1000\n",
      "222/222 - 5291s - loss: 0.0931 - accuracy: 0.9676 - val_loss: 0.1676 - val_accuracy: 0.9227\n",
      "\n",
      "Epoch 00004: val_accuracy did not improve from 0.94065\n",
      "Epoch 5/1000\n",
      "222/222 - 5384s - loss: 0.1054 - accuracy: 0.9658 - val_loss: 0.1561 - val_accuracy: 0.9406\n",
      "\n",
      "Epoch 00005: val_accuracy did not improve from 0.94065\n",
      "Epoch 6/1000\n",
      "222/222 - 5724s - loss: 0.0441 - accuracy: 0.9847 - val_loss: 0.2547 - val_accuracy: 0.8957\n",
      "\n",
      "Epoch 00006: val_accuracy did not improve from 0.94065\n",
      "Epoch 7/1000\n",
      "222/222 - 5834s - loss: 0.0430 - accuracy: 0.9833 - val_loss: 0.1080 - val_accuracy: 0.9514\n",
      "\n",
      "Epoch 00007: val_accuracy improved from 0.94065 to 0.95144, saving model to vgg19_axial3c_17012022_1741.h5\n",
      "Epoch 8/1000\n",
      "222/222 - 5835s - loss: 0.0288 - accuracy: 0.9937 - val_loss: 0.2127 - val_accuracy: 0.9335\n",
      "\n",
      "Epoch 00008: val_accuracy did not improve from 0.95144\n",
      "Epoch 9/1000\n"
     ]
    }
   ],
   "source": [
    "checkpoint = ModelCheckpoint(\"vgg19_axial3c_17012022_1741.h5\", monitor='val_accuracy', verbose=1, save_best_only=True, mode='auto', period=1)\n",
    "history = model.fit(X_train, y_train,\n",
    "                    epochs=epochs,\n",
    "                    batch_size=batch_size,\n",
    "                    callbacks=[lr_reduce, es_callback, checkpoint],\n",
    "                    validation_split=0.20,\n",
    "                    verbose= 2)"
   ]
  },
  {
   "cell_type": "code",
   "execution_count": 39,
   "metadata": {},
   "outputs": [],
   "source": [
    "bottleneck_final_model = Model(inputs=model.input, outputs=merge)"
   ]
  },
  {
   "cell_type": "code",
   "execution_count": 40,
   "metadata": {},
   "outputs": [
    {
     "name": "stdout",
     "output_type": "stream",
     "text": [
      "WARNING:tensorflow:`epsilon` argument is deprecated and will be removed, use `min_delta` instead.\n"
     ]
    }
   ],
   "source": [
    "# training call backs \n",
    "lr_reduce = tf.keras.callbacks.ReduceLROnPlateau(monitor='val_loss', factor=0.5, epsilon=0.0001, patience=3, verbose=1)\n",
    "es_callback = tf.keras.callbacks.EarlyStopping(monitor='val_loss', patience=5, verbose=1)"
   ]
  },
  {
   "cell_type": "code",
   "execution_count": 122,
   "metadata": {},
   "outputs": [
    {
     "name": "stdout",
     "output_type": "stream",
     "text": [
      "WARNING:tensorflow:`period` argument is deprecated. Please use `save_freq` to specify the frequency in number of batches seen.\n",
      "Epoch 1/1000\n",
      "159/159 - 47s - loss: 9.8581 - accuracy: 0.3535 - val_loss: 7.5476 - val_accuracy: 0.5051\n",
      "\n",
      "Epoch 00001: val_accuracy improved from -inf to 0.50505, saving model to vgg19_axial3c_15022022_01231.h5\n",
      "Epoch 2/1000\n",
      "159/159 - 35s - loss: 9.8581 - accuracy: 0.3535 - val_loss: 7.5476 - val_accuracy: 0.5051\n",
      "\n",
      "Epoch 00002: val_accuracy did not improve from 0.50505\n",
      "Epoch 3/1000\n",
      "159/159 - 35s - loss: 9.8581 - accuracy: 0.3535 - val_loss: 7.5476 - val_accuracy: 0.5051\n",
      "\n",
      "Epoch 00003: val_accuracy did not improve from 0.50505\n",
      "Epoch 4/1000\n",
      "159/159 - 35s - loss: 9.8581 - accuracy: 0.3535 - val_loss: 7.5476 - val_accuracy: 0.5051\n",
      "\n",
      "Epoch 00004: ReduceLROnPlateau reducing learning rate to 4.999999873689376e-05.\n",
      "\n",
      "Epoch 00004: val_accuracy did not improve from 0.50505\n",
      "Epoch 5/1000\n",
      "159/159 - 35s - loss: 9.8581 - accuracy: 0.3535 - val_loss: 7.5476 - val_accuracy: 0.5051\n",
      "\n",
      "Epoch 00005: val_accuracy did not improve from 0.50505\n",
      "Epoch 6/1000\n",
      "159/159 - 35s - loss: 9.8581 - accuracy: 0.3535 - val_loss: 7.5476 - val_accuracy: 0.5051\n",
      "\n",
      "Epoch 00006: val_accuracy did not improve from 0.50505\n",
      "Epoch 00006: early stopping\n"
     ]
    }
   ],
   "source": [
    "batch_size = 10\n",
    "epochs = 1000\n",
    "dropout_rate = 0.2\n",
    "\n",
    "model = Sequential()\n",
    "model.add(Flatten(input_shape=X_axial3c_train.shape[1:]))\n",
    "model.add(Dense(256, activation='relu'))\n",
    "model.add(Dropout(dropout_rate))\n",
    "model.add(Dense(num_classes, activation=tf.nn.softmax))\n",
    "\n",
    "adam_opt2=Adam(lr = 0.0001, beta_1=0.7, beta_2=0.995, amsgrad=True)\n",
    "\n",
    "model.compile(optimizer=tf.keras.optimizers.Adam(lr = 0.0001, beta_1=0.7, beta_2=0.995, amsgrad=True),loss=keras.losses.binary_crossentropy,metrics=['accuracy'])\n",
    "\n",
    "checkpoint = ModelCheckpoint(\"vgg19_axial3c_15022022_01231.h5\", monitor='val_accuracy', verbose=1, save_best_only=True, mode='auto', period=1)\n",
    "history = model.fit(X_axial3c_train, y_axial3c_train,\n",
    "                    epochs=epochs,\n",
    "                    batch_size=batch_size,\n",
    "                    callbacks=[lr_reduce, es_callback, checkpoint],\n",
    "                    validation_split=0.20,\n",
    "                    verbose= 2)"
   ]
  },
  {
   "cell_type": "code",
   "execution_count": 111,
   "metadata": {},
   "outputs": [
    {
     "name": "stdout",
     "output_type": "stream",
     "text": [
      "Model: \"sequential\"\n",
      "_________________________________________________________________\n",
      "Layer (type)                 Output Shape              Param #   \n",
      "=================================================================\n",
      "flatten (Flatten)            (None, 150528)            0         \n",
      "_________________________________________________________________\n",
      "dense_2 (Dense)              (None, 256)               38535424  \n",
      "_________________________________________________________________\n",
      "dropout (Dropout)            (None, 256)               0         \n",
      "_________________________________________________________________\n",
      "dense_3 (Dense)              (None, 1)                 257       \n",
      "=================================================================\n",
      "Total params: 38,535,681\n",
      "Trainable params: 38,535,681\n",
      "Non-trainable params: 0\n",
      "_________________________________________________________________\n"
     ]
    }
   ],
   "source": [
    "model.summary()"
   ]
  },
  {
   "cell_type": "code",
   "execution_count": 112,
   "metadata": {
    "scrolled": true
   },
   "outputs": [
    {
     "name": "stdout",
     "output_type": "stream",
     "text": [
      "Accuracy 0.5985477178423236\n"
     ]
    }
   ],
   "source": [
    "preds = model.predict(X_axial3c_test)\n",
    "\n",
    "predictions = [(0 if i <0.5 else 1) for i in preds]\n",
    "cm = confusion_matrix(y_pred=predictions, y_true=y_axial3c_test)\n",
    "\n",
    "print('Accuracy {}'.format(accuracy_score(y_true=y_axial3c_test, y_pred=predictions)))"
   ]
  },
  {
   "cell_type": "code",
   "execution_count": null,
   "metadata": {},
   "outputs": [],
   "source": []
  },
  {
   "cell_type": "code",
   "execution_count": null,
   "metadata": {},
   "outputs": [],
   "source": [
    "plt.rcParams[\"axes.grid\"] = False\n",
    "plt.rcParams.update({'font.size': 20})\n",
    "\n",
    "labels = ['parkinson', \"parkinson + ICD\"]\n",
    "\n",
    "from sklearn.metrics import confusion_matrix\n",
    "import itertools\n",
    "def plot_confusion_matrix(cm, classes,\n",
    "                          normalize=False,\n",
    "                          title='Confusion matrix',\n",
    "                          cmap=plt.cm.Blues):\n",
    "    accuracy = np.trace(cm) / float(np.sum(cm))\n",
    "    misclass = 1 - accuracy\n",
    "    if normalize:\n",
    "        cm = cm.astype('float') / cm.sum(axis=1)[:, np.newaxis]\n",
    "        print(\"Normalized confusion matrix\")\n",
    "    else:\n",
    "        print('Confusion Matrix')\n",
    "\n",
    "    print(cm)\n",
    "#     fig = plt.figure()\n",
    "    plt.imshow(cm, interpolation='nearest', cmap=cmap)\n",
    "#     plt.title(title)\n",
    "#     plt.colorbar()\n",
    "    tick_marks = np.arange(len(classes))\n",
    "    plt.xticks(tick_marks, classes, rotation=45)\n",
    "    plt.yticks(tick_marks, classes)\n",
    "\n",
    "    fmt = '.2f' if normalize else 'd'\n",
    "    thresh = cm.max() / 2.\n",
    "    for i, j in itertools.product(range(cm.shape[0]), range(cm.shape[1])):\n",
    "        plt.text(j, i, format(cm[i, j], fmt),\n",
    "                 horizontalalignment=\"center\",\n",
    "                 color=\"white\" if cm[i, j] > thresh else \"black\")\n",
    "\n",
    "    plt.tight_layout()\n",
    "    plt.ylabel('True label')\n",
    "    plt.xlabel('Predicted label\\naccuracy={:0.4f}; misclass={:0.4f}'.format(accuracy, misclass))\n",
    "    plt.savefig('confusion_marix.png', bbox_inches='tight', dpi = 100) \n",
    "\n",
    "\n",
    "plt.figure(figsize=(10,10))\n",
    "plot_confusion_matrix(cm, classes=labels, title=' ')"
   ]
  },
  {
   "cell_type": "code",
   "execution_count": null,
   "metadata": {},
   "outputs": [],
   "source": [
    "plt.style.use(\"seaborn-ticks\")\n",
    "\n",
    "plt.plot(history.history['accuracy'])\n",
    "plt.plot(history.history['val_accuracy'])\n",
    "plt.title('model accuracy')\n",
    "plt.ylabel('Accuracy')\n",
    "plt.xlabel('Epoch')\n",
    "plt.legend(['Training Acc', 'Test Acc'], loc='upper left')\n",
    "plt.show()\n",
    "plt.savefig('model_acc.png', bbox_inches='tight', dpi = 100) \n",
    "\n",
    "# summarize history for loss\n",
    "plt.plot(history.history['loss'])\n",
    "plt.plot(history.history['val_loss'])\n",
    "plt.title('model loss')\n",
    "plt.ylabel('Loss')\n",
    "plt.xlabel('Epoch')\n",
    "plt.legend(['Training Loss', 'Test Loss'], loc='upper left')\n",
    "plt.show()\n",
    "plt.savefig('model_pogress.png', bbox_inches='tight', dpi = 100) \n",
    "\n",
    "plt.figure()\n",
    "N = len(history.history['accuracy'])\n",
    "plt.plot(np.arange(0, N), history.history[\"loss\"], label=\"train_loss\")\n",
    "plt.plot(np.arange(0, N), history.history[\"val_loss\"], label=\"val_loss\")\n",
    "plt.plot(np.arange(0, N), history.history[\"accuracy\"], label=\"train_acc\")\n",
    "plt.plot(np.arange(0, N), history.history[\"val_accuracy\"], label=\"val_accuracy\")\n",
    "plt.title(\"Training Loss and Accuracy\")\n",
    "plt.xlabel(\"Epoch #\")\n",
    "plt.ylabel(\"Loss/Accuracy\")\n",
    "plt.legend(loc=\"upper left\")\n",
    "plt.savefig('loss.png', bbox_inches='tight', dpi = 100) "
   ]
  },
  {
   "cell_type": "markdown",
   "metadata": {},
   "source": [
    "## 3D all brain"
   ]
  },
  {
   "cell_type": "code",
   "execution_count": 19,
   "metadata": {},
   "outputs": [
    {
     "name": "stdout",
     "output_type": "stream",
     "text": [
      "-> [1/191] Image processed.\n",
      "-> [2/191] Image processed.\n",
      "-> [3/191] Image processed.\n",
      "-> [4/191] Image processed.\n",
      "-> [5/191] Image processed.\n",
      "-> [6/191] Image processed.\n",
      "-> [7/191] Image processed.\n",
      "-> [8/191] Image processed.\n",
      "-> [9/191] Image processed.\n",
      "-> [10/191] Image processed.\n",
      "-> [11/191] Image processed.\n",
      "-> [12/191] Image processed.\n",
      "-> [13/191] Image processed.\n",
      "-> [14/191] Image processed.\n",
      "-> [15/191] Image processed.\n",
      "-> [16/191] Image processed.\n",
      "-> [17/191] Image processed.\n",
      "-> [18/191] Image processed.\n",
      "-> [19/191] Image processed.\n",
      "-> [20/191] Image processed.\n",
      "-> [21/191] Image processed.\n",
      "-> [22/191] Image processed.\n",
      "-> [23/191] Image processed.\n",
      "-> [24/191] Image processed.\n",
      "-> [25/191] Image processed.\n",
      "-> [26/191] Image processed.\n",
      "-> [27/191] Image processed.\n",
      "-> [28/191] Image processed.\n",
      "-> [29/191] Image processed.\n",
      "-> [30/191] Image processed.\n",
      "-> [31/191] Image processed.\n",
      "-> [32/191] Image processed.\n",
      "-> [33/191] Image processed.\n",
      "-> [34/191] Image processed.\n",
      "-> [35/191] Image processed.\n",
      "-> [36/191] Image processed.\n",
      "-> [37/191] Image processed.\n",
      "-> [38/191] Image processed.\n",
      "-> [39/191] Image processed.\n",
      "-> [40/191] Image processed.\n",
      "-> [41/191] Image processed.\n",
      "-> [42/191] Image processed.\n",
      "-> [43/191] Image processed.\n",
      "-> [44/191] Image processed.\n",
      "-> [45/191] Image processed.\n",
      "-> [46/191] Image processed.\n",
      "-> [47/191] Image processed.\n",
      "-> [48/191] Image processed.\n",
      "-> [49/191] Image processed.\n",
      "-> [50/191] Image processed.\n",
      "-> [51/191] Image processed.\n",
      "-> [52/191] Image processed.\n",
      "-> [53/191] Image processed.\n",
      "-> [54/191] Image processed.\n",
      "-> [55/191] Image processed.\n",
      "-> [56/191] Image processed.\n",
      "-> [57/191] Image processed.\n",
      "-> [58/191] Image processed.\n",
      "-> [59/191] Image processed.\n",
      "-> [60/191] Image processed.\n",
      "-> [61/191] Image processed.\n",
      "-> [62/191] Image processed.\n",
      "-> [63/191] Image processed.\n",
      "-> [64/191] Image processed.\n",
      "-> [65/191] Image processed.\n",
      "-> [66/191] Image processed.\n",
      "-> [67/191] Image processed.\n",
      "-> [68/191] Image processed.\n",
      "-> [69/191] Image processed.\n",
      "-> [70/191] Image processed.\n",
      "-> [71/191] Image processed.\n",
      "-> [72/191] Image processed.\n",
      "-> [73/191] Image processed.\n",
      "-> [74/191] Image processed.\n",
      "-> [75/191] Image processed.\n",
      "-> [76/191] Image processed.\n",
      "-> [77/191] Image processed.\n",
      "-> [78/191] Image processed.\n",
      "Error in ./PREPROCESSED/EAT\\3222.nii.gz\n",
      "-> [79/191] Image processed.\n",
      "-> [80/191] Image processed.\n",
      "-> [81/191] Image processed.\n",
      "-> [82/191] Image processed.\n",
      "-> [83/191] Image processed.\n",
      "-> [84/191] Image processed.\n",
      "-> [85/191] Image processed.\n",
      "-> [86/191] Image processed.\n",
      "-> [87/191] Image processed.\n",
      "-> [88/191] Image processed.\n",
      "-> [89/191] Image processed.\n",
      "-> [90/191] Image processed.\n",
      "-> [91/191] Image processed.\n",
      "-> [92/191] Image processed.\n",
      "-> [93/191] Image processed.\n",
      "-> [94/191] Image processed.\n",
      "-> [95/191] Image processed.\n",
      "-> [96/191] Image processed.\n",
      "-> [97/191] Image processed.\n",
      "-> [98/191] Image processed.\n",
      "-> [99/191] Image processed.\n",
      "-> [100/191] Image processed.\n",
      "-> [101/191] Image processed.\n",
      "-> [102/191] Image processed.\n",
      "-> [103/191] Image processed.\n",
      "-> [104/191] Image processed.\n",
      "-> [105/191] Image processed.\n",
      "-> [106/191] Image processed.\n",
      "-> [107/191] Image processed.\n",
      "-> [108/191] Image processed.\n",
      "-> [109/191] Image processed.\n",
      "-> [110/191] Image processed.\n",
      "-> [111/191] Image processed.\n",
      "-> [112/191] Image processed.\n",
      "-> [113/191] Image processed.\n",
      "-> [114/191] Image processed.\n",
      "-> [115/191] Image processed.\n",
      "-> [116/191] Image processed.\n",
      "-> [117/191] Image processed.\n",
      "-> [118/191] Image processed.\n",
      "-> [119/191] Image processed.\n",
      "-> [120/191] Image processed.\n",
      "-> [121/191] Image processed.\n",
      "-> [122/191] Image processed.\n",
      "-> [123/191] Image processed.\n",
      "-> [124/191] Image processed.\n",
      "-> [125/191] Image processed.\n",
      "-> [126/191] Image processed.\n",
      "-> [127/191] Image processed.\n",
      "-> [128/191] Image processed.\n",
      "-> [129/191] Image processed.\n",
      "-> [130/191] Image processed.\n",
      "-> [131/191] Image processed.\n",
      "-> [132/191] Image processed.\n",
      "-> [133/191] Image processed.\n",
      "-> [134/191] Image processed.\n",
      "-> [135/191] Image processed.\n",
      "-> [136/191] Image processed.\n",
      "-> [137/191] Image processed.\n",
      "-> [138/191] Image processed.\n",
      "-> [139/191] Image processed.\n",
      "-> [140/191] Image processed.\n",
      "-> [141/191] Image processed.\n",
      "-> [142/191] Image processed.\n",
      "-> [143/191] Image processed.\n",
      "-> [144/191] Image processed.\n",
      "-> [145/191] Image processed.\n",
      "-> [146/191] Image processed.\n",
      "-> [147/191] Image processed.\n",
      "-> [148/191] Image processed.\n",
      "-> [149/191] Image processed.\n",
      "-> [150/191] Image processed.\n",
      "-> [151/191] Image processed.\n",
      "-> [152/191] Image processed.\n",
      "-> [153/191] Image processed.\n",
      "-> [154/191] Image processed.\n",
      "-> [155/191] Image processed.\n",
      "-> [156/191] Image processed.\n",
      "-> [157/191] Image processed.\n",
      "-> [158/191] Image processed.\n",
      "-> [159/191] Image processed.\n",
      "-> [160/191] Image processed.\n",
      "-> [161/191] Image processed.\n",
      "-> [162/191] Image processed.\n",
      "-> [163/191] Image processed.\n",
      "-> [164/191] Image processed.\n",
      "-> [165/191] Image processed.\n",
      "-> [166/191] Image processed.\n",
      "-> [167/191] Image processed.\n",
      "-> [168/191] Image processed.\n",
      "-> [169/191] Image processed.\n",
      "Error in ./PREPROCESSED/EAT\\55984.nii.gz\n",
      "-> [170/191] Image processed.\n",
      "-> [171/191] Image processed.\n",
      "-> [172/191] Image processed.\n",
      "-> [173/191] Image processed.\n",
      "-> [174/191] Image processed.\n",
      "-> [175/191] Image processed.\n",
      "-> [176/191] Image processed.\n",
      "-> [177/191] Image processed.\n",
      "-> [178/191] Image processed.\n",
      "-> [179/191] Image processed.\n",
      "-> [180/191] Image processed.\n",
      "-> [181/191] Image processed.\n",
      "-> [182/191] Image processed.\n",
      "-> [183/191] Image processed.\n",
      "-> [184/191] Image processed.\n",
      "-> [185/191] Image processed.\n",
      "-> [186/191] Image processed.\n",
      "-> [187/191] Image processed.\n",
      "-> [188/191] Image processed.\n",
      "-> [189/191] Image processed.\n"
     ]
    }
   ],
   "source": [
    "X_3d_all_train, y_3d_all_train = get_slices_per_group_3d_all(X_train, y_train)"
   ]
  },
  {
   "cell_type": "code",
   "execution_count": 20,
   "metadata": {},
   "outputs": [
    {
     "name": "stdout",
     "output_type": "stream",
     "text": [
      "-> [1/48] Image processed.\n",
      "-> [2/48] Image processed.\n",
      "-> [3/48] Image processed.\n",
      "-> [4/48] Image processed.\n",
      "-> [5/48] Image processed.\n",
      "-> [6/48] Image processed.\n",
      "-> [7/48] Image processed.\n",
      "-> [8/48] Image processed.\n",
      "-> [9/48] Image processed.\n",
      "-> [10/48] Image processed.\n",
      "-> [11/48] Image processed.\n",
      "-> [12/48] Image processed.\n",
      "-> [13/48] Image processed.\n",
      "-> [14/48] Image processed.\n",
      "-> [15/48] Image processed.\n",
      "-> [16/48] Image processed.\n",
      "-> [17/48] Image processed.\n",
      "-> [18/48] Image processed.\n",
      "-> [19/48] Image processed.\n",
      "-> [20/48] Image processed.\n",
      "-> [21/48] Image processed.\n",
      "-> [22/48] Image processed.\n",
      "-> [23/48] Image processed.\n",
      "-> [24/48] Image processed.\n",
      "-> [25/48] Image processed.\n",
      "-> [26/48] Image processed.\n",
      "-> [27/48] Image processed.\n",
      "-> [28/48] Image processed.\n",
      "-> [29/48] Image processed.\n",
      "-> [30/48] Image processed.\n",
      "-> [31/48] Image processed.\n",
      "-> [32/48] Image processed.\n",
      "-> [33/48] Image processed.\n",
      "-> [34/48] Image processed.\n",
      "-> [35/48] Image processed.\n",
      "-> [36/48] Image processed.\n",
      "-> [37/48] Image processed.\n",
      "-> [38/48] Image processed.\n",
      "-> [39/48] Image processed.\n",
      "-> [40/48] Image processed.\n",
      "-> [41/48] Image processed.\n",
      "-> [42/48] Image processed.\n",
      "-> [43/48] Image processed.\n",
      "-> [44/48] Image processed.\n",
      "-> [45/48] Image processed.\n",
      "-> [46/48] Image processed.\n",
      "-> [47/48] Image processed.\n",
      "-> [48/48] Image processed.\n"
     ]
    }
   ],
   "source": [
    "X_3d_all_test, y_3d_all_test = get_slices_per_group_3d_all(X_test, y_test)"
   ]
  },
  {
   "cell_type": "code",
   "execution_count": 21,
   "metadata": {},
   "outputs": [
    {
     "name": "stdout",
     "output_type": "stream",
     "text": [
      "Train: (756, 100, 100, 100, 1) 756\n"
     ]
    }
   ],
   "source": [
    "print(\"Train:\",X_3d_all_train.shape, len(y_3d_all_train))\n",
    "#print(\"Test:\",X_3d_all_test.shape, len(y_3d_all_test))"
   ]
  },
  {
   "cell_type": "code",
   "execution_count": 17,
   "metadata": {},
   "outputs": [],
   "source": [
    "import keras\n",
    "from keras.models import Sequential\n",
    "from keras.layers import Dense, Conv3D, MaxPool3D , Flatten\n",
    "from keras.preprocessing.image import ImageDataGenerator\n",
    "from keras.layers import Dropout\n",
    "from keras.callbacks import ModelCheckpoint, EarlyStopping\n",
    "import tensorflow as tf"
   ]
  },
  {
   "cell_type": "code",
   "execution_count": 18,
   "metadata": {},
   "outputs": [
    {
     "name": "stdout",
     "output_type": "stream",
     "text": [
      "Model: \"sequential\"\n",
      "_________________________________________________________________\n",
      "Layer (type)                 Output Shape              Param #   \n",
      "=================================================================\n",
      "conv3d (Conv3D)              (None, 100, 100, 100, 20) 560       \n",
      "_________________________________________________________________\n",
      "conv3d_1 (Conv3D)            (None, 100, 100, 100, 64) 34624     \n",
      "_________________________________________________________________\n",
      "dropout (Dropout)            (None, 100, 100, 100, 64) 0         \n",
      "_________________________________________________________________\n",
      "max_pooling3d (MaxPooling3D) (None, 50, 50, 50, 64)    0         \n",
      "_________________________________________________________________\n",
      "conv3d_2 (Conv3D)            (None, 50, 50, 50, 128)   221312    \n",
      "_________________________________________________________________\n",
      "conv3d_3 (Conv3D)            (None, 50, 50, 50, 128)   442496    \n",
      "_________________________________________________________________\n",
      "dropout_1 (Dropout)          (None, 50, 50, 50, 128)   0         \n",
      "_________________________________________________________________\n",
      "max_pooling3d_1 (MaxPooling3 (None, 25, 25, 25, 128)   0         \n",
      "_________________________________________________________________\n",
      "conv3d_4 (Conv3D)            (None, 25, 25, 25, 256)   884992    \n",
      "_________________________________________________________________\n",
      "conv3d_5 (Conv3D)            (None, 25, 25, 25, 256)   1769728   \n",
      "_________________________________________________________________\n",
      "conv3d_6 (Conv3D)            (None, 25, 25, 25, 256)   1769728   \n",
      "_________________________________________________________________\n",
      "conv3d_7 (Conv3D)            (None, 25, 25, 25, 256)   1769728   \n",
      "_________________________________________________________________\n",
      "dropout_2 (Dropout)          (None, 25, 25, 25, 256)   0         \n",
      "_________________________________________________________________\n",
      "max_pooling3d_2 (MaxPooling3 (None, 12, 12, 12, 256)   0         \n",
      "_________________________________________________________________\n",
      "conv3d_8 (Conv3D)            (None, 12, 12, 12, 512)   3539456   \n",
      "_________________________________________________________________\n",
      "conv3d_9 (Conv3D)            (None, 12, 12, 12, 512)   7078400   \n",
      "_________________________________________________________________\n",
      "conv3d_10 (Conv3D)           (None, 12, 12, 12, 512)   7078400   \n",
      "_________________________________________________________________\n",
      "conv3d_11 (Conv3D)           (None, 12, 12, 12, 512)   7078400   \n",
      "_________________________________________________________________\n",
      "dropout_3 (Dropout)          (None, 12, 12, 12, 512)   0         \n",
      "_________________________________________________________________\n",
      "max_pooling3d_3 (MaxPooling3 (None, 6, 6, 6, 512)      0         \n",
      "_________________________________________________________________\n",
      "conv3d_12 (Conv3D)           (None, 6, 6, 6, 512)      7078400   \n",
      "_________________________________________________________________\n",
      "conv3d_13 (Conv3D)           (None, 6, 6, 6, 512)      7078400   \n",
      "_________________________________________________________________\n",
      "conv3d_14 (Conv3D)           (None, 6, 6, 6, 512)      7078400   \n",
      "_________________________________________________________________\n",
      "conv3d_15 (Conv3D)           (None, 6, 6, 6, 512)      7078400   \n",
      "_________________________________________________________________\n",
      "dropout_4 (Dropout)          (None, 6, 6, 6, 512)      0         \n",
      "_________________________________________________________________\n",
      "max_pooling3d_4 (MaxPooling3 (None, 3, 3, 3, 512)      0         \n",
      "_________________________________________________________________\n",
      "flatten (Flatten)            (None, 13824)             0         \n",
      "_________________________________________________________________\n",
      "dense (Dense)                (None, 1)                 13825     \n",
      "=================================================================\n",
      "Total params: 59,995,249\n",
      "Trainable params: 59,995,249\n",
      "Non-trainable params: 0\n",
      "_________________________________________________________________\n",
      "None\n"
     ]
    }
   ],
   "source": [
    "model = Sequential()\n",
    "model.add(Conv3D(input_shape=(100,100,100,1),filters=20,kernel_size=3,padding=\"same\", activation=\"relu\"))\n",
    "model.add(Conv3D(filters=64,kernel_size=3,padding=\"same\", activation=\"relu\"))\n",
    "model.add(Dropout(0.4))\n",
    "model.add(MaxPool3D(pool_size=2,strides=(2,2,2)))\n",
    "model.add(Conv3D(filters=128, kernel_size=3, padding=\"same\", activation=\"relu\"))\n",
    "model.add(Conv3D(filters=128, kernel_size=3, padding=\"same\", activation=\"relu\"))\n",
    "model.add(Dropout(0.6))\n",
    "model.add(MaxPool3D(pool_size=2,strides=(2,2,2)))\n",
    "model.add(Conv3D(filters=256, kernel_size=3, padding=\"same\", activation=\"relu\"))\n",
    "model.add(Conv3D(filters=256, kernel_size=3, padding=\"same\", activation=\"relu\"))\n",
    "model.add(Conv3D(filters=256, kernel_size=3, padding=\"same\", activation=\"relu\"))\n",
    "model.add(Conv3D(filters=256, kernel_size=3, padding=\"same\", activation=\"relu\"))\n",
    "model.add(Dropout(0.8))\n",
    "model.add(MaxPool3D(pool_size=2,strides=(2,2,2)))\n",
    "model.add(Conv3D(filters=512, kernel_size=3, padding=\"same\", activation=\"relu\"))\n",
    "model.add(Conv3D(filters=512, kernel_size=3, padding=\"same\", activation=\"relu\"))\n",
    "model.add(Conv3D(filters=512, kernel_size=3, padding=\"same\", activation=\"relu\"))\n",
    "model.add(Conv3D(filters=512, kernel_size=3, padding=\"same\", activation=\"relu\"))\n",
    "model.add(Dropout(0.8))\n",
    "model.add(MaxPool3D(pool_size=2,strides=(2,2,2)))\n",
    "model.add(Conv3D(filters=512, kernel_size=3, padding=\"same\", activation=\"relu\"))\n",
    "model.add(Conv3D(filters=512, kernel_size=3, padding=\"same\", activation=\"relu\"))\n",
    "model.add(Conv3D(filters=512, kernel_size=3, padding=\"same\", activation=\"relu\"))\n",
    "model.add(Conv3D(filters=512, kernel_size=3, padding=\"same\", activation=\"relu\"))\n",
    "model.add(Dropout(0.4))\n",
    "model.add(MaxPool3D(pool_size=2,strides=(2,2,2)))\n",
    "\n",
    "#Dense layer\n",
    "model.add(Flatten())\n",
    "#model.add(Dense(units=4096,activation=\"relu\"))\n",
    "#model.add(Dense(units=4096,activation=\"relu\"))\n",
    "#model.add(Dense(units=1000,activation=\"relu\"))\n",
    "model.add(Dense(1, activation=\"sigmoid\"))\n",
    "\n",
    "model.compile(optimizer='adam', loss=keras.losses.binary_crossentropy, metrics=['accuracy'])\n",
    "\n",
    "print(model.summary())"
   ]
  },
  {
   "cell_type": "code",
   "execution_count": 22,
   "metadata": {},
   "outputs": [
    {
     "name": "stdout",
     "output_type": "stream",
     "text": [
      "WARNING:tensorflow:`epsilon` argument is deprecated and will be removed, use `min_delta` instead.\n"
     ]
    }
   ],
   "source": [
    "lr_reduce = tf.keras.callbacks.ReduceLROnPlateau(monitor='val_loss', factor=0.5, epsilon=0.0001, patience=3, verbose=1)\n",
    "es_callback = tf.keras.callbacks.EarlyStopping(monitor='val_loss', patience=5, verbose=1)"
   ]
  },
  {
   "cell_type": "code",
   "execution_count": 23,
   "metadata": {},
   "outputs": [
    {
     "name": "stdout",
     "output_type": "stream",
     "text": [
      "WARNING:tensorflow:`period` argument is deprecated. Please use `save_freq` to specify the frequency in number of batches seen.\n"
     ]
    }
   ],
   "source": [
    "checkpoint = ModelCheckpoint(\"vgg19_3d_all_11012022_1210.h5\", monitor='val_accuracy', verbose=1, save_best_only=True, save_weights_only=False, mode='auto', period=1)"
   ]
  },
  {
   "cell_type": "code",
   "execution_count": null,
   "metadata": {},
   "outputs": [
    {
     "name": "stdout",
     "output_type": "stream",
     "text": [
      "Epoch 1/1000\n",
      "567/567 - 10758s - loss: 1113931644928.0000 - accuracy: 0.5009 - val_loss: 0.6972 - val_accuracy: 0.4286\n",
      "\n",
      "Epoch 00001: val_accuracy improved from -inf to 0.42857, saving model to vgg19_3d_all_11012022_1210.h5\n",
      "Epoch 2/1000\n",
      "567/567 - 9722s - loss: 0.6949 - accuracy: 0.5132 - val_loss: 0.6942 - val_accuracy: 0.4286\n",
      "\n",
      "Epoch 00002: val_accuracy did not improve from 0.42857\n",
      "Epoch 3/1000\n"
     ]
    }
   ],
   "source": [
    "batch_size = 1\n",
    "epochs = 1000\n",
    "dropout_rate = 0.2\n",
    "\n",
    "history = model.fit(X_3d_all_train, y_3d_all_train,\n",
    "                    epochs=epochs,\n",
    "                    batch_size=batch_size,\n",
    "                    callbacks=[lr_reduce, es_callback, checkpoint],\n",
    "                    validation_split=0.25,\n",
    "                    verbose= 2)"
   ]
  },
  {
   "cell_type": "code",
   "execution_count": 35,
   "metadata": {},
   "outputs": [
    {
     "name": "stdout",
     "output_type": "stream",
     "text": [
      "(4, 80, 100, 100, 1)\n",
      "[1 1 0 0]\n",
      "[[0.4959364]\n",
      " [0.4959364]\n",
      " [0.4959364]\n",
      " [0.4959364]]\n",
      "[0, 0, 0, 0]\n"
     ]
    }
   ],
   "source": [
    "i = 10\n",
    "j = 14\n",
    "print(X_3d_all_test[i:j].shape)\n",
    "print(y_3d_all_test[i:j])\n",
    "preds = model.predict(X_3d_all_test[i:j])\n",
    "\n",
    "print(preds)\n",
    "predictions = [(0 if i <0.5 else 1) for i in preds]\n",
    "print(predictions)\n",
    "#cm = confusion_matrix(y_pred=predictions, y_true=y_3d_all_test[i:j])\n",
    "\n",
    "#print('Accuracy {}'.format(accuracy_score(y_true=y_3d_all_test[i:j], y_pred=predictions)))"
   ]
  },
  {
   "cell_type": "code",
   "execution_count": null,
   "metadata": {},
   "outputs": [],
   "source": []
  },
  {
   "cell_type": "code",
   "execution_count": null,
   "metadata": {},
   "outputs": [],
   "source": [
    "plt.rcParams[\"axes.grid\"] = False\n",
    "plt.rcParams.update({'font.size': 20})\n",
    "\n",
    "labels = ['parkinson', \"parkinson + ICD\"]\n",
    "\n",
    "from sklearn.metrics import confusion_matrix\n",
    "import itertools\n",
    "def plot_confusion_matrix(cm, classes,\n",
    "                          normalize=False,\n",
    "                          title='Confusion matrix',\n",
    "                          cmap=plt.cm.Blues):\n",
    "    accuracy = np.trace(cm) / float(np.sum(cm))\n",
    "    misclass = 1 - accuracy\n",
    "    if normalize:\n",
    "        cm = cm.astype('float') / cm.sum(axis=1)[:, np.newaxis]\n",
    "        print(\"Normalized confusion matrix\")\n",
    "    else:\n",
    "        print('Confusion Matrix')\n",
    "\n",
    "    print(cm)\n",
    "#     fig = plt.figure()\n",
    "    plt.imshow(cm, interpolation='nearest', cmap=cmap)\n",
    "#     plt.title(title)\n",
    "#     plt.colorbar()\n",
    "    tick_marks = np.arange(len(classes))\n",
    "    plt.xticks(tick_marks, classes, rotation=45)\n",
    "    plt.yticks(tick_marks, classes)\n",
    "\n",
    "    fmt = '.2f' if normalize else 'd'\n",
    "    thresh = cm.max() / 2.\n",
    "    for i, j in itertools.product(range(cm.shape[0]), range(cm.shape[1])):\n",
    "        plt.text(j, i, format(cm[i, j], fmt),\n",
    "                 horizontalalignment=\"center\",\n",
    "                 color=\"white\" if cm[i, j] > thresh else \"black\")\n",
    "\n",
    "    plt.tight_layout()\n",
    "    plt.ylabel('True label')\n",
    "    plt.xlabel('Predicted label\\naccuracy={:0.4f}; misclass={:0.4f}'.format(accuracy, misclass))\n",
    "    plt.savefig('confusion_marix.png', bbox_inches='tight', dpi = 100) \n",
    "\n",
    "\n",
    "plt.figure(figsize=(10,10))\n",
    "plot_confusion_matrix(cm, classes=labels, title=' ')"
   ]
  },
  {
   "cell_type": "code",
   "execution_count": null,
   "metadata": {},
   "outputs": [],
   "source": [
    "plt.style.use(\"seaborn-ticks\")\n",
    "\n",
    "plt.plot(history.history['accuracy'])\n",
    "plt.plot(history.history['val_accuracy'])\n",
    "plt.title('model accuracy')\n",
    "plt.ylabel('Accuracy')\n",
    "plt.xlabel('Epoch')\n",
    "plt.legend(['Training Acc', 'Test Acc'], loc='upper left')\n",
    "plt.show()\n",
    "plt.savefig('model_acc.png', bbox_inches='tight', dpi = 100) \n",
    "\n",
    "# summarize history for loss\n",
    "plt.plot(history.history['loss'])\n",
    "plt.plot(history.history['val_loss'])\n",
    "plt.title('model loss')\n",
    "plt.ylabel('Loss')\n",
    "plt.xlabel('Epoch')\n",
    "plt.legend(['Training Loss', 'Test Loss'], loc='upper left')\n",
    "plt.show()\n",
    "plt.savefig('model_pogress.png', bbox_inches='tight', dpi = 100) \n",
    "\n",
    "plt.figure()\n",
    "N = len(history.history['accuracy'])\n",
    "plt.plot(np.arange(0, N), history.history[\"loss\"], label=\"train_loss\")\n",
    "plt.plot(np.arange(0, N), history.history[\"val_loss\"], label=\"val_loss\")\n",
    "plt.plot(np.arange(0, N), history.history[\"accuracy\"], label=\"train_acc\")\n",
    "plt.plot(np.arange(0, N), history.history[\"val_accuracy\"], label=\"val_accuracy\")\n",
    "plt.title(\"Training Loss and Accuracy\")\n",
    "plt.xlabel(\"Epoch #\")\n",
    "plt.ylabel(\"Loss/Accuracy\")\n",
    "plt.legend(loc=\"upper left\")\n",
    "plt.savefig('loss.png', bbox_inches='tight', dpi = 100) "
   ]
  },
  {
   "cell_type": "markdown",
   "metadata": {},
   "source": [
    "## 3D"
   ]
  },
  {
   "cell_type": "code",
   "execution_count": 33,
   "metadata": {},
   "outputs": [
    {
     "name": "stdout",
     "output_type": "stream",
     "text": [
      "-> [1/241] Image processed.\n",
      "-> [2/241] Image processed.\n",
      "-> [3/241] Image processed.\n",
      "-> [4/241] Image processed.\n",
      "-> [5/241] Image processed.\n",
      "-> [6/241] Image processed.\n",
      "-> [7/241] Image processed.\n",
      "-> [8/241] Image processed.\n",
      "-> [9/241] Image processed.\n",
      "-> [10/241] Image processed.\n",
      "-> [11/241] Image processed.\n",
      "-> [12/241] Image processed.\n",
      "-> [13/241] Image processed.\n",
      "-> [14/241] Image processed.\n",
      "-> [15/241] Image processed.\n",
      "-> [16/241] Image processed.\n",
      "-> [17/241] Image processed.\n",
      "-> [18/241] Image processed.\n",
      "-> [19/241] Image processed.\n",
      "-> [20/241] Image processed.\n",
      "-> [21/241] Image processed.\n",
      "-> [22/241] Image processed.\n",
      "-> [23/241] Image processed.\n",
      "-> [24/241] Image processed.\n",
      "-> [25/241] Image processed.\n",
      "-> [26/241] Image processed.\n",
      "-> [27/241] Image processed.\n",
      "-> [28/241] Image processed.\n",
      "-> [29/241] Image processed.\n",
      "-> [30/241] Image processed.\n",
      "-> [31/241] Image processed.\n",
      "-> [32/241] Image processed.\n",
      "-> [33/241] Image processed.\n",
      "-> [34/241] Image processed.\n",
      "-> [35/241] Image processed.\n",
      "-> [36/241] Image processed.\n",
      "-> [37/241] Image processed.\n",
      "-> [38/241] Image processed.\n",
      "-> [39/241] Image processed.\n",
      "-> [40/241] Image processed.\n",
      "-> [41/241] Image processed.\n",
      "-> [42/241] Image processed.\n",
      "-> [43/241] Image processed.\n",
      "-> [44/241] Image processed.\n",
      "-> [45/241] Image processed.\n",
      "-> [46/241] Image processed.\n",
      "-> [47/241] Image processed.\n",
      "-> [48/241] Image processed.\n",
      "-> [49/241] Image processed.\n",
      "-> [50/241] Image processed.\n",
      "-> [51/241] Image processed.\n",
      "-> [52/241] Image processed.\n",
      "-> [53/241] Image processed.\n",
      "-> [54/241] Image processed.\n",
      "-> [55/241] Image processed.\n",
      "-> [56/241] Image processed.\n",
      "-> [57/241] Image processed.\n",
      "-> [58/241] Image processed.\n",
      "-> [59/241] Image processed.\n",
      "-> [60/241] Image processed.\n",
      "-> [61/241] Image processed.\n",
      "-> [62/241] Image processed.\n",
      "-> [63/241] Image processed.\n",
      "-> [64/241] Image processed.\n",
      "-> [65/241] Image processed.\n",
      "-> [66/241] Image processed.\n",
      "-> [67/241] Image processed.\n",
      "-> [68/241] Image processed.\n",
      "-> [69/241] Image processed.\n",
      "-> [70/241] Image processed.\n",
      "-> [71/241] Image processed.\n",
      "-> [72/241] Image processed.\n",
      "-> [73/241] Image processed.\n",
      "-> [74/241] Image processed.\n",
      "-> [75/241] Image processed.\n",
      "-> [76/241] Image processed.\n",
      "-> [77/241] Image processed.\n",
      "-> [78/241] Image processed.\n",
      "-> [79/241] Image processed.\n",
      "-> [80/241] Image processed.\n",
      "-> [81/241] Image processed.\n",
      "-> [82/241] Image processed.\n",
      "-> [83/241] Image processed.\n",
      "-> [84/241] Image processed.\n",
      "-> [85/241] Image processed.\n",
      "-> [86/241] Image processed.\n",
      "-> [87/241] Image processed.\n",
      "-> [88/241] Image processed.\n",
      "-> [89/241] Image processed.\n",
      "-> [90/241] Image processed.\n",
      "-> [91/241] Image processed.\n",
      "-> [92/241] Image processed.\n",
      "-> [93/241] Image processed.\n",
      "-> [94/241] Image processed.\n",
      "-> [95/241] Image processed.\n",
      "-> [96/241] Image processed.\n",
      "-> [97/241] Image processed.\n",
      "-> [98/241] Image processed.\n",
      "-> [99/241] Image processed.\n",
      "-> [100/241] Image processed.\n",
      "-> [101/241] Image processed.\n",
      "-> [102/241] Image processed.\n",
      "-> [103/241] Image processed.\n",
      "-> [104/241] Image processed.\n",
      "-> [105/241] Image processed.\n",
      "-> [106/241] Image processed.\n",
      "-> [107/241] Image processed.\n",
      "-> [108/241] Image processed.\n",
      "-> [109/241] Image processed.\n",
      "-> [110/241] Image processed.\n",
      "-> [111/241] Image processed.\n",
      "-> [112/241] Image processed.\n",
      "-> [113/241] Image processed.\n",
      "-> [114/241] Image processed.\n",
      "-> [115/241] Image processed.\n",
      "-> [116/241] Image processed.\n",
      "-> [117/241] Image processed.\n",
      "-> [118/241] Image processed.\n",
      "-> [119/241] Image processed.\n",
      "-> [120/241] Image processed.\n",
      "-> [121/241] Image processed.\n",
      "-> [122/241] Image processed.\n",
      "-> [123/241] Image processed.\n",
      "-> [124/241] Image processed.\n",
      "-> [125/241] Image processed.\n",
      "-> [126/241] Image processed.\n",
      "-> [127/241] Image processed.\n",
      "-> [128/241] Image processed.\n",
      "-> [129/241] Image processed.\n",
      "-> [130/241] Image processed.\n",
      "-> [131/241] Image processed.\n",
      "-> [132/241] Image processed.\n",
      "-> [133/241] Image processed.\n",
      "-> [134/241] Image processed.\n",
      "-> [135/241] Image processed.\n",
      "-> [136/241] Image processed.\n",
      "-> [137/241] Image processed.\n",
      "-> [138/241] Image processed.\n",
      "-> [139/241] Image processed.\n",
      "-> [140/241] Image processed.\n",
      "-> [141/241] Image processed.\n",
      "-> [142/241] Image processed.\n",
      "-> [143/241] Image processed.\n",
      "-> [144/241] Image processed.\n",
      "-> [145/241] Image processed.\n",
      "-> [146/241] Image processed.\n",
      "-> [147/241] Image processed.\n",
      "-> [148/241] Image processed.\n",
      "-> [149/241] Image processed.\n",
      "-> [150/241] Image processed.\n",
      "-> [151/241] Image processed.\n",
      "-> [152/241] Image processed.\n",
      "-> [153/241] Image processed.\n",
      "-> [154/241] Image processed.\n",
      "-> [155/241] Image processed.\n",
      "-> [156/241] Image processed.\n",
      "-> [157/241] Image processed.\n",
      "-> [158/241] Image processed.\n",
      "-> [159/241] Image processed.\n",
      "-> [160/241] Image processed.\n",
      "-> [161/241] Image processed.\n",
      "-> [162/241] Image processed.\n",
      "-> [163/241] Image processed.\n",
      "-> [164/241] Image processed.\n",
      "-> [165/241] Image processed.\n",
      "-> [166/241] Image processed.\n",
      "-> [167/241] Image processed.\n",
      "-> [168/241] Image processed.\n",
      "-> [169/241] Image processed.\n",
      "-> [170/241] Image processed.\n",
      "-> [171/241] Image processed.\n",
      "-> [172/241] Image processed.\n",
      "-> [173/241] Image processed.\n",
      "-> [174/241] Image processed.\n",
      "-> [175/241] Image processed.\n",
      "-> [176/241] Image processed.\n",
      "-> [177/241] Image processed.\n",
      "-> [178/241] Image processed.\n",
      "-> [179/241] Image processed.\n",
      "-> [180/241] Image processed.\n",
      "-> [181/241] Image processed.\n",
      "-> [182/241] Image processed.\n",
      "-> [183/241] Image processed.\n",
      "-> [184/241] Image processed.\n",
      "-> [185/241] Image processed.\n",
      "-> [186/241] Image processed.\n",
      "-> [187/241] Image processed.\n",
      "-> [188/241] Image processed.\n",
      "-> [189/241] Image processed.\n",
      "-> [190/241] Image processed.\n",
      "-> [191/241] Image processed.\n",
      "-> [192/241] Image processed.\n",
      "-> [193/241] Image processed.\n",
      "-> [194/241] Image processed.\n",
      "-> [195/241] Image processed.\n",
      "-> [196/241] Image processed.\n",
      "-> [197/241] Image processed.\n",
      "-> [198/241] Image processed.\n",
      "-> [199/241] Image processed.\n",
      "-> [200/241] Image processed.\n",
      "-> [201/241] Image processed.\n",
      "-> [202/241] Image processed.\n",
      "-> [203/241] Image processed.\n",
      "-> [204/241] Image processed.\n",
      "-> [205/241] Image processed.\n",
      "-> [206/241] Image processed.\n",
      "-> [207/241] Image processed.\n",
      "-> [208/241] Image processed.\n",
      "-> [209/241] Image processed.\n",
      "-> [210/241] Image processed.\n",
      "-> [211/241] Image processed.\n",
      "-> [212/241] Image processed.\n",
      "-> [213/241] Image processed.\n",
      "-> [214/241] Image processed.\n",
      "-> [215/241] Image processed.\n",
      "-> [216/241] Image processed.\n",
      "-> [217/241] Image processed.\n",
      "-> [218/241] Image processed.\n",
      "-> [219/241] Image processed.\n",
      "-> [220/241] Image processed.\n",
      "-> [221/241] Image processed.\n",
      "-> [222/241] Image processed.\n",
      "-> [223/241] Image processed.\n",
      "-> [224/241] Image processed.\n",
      "-> [225/241] Image processed.\n",
      "-> [226/241] Image processed.\n",
      "-> [227/241] Image processed.\n",
      "-> [228/241] Image processed.\n",
      "-> [229/241] Image processed.\n",
      "-> [230/241] Image processed.\n",
      "-> [231/241] Image processed.\n",
      "-> [232/241] Image processed.\n",
      "-> [233/241] Image processed.\n",
      "-> [234/241] Image processed.\n",
      "-> [235/241] Image processed.\n",
      "-> [236/241] Image processed.\n",
      "-> [237/241] Image processed.\n",
      "-> [238/241] Image processed.\n",
      "-> [239/241] Image processed.\n",
      "-> [240/241] Image processed.\n",
      "-> [241/241] Image processed.\n"
     ]
    }
   ],
   "source": [
    "X_3d_train, y_3d_train = get_slices_per_group_3d(X_train, y_train)"
   ]
  },
  {
   "cell_type": "code",
   "execution_count": 34,
   "metadata": {},
   "outputs": [
    {
     "name": "stdout",
     "output_type": "stream",
     "text": [
      "-> [1/61] Image processed.\n",
      "-> [2/61] Image processed.\n",
      "-> [3/61] Image processed.\n",
      "-> [4/61] Image processed.\n",
      "-> [5/61] Image processed.\n",
      "-> [6/61] Image processed.\n",
      "-> [7/61] Image processed.\n",
      "-> [8/61] Image processed.\n",
      "-> [9/61] Image processed.\n",
      "-> [10/61] Image processed.\n",
      "-> [11/61] Image processed.\n",
      "-> [12/61] Image processed.\n",
      "-> [13/61] Image processed.\n",
      "-> [14/61] Image processed.\n",
      "-> [15/61] Image processed.\n",
      "-> [16/61] Image processed.\n",
      "-> [17/61] Image processed.\n",
      "-> [18/61] Image processed.\n",
      "-> [19/61] Image processed.\n",
      "-> [20/61] Image processed.\n",
      "-> [21/61] Image processed.\n",
      "-> [22/61] Image processed.\n",
      "-> [23/61] Image processed.\n",
      "-> [24/61] Image processed.\n",
      "-> [25/61] Image processed.\n",
      "-> [26/61] Image processed.\n",
      "-> [27/61] Image processed.\n",
      "-> [28/61] Image processed.\n",
      "-> [29/61] Image processed.\n",
      "-> [30/61] Image processed.\n",
      "-> [31/61] Image processed.\n",
      "-> [32/61] Image processed.\n",
      "-> [33/61] Image processed.\n",
      "-> [34/61] Image processed.\n",
      "-> [35/61] Image processed.\n",
      "-> [36/61] Image processed.\n",
      "-> [37/61] Image processed.\n",
      "-> [38/61] Image processed.\n",
      "-> [39/61] Image processed.\n",
      "-> [40/61] Image processed.\n",
      "-> [41/61] Image processed.\n",
      "-> [42/61] Image processed.\n",
      "-> [43/61] Image processed.\n",
      "-> [44/61] Image processed.\n",
      "-> [45/61] Image processed.\n",
      "-> [46/61] Image processed.\n",
      "-> [47/61] Image processed.\n",
      "-> [48/61] Image processed.\n",
      "-> [49/61] Image processed.\n",
      "-> [50/61] Image processed.\n",
      "-> [51/61] Image processed.\n",
      "-> [52/61] Image processed.\n",
      "-> [53/61] Image processed.\n",
      "-> [54/61] Image processed.\n",
      "-> [55/61] Image processed.\n",
      "-> [56/61] Image processed.\n",
      "-> [57/61] Image processed.\n",
      "-> [58/61] Image processed.\n",
      "-> [59/61] Image processed.\n",
      "-> [60/61] Image processed.\n",
      "-> [61/61] Image processed.\n"
     ]
    }
   ],
   "source": [
    "X_3d_test, y_3d_test = get_slices_per_group_3d(X_test, y_test)"
   ]
  },
  {
   "cell_type": "code",
   "execution_count": 35,
   "metadata": {},
   "outputs": [
    {
     "name": "stdout",
     "output_type": "stream",
     "text": [
      "Train: (241, 32, 120, 120, 1) 241\n",
      "Test: (61, 32, 120, 120, 1) 61\n"
     ]
    }
   ],
   "source": [
    "print(\"Train:\",X_3d_train.shape, len(y_3d_train))\n",
    "print(\"Test:\",X_3d_test.shape, len(y_3d_test))"
   ]
  },
  {
   "cell_type": "markdown",
   "metadata": {},
   "source": [
    "### VGG19 "
   ]
  },
  {
   "cell_type": "code",
   "execution_count": 40,
   "metadata": {},
   "outputs": [],
   "source": [
    "import keras\n",
    "from keras.models import Sequential\n",
    "from keras.layers import Dense, Conv3D, MaxPool3D , Flatten\n",
    "from keras.preprocessing.image import ImageDataGenerator\n",
    "from keras.layers import Dropout\n",
    "from keras.callbacks import ModelCheckpoint, EarlyStopping\n",
    "import tensorflow as tf"
   ]
  },
  {
   "cell_type": "code",
   "execution_count": 37,
   "metadata": {},
   "outputs": [
    {
     "name": "stdout",
     "output_type": "stream",
     "text": [
      "Model: \"sequential\"\n",
      "_________________________________________________________________\n",
      "Layer (type)                 Output Shape              Param #   \n",
      "=================================================================\n",
      "conv3d (Conv3D)              (None, 32, 120, 120, 20)  560       \n",
      "_________________________________________________________________\n",
      "conv3d_1 (Conv3D)            (None, 32, 120, 120, 64)  34624     \n",
      "_________________________________________________________________\n",
      "dropout (Dropout)            (None, 32, 120, 120, 64)  0         \n",
      "_________________________________________________________________\n",
      "max_pooling3d (MaxPooling3D) (None, 16, 60, 60, 64)    0         \n",
      "_________________________________________________________________\n",
      "conv3d_2 (Conv3D)            (None, 16, 60, 60, 128)   221312    \n",
      "_________________________________________________________________\n",
      "conv3d_3 (Conv3D)            (None, 16, 60, 60, 128)   442496    \n",
      "_________________________________________________________________\n",
      "dropout_1 (Dropout)          (None, 16, 60, 60, 128)   0         \n",
      "_________________________________________________________________\n",
      "max_pooling3d_1 (MaxPooling3 (None, 8, 30, 30, 128)    0         \n",
      "_________________________________________________________________\n",
      "conv3d_4 (Conv3D)            (None, 8, 30, 30, 256)    884992    \n",
      "_________________________________________________________________\n",
      "conv3d_5 (Conv3D)            (None, 8, 30, 30, 256)    1769728   \n",
      "_________________________________________________________________\n",
      "conv3d_6 (Conv3D)            (None, 8, 30, 30, 256)    1769728   \n",
      "_________________________________________________________________\n",
      "conv3d_7 (Conv3D)            (None, 8, 30, 30, 256)    1769728   \n",
      "_________________________________________________________________\n",
      "dropout_2 (Dropout)          (None, 8, 30, 30, 256)    0         \n",
      "_________________________________________________________________\n",
      "max_pooling3d_2 (MaxPooling3 (None, 4, 15, 15, 256)    0         \n",
      "_________________________________________________________________\n",
      "conv3d_8 (Conv3D)            (None, 4, 15, 15, 512)    3539456   \n",
      "_________________________________________________________________\n",
      "conv3d_9 (Conv3D)            (None, 4, 15, 15, 512)    7078400   \n",
      "_________________________________________________________________\n",
      "conv3d_10 (Conv3D)           (None, 4, 15, 15, 512)    7078400   \n",
      "_________________________________________________________________\n",
      "conv3d_11 (Conv3D)           (None, 4, 15, 15, 512)    7078400   \n",
      "_________________________________________________________________\n",
      "dropout_3 (Dropout)          (None, 4, 15, 15, 512)    0         \n",
      "_________________________________________________________________\n",
      "max_pooling3d_3 (MaxPooling3 (None, 2, 7, 7, 512)      0         \n",
      "_________________________________________________________________\n",
      "conv3d_12 (Conv3D)           (None, 2, 7, 7, 512)      7078400   \n",
      "_________________________________________________________________\n",
      "conv3d_13 (Conv3D)           (None, 2, 7, 7, 512)      7078400   \n",
      "_________________________________________________________________\n",
      "conv3d_14 (Conv3D)           (None, 2, 7, 7, 512)      7078400   \n",
      "_________________________________________________________________\n",
      "conv3d_15 (Conv3D)           (None, 2, 7, 7, 512)      7078400   \n",
      "_________________________________________________________________\n",
      "dropout_4 (Dropout)          (None, 2, 7, 7, 512)      0         \n",
      "_________________________________________________________________\n",
      "max_pooling3d_4 (MaxPooling3 (None, 1, 3, 3, 512)      0         \n",
      "_________________________________________________________________\n",
      "flatten (Flatten)            (None, 4608)              0         \n",
      "_________________________________________________________________\n",
      "dense (Dense)                (None, 4096)              18878464  \n",
      "_________________________________________________________________\n",
      "dense_1 (Dense)              (None, 4096)              16781312  \n",
      "_________________________________________________________________\n",
      "dense_2 (Dense)              (None, 1000)              4097000   \n",
      "_________________________________________________________________\n",
      "dense_3 (Dense)              (None, 1)                 1001      \n",
      "=================================================================\n",
      "Total params: 99,739,201\n",
      "Trainable params: 99,739,201\n",
      "Non-trainable params: 0\n",
      "_________________________________________________________________\n",
      "None\n"
     ]
    }
   ],
   "source": [
    "model = Sequential()\n",
    "model.add(Conv3D(input_shape=(32,120,120,1),filters=20,kernel_size=3,padding=\"same\", activation=\"relu\"))\n",
    "model.add(Conv3D(filters=64,kernel_size=3,padding=\"same\", activation=\"relu\"))\n",
    "model.add(Dropout(0.4))\n",
    "model.add(MaxPool3D(pool_size=2,strides=(2,2,2)))\n",
    "model.add(Conv3D(filters=128, kernel_size=3, padding=\"same\", activation=\"relu\"))\n",
    "model.add(Conv3D(filters=128, kernel_size=3, padding=\"same\", activation=\"relu\"))\n",
    "model.add(Dropout(0.6))\n",
    "model.add(MaxPool3D(pool_size=2,strides=(2,2,2)))\n",
    "model.add(Conv3D(filters=256, kernel_size=3, padding=\"same\", activation=\"relu\"))\n",
    "model.add(Conv3D(filters=256, kernel_size=3, padding=\"same\", activation=\"relu\"))\n",
    "model.add(Conv3D(filters=256, kernel_size=3, padding=\"same\", activation=\"relu\"))\n",
    "model.add(Conv3D(filters=256, kernel_size=3, padding=\"same\", activation=\"relu\"))\n",
    "model.add(Dropout(0.8))\n",
    "model.add(MaxPool3D(pool_size=2,strides=(2,2,2)))\n",
    "model.add(Conv3D(filters=512, kernel_size=3, padding=\"same\", activation=\"relu\"))\n",
    "model.add(Conv3D(filters=512, kernel_size=3, padding=\"same\", activation=\"relu\"))\n",
    "model.add(Conv3D(filters=512, kernel_size=3, padding=\"same\", activation=\"relu\"))\n",
    "model.add(Conv3D(filters=512, kernel_size=3, padding=\"same\", activation=\"relu\"))\n",
    "model.add(Dropout(0.8))\n",
    "model.add(MaxPool3D(pool_size=2,strides=(2,2,2)))\n",
    "model.add(Conv3D(filters=512, kernel_size=3, padding=\"same\", activation=\"relu\"))\n",
    "model.add(Conv3D(filters=512, kernel_size=3, padding=\"same\", activation=\"relu\"))\n",
    "model.add(Conv3D(filters=512, kernel_size=3, padding=\"same\", activation=\"relu\"))\n",
    "model.add(Conv3D(filters=512, kernel_size=3, padding=\"same\", activation=\"relu\"))\n",
    "model.add(Dropout(0.4))\n",
    "model.add(MaxPool3D(pool_size=2,strides=(2,2,2)))\n",
    "\n",
    "#Dense layer\n",
    "model.add(Flatten())\n",
    "model.add(Dense(units=4096,activation=\"relu\"))\n",
    "model.add(Dense(units=4096,activation=\"relu\"))\n",
    "model.add(Dense(units=1000,activation=\"relu\"))\n",
    "model.add(Dense(1, activation=\"sigmoid\"))\n",
    "\n",
    "model.compile(optimizer=tf.keras.optimizers.Adam(learning_rate=0.0001), loss=keras.losses.binary_crossentropy, metrics=['accuracy'])\n",
    "\n",
    "print(model.summary())"
   ]
  },
  {
   "cell_type": "code",
   "execution_count": 41,
   "metadata": {},
   "outputs": [
    {
     "name": "stdout",
     "output_type": "stream",
     "text": [
      "WARNING:tensorflow:`period` argument is deprecated. Please use `save_freq` to specify the frequency in number of batches seen.\n"
     ]
    }
   ],
   "source": [
    "checkpoint = ModelCheckpoint(\"vgg19_3d_3112-1856.h5\", monitor='val_accuracy', verbose=1, save_best_only=True, save_weights_only=False, mode='auto', period=1)\n",
    "early = EarlyStopping(monitor='val_acc', min_delta=0, patience=20, verbose=1, mode='auto')\n",
    "#fit_generator(steps_per_epoch=1,generator=traindata, validation_data= testdata, validation_steps=1,epochs=50,callbacks=[checkpoint])\n",
    "# hist = model.fit(traindata, testdata, batch_size=10, epochs=20, verbose=0, shuffle=True,validation_split=0.2,callbacks=[checkpoint])"
   ]
  },
  {
   "cell_type": "code",
   "execution_count": null,
   "metadata": {},
   "outputs": [
    {
     "name": "stdout",
     "output_type": "stream",
     "text": [
      "Epoch 1/10\n",
      "20/20 [==============================] - 3128s 156s/step - loss: 7.6737 - accuracy: 0.5833 - val_loss: 0.6914 - val_accuracy: 0.6735\n",
      "\n",
      "Epoch 00001: val_accuracy improved from -inf to 0.67347, saving model to vgg19_3d_3112-1856.h5\n",
      "Epoch 2/10\n",
      "20/20 [==============================] - 3084s 154s/step - loss: 0.6954 - accuracy: 0.6562 - val_loss: 0.6852 - val_accuracy: 0.6735\n",
      "\n",
      "Epoch 00002: val_accuracy did not improve from 0.67347\n",
      "Epoch 3/10\n",
      "20/20 [==============================] - 3148s 157s/step - loss: 0.6814 - accuracy: 0.6667 - val_loss: 0.6763 - val_accuracy: 0.6735\n",
      "\n",
      "Epoch 00003: val_accuracy did not improve from 0.67347\n",
      "Epoch 4/10\n",
      " 4/20 [=====>........................] - ETA: 43:17 - loss: 0.6400 - accuracy: 0.8000"
     ]
    }
   ],
   "source": [
    "hist = model.fit(X_3d_train, y_3d_train, batch_size=10,epochs=10,validation_split=0.2, callbacks=[checkpoint])"
   ]
  },
  {
   "cell_type": "code",
   "execution_count": null,
   "metadata": {},
   "outputs": [],
   "source": [
    "import matplotlib.pyplot as plt\n",
    "\n",
    "plt.plot(hist.history[\"accuracy\"])\n",
    "plt.plot(hist.history['val_accuracy'])\n",
    "plt.plot(hist.history['loss'])\n",
    "plt.plot(hist.history['val_loss'])\n",
    "plt.title(\"model accuracy\")\n",
    "plt.ylabel(\"Accuracy\")\n",
    "plt.xlabel(\"Epoch\")\n",
    "plt.legend([\"Accuracy\",\"Validation Accuracy\",\"loss\",\"Validation Loss\"])\n",
    "plt.savefig('3d_graph_13122021.png')"
   ]
  },
  {
   "cell_type": "code",
   "execution_count": null,
   "metadata": {},
   "outputs": [],
   "source": [
    "preds = model.predict(X_3d_test)\n",
    "\n",
    "predictions = [(0 if i <0.5 else 1) for i in preds]\n",
    "cm = confusion_matrix(y_pred=predictions, y_true=y_axial3c_test)\n",
    "\n",
    "print('Accuracy {}'.format(accuracy_score(y_true=y_3d_test, y_pred=predictions)))"
   ]
  },
  {
   "cell_type": "code",
   "execution_count": null,
   "metadata": {},
   "outputs": [],
   "source": [
    "plt.style.use(\"seaborn-ticks\")\n",
    "\n",
    "plt.plot(history.history['accuracy'])\n",
    "plt.plot(history.history['val_accuracy'])\n",
    "plt.title('model accuracy')\n",
    "plt.ylabel('Accuracy')\n",
    "plt.xlabel('Epoch')\n",
    "plt.legend(['Training Acc', 'Test Acc'], loc='upper left')\n",
    "plt.show()\n",
    "plt.savefig('model_acc.png', bbox_inches='tight', dpi = 100) \n",
    "\n",
    "# summarize history for loss\n",
    "plt.plot(history.history['loss'])\n",
    "plt.plot(history.history['val_loss'])\n",
    "plt.title('model loss')\n",
    "plt.ylabel('Loss')\n",
    "plt.xlabel('Epoch')\n",
    "plt.legend(['Training Loss', 'Test Loss'], loc='upper left')\n",
    "plt.show()\n",
    "plt.savefig('model_pogress.png', bbox_inches='tight', dpi = 100) \n",
    "\n",
    "plt.figure()\n",
    "N = len(history.history['accuracy'])\n",
    "plt.plot(np.arange(0, N), history.history[\"loss\"], label=\"train_loss\")\n",
    "plt.plot(np.arange(0, N), history.history[\"val_loss\"], label=\"val_loss\")\n",
    "plt.plot(np.arange(0, N), history.history[\"accuracy\"], label=\"train_acc\")\n",
    "plt.plot(np.arange(0, N), history.history[\"val_accuracy\"], label=\"val_accuracy\")\n",
    "plt.title(\"Training Loss and Accuracy\")\n",
    "plt.xlabel(\"Epoch #\")\n",
    "plt.ylabel(\"Loss/Accuracy\")\n",
    "plt.legend(loc=\"upper left\")\n",
    "plt.savefig('loss.png', bbox_inches='tight', dpi = 100) "
   ]
  },
  {
   "cell_type": "markdown",
   "metadata": {
    "id": "TTMlHtqbcTsm"
   },
   "source": [
    "## AXIAL"
   ]
  },
  {
   "cell_type": "code",
   "execution_count": 34,
   "metadata": {
    "colab": {
     "base_uri": "https://localhost:8080/"
    },
    "id": "a6KuVpJFev4t",
    "outputId": "c6f3ceb6-6a1b-437d-c93e-14c47265bf01"
   },
   "outputs": [
    {
     "name": "stdout",
     "output_type": "stream",
     "text": [
      "-> [1/191] Slices processed 20.\n",
      "-> [2/191] Slices processed 40.\n",
      "-> [3/191] Slices processed 60.\n",
      "-> [4/191] Slices processed 80.\n",
      "error\n",
      "-> [5/191] Slices processed 80.\n",
      "error\n",
      "-> [6/191] Slices processed 80.\n",
      "-> [7/191] Slices processed 82.\n",
      "-> [8/191] Slices processed 92.\n",
      "-> [9/191] Slices processed 112.\n",
      "-> [10/191] Slices processed 132.\n",
      "-> [11/191] Slices processed 152.\n",
      "-> [12/191] Slices processed 172.\n",
      "-> [13/191] Slices processed 192.\n",
      "error\n",
      "-> [14/191] Slices processed 192.\n",
      "-> [15/191] Slices processed 212.\n",
      "-> [16/191] Slices processed 232.\n",
      "-> [17/191] Slices processed 252.\n",
      "error\n",
      "-> [18/191] Slices processed 252.\n",
      "-> [19/191] Slices processed 272.\n",
      "-> [20/191] Slices processed 292.\n",
      "-> [21/191] Slices processed 312.\n",
      "-> [22/191] Slices processed 332.\n",
      "-> [23/191] Slices processed 338.\n",
      "-> [24/191] Slices processed 358.\n",
      "-> [25/191] Slices processed 378.\n",
      "-> [26/191] Slices processed 398.\n",
      "-> [27/191] Slices processed 418.\n",
      "-> [28/191] Slices processed 431.\n",
      "-> [29/191] Slices processed 451.\n",
      "-> [30/191] Slices processed 471.\n",
      "-> [31/191] Slices processed 491.\n",
      "error\n",
      "-> [32/191] Slices processed 491.\n",
      "-> [33/191] Slices processed 511.\n",
      "error\n",
      "-> [34/191] Slices processed 511.\n",
      "-> [35/191] Slices processed 531.\n",
      "-> [36/191] Slices processed 551.\n",
      "-> [37/191] Slices processed 571.\n",
      "-> [38/191] Slices processed 591.\n",
      "-> [39/191] Slices processed 611.\n",
      "-> [40/191] Slices processed 631.\n",
      "-> [41/191] Slices processed 651.\n",
      "-> [42/191] Slices processed 671.\n",
      "-> [43/191] Slices processed 691.\n",
      "-> [44/191] Slices processed 711.\n",
      "-> [45/191] Slices processed 731.\n",
      "-> [46/191] Slices processed 751.\n",
      "-> [47/191] Slices processed 771.\n",
      "-> [48/191] Slices processed 791.\n",
      "-> [49/191] Slices processed 811.\n",
      "-> [50/191] Slices processed 826.\n",
      "-> [51/191] Slices processed 846.\n",
      "-> [52/191] Slices processed 866.\n",
      "-> [53/191] Slices processed 886.\n",
      "-> [54/191] Slices processed 900.\n",
      "-> [55/191] Slices processed 920.\n",
      "-> [56/191] Slices processed 940.\n",
      "-> [57/191] Slices processed 960.\n",
      "error\n",
      "-> [58/191] Slices processed 960.\n",
      "error\n",
      "-> [59/191] Slices processed 960.\n",
      "error\n",
      "-> [60/191] Slices processed 960.\n",
      "-> [61/191] Slices processed 980.\n",
      "-> [62/191] Slices processed 1000.\n",
      "-> [63/191] Slices processed 1020.\n",
      "-> [64/191] Slices processed 1040.\n",
      "-> [65/191] Slices processed 1060.\n",
      "-> [66/191] Slices processed 1080.\n",
      "error\n",
      "-> [67/191] Slices processed 1080.\n",
      "-> [68/191] Slices processed 1095.\n",
      "-> [69/191] Slices processed 1115.\n",
      "-> [70/191] Slices processed 1135.\n",
      "error\n",
      "-> [71/191] Slices processed 1135.\n",
      "-> [72/191] Slices processed 1155.\n",
      "error\n",
      "-> [73/191] Slices processed 1155.\n",
      "error\n",
      "-> [74/191] Slices processed 1155.\n",
      "-> [75/191] Slices processed 1175.\n",
      "error\n",
      "-> [76/191] Slices processed 1175.\n",
      "-> [77/191] Slices processed 1195.\n",
      "-> [78/191] Slices processed 1215.\n",
      "-> [79/191] Slices processed 1235.\n",
      "-> [80/191] Slices processed 1255.\n",
      "error\n",
      "-> [81/191] Slices processed 1255.\n",
      "-> [82/191] Slices processed 1275.\n",
      "-> [83/191] Slices processed 1295.\n",
      "-> [84/191] Slices processed 1315.\n",
      "-> [85/191] Slices processed 1335.\n",
      "-> [86/191] Slices processed 1355.\n",
      "error\n",
      "-> [87/191] Slices processed 1355.\n",
      "-> [88/191] Slices processed 1375.\n",
      "-> [89/191] Slices processed 1382.\n",
      "-> [90/191] Slices processed 1402.\n",
      "-> [91/191] Slices processed 1422.\n",
      "-> [92/191] Slices processed 1442.\n",
      "error\n",
      "-> [93/191] Slices processed 1442.\n",
      "-> [94/191] Slices processed 1462.\n",
      "-> [95/191] Slices processed 1482.\n",
      "-> [96/191] Slices processed 1502.\n",
      "-> [97/191] Slices processed 1522.\n",
      "-> [98/191] Slices processed 1542.\n",
      "-> [99/191] Slices processed 1555.\n",
      "-> [100/191] Slices processed 1575.\n",
      "-> [101/191] Slices processed 1595.\n",
      "error\n",
      "-> [102/191] Slices processed 1595.\n",
      "-> [103/191] Slices processed 1615.\n",
      "error\n",
      "-> [104/191] Slices processed 1615.\n",
      "-> [105/191] Slices processed 1635.\n",
      "-> [106/191] Slices processed 1655.\n",
      "-> [107/191] Slices processed 1675.\n",
      "-> [108/191] Slices processed 1695.\n",
      "-> [109/191] Slices processed 1715.\n",
      "-> [110/191] Slices processed 1735.\n",
      "-> [111/191] Slices processed 1755.\n",
      "error\n",
      "-> [112/191] Slices processed 1755.\n",
      "-> [113/191] Slices processed 1775.\n",
      "-> [114/191] Slices processed 1795.\n",
      "-> [115/191] Slices processed 1815.\n",
      "-> [116/191] Slices processed 1835.\n",
      "-> [117/191] Slices processed 1855.\n",
      "error\n",
      "-> [118/191] Slices processed 1855.\n",
      "error\n",
      "-> [119/191] Slices processed 1855.\n",
      "-> [120/191] Slices processed 1875.\n",
      "-> [121/191] Slices processed 1895.\n",
      "-> [122/191] Slices processed 1900.\n",
      "error\n",
      "-> [123/191] Slices processed 1900.\n",
      "error\n",
      "-> [124/191] Slices processed 1900.\n",
      "error\n",
      "-> [125/191] Slices processed 1900.\n",
      "-> [126/191] Slices processed 1920.\n",
      "error\n",
      "-> [127/191] Slices processed 1920.\n",
      "-> [128/191] Slices processed 1940.\n",
      "-> [129/191] Slices processed 1960.\n",
      "-> [130/191] Slices processed 1980.\n",
      "-> [131/191] Slices processed 2000.\n",
      "-> [132/191] Slices processed 2020.\n",
      "-> [133/191] Slices processed 2040.\n",
      "-> [134/191] Slices processed 2058.\n",
      "-> [135/191] Slices processed 2078.\n",
      "error\n",
      "-> [136/191] Slices processed 2078.\n",
      "-> [137/191] Slices processed 2098.\n",
      "-> [138/191] Slices processed 2118.\n",
      "-> [139/191] Slices processed 2138.\n",
      "-> [140/191] Slices processed 2158.\n",
      "error\n",
      "-> [141/191] Slices processed 2158.\n",
      "error\n",
      "-> [142/191] Slices processed 2158.\n",
      "-> [143/191] Slices processed 2178.\n",
      "-> [144/191] Slices processed 2198.\n",
      "-> [145/191] Slices processed 2218.\n",
      "-> [146/191] Slices processed 2238.\n",
      "-> [147/191] Slices processed 2241.\n",
      "error\n",
      "-> [148/191] Slices processed 2241.\n",
      "-> [149/191] Slices processed 2252.\n",
      "error\n",
      "-> [150/191] Slices processed 2252.\n",
      "-> [151/191] Slices processed 2272.\n",
      "-> [152/191] Slices processed 2292.\n",
      "error\n",
      "-> [153/191] Slices processed 2292.\n",
      "-> [154/191] Slices processed 2312.\n",
      "error\n",
      "-> [155/191] Slices processed 2312.\n",
      "-> [156/191] Slices processed 2332.\n",
      "-> [157/191] Slices processed 2352.\n",
      "-> [158/191] Slices processed 2355.\n",
      "error\n",
      "-> [159/191] Slices processed 2355.\n",
      "-> [160/191] Slices processed 2375.\n",
      "-> [161/191] Slices processed 2388.\n",
      "-> [162/191] Slices processed 2408.\n",
      "-> [163/191] Slices processed 2428.\n",
      "error\n",
      "-> [164/191] Slices processed 2428.\n",
      "-> [165/191] Slices processed 2448.\n",
      "error\n",
      "-> [166/191] Slices processed 2448.\n",
      "-> [167/191] Slices processed 2459.\n",
      "-> [168/191] Slices processed 2479.\n",
      "-> [169/191] Slices processed 2499.\n",
      "-> [170/191] Slices processed 2519.\n",
      "-> [171/191] Slices processed 2539.\n",
      "-> [172/191] Slices processed 2559.\n",
      "-> [173/191] Slices processed 2579.\n",
      "-> [174/191] Slices processed 2599.\n",
      "error\n",
      "-> [175/191] Slices processed 2599.\n",
      "-> [176/191] Slices processed 2619.\n",
      "error\n",
      "-> [177/191] Slices processed 2619.\n",
      "-> [178/191] Slices processed 2639.\n",
      "-> [179/191] Slices processed 2647.\n",
      "-> [180/191] Slices processed 2667.\n",
      "-> [181/191] Slices processed 2687.\n",
      "-> [182/191] Slices processed 2707.\n",
      "-> [183/191] Slices processed 2726.\n",
      "error\n",
      "-> [184/191] Slices processed 2726.\n",
      "-> [185/191] Slices processed 2746.\n",
      "-> [186/191] Slices processed 2766.\n",
      "error\n",
      "-> [187/191] Slices processed 2766.\n",
      "-> [188/191] Slices processed 2773.\n",
      "error\n",
      "-> [189/191] Slices processed 2773.\n",
      "-> [190/191] Slices processed 2793.\n",
      "-> [191/191] Slices processed 2813.\n",
      "-> [1/48] Slices processed 20.\n",
      "-> [2/48] Slices processed 24.\n",
      "error\n",
      "-> [3/48] Slices processed 24.\n",
      "-> [4/48] Slices processed 44.\n",
      "-> [5/48] Slices processed 64.\n",
      "-> [6/48] Slices processed 84.\n",
      "-> [7/48] Slices processed 104.\n",
      "-> [8/48] Slices processed 124.\n",
      "-> [9/48] Slices processed 144.\n",
      "-> [10/48] Slices processed 164.\n",
      "-> [11/48] Slices processed 184.\n",
      "error\n",
      "-> [12/48] Slices processed 184.\n",
      "-> [13/48] Slices processed 204.\n",
      "error\n",
      "-> [14/48] Slices processed 204.\n",
      "-> [15/48] Slices processed 224.\n",
      "-> [16/48] Slices processed 244.\n",
      "-> [17/48] Slices processed 264.\n",
      "error\n",
      "-> [18/48] Slices processed 264.\n",
      "-> [19/48] Slices processed 284.\n",
      "error\n",
      "-> [20/48] Slices processed 284.\n",
      "-> [21/48] Slices processed 304.\n",
      "-> [22/48] Slices processed 324.\n",
      "-> [23/48] Slices processed 344.\n",
      "-> [24/48] Slices processed 352.\n",
      "-> [25/48] Slices processed 372.\n",
      "-> [26/48] Slices processed 383.\n",
      "-> [27/48] Slices processed 403.\n",
      "error\n",
      "-> [28/48] Slices processed 403.\n",
      "error\n",
      "-> [29/48] Slices processed 403.\n",
      "-> [30/48] Slices processed 423.\n",
      "-> [31/48] Slices processed 443.\n",
      "error\n",
      "-> [32/48] Slices processed 443.\n",
      "-> [33/48] Slices processed 463.\n",
      "error\n",
      "-> [34/48] Slices processed 463.\n",
      "-> [35/48] Slices processed 483.\n",
      "error\n",
      "-> [36/48] Slices processed 483.\n",
      "-> [37/48] Slices processed 497.\n"
     ]
    },
    {
     "name": "stdout",
     "output_type": "stream",
     "text": [
      "error\n",
      "-> [38/48] Slices processed 497.\n",
      "error\n",
      "-> [39/48] Slices processed 497.\n",
      "-> [40/48] Slices processed 517.\n",
      "-> [41/48] Slices processed 537.\n",
      "-> [42/48] Slices processed 557.\n",
      "-> [43/48] Slices processed 577.\n",
      "-> [44/48] Slices processed 597.\n",
      "-> [45/48] Slices processed 617.\n",
      "-> [46/48] Slices processed 637.\n",
      "-> [47/48] Slices processed 657.\n",
      "-> [48/48] Slices processed 677.\n"
     ]
    }
   ],
   "source": [
    "X_axial_train, y_axial_train = get_slices_per_group_axial(X_train, y_train)\n",
    "X_axial_train = X_axial_train.reshape(-1, X_axial_train.shape[1], X_axial_train.shape[2], 1)\n",
    "\n",
    "X_axial_test, y_axial_test = get_slices_per_group_axial(X_test, y_test)\n",
    "X_axial_test = X_axial_test.reshape(-1, X_axial_train.shape[1], X_axial_train.shape[2], 1)"
   ]
  },
  {
   "cell_type": "code",
   "execution_count": 41,
   "metadata": {
    "colab": {
     "base_uri": "https://localhost:8080/"
    },
    "id": "D-36EzPmfjyA",
    "outputId": "e17efeb8-62c4-49ef-8446-1ec8863ff0fb"
   },
   "outputs": [
    {
     "name": "stdout",
     "output_type": "stream",
     "text": [
      "Train: X:(2813, 120, 120, 1), y: 2813\n",
      "Test: X:(677, 120, 120, 1), y: 677\n"
     ]
    }
   ],
   "source": [
    "print(\"Train: X:(%d, %d, %d, %d), y: %d\" %(X_axial_train.shape[0],X_axial_train.shape[1],X_axial_train.shape[2],X_axial_train.shape[3], len(y_axial_train)))\n",
    "print(\"Test: X:(%d, %d, %d, %d), y: %d\" %(X_axial_test.shape[0],X_axial_test.shape[1],X_axial_test.shape[2],X_axial_test.shape[3], len(y_axial_test)))"
   ]
  },
  {
   "cell_type": "markdown",
   "metadata": {
    "id": "X7bK3grjmDsh"
   },
   "source": [
    "### VGG19"
   ]
  },
  {
   "cell_type": "code",
   "execution_count": 36,
   "metadata": {
    "id": "GmsZwEJRpg-t"
   },
   "outputs": [],
   "source": [
    "import keras\n",
    "from keras.models import Sequential\n",
    "from keras.layers import Dense, Conv2D, MaxPool2D , Flatten\n",
    "from keras.preprocessing.image import ImageDataGenerator\n",
    "from keras.layers import Dropout\n",
    "from keras.callbacks import ModelCheckpoint, EarlyStopping\n",
    "import tensorflow as tf"
   ]
  },
  {
   "cell_type": "code",
   "execution_count": 37,
   "metadata": {
    "colab": {
     "base_uri": "https://localhost:8080/"
    },
    "id": "7Y7XVr5bl5MU",
    "outputId": "18ce578d-5d08-4ce3-f8cc-aad0bd5b537b"
   },
   "outputs": [
    {
     "name": "stdout",
     "output_type": "stream",
     "text": [
      "Model: \"sequential\"\n",
      "_________________________________________________________________\n",
      "Layer (type)                 Output Shape              Param #   \n",
      "=================================================================\n",
      "conv2d (Conv2D)              (None, 120, 120, 64)      640       \n",
      "_________________________________________________________________\n",
      "conv2d_1 (Conv2D)            (None, 120, 120, 64)      36928     \n",
      "_________________________________________________________________\n",
      "dropout (Dropout)            (None, 120, 120, 64)      0         \n",
      "_________________________________________________________________\n",
      "max_pooling2d (MaxPooling2D) (None, 60, 60, 64)        0         \n",
      "_________________________________________________________________\n",
      "conv2d_2 (Conv2D)            (None, 60, 60, 128)       73856     \n",
      "_________________________________________________________________\n",
      "conv2d_3 (Conv2D)            (None, 60, 60, 128)       147584    \n",
      "_________________________________________________________________\n",
      "dropout_1 (Dropout)          (None, 60, 60, 128)       0         \n",
      "_________________________________________________________________\n",
      "max_pooling2d_1 (MaxPooling2 (None, 30, 30, 128)       0         \n",
      "_________________________________________________________________\n",
      "conv2d_4 (Conv2D)            (None, 30, 30, 256)       295168    \n",
      "_________________________________________________________________\n",
      "conv2d_5 (Conv2D)            (None, 30, 30, 256)       590080    \n",
      "_________________________________________________________________\n",
      "conv2d_6 (Conv2D)            (None, 30, 30, 256)       590080    \n",
      "_________________________________________________________________\n",
      "conv2d_7 (Conv2D)            (None, 30, 30, 256)       590080    \n",
      "_________________________________________________________________\n",
      "dropout_2 (Dropout)          (None, 30, 30, 256)       0         \n",
      "_________________________________________________________________\n",
      "max_pooling2d_2 (MaxPooling2 (None, 15, 15, 256)       0         \n",
      "_________________________________________________________________\n",
      "conv2d_8 (Conv2D)            (None, 15, 15, 512)       1180160   \n",
      "_________________________________________________________________\n",
      "conv2d_9 (Conv2D)            (None, 15, 15, 512)       2359808   \n",
      "_________________________________________________________________\n",
      "conv2d_10 (Conv2D)           (None, 15, 15, 512)       2359808   \n",
      "_________________________________________________________________\n",
      "conv2d_11 (Conv2D)           (None, 15, 15, 512)       2359808   \n",
      "_________________________________________________________________\n",
      "dropout_3 (Dropout)          (None, 15, 15, 512)       0         \n",
      "_________________________________________________________________\n",
      "max_pooling2d_3 (MaxPooling2 (None, 7, 7, 512)         0         \n",
      "_________________________________________________________________\n",
      "conv2d_12 (Conv2D)           (None, 7, 7, 512)         2359808   \n",
      "_________________________________________________________________\n",
      "conv2d_13 (Conv2D)           (None, 7, 7, 512)         2359808   \n",
      "_________________________________________________________________\n",
      "conv2d_14 (Conv2D)           (None, 7, 7, 512)         2359808   \n",
      "_________________________________________________________________\n",
      "conv2d_15 (Conv2D)           (None, 7, 7, 512)         2359808   \n",
      "_________________________________________________________________\n",
      "dropout_4 (Dropout)          (None, 7, 7, 512)         0         \n",
      "_________________________________________________________________\n",
      "max_pooling2d_4 (MaxPooling2 (None, 3, 3, 512)         0         \n",
      "_________________________________________________________________\n",
      "flatten (Flatten)            (None, 4608)              0         \n",
      "_________________________________________________________________\n",
      "dense (Dense)                (None, 4096)              18878464  \n",
      "_________________________________________________________________\n",
      "dense_1 (Dense)              (None, 4096)              16781312  \n",
      "_________________________________________________________________\n",
      "dense_2 (Dense)              (None, 1000)              4097000   \n",
      "_________________________________________________________________\n",
      "dense_3 (Dense)              (None, 1)                 1001      \n",
      "=================================================================\n",
      "Total params: 59,781,009\n",
      "Trainable params: 59,781,009\n",
      "Non-trainable params: 0\n",
      "_________________________________________________________________\n",
      "None\n"
     ]
    }
   ],
   "source": [
    "model = Sequential()\n",
    "model.add(Conv2D(input_shape=(120,120,1),filters=64,kernel_size=(3,3),padding=\"same\", activation=\"relu\"))\n",
    "model.add(Conv2D(filters=64,kernel_size=(3,3),padding=\"same\", activation=\"relu\"))\n",
    "model.add(Dropout(0.2))\n",
    "model.add(MaxPool2D(pool_size=(2,2),strides=(2,2)))\n",
    "model.add(Conv2D(filters=128, kernel_size=(3,3), padding=\"same\", activation=\"relu\"))\n",
    "model.add(Conv2D(filters=128, kernel_size=(3,3), padding=\"same\", activation=\"relu\"))\n",
    "model.add(Dropout(0.3))\n",
    "model.add(MaxPool2D(pool_size=(2,2),strides=(2,2)))\n",
    "model.add(Conv2D(filters=256, kernel_size=(3,3), padding=\"same\", activation=\"relu\"))\n",
    "model.add(Conv2D(filters=256, kernel_size=(3,3), padding=\"same\", activation=\"relu\"))\n",
    "model.add(Conv2D(filters=256, kernel_size=(3,3), padding=\"same\", activation=\"relu\"))\n",
    "model.add(Conv2D(filters=256, kernel_size=(3,3), padding=\"same\", activation=\"relu\"))\n",
    "model.add(Dropout(0.4))\n",
    "model.add(MaxPool2D(pool_size=(2,2),strides=(2,2)))\n",
    "model.add(Conv2D(filters=512, kernel_size=(3,3), padding=\"same\", activation=\"relu\"))\n",
    "model.add(Conv2D(filters=512, kernel_size=(3,3), padding=\"same\", activation=\"relu\"))\n",
    "model.add(Conv2D(filters=512, kernel_size=(3,3), padding=\"same\", activation=\"relu\"))\n",
    "model.add(Conv2D(filters=512, kernel_size=(3,3), padding=\"same\", activation=\"relu\"))\n",
    "model.add(Dropout(0.5))\n",
    "model.add(MaxPool2D(pool_size=(2,2),strides=(2,2)))\n",
    "model.add(Conv2D(filters=512, kernel_size=(3,3), padding=\"same\", activation=\"relu\"))\n",
    "model.add(Conv2D(filters=512, kernel_size=(3,3), padding=\"same\", activation=\"relu\"))\n",
    "model.add(Conv2D(filters=512, kernel_size=(3,3), padding=\"same\", activation=\"relu\"))\n",
    "model.add(Conv2D(filters=512, kernel_size=(3,3), padding=\"same\", activation=\"relu\"))\n",
    "model.add(Dropout(0.6))\n",
    "model.add(MaxPool2D(pool_size=(2,2),strides=(2,2)))\n",
    "\n",
    "#Dense layer\n",
    "model.add(Flatten())\n",
    "model.add(Dense(units=4096,activation=\"relu\"))\n",
    "model.add(Dense(units=4096,activation=\"relu\"))\n",
    "model.add(Dense(units=1000,activation=\"relu\"))\n",
    "model.add(Dense(1, activation=\"sigmoid\"))\n",
    "\n",
    "model.compile(optimizer='adam', loss=keras.losses.binary_crossentropy, metrics=['accuracy'])\n",
    "\n",
    "print(model.summary())"
   ]
  },
  {
   "cell_type": "code",
   "execution_count": 38,
   "metadata": {
    "colab": {
     "base_uri": "https://localhost:8080/"
    },
    "id": "5-ixtI5Tpsv0",
    "outputId": "07ba67f2-d3ea-4cd9-8074-212236f6b3d0"
   },
   "outputs": [
    {
     "name": "stdout",
     "output_type": "stream",
     "text": [
      "WARNING:tensorflow:`period` argument is deprecated. Please use `save_freq` to specify the frequency in number of batches seen.\n"
     ]
    }
   ],
   "source": [
    "checkpoint = ModelCheckpoint(\"vgg19_axial_14012022_0053.h5\", monitor='val_accuracy', verbose=1, save_best_only=True, save_weights_only=False, mode='auto', period=1)\n",
    "early = EarlyStopping(monitor='val_acc', min_delta=0, patience=20, verbose=1, mode='auto')\n",
    "#fit_generator(steps_per_epoch=1,generator=traindata, validation_data= testdata, validation_steps=1,epochs=50,callbacks=[checkpoint])\n",
    "# hist = model.fit(traindata, testdata, batch_size=10, epochs=20, verbose=0, shuffle=True,validation_split=0.2,callbacks=[checkpoint])"
   ]
  },
  {
   "cell_type": "code",
   "execution_count": null,
   "metadata": {},
   "outputs": [],
   "source": [
    "# training call backs \n",
    "lr_reduce = tf.keras.callbacks.ReduceLROnPlateau(monitor='val_loss', factor=0.5, epsilon=0.0001, patience=3, verbose=1)\n",
    "es_callback = tf.keras.callbacks.EarlyStopping(monitor='val_loss', patience=5, verbose=1)"
   ]
  },
  {
   "cell_type": "code",
   "execution_count": 39,
   "metadata": {},
   "outputs": [
    {
     "name": "stdout",
     "output_type": "stream",
     "text": [
      "Epoch 1/30\n",
      "225/225 [==============================] - 656s 3s/step - loss: 0.7835 - accuracy: 0.6222 - val_loss: 0.5871 - val_accuracy: 0.7815\n",
      "\n",
      "Epoch 00001: val_accuracy improved from -inf to 0.78153, saving model to vgg19_axial_14012022_0053.h5\n",
      "Epoch 2/30\n",
      "225/225 [==============================] - 654s 3s/step - loss: 0.6636 - accuracy: 0.6311 - val_loss: 0.5509 - val_accuracy: 0.7815\n",
      "\n",
      "Epoch 00002: val_accuracy did not improve from 0.78153\n",
      "Epoch 3/30\n",
      "225/225 [==============================] - 655s 3s/step - loss: 0.6624 - accuracy: 0.6311 - val_loss: 0.5564 - val_accuracy: 0.7815\n",
      "\n",
      "Epoch 00003: val_accuracy did not improve from 0.78153\n",
      "Epoch 4/30\n",
      "225/225 [==============================] - 659s 3s/step - loss: 0.6612 - accuracy: 0.6311 - val_loss: 0.5829 - val_accuracy: 0.7815\n",
      "\n",
      "Epoch 00004: val_accuracy did not improve from 0.78153\n",
      "Epoch 5/30\n",
      "225/225 [==============================] - 660s 3s/step - loss: 0.6603 - accuracy: 0.6311 - val_loss: 0.5873 - val_accuracy: 0.7815\n",
      "\n",
      "Epoch 00005: val_accuracy did not improve from 0.78153\n",
      "Epoch 6/30\n",
      "225/225 [==============================] - 659s 3s/step - loss: 0.6603 - accuracy: 0.6311 - val_loss: 0.5805 - val_accuracy: 0.7815\n",
      "\n",
      "Epoch 00006: val_accuracy did not improve from 0.78153\n",
      "Epoch 7/30\n",
      "225/225 [==============================] - 658s 3s/step - loss: 0.6584 - accuracy: 0.6311 - val_loss: 0.5611 - val_accuracy: 0.7815\n",
      "\n",
      "Epoch 00007: val_accuracy did not improve from 0.78153\n",
      "Epoch 8/30\n",
      "225/225 [==============================] - 660s 3s/step - loss: 0.6592 - accuracy: 0.6311 - val_loss: 0.5760 - val_accuracy: 0.7815\n",
      "\n",
      "Epoch 00008: val_accuracy did not improve from 0.78153\n",
      "Epoch 9/30\n",
      "225/225 [==============================] - 660s 3s/step - loss: 0.6592 - accuracy: 0.6311 - val_loss: 0.5896 - val_accuracy: 0.7815\n",
      "\n",
      "Epoch 00009: val_accuracy did not improve from 0.78153\n",
      "Epoch 10/30\n",
      "225/225 [==============================] - 656s 3s/step - loss: 0.6591 - accuracy: 0.6311 - val_loss: 0.5954 - val_accuracy: 0.7815\n",
      "\n",
      "Epoch 00010: val_accuracy did not improve from 0.78153\n",
      "Epoch 11/30\n",
      "225/225 [==============================] - 660s 3s/step - loss: 0.6593 - accuracy: 0.6311 - val_loss: 0.5775 - val_accuracy: 0.7815\n",
      "\n",
      "Epoch 00011: val_accuracy did not improve from 0.78153\n",
      "Epoch 12/30\n",
      "225/225 [==============================] - 657s 3s/step - loss: 0.6605 - accuracy: 0.6311 - val_loss: 0.5864 - val_accuracy: 0.7815\n",
      "\n",
      "Epoch 00012: val_accuracy did not improve from 0.78153\n",
      "Epoch 13/30\n",
      "225/225 [==============================] - 658s 3s/step - loss: 0.6582 - accuracy: 0.6311 - val_loss: 0.5920 - val_accuracy: 0.7815\n",
      "\n",
      "Epoch 00013: val_accuracy did not improve from 0.78153\n",
      "Epoch 14/30\n",
      "225/225 [==============================] - 659s 3s/step - loss: 0.6590 - accuracy: 0.6311 - val_loss: 0.5818 - val_accuracy: 0.7815\n",
      "\n",
      "Epoch 00014: val_accuracy did not improve from 0.78153\n",
      "Epoch 15/30\n",
      "225/225 [==============================] - 658s 3s/step - loss: 0.6596 - accuracy: 0.6311 - val_loss: 0.5803 - val_accuracy: 0.7815\n",
      "\n",
      "Epoch 00015: val_accuracy did not improve from 0.78153\n",
      "Epoch 16/30\n",
      "225/225 [==============================] - 725s 3s/step - loss: 0.6591 - accuracy: 0.6311 - val_loss: 0.5787 - val_accuracy: 0.7815\n",
      "\n",
      "Epoch 00016: val_accuracy did not improve from 0.78153\n",
      "Epoch 17/30\n",
      "225/225 [==============================] - 680s 3s/step - loss: 0.6596 - accuracy: 0.6311 - val_loss: 0.5613 - val_accuracy: 0.7815\n",
      "\n",
      "Epoch 00017: val_accuracy did not improve from 0.78153\n",
      "Epoch 18/30\n",
      "225/225 [==============================] - 660s 3s/step - loss: 0.6603 - accuracy: 0.6311 - val_loss: 0.5842 - val_accuracy: 0.7815\n",
      "\n",
      "Epoch 00018: val_accuracy did not improve from 0.78153\n",
      "Epoch 19/30\n",
      "225/225 [==============================] - 659s 3s/step - loss: 0.6595 - accuracy: 0.6311 - val_loss: 0.5774 - val_accuracy: 0.7815\n",
      "\n",
      "Epoch 00019: val_accuracy did not improve from 0.78153\n",
      "Epoch 20/30\n",
      "225/225 [==============================] - 660s 3s/step - loss: 0.6601 - accuracy: 0.6311 - val_loss: 0.5741 - val_accuracy: 0.7815\n",
      "\n",
      "Epoch 00020: val_accuracy did not improve from 0.78153\n",
      "Epoch 21/30\n",
      "225/225 [==============================] - 656s 3s/step - loss: 0.6587 - accuracy: 0.6311 - val_loss: 0.5846 - val_accuracy: 0.7815\n",
      "\n",
      "Epoch 00021: val_accuracy did not improve from 0.78153\n",
      "Epoch 22/30\n",
      "225/225 [==============================] - 666s 3s/step - loss: 0.6594 - accuracy: 0.6311 - val_loss: 0.5754 - val_accuracy: 0.7815\n",
      "\n",
      "Epoch 00022: val_accuracy did not improve from 0.78153\n",
      "Epoch 23/30\n",
      "225/225 [==============================] - 659s 3s/step - loss: 0.6592 - accuracy: 0.6311 - val_loss: 0.5766 - val_accuracy: 0.7815\n",
      "\n",
      "Epoch 00023: val_accuracy did not improve from 0.78153\n",
      "Epoch 24/30\n",
      "225/225 [==============================] - 659s 3s/step - loss: 0.6600 - accuracy: 0.6311 - val_loss: 0.5813 - val_accuracy: 0.7815\n",
      "\n",
      "Epoch 00024: val_accuracy did not improve from 0.78153\n",
      "Epoch 25/30\n",
      "225/225 [==============================] - 660s 3s/step - loss: 0.6595 - accuracy: 0.6311 - val_loss: 0.5837 - val_accuracy: 0.7815\n",
      "\n",
      "Epoch 00025: val_accuracy did not improve from 0.78153\n",
      "Epoch 26/30\n",
      "225/225 [==============================] - 657s 3s/step - loss: 0.6597 - accuracy: 0.6311 - val_loss: 0.5957 - val_accuracy: 0.7815\n",
      "\n",
      "Epoch 00026: val_accuracy did not improve from 0.78153\n",
      "Epoch 27/30\n",
      "225/225 [==============================] - 659s 3s/step - loss: 0.6593 - accuracy: 0.6311 - val_loss: 0.5774 - val_accuracy: 0.7815\n",
      "\n",
      "Epoch 00027: val_accuracy did not improve from 0.78153\n",
      "Epoch 28/30\n",
      "225/225 [==============================] - 658s 3s/step - loss: 0.6589 - accuracy: 0.6311 - val_loss: 0.5779 - val_accuracy: 0.7815\n",
      "\n",
      "Epoch 00028: val_accuracy did not improve from 0.78153\n",
      "Epoch 29/30\n",
      "225/225 [==============================] - 660s 3s/step - loss: 0.6591 - accuracy: 0.6311 - val_loss: 0.5817 - val_accuracy: 0.7815\n",
      "\n",
      "Epoch 00029: val_accuracy did not improve from 0.78153\n",
      "Epoch 30/30\n",
      "225/225 [==============================] - 659s 3s/step - loss: 0.6590 - accuracy: 0.6311 - val_loss: 0.5713 - val_accuracy: 0.7815\n",
      "\n",
      "Epoch 00030: val_accuracy did not improve from 0.78153\n"
     ]
    }
   ],
   "source": [
    "hist = model.fit(X_axial_train, y_axial_train, batch_size=10,epochs=30,validation_split=0.2, callbacks=[checkpoint, early])"
   ]
  },
  {
   "cell_type": "code",
   "execution_count": 43,
   "metadata": {
    "colab": {
     "base_uri": "https://localhost:8080/",
     "height": 231
    },
    "id": "seDApqQk5FtY",
    "outputId": "fc45785c-eb2f-465f-eef0-94b3ffe8452c"
   },
   "outputs": [
    {
     "data": {
      "image/png": "[encoded data removed]",
      "text/plain": [
       "<Figure size 432x288 with 1 Axes>"
      ]
     },
     "metadata": {
      "needs_background": "light"
     },
     "output_type": "display_data"
    }
   ],
   "source": [
    "import matplotlib.pyplot as plt\n",
    "\n",
    "plt.plot(hist.history[\"accuracy\"])\n",
    "plt.plot(hist.history['val_accuracy'])\n",
    "plt.plot(hist.history['loss'])\n",
    "plt.plot(hist.history['val_loss'])\n",
    "plt.title(\"model accuracy\")\n",
    "plt.ylabel(\"Accuracy\")\n",
    "plt.xlabel(\"Epoch\")\n",
    "#plt.legend([\"Accuracy\",\"Validation Accuracy\",\"loss\",\"Validation Loss\"])\n",
    "plt.show()"
   ]
  },
  {
   "cell_type": "code",
   "execution_count": 47,
   "metadata": {},
   "outputs": [
    {
     "name": "stdout",
     "output_type": "stream",
     "text": [
      "10/10 [==============================] - 12s 1s/step - loss: 0.5606 - accuracy: 0.8000\n"
     ]
    },
    {
     "data": {
      "text/plain": [
       "[0.5605908632278442, 0.800000011920929]"
      ]
     },
     "execution_count": 47,
     "metadata": {},
     "output_type": "execute_result"
    }
   ],
   "source": [
    "test_results = model.evaluate(X_axial_test[:300], y_axial_test[:300])\n",
    "test_results"
   ]
  },
  {
   "cell_type": "code",
   "execution_count": 49,
   "metadata": {},
   "outputs": [
    {
     "name": "stdout",
     "output_type": "stream",
     "text": [
      "Accuracy 0.8\n"
     ]
    }
   ],
   "source": [
    "preds = model.predict(X_axial_test[:300])\n",
    "\n",
    "predictions = [(0 if i <0.5 else 1) for i in preds]\n",
    "cm = confusion_matrix(y_pred=predictions, y_true=y_axial_test[:300])\n",
    "\n",
    "print('Accuracy {}'.format(accuracy_score(y_true=y_axial_test[:300], y_pred=predictions)))"
   ]
  },
  {
   "cell_type": "code",
   "execution_count": 50,
   "metadata": {},
   "outputs": [
    {
     "data": {
      "text/plain": [
       "array([[  0,  60],\n",
       "       [  0, 240]], dtype=int64)"
      ]
     },
     "execution_count": 50,
     "metadata": {},
     "output_type": "execute_result"
    }
   ],
   "source": [
    "cm"
   ]
  },
  {
   "cell_type": "markdown",
   "metadata": {
    "id": "cJxGks6FB7W8"
   },
   "source": [
    "# CORONAL"
   ]
  },
  {
   "cell_type": "code",
   "execution_count": 35,
   "metadata": {
    "colab": {
     "base_uri": "https://localhost:8080/"
    },
    "id": "9C4njiq6B7XG",
    "outputId": "4a93da83-0133-4de3-c371-91d13555ce4c"
   },
   "outputs": [
    {
     "name": "stdout",
     "output_type": "stream",
     "text": [
      "-> [1/202] Slices processed 19.\n",
      "-> [2/202] Slices processed 38.\n",
      "-> [3/202] Slices processed 57.\n",
      "-> [4/202] Slices processed 76.\n",
      "-> [5/202] Slices processed 95.\n",
      "-> [6/202] Slices processed 114.\n",
      "-> [7/202] Slices processed 133.\n",
      "-> [8/202] Slices processed 152.\n",
      "-> [9/202] Slices processed 171.\n",
      "-> [10/202] Slices processed 190.\n",
      "-> [11/202] Slices processed 206.\n",
      "-> [12/202] Slices processed 225.\n",
      "-> [13/202] Slices processed 244.\n",
      "-> [14/202] Slices processed 263.\n",
      "-> [15/202] Slices processed 279.\n",
      "-> [16/202] Slices processed 298.\n",
      "-> [17/202] Slices processed 317.\n",
      "-> [18/202] Slices processed 336.\n",
      "-> [19/202] Slices processed 355.\n",
      "-> [20/202] Slices processed 374.\n",
      "-> [21/202] Slices processed 393.\n",
      "-> [22/202] Slices processed 412.\n",
      "-> [23/202] Slices processed 431.\n",
      "-> [24/202] Slices processed 450.\n",
      "-> [25/202] Slices processed 469.\n",
      "-> [26/202] Slices processed 488.\n",
      "-> [27/202] Slices processed 507.\n",
      "-> [28/202] Slices processed 526.\n",
      "-> [29/202] Slices processed 545.\n",
      "-> [30/202] Slices processed 564.\n",
      "-> [31/202] Slices processed 583.\n",
      "-> [32/202] Slices processed 602.\n",
      "-> [33/202] Slices processed 621.\n",
      "-> [34/202] Slices processed 640.\n",
      "-> [35/202] Slices processed 659.\n",
      "-> [36/202] Slices processed 678.\n",
      "-> [37/202] Slices processed 697.\n",
      "-> [38/202] Slices processed 716.\n",
      "-> [39/202] Slices processed 735.\n",
      "error\n",
      "-> [40/202] Slices processed 735.\n",
      "-> [41/202] Slices processed 754.\n",
      "-> [42/202] Slices processed 773.\n",
      "-> [43/202] Slices processed 792.\n",
      "-> [44/202] Slices processed 811.\n",
      "-> [45/202] Slices processed 830.\n",
      "-> [46/202] Slices processed 849.\n",
      "-> [47/202] Slices processed 868.\n",
      "-> [48/202] Slices processed 887.\n",
      "-> [49/202] Slices processed 906.\n",
      "-> [50/202] Slices processed 925.\n",
      "-> [51/202] Slices processed 944.\n",
      "-> [52/202] Slices processed 963.\n",
      "-> [53/202] Slices processed 982.\n",
      "-> [54/202] Slices processed 1001.\n",
      "-> [55/202] Slices processed 1020.\n",
      "-> [56/202] Slices processed 1039.\n",
      "-> [57/202] Slices processed 1058.\n",
      "-> [58/202] Slices processed 1077.\n",
      "-> [59/202] Slices processed 1096.\n",
      "-> [60/202] Slices processed 1115.\n",
      "-> [61/202] Slices processed 1134.\n",
      "-> [62/202] Slices processed 1153.\n",
      "-> [63/202] Slices processed 1172.\n",
      "-> [64/202] Slices processed 1191.\n",
      "-> [65/202] Slices processed 1210.\n",
      "-> [66/202] Slices processed 1226.\n",
      "-> [67/202] Slices processed 1245.\n",
      "-> [68/202] Slices processed 1264.\n",
      "-> [69/202] Slices processed 1283.\n",
      "-> [70/202] Slices processed 1302.\n",
      "-> [71/202] Slices processed 1321.\n",
      "-> [72/202] Slices processed 1340.\n",
      "-> [73/202] Slices processed 1359.\n",
      "-> [74/202] Slices processed 1378.\n",
      "-> [75/202] Slices processed 1397.\n",
      "-> [76/202] Slices processed 1416.\n",
      "-> [77/202] Slices processed 1435.\n",
      "-> [78/202] Slices processed 1454.\n",
      "-> [79/202] Slices processed 1473.\n",
      "-> [80/202] Slices processed 1492.\n",
      "-> [81/202] Slices processed 1511.\n",
      "-> [82/202] Slices processed 1530.\n",
      "-> [83/202] Slices processed 1549.\n",
      "-> [84/202] Slices processed 1568.\n",
      "-> [85/202] Slices processed 1587.\n",
      "-> [86/202] Slices processed 1606.\n",
      "-> [87/202] Slices processed 1625.\n",
      "-> [88/202] Slices processed 1644.\n",
      "-> [89/202] Slices processed 1663.\n",
      "-> [90/202] Slices processed 1682.\n",
      "-> [91/202] Slices processed 1701.\n",
      "-> [92/202] Slices processed 1720.\n",
      "-> [93/202] Slices processed 1739.\n",
      "-> [94/202] Slices processed 1758.\n",
      "-> [95/202] Slices processed 1777.\n",
      "-> [96/202] Slices processed 1796.\n",
      "-> [97/202] Slices processed 1815.\n",
      "-> [98/202] Slices processed 1834.\n",
      "-> [99/202] Slices processed 1853.\n",
      "-> [100/202] Slices processed 1872.\n",
      "-> [101/202] Slices processed 1891.\n",
      "-> [102/202] Slices processed 1910.\n",
      "-> [103/202] Slices processed 1929.\n",
      "-> [104/202] Slices processed 1948.\n",
      "-> [105/202] Slices processed 1967.\n",
      "-> [106/202] Slices processed 1986.\n",
      "-> [107/202] Slices processed 2005.\n",
      "-> [108/202] Slices processed 2024.\n",
      "-> [109/202] Slices processed 2043.\n",
      "-> [110/202] Slices processed 2062.\n",
      "-> [111/202] Slices processed 2081.\n",
      "-> [112/202] Slices processed 2100.\n",
      "-> [113/202] Slices processed 2119.\n",
      "-> [114/202] Slices processed 2138.\n",
      "-> [115/202] Slices processed 2157.\n",
      "-> [116/202] Slices processed 2176.\n",
      "-> [117/202] Slices processed 2195.\n",
      "-> [118/202] Slices processed 2214.\n",
      "-> [119/202] Slices processed 2233.\n",
      "-> [120/202] Slices processed 2252.\n",
      "-> [121/202] Slices processed 2271.\n",
      "-> [122/202] Slices processed 2290.\n",
      "-> [123/202] Slices processed 2309.\n",
      "-> [124/202] Slices processed 2328.\n",
      "-> [125/202] Slices processed 2347.\n",
      "-> [126/202] Slices processed 2366.\n",
      "-> [127/202] Slices processed 2385.\n",
      "-> [128/202] Slices processed 2404.\n",
      "-> [129/202] Slices processed 2423.\n",
      "-> [130/202] Slices processed 2442.\n",
      "-> [131/202] Slices processed 2461.\n",
      "-> [132/202] Slices processed 2480.\n",
      "-> [133/202] Slices processed 2499.\n",
      "-> [134/202] Slices processed 2518.\n",
      "-> [135/202] Slices processed 2537.\n",
      "-> [136/202] Slices processed 2556.\n",
      "-> [137/202] Slices processed 2575.\n",
      "-> [138/202] Slices processed 2594.\n",
      "-> [139/202] Slices processed 2613.\n",
      "-> [140/202] Slices processed 2632.\n",
      "-> [141/202] Slices processed 2651.\n",
      "-> [142/202] Slices processed 2670.\n",
      "-> [143/202] Slices processed 2689.\n",
      "-> [144/202] Slices processed 2705.\n",
      "-> [145/202] Slices processed 2724.\n",
      "-> [146/202] Slices processed 2743.\n",
      "-> [147/202] Slices processed 2762.\n",
      "-> [148/202] Slices processed 2781.\n",
      "-> [149/202] Slices processed 2800.\n",
      "-> [150/202] Slices processed 2819.\n",
      "-> [151/202] Slices processed 2838.\n",
      "-> [152/202] Slices processed 2857.\n",
      "-> [153/202] Slices processed 2865.\n",
      "-> [154/202] Slices processed 2884.\n",
      "-> [155/202] Slices processed 2903.\n",
      "-> [156/202] Slices processed 2922.\n",
      "-> [157/202] Slices processed 2941.\n",
      "-> [158/202] Slices processed 2960.\n",
      "-> [159/202] Slices processed 2979.\n",
      "-> [160/202] Slices processed 2998.\n",
      "-> [161/202] Slices processed 3017.\n",
      "-> [162/202] Slices processed 3036.\n",
      "-> [163/202] Slices processed 3055.\n",
      "-> [164/202] Slices processed 3074.\n",
      "-> [165/202] Slices processed 3093.\n",
      "-> [166/202] Slices processed 3112.\n",
      "-> [167/202] Slices processed 3131.\n",
      "-> [168/202] Slices processed 3150.\n",
      "-> [169/202] Slices processed 3169.\n",
      "-> [170/202] Slices processed 3188.\n",
      "-> [171/202] Slices processed 3207.\n",
      "-> [172/202] Slices processed 3226.\n",
      "-> [173/202] Slices processed 3245.\n",
      "-> [174/202] Slices processed 3264.\n",
      "-> [175/202] Slices processed 3283.\n",
      "-> [176/202] Slices processed 3302.\n",
      "-> [177/202] Slices processed 3321.\n",
      "-> [178/202] Slices processed 3340.\n",
      "-> [179/202] Slices processed 3359.\n",
      "-> [180/202] Slices processed 3378.\n",
      "-> [181/202] Slices processed 3397.\n",
      "-> [182/202] Slices processed 3416.\n",
      "-> [183/202] Slices processed 3435.\n"
     ]
    },
    {
     "name": "stderr",
     "output_type": "stream",
     "text": [
      "C:\\Users\\josie\\AppData\\Local\\Temp/ipykernel_2416/3491320886.py:22: RuntimeWarning: invalid value encountered in true_divide\n",
      "  arr = arr / arr.max()\n"
     ]
    },
    {
     "name": "stdout",
     "output_type": "stream",
     "text": [
      "-> [184/202] Slices processed 3454.\n",
      "-> [185/202] Slices processed 3473.\n",
      "-> [186/202] Slices processed 3492.\n",
      "-> [187/202] Slices processed 3511.\n",
      "-> [188/202] Slices processed 3530.\n",
      "-> [189/202] Slices processed 3549.\n",
      "-> [190/202] Slices processed 3568.\n",
      "-> [191/202] Slices processed 3587.\n",
      "-> [192/202] Slices processed 3606.\n",
      "-> [193/202] Slices processed 3625.\n",
      "-> [194/202] Slices processed 3644.\n",
      "-> [195/202] Slices processed 3663.\n",
      "-> [196/202] Slices processed 3682.\n",
      "-> [197/202] Slices processed 3701.\n",
      "-> [198/202] Slices processed 3720.\n",
      "-> [199/202] Slices processed 3739.\n",
      "-> [200/202] Slices processed 3758.\n",
      "-> [201/202] Slices processed 3777.\n",
      "-> [202/202] Slices processed 3796.\n"
     ]
    }
   ],
   "source": [
    "X_coronal_train, y_coronal_train = get_slices_per_group_coronal(X_train, y_train)\n",
    "X_coronal_train = X_coronal_train.reshape(-1, X_coronal_train.shape[1], X_coronal_train.shape[2], 1)"
   ]
  },
  {
   "cell_type": "code",
   "execution_count": 36,
   "metadata": {
    "colab": {
     "base_uri": "https://localhost:8080/"
    },
    "id": "QMncXN8hITS-",
    "outputId": "12c8b938-1747-4d6d-e030-acb66e2990f6"
   },
   "outputs": [
    {
     "name": "stdout",
     "output_type": "stream",
     "text": [
      "-> [1/51] Slices processed 19.\n",
      "-> [2/51] Slices processed 38.\n",
      "-> [3/51] Slices processed 57.\n",
      "-> [4/51] Slices processed 76.\n",
      "-> [5/51] Slices processed 95.\n",
      "-> [6/51] Slices processed 114.\n",
      "-> [7/51] Slices processed 133.\n",
      "-> [8/51] Slices processed 152.\n",
      "-> [9/51] Slices processed 171.\n",
      "-> [10/51] Slices processed 190.\n",
      "-> [11/51] Slices processed 209.\n",
      "-> [12/51] Slices processed 228.\n",
      "-> [13/51] Slices processed 247.\n",
      "-> [14/51] Slices processed 266.\n",
      "-> [15/51] Slices processed 285.\n",
      "-> [16/51] Slices processed 304.\n",
      "-> [17/51] Slices processed 323.\n",
      "-> [18/51] Slices processed 342.\n",
      "-> [19/51] Slices processed 361.\n",
      "-> [20/51] Slices processed 380.\n",
      "-> [21/51] Slices processed 399.\n",
      "-> [22/51] Slices processed 418.\n",
      "-> [23/51] Slices processed 437.\n",
      "-> [24/51] Slices processed 456.\n",
      "-> [25/51] Slices processed 475.\n",
      "-> [26/51] Slices processed 494.\n",
      "-> [27/51] Slices processed 513.\n",
      "-> [28/51] Slices processed 532.\n",
      "-> [29/51] Slices processed 551.\n",
      "-> [30/51] Slices processed 570.\n",
      "-> [31/51] Slices processed 589.\n",
      "-> [32/51] Slices processed 608.\n",
      "-> [33/51] Slices processed 627.\n",
      "-> [34/51] Slices processed 646.\n",
      "-> [35/51] Slices processed 665.\n",
      "-> [36/51] Slices processed 684.\n",
      "-> [37/51] Slices processed 703.\n",
      "-> [38/51] Slices processed 722.\n",
      "-> [39/51] Slices processed 741.\n",
      "-> [40/51] Slices processed 760.\n",
      "-> [41/51] Slices processed 779.\n",
      "-> [42/51] Slices processed 798.\n",
      "-> [43/51] Slices processed 817.\n",
      "-> [44/51] Slices processed 836.\n",
      "-> [45/51] Slices processed 855.\n",
      "-> [46/51] Slices processed 874.\n",
      "-> [47/51] Slices processed 893.\n",
      "-> [48/51] Slices processed 912.\n",
      "-> [49/51] Slices processed 931.\n",
      "-> [50/51] Slices processed 950.\n",
      "-> [51/51] Slices processed 969.\n"
     ]
    }
   ],
   "source": [
    "X_coronal_test, y_coronal_test = get_slices_per_group_coronal(X_test, y_test)\n",
    "X_coronal_test = X_coronal_test.reshape(-1, X_coronal_train.shape[1], X_coronal_train.shape[2], 1)"
   ]
  },
  {
   "cell_type": "code",
   "execution_count": 37,
   "metadata": {
    "colab": {
     "base_uri": "https://localhost:8080/"
    },
    "id": "viljIspWB7XG",
    "outputId": "fd32e79d-f158-463e-8507-4ffd28f3a3bd"
   },
   "outputs": [
    {
     "name": "stdout",
     "output_type": "stream",
     "text": [
      "Train: X:(3796, 224, 224, 1), y: 3796\n",
      "Test: X:(969, 224, 224, 1), y: 969\n"
     ]
    }
   ],
   "source": [
    "print(\"Train: X:(%d, %d, %d, %d), y: %d\" %(X_coronal_train.shape[0],X_coronal_train.shape[1],X_coronal_train.shape[2],X_coronal_train.shape[3], len(y_coronal_train)))\n",
    "print(\"Test: X:(%d, %d, %d, %d), y: %d\" %(X_coronal_test.shape[0],X_coronal_test.shape[1],X_coronal_test.shape[2],X_coronal_test.shape[3], len(y_coronal_test)))"
   ]
  },
  {
   "cell_type": "markdown",
   "metadata": {
    "id": "PURhal9KB7XG"
   },
   "source": [
    "# VGG19"
   ]
  },
  {
   "cell_type": "code",
   "execution_count": 36,
   "metadata": {
    "id": "GmsZwEJRpg-t"
   },
   "outputs": [],
   "source": [
    "import keras\n",
    "from keras.models import Sequential\n",
    "from keras.layers import Dense, Conv2D, MaxPool2D , Flatten\n",
    "from keras.preprocessing.image import ImageDataGenerator\n",
    "from keras.layers import Dropout\n",
    "from keras.callbacks import ModelCheckpoint, EarlyStopping\n",
    "import tensorflow as tf"
   ]
  },
  {
   "cell_type": "code",
   "execution_count": 39,
   "metadata": {
    "colab": {
     "base_uri": "https://localhost:8080/"
    },
    "id": "PknsV4akB7XG",
    "outputId": "a3b91a1b-36a8-4351-b9e3-466e0bfd7579",
    "scrolled": true
   },
   "outputs": [
    {
     "name": "stdout",
     "output_type": "stream",
     "text": [
      "Model: \"sequential\"\n",
      "_________________________________________________________________\n",
      "Layer (type)                 Output Shape              Param #   \n",
      "=================================================================\n",
      "conv2d (Conv2D)              (None, 224, 224, 64)      640       \n",
      "_________________________________________________________________\n",
      "conv2d_1 (Conv2D)            (None, 224, 224, 64)      36928     \n",
      "_________________________________________________________________\n",
      "dropout (Dropout)            (None, 224, 224, 64)      0         \n",
      "_________________________________________________________________\n",
      "max_pooling2d (MaxPooling2D) (None, 112, 112, 64)      0         \n",
      "_________________________________________________________________\n",
      "conv2d_2 (Conv2D)            (None, 112, 112, 128)     73856     \n",
      "_________________________________________________________________\n",
      "conv2d_3 (Conv2D)            (None, 112, 112, 128)     147584    \n",
      "_________________________________________________________________\n",
      "dropout_1 (Dropout)          (None, 112, 112, 128)     0         \n",
      "_________________________________________________________________\n",
      "max_pooling2d_1 (MaxPooling2 (None, 56, 56, 128)       0         \n",
      "_________________________________________________________________\n",
      "conv2d_4 (Conv2D)            (None, 56, 56, 256)       295168    \n",
      "_________________________________________________________________\n",
      "conv2d_5 (Conv2D)            (None, 56, 56, 256)       590080    \n",
      "_________________________________________________________________\n",
      "conv2d_6 (Conv2D)            (None, 56, 56, 256)       590080    \n",
      "_________________________________________________________________\n",
      "conv2d_7 (Conv2D)            (None, 56, 56, 256)       590080    \n",
      "_________________________________________________________________\n",
      "dropout_2 (Dropout)          (None, 56, 56, 256)       0         \n",
      "_________________________________________________________________\n",
      "max_pooling2d_2 (MaxPooling2 (None, 28, 28, 256)       0         \n",
      "_________________________________________________________________\n",
      "conv2d_8 (Conv2D)            (None, 28, 28, 512)       1180160   \n",
      "_________________________________________________________________\n",
      "conv2d_9 (Conv2D)            (None, 28, 28, 512)       2359808   \n",
      "_________________________________________________________________\n",
      "conv2d_10 (Conv2D)           (None, 28, 28, 512)       2359808   \n",
      "_________________________________________________________________\n",
      "conv2d_11 (Conv2D)           (None, 28, 28, 512)       2359808   \n",
      "_________________________________________________________________\n",
      "dropout_3 (Dropout)          (None, 28, 28, 512)       0         \n",
      "_________________________________________________________________\n",
      "max_pooling2d_3 (MaxPooling2 (None, 14, 14, 512)       0         \n",
      "_________________________________________________________________\n",
      "conv2d_12 (Conv2D)           (None, 14, 14, 512)       2359808   \n",
      "_________________________________________________________________\n",
      "conv2d_13 (Conv2D)           (None, 14, 14, 512)       2359808   \n",
      "_________________________________________________________________\n",
      "conv2d_14 (Conv2D)           (None, 14, 14, 512)       2359808   \n",
      "_________________________________________________________________\n",
      "conv2d_15 (Conv2D)           (None, 14, 14, 512)       2359808   \n",
      "_________________________________________________________________\n",
      "dropout_4 (Dropout)          (None, 14, 14, 512)       0         \n",
      "_________________________________________________________________\n",
      "max_pooling2d_4 (MaxPooling2 (None, 7, 7, 512)         0         \n",
      "_________________________________________________________________\n",
      "flatten (Flatten)            (None, 25088)             0         \n",
      "_________________________________________________________________\n",
      "dense (Dense)                (None, 4096)              102764544 \n",
      "_________________________________________________________________\n",
      "dense_1 (Dense)              (None, 4096)              16781312  \n",
      "_________________________________________________________________\n",
      "dense_2 (Dense)              (None, 1000)              4097000   \n",
      "_________________________________________________________________\n",
      "dense_3 (Dense)              (None, 1)                 1001      \n",
      "=================================================================\n",
      "Total params: 143,667,089\n",
      "Trainable params: 143,667,089\n",
      "Non-trainable params: 0\n",
      "_________________________________________________________________\n",
      "None\n"
     ]
    }
   ],
   "source": [
    "model = Sequential()\n",
    "model.add(Conv2D(input_shape=(224,224,1),filters=64,kernel_size=(3,3),padding=\"same\", activation=\"relu\"))\n",
    "model.add(Conv2D(filters=64,kernel_size=(3,3),padding=\"same\", activation=\"relu\"))\n",
    "model.add(Dropout(0.4))\n",
    "model.add(MaxPool2D(pool_size=(2,2),strides=(2,2)))\n",
    "model.add(Conv2D(filters=128, kernel_size=(3,3), padding=\"same\", activation=\"relu\"))\n",
    "model.add(Conv2D(filters=128, kernel_size=(3,3), padding=\"same\", activation=\"relu\"))\n",
    "model.add(Dropout(0.6))\n",
    "model.add(MaxPool2D(pool_size=(2,2),strides=(2,2)))\n",
    "model.add(Conv2D(filters=256, kernel_size=(3,3), padding=\"same\", activation=\"relu\"))\n",
    "model.add(Conv2D(filters=256, kernel_size=(3,3), padding=\"same\", activation=\"relu\"))\n",
    "model.add(Conv2D(filters=256, kernel_size=(3,3), padding=\"same\", activation=\"relu\"))\n",
    "model.add(Conv2D(filters=256, kernel_size=(3,3), padding=\"same\", activation=\"relu\"))\n",
    "model.add(Dropout(0.8))\n",
    "model.add(MaxPool2D(pool_size=(2,2),strides=(2,2)))\n",
    "model.add(Conv2D(filters=512, kernel_size=(3,3), padding=\"same\", activation=\"relu\"))\n",
    "model.add(Conv2D(filters=512, kernel_size=(3,3), padding=\"same\", activation=\"relu\"))\n",
    "model.add(Conv2D(filters=512, kernel_size=(3,3), padding=\"same\", activation=\"relu\"))\n",
    "model.add(Conv2D(filters=512, kernel_size=(3,3), padding=\"same\", activation=\"relu\"))\n",
    "model.add(Dropout(0.8))\n",
    "model.add(MaxPool2D(pool_size=(2,2),strides=(2,2)))\n",
    "model.add(Conv2D(filters=512, kernel_size=(3,3), padding=\"same\", activation=\"relu\"))\n",
    "model.add(Conv2D(filters=512, kernel_size=(3,3), padding=\"same\", activation=\"relu\"))\n",
    "model.add(Conv2D(filters=512, kernel_size=(3,3), padding=\"same\", activation=\"relu\"))\n",
    "model.add(Conv2D(filters=512, kernel_size=(3,3), padding=\"same\", activation=\"relu\"))\n",
    "model.add(Dropout(0.4))\n",
    "model.add(MaxPool2D(pool_size=(2,2),strides=(2,2)))\n",
    "\n",
    "#Dense layer\n",
    "model.add(Flatten())\n",
    "model.add(Dense(units=4096,activation=\"relu\"))\n",
    "model.add(Dense(units=4096,activation=\"relu\"))\n",
    "model.add(Dense(units=1000,activation=\"relu\"))\n",
    "model.add(Dense(1, activation=\"sigmoid\"))\n",
    "\n",
    "model.compile(optimizer='adam', loss=keras.losses.binary_crossentropy, metrics=['accuracy'])\n",
    "\n",
    "print(model.summary())"
   ]
  },
  {
   "cell_type": "code",
   "execution_count": 40,
   "metadata": {
    "colab": {
     "base_uri": "https://localhost:8080/"
    },
    "id": "WBG1DJV4B7XG",
    "outputId": "6511ab56-e480-4dca-f6dc-180ae9486714"
   },
   "outputs": [
    {
     "name": "stdout",
     "output_type": "stream",
     "text": [
      "WARNING:tensorflow:`period` argument is deprecated. Please use `save_freq` to specify the frequency in number of batches seen.\n"
     ]
    }
   ],
   "source": [
    "checkpoint = ModelCheckpoint(\"vgg19_coronal_15012022_2322.h5\", monitor='val_accuracy', verbose=1, save_best_only=True, save_weights_only=False, mode='auto', period=1)\n",
    "early = EarlyStopping(monitor='val_acc', min_delta=0, patience=20, verbose=1, mode='auto')\n",
    "#fit_generator(steps_per_epoch=1,generator=traindata, validation_data= testdata, validation_steps=1,epochs=50,callbacks=[checkpoint])\n",
    "# hist = model.fit(traindata, testdata, batch_size=10, epochs=20, verbose=0, shuffle=True,validation_split=0.2,callbacks=[checkpoint])"
   ]
  },
  {
   "cell_type": "code",
   "execution_count": 41,
   "metadata": {
    "id": "afbB58ZAETXD",
    "scrolled": false
   },
   "outputs": [
    {
     "name": "stdout",
     "output_type": "stream",
     "text": [
      "Epoch 1/50\n",
      "3036/3036 [==============================] - 4993s 2s/step - loss: 2897.2546 - accuracy: 0.6067 - val_loss: nan - val_accuracy: 0.5750\n",
      "\n",
      "Epoch 00001: val_accuracy improved from -inf to 0.57500, saving model to vgg19_coronal_15012022_2322.h5\n",
      "WARNING:tensorflow:Early stopping conditioned on metric `val_acc` which is not available. Available metrics are: loss,accuracy,val_loss,val_accuracy\n",
      "Epoch 2/50\n",
      "3036/3036 [==============================] - 5065s 2s/step - loss: 0.6720 - accuracy: 0.6057 - val_loss: nan - val_accuracy: 0.5750\n",
      "\n",
      "Epoch 00002: val_accuracy did not improve from 0.57500\n",
      "WARNING:tensorflow:Early stopping conditioned on metric `val_acc` which is not available. Available metrics are: loss,accuracy,val_loss,val_accuracy\n",
      "Epoch 3/50\n",
      "3036/3036 [==============================] - 4960s 2s/step - loss: 0.6719 - accuracy: 0.6057 - val_loss: nan - val_accuracy: 0.5750\n",
      "\n",
      "Epoch 00003: val_accuracy did not improve from 0.57500\n",
      "WARNING:tensorflow:Early stopping conditioned on metric `val_acc` which is not available. Available metrics are: loss,accuracy,val_loss,val_accuracy\n",
      "Epoch 4/50\n",
      "3036/3036 [==============================] - 5106s 2s/step - loss: 0.6721 - accuracy: 0.6057 - val_loss: nan - val_accuracy: 0.5750\n",
      "\n",
      "Epoch 00004: val_accuracy did not improve from 0.57500\n",
      "WARNING:tensorflow:Early stopping conditioned on metric `val_acc` which is not available. Available metrics are: loss,accuracy,val_loss,val_accuracy\n",
      "Epoch 5/50\n",
      "3036/3036 [==============================] - 5093s 2s/step - loss: 0.6716 - accuracy: 0.6057 - val_loss: nan - val_accuracy: 0.5750\n",
      "\n",
      "Epoch 00005: val_accuracy did not improve from 0.57500\n",
      "WARNING:tensorflow:Early stopping conditioned on metric `val_acc` which is not available. Available metrics are: loss,accuracy,val_loss,val_accuracy\n",
      "Epoch 6/50\n",
      "3036/3036 [==============================] - 5089s 2s/step - loss: 0.6717 - accuracy: 0.6057 - val_loss: nan - val_accuracy: 0.5750\n",
      "\n",
      "Epoch 00006: val_accuracy did not improve from 0.57500\n",
      "WARNING:tensorflow:Early stopping conditioned on metric `val_acc` which is not available. Available metrics are: loss,accuracy,val_loss,val_accuracy\n",
      "Epoch 7/50\n",
      "3036/3036 [==============================] - 5101s 2s/step - loss: 0.6720 - accuracy: 0.6057 - val_loss: nan - val_accuracy: 0.5750\n",
      "\n",
      "Epoch 00007: val_accuracy did not improve from 0.57500\n",
      "WARNING:tensorflow:Early stopping conditioned on metric `val_acc` which is not available. Available metrics are: loss,accuracy,val_loss,val_accuracy\n",
      "Epoch 8/50\n",
      "3036/3036 [==============================] - 5125s 2s/step - loss: 0.6720 - accuracy: 0.6057 - val_loss: nan - val_accuracy: 0.5750\n",
      "\n",
      "Epoch 00008: val_accuracy did not improve from 0.57500\n",
      "WARNING:tensorflow:Early stopping conditioned on metric `val_acc` which is not available. Available metrics are: loss,accuracy,val_loss,val_accuracy\n",
      "Epoch 9/50\n",
      "3036/3036 [==============================] - 5122s 2s/step - loss: 0.6719 - accuracy: 0.6057 - val_loss: nan - val_accuracy: 0.5750\n",
      "\n",
      "Epoch 00009: val_accuracy did not improve from 0.57500\n",
      "WARNING:tensorflow:Early stopping conditioned on metric `val_acc` which is not available. Available metrics are: loss,accuracy,val_loss,val_accuracy\n",
      "Epoch 10/50\n",
      "3036/3036 [==============================] - 5143s 2s/step - loss: 0.6718 - accuracy: 0.6057 - val_loss: nan - val_accuracy: 0.5750\n",
      "\n",
      "Epoch 00010: val_accuracy did not improve from 0.57500\n",
      "WARNING:tensorflow:Early stopping conditioned on metric `val_acc` which is not available. Available metrics are: loss,accuracy,val_loss,val_accuracy\n",
      "Epoch 11/50\n",
      "3036/3036 [==============================] - 5165s 2s/step - loss: 0.6718 - accuracy: 0.6057 - val_loss: nan - val_accuracy: 0.5750\n",
      "\n",
      "Epoch 00011: val_accuracy did not improve from 0.57500\n",
      "WARNING:tensorflow:Early stopping conditioned on metric `val_acc` which is not available. Available metrics are: loss,accuracy,val_loss,val_accuracy\n",
      "Epoch 12/50\n",
      "3036/3036 [==============================] - 5222s 2s/step - loss: 0.6718 - accuracy: 0.6057 - val_loss: nan - val_accuracy: 0.5750\n",
      "\n",
      "Epoch 00012: val_accuracy did not improve from 0.57500\n",
      "WARNING:tensorflow:Early stopping conditioned on metric `val_acc` which is not available. Available metrics are: loss,accuracy,val_loss,val_accuracy\n",
      "Epoch 13/50\n",
      " 883/3036 [=======>......................] - ETA: 59:10 - loss: 0.6807 - accuracy: 0.5832"
     ]
    },
    {
     "ename": "KeyboardInterrupt",
     "evalue": "",
     "output_type": "error",
     "traceback": [
      "\u001b[1;31m---------------------------------------------------------------------------\u001b[0m",
      "\u001b[1;31mKeyboardInterrupt\u001b[0m                         Traceback (most recent call last)",
      "\u001b[1;32m~\\AppData\\Local\\Temp/ipykernel_2416/241698994.py\u001b[0m in \u001b[0;36m<module>\u001b[1;34m\u001b[0m\n\u001b[1;32m----> 1\u001b[1;33m \u001b[0mhist\u001b[0m \u001b[1;33m=\u001b[0m \u001b[0mmodel\u001b[0m\u001b[1;33m.\u001b[0m\u001b[0mfit\u001b[0m\u001b[1;33m(\u001b[0m\u001b[0mX_coronal_train\u001b[0m\u001b[1;33m,\u001b[0m \u001b[0my_coronal_train\u001b[0m\u001b[1;33m,\u001b[0m \u001b[0mbatch_size\u001b[0m\u001b[1;33m=\u001b[0m\u001b[1;36m1\u001b[0m\u001b[1;33m,\u001b[0m\u001b[0mepochs\u001b[0m\u001b[1;33m=\u001b[0m\u001b[1;36m50\u001b[0m\u001b[1;33m,\u001b[0m\u001b[0mvalidation_split\u001b[0m\u001b[1;33m=\u001b[0m\u001b[1;36m0.2\u001b[0m\u001b[1;33m,\u001b[0m \u001b[0mcallbacks\u001b[0m\u001b[1;33m=\u001b[0m\u001b[1;33m[\u001b[0m\u001b[0mcheckpoint\u001b[0m\u001b[1;33m,\u001b[0m\u001b[0mearly\u001b[0m\u001b[1;33m]\u001b[0m\u001b[1;33m)\u001b[0m\u001b[1;33m\u001b[0m\u001b[1;33m\u001b[0m\u001b[0m\n\u001b[0m",
      "\u001b[1;32mc:\\python39\\lib\\site-packages\\keras\\engine\\training.py\u001b[0m in \u001b[0;36mfit\u001b[1;34m(self, x, y, batch_size, epochs, verbose, callbacks, validation_split, validation_data, shuffle, class_weight, sample_weight, initial_epoch, steps_per_epoch, validation_steps, validation_batch_size, validation_freq, max_queue_size, workers, use_multiprocessing)\u001b[0m\n\u001b[0;32m   1182\u001b[0m                 _r=1):\n\u001b[0;32m   1183\u001b[0m               \u001b[0mcallbacks\u001b[0m\u001b[1;33m.\u001b[0m\u001b[0mon_train_batch_begin\u001b[0m\u001b[1;33m(\u001b[0m\u001b[0mstep\u001b[0m\u001b[1;33m)\u001b[0m\u001b[1;33m\u001b[0m\u001b[1;33m\u001b[0m\u001b[0m\n\u001b[1;32m-> 1184\u001b[1;33m               \u001b[0mtmp_logs\u001b[0m \u001b[1;33m=\u001b[0m \u001b[0mself\u001b[0m\u001b[1;33m.\u001b[0m\u001b[0mtrain_function\u001b[0m\u001b[1;33m(\u001b[0m\u001b[0miterator\u001b[0m\u001b[1;33m)\u001b[0m\u001b[1;33m\u001b[0m\u001b[1;33m\u001b[0m\u001b[0m\n\u001b[0m\u001b[0;32m   1185\u001b[0m               \u001b[1;32mif\u001b[0m \u001b[0mdata_handler\u001b[0m\u001b[1;33m.\u001b[0m\u001b[0mshould_sync\u001b[0m\u001b[1;33m:\u001b[0m\u001b[1;33m\u001b[0m\u001b[1;33m\u001b[0m\u001b[0m\n\u001b[0;32m   1186\u001b[0m                 \u001b[0mcontext\u001b[0m\u001b[1;33m.\u001b[0m\u001b[0masync_wait\u001b[0m\u001b[1;33m(\u001b[0m\u001b[1;33m)\u001b[0m\u001b[1;33m\u001b[0m\u001b[1;33m\u001b[0m\u001b[0m\n",
      "\u001b[1;32mc:\\python39\\lib\\site-packages\\tensorflow\\python\\eager\\def_function.py\u001b[0m in \u001b[0;36m__call__\u001b[1;34m(self, *args, **kwds)\u001b[0m\n\u001b[0;32m    883\u001b[0m \u001b[1;33m\u001b[0m\u001b[0m\n\u001b[0;32m    884\u001b[0m       \u001b[1;32mwith\u001b[0m \u001b[0mOptionalXlaContext\u001b[0m\u001b[1;33m(\u001b[0m\u001b[0mself\u001b[0m\u001b[1;33m.\u001b[0m\u001b[0m_jit_compile\u001b[0m\u001b[1;33m)\u001b[0m\u001b[1;33m:\u001b[0m\u001b[1;33m\u001b[0m\u001b[1;33m\u001b[0m\u001b[0m\n\u001b[1;32m--> 885\u001b[1;33m         \u001b[0mresult\u001b[0m \u001b[1;33m=\u001b[0m \u001b[0mself\u001b[0m\u001b[1;33m.\u001b[0m\u001b[0m_call\u001b[0m\u001b[1;33m(\u001b[0m\u001b[1;33m*\u001b[0m\u001b[0margs\u001b[0m\u001b[1;33m,\u001b[0m \u001b[1;33m**\u001b[0m\u001b[0mkwds\u001b[0m\u001b[1;33m)\u001b[0m\u001b[1;33m\u001b[0m\u001b[1;33m\u001b[0m\u001b[0m\n\u001b[0m\u001b[0;32m    886\u001b[0m \u001b[1;33m\u001b[0m\u001b[0m\n\u001b[0;32m    887\u001b[0m       \u001b[0mnew_tracing_count\u001b[0m \u001b[1;33m=\u001b[0m \u001b[0mself\u001b[0m\u001b[1;33m.\u001b[0m\u001b[0mexperimental_get_tracing_count\u001b[0m\u001b[1;33m(\u001b[0m\u001b[1;33m)\u001b[0m\u001b[1;33m\u001b[0m\u001b[1;33m\u001b[0m\u001b[0m\n",
      "\u001b[1;32mc:\\python39\\lib\\site-packages\\tensorflow\\python\\eager\\def_function.py\u001b[0m in \u001b[0;36m_call\u001b[1;34m(self, *args, **kwds)\u001b[0m\n\u001b[0;32m    915\u001b[0m       \u001b[1;31m# In this case we have created variables on the first call, so we run the\u001b[0m\u001b[1;33m\u001b[0m\u001b[1;33m\u001b[0m\u001b[1;33m\u001b[0m\u001b[0m\n\u001b[0;32m    916\u001b[0m       \u001b[1;31m# defunned version which is guaranteed to never create variables.\u001b[0m\u001b[1;33m\u001b[0m\u001b[1;33m\u001b[0m\u001b[1;33m\u001b[0m\u001b[0m\n\u001b[1;32m--> 917\u001b[1;33m       \u001b[1;32mreturn\u001b[0m \u001b[0mself\u001b[0m\u001b[1;33m.\u001b[0m\u001b[0m_stateless_fn\u001b[0m\u001b[1;33m(\u001b[0m\u001b[1;33m*\u001b[0m\u001b[0margs\u001b[0m\u001b[1;33m,\u001b[0m \u001b[1;33m**\u001b[0m\u001b[0mkwds\u001b[0m\u001b[1;33m)\u001b[0m  \u001b[1;31m# pylint: disable=not-callable\u001b[0m\u001b[1;33m\u001b[0m\u001b[1;33m\u001b[0m\u001b[0m\n\u001b[0m\u001b[0;32m    918\u001b[0m     \u001b[1;32melif\u001b[0m \u001b[0mself\u001b[0m\u001b[1;33m.\u001b[0m\u001b[0m_stateful_fn\u001b[0m \u001b[1;32mis\u001b[0m \u001b[1;32mnot\u001b[0m \u001b[1;32mNone\u001b[0m\u001b[1;33m:\u001b[0m\u001b[1;33m\u001b[0m\u001b[1;33m\u001b[0m\u001b[0m\n\u001b[0;32m    919\u001b[0m       \u001b[1;31m# Release the lock early so that multiple threads can perform the call\u001b[0m\u001b[1;33m\u001b[0m\u001b[1;33m\u001b[0m\u001b[1;33m\u001b[0m\u001b[0m\n",
      "\u001b[1;32mc:\\python39\\lib\\site-packages\\tensorflow\\python\\eager\\function.py\u001b[0m in \u001b[0;36m__call__\u001b[1;34m(self, *args, **kwargs)\u001b[0m\n\u001b[0;32m   3037\u001b[0m       (graph_function,\n\u001b[0;32m   3038\u001b[0m        filtered_flat_args) = self._maybe_define_function(args, kwargs)\n\u001b[1;32m-> 3039\u001b[1;33m     return graph_function._call_flat(\n\u001b[0m\u001b[0;32m   3040\u001b[0m         filtered_flat_args, captured_inputs=graph_function.captured_inputs)  # pylint: disable=protected-access\n\u001b[0;32m   3041\u001b[0m \u001b[1;33m\u001b[0m\u001b[0m\n",
      "\u001b[1;32mc:\\python39\\lib\\site-packages\\tensorflow\\python\\eager\\function.py\u001b[0m in \u001b[0;36m_call_flat\u001b[1;34m(self, args, captured_inputs, cancellation_manager)\u001b[0m\n\u001b[0;32m   1961\u001b[0m         and executing_eagerly):\n\u001b[0;32m   1962\u001b[0m       \u001b[1;31m# No tape is watching; skip to running the function.\u001b[0m\u001b[1;33m\u001b[0m\u001b[1;33m\u001b[0m\u001b[1;33m\u001b[0m\u001b[0m\n\u001b[1;32m-> 1963\u001b[1;33m       return self._build_call_outputs(self._inference_function.call(\n\u001b[0m\u001b[0;32m   1964\u001b[0m           ctx, args, cancellation_manager=cancellation_manager))\n\u001b[0;32m   1965\u001b[0m     forward_backward = self._select_forward_and_backward_functions(\n",
      "\u001b[1;32mc:\\python39\\lib\\site-packages\\tensorflow\\python\\eager\\function.py\u001b[0m in \u001b[0;36mcall\u001b[1;34m(self, ctx, args, cancellation_manager)\u001b[0m\n\u001b[0;32m    589\u001b[0m       \u001b[1;32mwith\u001b[0m \u001b[0m_InterpolateFunctionError\u001b[0m\u001b[1;33m(\u001b[0m\u001b[0mself\u001b[0m\u001b[1;33m)\u001b[0m\u001b[1;33m:\u001b[0m\u001b[1;33m\u001b[0m\u001b[1;33m\u001b[0m\u001b[0m\n\u001b[0;32m    590\u001b[0m         \u001b[1;32mif\u001b[0m \u001b[0mcancellation_manager\u001b[0m \u001b[1;32mis\u001b[0m \u001b[1;32mNone\u001b[0m\u001b[1;33m:\u001b[0m\u001b[1;33m\u001b[0m\u001b[1;33m\u001b[0m\u001b[0m\n\u001b[1;32m--> 591\u001b[1;33m           outputs = execute.execute(\n\u001b[0m\u001b[0;32m    592\u001b[0m               \u001b[0mstr\u001b[0m\u001b[1;33m(\u001b[0m\u001b[0mself\u001b[0m\u001b[1;33m.\u001b[0m\u001b[0msignature\u001b[0m\u001b[1;33m.\u001b[0m\u001b[0mname\u001b[0m\u001b[1;33m)\u001b[0m\u001b[1;33m,\u001b[0m\u001b[1;33m\u001b[0m\u001b[1;33m\u001b[0m\u001b[0m\n\u001b[0;32m    593\u001b[0m               \u001b[0mnum_outputs\u001b[0m\u001b[1;33m=\u001b[0m\u001b[0mself\u001b[0m\u001b[1;33m.\u001b[0m\u001b[0m_num_outputs\u001b[0m\u001b[1;33m,\u001b[0m\u001b[1;33m\u001b[0m\u001b[1;33m\u001b[0m\u001b[0m\n",
      "\u001b[1;32mc:\\python39\\lib\\site-packages\\tensorflow\\python\\eager\\execute.py\u001b[0m in \u001b[0;36mquick_execute\u001b[1;34m(op_name, num_outputs, inputs, attrs, ctx, name)\u001b[0m\n\u001b[0;32m     57\u001b[0m   \u001b[1;32mtry\u001b[0m\u001b[1;33m:\u001b[0m\u001b[1;33m\u001b[0m\u001b[1;33m\u001b[0m\u001b[0m\n\u001b[0;32m     58\u001b[0m     \u001b[0mctx\u001b[0m\u001b[1;33m.\u001b[0m\u001b[0mensure_initialized\u001b[0m\u001b[1;33m(\u001b[0m\u001b[1;33m)\u001b[0m\u001b[1;33m\u001b[0m\u001b[1;33m\u001b[0m\u001b[0m\n\u001b[1;32m---> 59\u001b[1;33m     tensors = pywrap_tfe.TFE_Py_Execute(ctx._handle, device_name, op_name,\n\u001b[0m\u001b[0;32m     60\u001b[0m                                         inputs, attrs, num_outputs)\n\u001b[0;32m     61\u001b[0m   \u001b[1;32mexcept\u001b[0m \u001b[0mcore\u001b[0m\u001b[1;33m.\u001b[0m\u001b[0m_NotOkStatusException\u001b[0m \u001b[1;32mas\u001b[0m \u001b[0me\u001b[0m\u001b[1;33m:\u001b[0m\u001b[1;33m\u001b[0m\u001b[1;33m\u001b[0m\u001b[0m\n",
      "\u001b[1;31mKeyboardInterrupt\u001b[0m: "
     ]
    }
   ],
   "source": [
    "hist = model.fit(X_coronal_train, y_coronal_train, batch_size=1,epochs=50,validation_split=0.2, callbacks=[checkpoint,early])"
   ]
  },
  {
   "cell_type": "code",
   "execution_count": null,
   "metadata": {
    "id": "D2nzYIb4B7XG"
   },
   "outputs": [],
   "source": [
    "import matplotlib.pyplot as plt\n",
    "\n",
    "plt.plot(hist.history[\"accuracy\"])\n",
    "plt.plot(hist.history['val_accuracy'])\n",
    "plt.plot(hist.history['loss'])\n",
    "plt.plot(hist.history['val_loss'])\n",
    "plt.title(\"model accuracy\")\n",
    "plt.ylabel(\"Accuracy\")\n",
    "plt.xlabel(\"Epoch\")\n",
    "plt.legend([\"Accuracy\",\"Validation Accuracy\",\"loss\",\"Validation Loss\"])\n",
    "plt.show()"
   ]
  },
  {
   "cell_type": "code",
   "execution_count": null,
   "metadata": {},
   "outputs": [],
   "source": [
    "model.load_weights(\"./vgg19_coronal.h5\")\n",
    "test_results = model.evaluate(X_coronal_test, y_coronal_test)\n",
    "test_results"
   ]
  },
  {
   "cell_type": "markdown",
   "metadata": {},
   "source": [
    "# Sagital"
   ]
  },
  {
   "cell_type": "code",
   "execution_count": 42,
   "metadata": {},
   "outputs": [
    {
     "name": "stdout",
     "output_type": "stream",
     "text": [
      "-> [1/202] Slices processed 15.\n",
      "-> [2/202] Slices processed 34.\n",
      "-> [3/202] Slices processed 53.\n",
      "-> [4/202] Slices processed 72.\n",
      "-> [5/202] Slices processed 91.\n",
      "-> [6/202] Slices processed 110.\n",
      "-> [7/202] Slices processed 129.\n",
      "-> [8/202] Slices processed 148.\n",
      "-> [9/202] Slices processed 167.\n",
      "-> [10/202] Slices processed 186.\n",
      "-> [11/202] Slices processed 202.\n",
      "-> [12/202] Slices processed 221.\n",
      "-> [13/202] Slices processed 240.\n",
      "-> [14/202] Slices processed 259.\n",
      "-> [15/202] Slices processed 275.\n",
      "-> [16/202] Slices processed 294.\n",
      "-> [17/202] Slices processed 313.\n",
      "-> [18/202] Slices processed 332.\n",
      "-> [19/202] Slices processed 351.\n",
      "-> [20/202] Slices processed 370.\n",
      "-> [21/202] Slices processed 389.\n",
      "-> [22/202] Slices processed 408.\n",
      "-> [23/202] Slices processed 427.\n",
      "-> [24/202] Slices processed 446.\n",
      "-> [25/202] Slices processed 465.\n",
      "-> [26/202] Slices processed 484.\n",
      "-> [27/202] Slices processed 503.\n",
      "-> [28/202] Slices processed 522.\n",
      "-> [29/202] Slices processed 541.\n",
      "-> [30/202] Slices processed 560.\n",
      "-> [31/202] Slices processed 579.\n",
      "-> [32/202] Slices processed 598.\n",
      "-> [33/202] Slices processed 617.\n",
      "-> [34/202] Slices processed 636.\n",
      "-> [35/202] Slices processed 655.\n",
      "-> [36/202] Slices processed 674.\n",
      "-> [37/202] Slices processed 693.\n",
      "-> [38/202] Slices processed 712.\n",
      "-> [39/202] Slices processed 731.\n",
      "error\n",
      "-> [40/202] Slices processed 731.\n",
      "-> [41/202] Slices processed 750.\n",
      "-> [42/202] Slices processed 769.\n",
      "-> [43/202] Slices processed 788.\n",
      "-> [44/202] Slices processed 807.\n",
      "-> [45/202] Slices processed 826.\n",
      "-> [46/202] Slices processed 845.\n",
      "-> [47/202] Slices processed 864.\n",
      "-> [48/202] Slices processed 883.\n",
      "-> [49/202] Slices processed 902.\n",
      "-> [50/202] Slices processed 921.\n",
      "-> [51/202] Slices processed 940.\n",
      "-> [52/202] Slices processed 959.\n",
      "-> [53/202] Slices processed 978.\n",
      "-> [54/202] Slices processed 997.\n",
      "-> [55/202] Slices processed 1016.\n",
      "-> [56/202] Slices processed 1035.\n",
      "-> [57/202] Slices processed 1054.\n",
      "-> [58/202] Slices processed 1073.\n",
      "-> [59/202] Slices processed 1092.\n",
      "-> [60/202] Slices processed 1111.\n",
      "-> [61/202] Slices processed 1130.\n",
      "-> [62/202] Slices processed 1149.\n",
      "-> [63/202] Slices processed 1168.\n",
      "-> [64/202] Slices processed 1187.\n",
      "-> [65/202] Slices processed 1206.\n",
      "-> [66/202] Slices processed 1222.\n",
      "-> [67/202] Slices processed 1241.\n",
      "-> [68/202] Slices processed 1260.\n",
      "-> [69/202] Slices processed 1279.\n",
      "-> [70/202] Slices processed 1298.\n",
      "-> [71/202] Slices processed 1317.\n",
      "-> [72/202] Slices processed 1336.\n",
      "-> [73/202] Slices processed 1355.\n",
      "-> [74/202] Slices processed 1374.\n",
      "-> [75/202] Slices processed 1393.\n",
      "-> [76/202] Slices processed 1412.\n",
      "-> [77/202] Slices processed 1431.\n",
      "-> [78/202] Slices processed 1450.\n",
      "-> [79/202] Slices processed 1469.\n",
      "-> [80/202] Slices processed 1488.\n",
      "-> [81/202] Slices processed 1507.\n",
      "-> [82/202] Slices processed 1526.\n",
      "-> [83/202] Slices processed 1545.\n",
      "-> [84/202] Slices processed 1564.\n",
      "-> [85/202] Slices processed 1583.\n",
      "-> [86/202] Slices processed 1602.\n",
      "-> [87/202] Slices processed 1621.\n",
      "-> [88/202] Slices processed 1640.\n",
      "-> [89/202] Slices processed 1659.\n",
      "-> [90/202] Slices processed 1678.\n",
      "-> [91/202] Slices processed 1697.\n",
      "-> [92/202] Slices processed 1716.\n",
      "-> [93/202] Slices processed 1735.\n",
      "-> [94/202] Slices processed 1754.\n",
      "-> [95/202] Slices processed 1773.\n",
      "-> [96/202] Slices processed 1792.\n",
      "-> [97/202] Slices processed 1811.\n",
      "-> [98/202] Slices processed 1830.\n",
      "-> [99/202] Slices processed 1849.\n",
      "-> [100/202] Slices processed 1868.\n",
      "-> [101/202] Slices processed 1887.\n",
      "-> [102/202] Slices processed 1906.\n",
      "-> [103/202] Slices processed 1925.\n",
      "-> [104/202] Slices processed 1944.\n",
      "-> [105/202] Slices processed 1963.\n",
      "-> [106/202] Slices processed 1982.\n",
      "-> [107/202] Slices processed 2001.\n",
      "-> [108/202] Slices processed 2020.\n",
      "-> [109/202] Slices processed 2039.\n",
      "-> [110/202] Slices processed 2058.\n",
      "-> [111/202] Slices processed 2077.\n",
      "-> [112/202] Slices processed 2096.\n",
      "-> [113/202] Slices processed 2115.\n",
      "-> [114/202] Slices processed 2134.\n",
      "-> [115/202] Slices processed 2153.\n",
      "-> [116/202] Slices processed 2172.\n",
      "-> [117/202] Slices processed 2191.\n",
      "-> [118/202] Slices processed 2210.\n",
      "-> [119/202] Slices processed 2229.\n",
      "-> [120/202] Slices processed 2248.\n",
      "-> [121/202] Slices processed 2267.\n",
      "-> [122/202] Slices processed 2286.\n",
      "-> [123/202] Slices processed 2305.\n",
      "-> [124/202] Slices processed 2324.\n",
      "-> [125/202] Slices processed 2343.\n",
      "-> [126/202] Slices processed 2362.\n",
      "-> [127/202] Slices processed 2381.\n",
      "-> [128/202] Slices processed 2400.\n",
      "-> [129/202] Slices processed 2419.\n",
      "-> [130/202] Slices processed 2438.\n",
      "-> [131/202] Slices processed 2457.\n",
      "-> [132/202] Slices processed 2476.\n",
      "-> [133/202] Slices processed 2495.\n",
      "-> [134/202] Slices processed 2514.\n",
      "-> [135/202] Slices processed 2533.\n",
      "-> [136/202] Slices processed 2552.\n",
      "-> [137/202] Slices processed 2571.\n",
      "-> [138/202] Slices processed 2590.\n",
      "-> [139/202] Slices processed 2609.\n",
      "-> [140/202] Slices processed 2628.\n",
      "-> [141/202] Slices processed 2647.\n",
      "-> [142/202] Slices processed 2666.\n",
      "-> [143/202] Slices processed 2685.\n",
      "-> [144/202] Slices processed 2701.\n",
      "-> [145/202] Slices processed 2720.\n",
      "-> [146/202] Slices processed 2739.\n",
      "-> [147/202] Slices processed 2758.\n",
      "-> [148/202] Slices processed 2777.\n",
      "-> [149/202] Slices processed 2796.\n",
      "-> [150/202] Slices processed 2815.\n",
      "-> [151/202] Slices processed 2834.\n",
      "-> [152/202] Slices processed 2853.\n",
      "-> [153/202] Slices processed 2861.\n",
      "-> [154/202] Slices processed 2880.\n",
      "-> [155/202] Slices processed 2899.\n",
      "-> [156/202] Slices processed 2918.\n",
      "-> [157/202] Slices processed 2937.\n",
      "-> [158/202] Slices processed 2956.\n",
      "-> [159/202] Slices processed 2975.\n",
      "-> [160/202] Slices processed 2994.\n",
      "-> [161/202] Slices processed 3013.\n",
      "-> [162/202] Slices processed 3032.\n",
      "-> [163/202] Slices processed 3051.\n",
      "-> [164/202] Slices processed 3070.\n",
      "-> [165/202] Slices processed 3089.\n",
      "-> [166/202] Slices processed 3108.\n",
      "-> [167/202] Slices processed 3127.\n",
      "-> [168/202] Slices processed 3146.\n",
      "-> [169/202] Slices processed 3165.\n",
      "-> [170/202] Slices processed 3184.\n",
      "-> [171/202] Slices processed 3203.\n",
      "-> [172/202] Slices processed 3222.\n",
      "-> [173/202] Slices processed 3241.\n",
      "-> [174/202] Slices processed 3260.\n",
      "-> [175/202] Slices processed 3279.\n",
      "-> [176/202] Slices processed 3298.\n",
      "-> [177/202] Slices processed 3317.\n",
      "-> [178/202] Slices processed 3336.\n",
      "-> [179/202] Slices processed 3355.\n",
      "-> [180/202] Slices processed 3374.\n",
      "-> [181/202] Slices processed 3393.\n",
      "-> [182/202] Slices processed 3412.\n",
      "-> [183/202] Slices processed 3431.\n"
     ]
    },
    {
     "name": "stderr",
     "output_type": "stream",
     "text": [
      "C:\\Users\\josie\\AppData\\Local\\Temp/ipykernel_2416/3491320886.py:22: RuntimeWarning: invalid value encountered in true_divide\n",
      "  arr = arr / arr.max()\n"
     ]
    },
    {
     "name": "stdout",
     "output_type": "stream",
     "text": [
      "-> [184/202] Slices processed 3450.\n",
      "-> [185/202] Slices processed 3469.\n",
      "-> [186/202] Slices processed 3488.\n",
      "-> [187/202] Slices processed 3507.\n",
      "-> [188/202] Slices processed 3526.\n",
      "-> [189/202] Slices processed 3545.\n",
      "-> [190/202] Slices processed 3564.\n",
      "-> [191/202] Slices processed 3583.\n",
      "-> [192/202] Slices processed 3602.\n",
      "-> [193/202] Slices processed 3621.\n",
      "-> [194/202] Slices processed 3640.\n",
      "-> [195/202] Slices processed 3659.\n",
      "-> [196/202] Slices processed 3678.\n",
      "-> [197/202] Slices processed 3697.\n",
      "-> [198/202] Slices processed 3716.\n",
      "-> [199/202] Slices processed 3735.\n",
      "-> [200/202] Slices processed 3754.\n",
      "-> [201/202] Slices processed 3773.\n",
      "-> [202/202] Slices processed 3792.\n"
     ]
    }
   ],
   "source": [
    "X_sagital_train, y_sagital_train = get_slices_per_group_sagital(X_train, y_train)\n",
    "X_sagital_train = X_sagital_train.reshape(-1, X_sagital_train.shape[1], X_sagital_train.shape[2], 1)"
   ]
  },
  {
   "cell_type": "code",
   "execution_count": null,
   "metadata": {},
   "outputs": [],
   "source": [
    "X_sagital_test, y_sagital_test = get_slices_per_group_sagital(X_test, y_test)\n",
    "X_sagital_test = X_sagital_test.reshape(-1, X_sagital_train.shape[1], X_sagital_train.shape[2], 1)"
   ]
  },
  {
   "cell_type": "code",
   "execution_count": null,
   "metadata": {},
   "outputs": [],
   "source": [
    "print(\"Train: X:(%d, %d, %d, %d), y: %d\" %(X_sagital_train.shape[0],X_sagital_train.shape[1],X_sagital_train.shape[2],X_sagital_train.shape[3], len(y_sagital_train)))\n",
    "print(\"Test: X:(%d, %d, %d, %d), y: %d\" %(X_sagital_test.shape[0],X_sagital_test.shape[1],X_sagital_test.shape[2],X_sagital_test.shape[3], len(y_sagital_test)))"
   ]
  },
  {
   "cell_type": "markdown",
   "metadata": {
    "id": "PURhal9KB7XG"
   },
   "source": [
    "# VGG19"
   ]
  },
  {
   "cell_type": "code",
   "execution_count": 48,
   "metadata": {
    "id": "GmsZwEJRpg-t"
   },
   "outputs": [],
   "source": [
    "import keras\n",
    "from keras.models import Sequential\n",
    "from keras.layers import Dense, Conv2D, MaxPool2D , Flatten\n",
    "from keras.preprocessing.image import ImageDataGenerator\n",
    "from keras.layers import Dropout\n",
    "from keras.callbacks import ModelCheckpoint, EarlyStopping\n",
    "import tensorflow as tf"
   ]
  },
  {
   "cell_type": "code",
   "execution_count": 49,
   "metadata": {
    "colab": {
     "base_uri": "https://localhost:8080/"
    },
    "id": "PknsV4akB7XG",
    "outputId": "a3b91a1b-36a8-4351-b9e3-466e0bfd7579",
    "scrolled": true
   },
   "outputs": [
    {
     "name": "stdout",
     "output_type": "stream",
     "text": [
      "Model: \"sequential_1\"\n",
      "_________________________________________________________________\n",
      "Layer (type)                 Output Shape              Param #   \n",
      "=================================================================\n",
      "conv2d_16 (Conv2D)           (None, 224, 224, 64)      640       \n",
      "_________________________________________________________________\n",
      "conv2d_17 (Conv2D)           (None, 224, 224, 64)      36928     \n",
      "_________________________________________________________________\n",
      "dropout_5 (Dropout)          (None, 224, 224, 64)      0         \n",
      "_________________________________________________________________\n",
      "max_pooling2d_5 (MaxPooling2 (None, 112, 112, 64)      0         \n",
      "_________________________________________________________________\n",
      "conv2d_18 (Conv2D)           (None, 112, 112, 128)     73856     \n",
      "_________________________________________________________________\n",
      "conv2d_19 (Conv2D)           (None, 112, 112, 128)     147584    \n",
      "_________________________________________________________________\n",
      "dropout_6 (Dropout)          (None, 112, 112, 128)     0         \n",
      "_________________________________________________________________\n",
      "max_pooling2d_6 (MaxPooling2 (None, 56, 56, 128)       0         \n",
      "_________________________________________________________________\n",
      "conv2d_20 (Conv2D)           (None, 56, 56, 256)       295168    \n",
      "_________________________________________________________________\n",
      "conv2d_21 (Conv2D)           (None, 56, 56, 256)       590080    \n",
      "_________________________________________________________________\n",
      "conv2d_22 (Conv2D)           (None, 56, 56, 256)       590080    \n",
      "_________________________________________________________________\n",
      "conv2d_23 (Conv2D)           (None, 56, 56, 256)       590080    \n",
      "_________________________________________________________________\n",
      "dropout_7 (Dropout)          (None, 56, 56, 256)       0         \n",
      "_________________________________________________________________\n",
      "max_pooling2d_7 (MaxPooling2 (None, 28, 28, 256)       0         \n",
      "_________________________________________________________________\n",
      "conv2d_24 (Conv2D)           (None, 28, 28, 512)       1180160   \n",
      "_________________________________________________________________\n",
      "conv2d_25 (Conv2D)           (None, 28, 28, 512)       2359808   \n",
      "_________________________________________________________________\n",
      "conv2d_26 (Conv2D)           (None, 28, 28, 512)       2359808   \n",
      "_________________________________________________________________\n",
      "conv2d_27 (Conv2D)           (None, 28, 28, 512)       2359808   \n",
      "_________________________________________________________________\n",
      "dropout_8 (Dropout)          (None, 28, 28, 512)       0         \n",
      "_________________________________________________________________\n",
      "max_pooling2d_8 (MaxPooling2 (None, 14, 14, 512)       0         \n",
      "_________________________________________________________________\n",
      "conv2d_28 (Conv2D)           (None, 14, 14, 512)       2359808   \n",
      "_________________________________________________________________\n",
      "conv2d_29 (Conv2D)           (None, 14, 14, 512)       2359808   \n",
      "_________________________________________________________________\n",
      "conv2d_30 (Conv2D)           (None, 14, 14, 512)       2359808   \n",
      "_________________________________________________________________\n",
      "conv2d_31 (Conv2D)           (None, 14, 14, 512)       2359808   \n",
      "_________________________________________________________________\n",
      "dropout_9 (Dropout)          (None, 14, 14, 512)       0         \n",
      "_________________________________________________________________\n",
      "max_pooling2d_9 (MaxPooling2 (None, 7, 7, 512)         0         \n",
      "_________________________________________________________________\n",
      "flatten_1 (Flatten)          (None, 25088)             0         \n",
      "_________________________________________________________________\n",
      "dense_4 (Dense)              (None, 4096)              102764544 \n",
      "_________________________________________________________________\n",
      "dense_5 (Dense)              (None, 4096)              16781312  \n",
      "_________________________________________________________________\n",
      "dense_6 (Dense)              (None, 1000)              4097000   \n",
      "_________________________________________________________________\n",
      "dense_7 (Dense)              (None, 1)                 1001      \n",
      "=================================================================\n",
      "Total params: 143,667,089\n",
      "Trainable params: 143,667,089\n",
      "Non-trainable params: 0\n",
      "_________________________________________________________________\n",
      "None\n"
     ]
    }
   ],
   "source": [
    "model = Sequential()\n",
    "model.add(Conv2D(input_shape=(224,224,1),filters=64,kernel_size=(3,3),padding=\"same\", activation=\"relu\"))\n",
    "model.add(Conv2D(filters=64,kernel_size=(3,3),padding=\"same\", activation=\"relu\"))\n",
    "model.add(Dropout(0.4))\n",
    "model.add(MaxPool2D(pool_size=(2,2),strides=(2,2)))\n",
    "model.add(Conv2D(filters=128, kernel_size=(3,3), padding=\"same\", activation=\"relu\"))\n",
    "model.add(Conv2D(filters=128, kernel_size=(3,3), padding=\"same\", activation=\"relu\"))\n",
    "model.add(Dropout(0.6))\n",
    "model.add(MaxPool2D(pool_size=(2,2),strides=(2,2)))\n",
    "model.add(Conv2D(filters=256, kernel_size=(3,3), padding=\"same\", activation=\"relu\"))\n",
    "model.add(Conv2D(filters=256, kernel_size=(3,3), padding=\"same\", activation=\"relu\"))\n",
    "model.add(Conv2D(filters=256, kernel_size=(3,3), padding=\"same\", activation=\"relu\"))\n",
    "model.add(Conv2D(filters=256, kernel_size=(3,3), padding=\"same\", activation=\"relu\"))\n",
    "model.add(Dropout(0.8))\n",
    "model.add(MaxPool2D(pool_size=(2,2),strides=(2,2)))\n",
    "model.add(Conv2D(filters=512, kernel_size=(3,3), padding=\"same\", activation=\"relu\"))\n",
    "model.add(Conv2D(filters=512, kernel_size=(3,3), padding=\"same\", activation=\"relu\"))\n",
    "model.add(Conv2D(filters=512, kernel_size=(3,3), padding=\"same\", activation=\"relu\"))\n",
    "model.add(Conv2D(filters=512, kernel_size=(3,3), padding=\"same\", activation=\"relu\"))\n",
    "model.add(Dropout(0.8))\n",
    "model.add(MaxPool2D(pool_size=(2,2),strides=(2,2)))\n",
    "model.add(Conv2D(filters=512, kernel_size=(3,3), padding=\"same\", activation=\"relu\"))\n",
    "model.add(Conv2D(filters=512, kernel_size=(3,3), padding=\"same\", activation=\"relu\"))\n",
    "model.add(Conv2D(filters=512, kernel_size=(3,3), padding=\"same\", activation=\"relu\"))\n",
    "model.add(Conv2D(filters=512, kernel_size=(3,3), padding=\"same\", activation=\"relu\"))\n",
    "model.add(Dropout(0.4))\n",
    "model.add(MaxPool2D(pool_size=(2,2),strides=(2,2)))\n",
    "\n",
    "#Dense layer\n",
    "model.add(Flatten())\n",
    "model.add(Dense(units=4096,activation=\"relu\"))\n",
    "model.add(Dense(units=4096,activation=\"relu\"))\n",
    "model.add(Dense(units=1000,activation=\"relu\"))\n",
    "model.add(Dense(1, activation=\"sigmoid\"))\n",
    "\n",
    "model.compile(optimizer='adam', loss=keras.losses.binary_crossentropy, metrics=['accuracy'])\n",
    "\n",
    "print(model.summary())"
   ]
  },
  {
   "cell_type": "code",
   "execution_count": 50,
   "metadata": {
    "colab": {
     "base_uri": "https://localhost:8080/"
    },
    "id": "WBG1DJV4B7XG",
    "outputId": "6511ab56-e480-4dca-f6dc-180ae9486714"
   },
   "outputs": [
    {
     "name": "stdout",
     "output_type": "stream",
     "text": [
      "WARNING:tensorflow:`period` argument is deprecated. Please use `save_freq` to specify the frequency in number of batches seen.\n"
     ]
    }
   ],
   "source": [
    "checkpoint = ModelCheckpoint(\"vgg19_sagital_16012022_1749.h5\", monitor='val_accuracy', verbose=1, save_best_only=True, save_weights_only=False, mode='auto', period=1)\n",
    "early = EarlyStopping(monitor='val_acc', min_delta=0, patience=20, verbose=1, mode='auto')\n",
    "#fit_generator(steps_per_epoch=1,generator=traindata, validation_data= testdata, validation_steps=1,epochs=50,callbacks=[checkpoint])\n",
    "# hist = model.fit(traindata, testdata, batch_size=10, epochs=20, verbose=0, shuffle=True,validation_split=0.2,callbacks=[checkpoint])"
   ]
  },
  {
   "cell_type": "code",
   "execution_count": null,
   "metadata": {
    "id": "afbB58ZAETXD"
   },
   "outputs": [
    {
     "name": "stdout",
     "output_type": "stream",
     "text": [
      "Epoch 1/50\n",
      "3036/3036 [==============================] - 4981s 2s/step - loss: 12.2045 - accuracy: 0.6041 - val_loss: nan - val_accuracy: 0.5750\n",
      "\n",
      "Epoch 00001: val_accuracy improved from -inf to 0.57500, saving model to vgg19_sagital_16012022_1749.h5\n",
      "WARNING:tensorflow:Early stopping conditioned on metric `val_acc` which is not available. Available metrics are: loss,accuracy,val_loss,val_accuracy\n",
      "Epoch 2/50\n",
      "3036/3036 [==============================] - 4972s 2s/step - loss: 0.6718 - accuracy: 0.6057 - val_loss: nan - val_accuracy: 0.5750\n",
      "\n",
      "Epoch 00002: val_accuracy did not improve from 0.57500\n",
      "WARNING:tensorflow:Early stopping conditioned on metric `val_acc` which is not available. Available metrics are: loss,accuracy,val_loss,val_accuracy\n",
      "Epoch 3/50\n",
      "3036/3036 [==============================] - 4754s 2s/step - loss: 0.6720 - accuracy: 0.6057 - val_loss: nan - val_accuracy: 0.5750\n",
      "\n",
      "Epoch 00003: val_accuracy did not improve from 0.57500\n",
      "WARNING:tensorflow:Early stopping conditioned on metric `val_acc` which is not available. Available metrics are: loss,accuracy,val_loss,val_accuracy\n",
      "Epoch 4/50\n",
      "3036/3036 [==============================] - 4567s 2s/step - loss: 0.6720 - accuracy: 0.6057 - val_loss: nan - val_accuracy: 0.5750\n",
      "\n",
      "Epoch 00004: val_accuracy did not improve from 0.57500\n",
      "WARNING:tensorflow:Early stopping conditioned on metric `val_acc` which is not available. Available metrics are: loss,accuracy,val_loss,val_accuracy\n",
      "Epoch 5/50\n",
      "3036/3036 [==============================] - 4571s 2s/step - loss: 0.6719 - accuracy: 0.6057 - val_loss: nan - val_accuracy: 0.5750\n",
      "\n",
      "Epoch 00005: val_accuracy did not improve from 0.57500\n",
      "WARNING:tensorflow:Early stopping conditioned on metric `val_acc` which is not available. Available metrics are: loss,accuracy,val_loss,val_accuracy\n",
      "Epoch 6/50\n",
      "3036/3036 [==============================] - 4559s 2s/step - loss: 0.6720 - accuracy: 0.6057 - val_loss: nan - val_accuracy: 0.5750\n",
      "\n",
      "Epoch 00006: val_accuracy did not improve from 0.57500\n",
      "WARNING:tensorflow:Early stopping conditioned on metric `val_acc` which is not available. Available metrics are: loss,accuracy,val_loss,val_accuracy\n",
      "Epoch 7/50\n",
      "3036/3036 [==============================] - 4555s 2s/step - loss: 0.6711 - accuracy: 0.6057 - val_loss: nan - val_accuracy: 0.5750\n",
      "\n",
      "Epoch 00007: val_accuracy did not improve from 0.57500\n",
      "WARNING:tensorflow:Early stopping conditioned on metric `val_acc` which is not available. Available metrics are: loss,accuracy,val_loss,val_accuracy\n",
      "Epoch 8/50\n",
      "3036/3036 [==============================] - 4570s 2s/step - loss: 0.6706 - accuracy: 0.6057 - val_loss: nan - val_accuracy: 0.5750\n",
      "\n",
      "Epoch 00008: val_accuracy did not improve from 0.57500\n",
      "WARNING:tensorflow:Early stopping conditioned on metric `val_acc` which is not available. Available metrics are: loss,accuracy,val_loss,val_accuracy\n",
      "Epoch 9/50\n",
      "3036/3036 [==============================] - 4555s 2s/step - loss: 0.6715 - accuracy: 0.6057 - val_loss: nan - val_accuracy: 0.5750\n",
      "\n",
      "Epoch 00009: val_accuracy did not improve from 0.57500\n",
      "WARNING:tensorflow:Early stopping conditioned on metric `val_acc` which is not available. Available metrics are: loss,accuracy,val_loss,val_accuracy\n",
      "Epoch 10/50\n",
      "3036/3036 [==============================] - 4548s 1s/step - loss: 0.6714 - accuracy: 0.6057 - val_loss: nan - val_accuracy: 0.5750\n",
      "\n",
      "Epoch 00010: val_accuracy did not improve from 0.57500\n",
      "WARNING:tensorflow:Early stopping conditioned on metric `val_acc` which is not available. Available metrics are: loss,accuracy,val_loss,val_accuracy\n",
      "Epoch 11/50\n",
      "3036/3036 [==============================] - 4552s 1s/step - loss: 0.6711 - accuracy: 0.6057 - val_loss: nan - val_accuracy: 0.5750\n",
      "\n",
      "Epoch 00011: val_accuracy did not improve from 0.57500\n",
      "WARNING:tensorflow:Early stopping conditioned on metric `val_acc` which is not available. Available metrics are: loss,accuracy,val_loss,val_accuracy\n",
      "Epoch 12/50\n",
      "3036/3036 [==============================] - 4829s 2s/step - loss: 0.6710 - accuracy: 0.6057 - val_loss: nan - val_accuracy: 0.5750\n",
      "\n",
      "Epoch 00012: val_accuracy did not improve from 0.57500\n",
      "WARNING:tensorflow:Early stopping conditioned on metric `val_acc` which is not available. Available metrics are: loss,accuracy,val_loss,val_accuracy\n",
      "Epoch 13/50\n",
      "3036/3036 [==============================] - 4996s 2s/step - loss: 0.6717 - accuracy: 0.6057 - val_loss: nan - val_accuracy: 0.5750\n",
      "\n",
      "Epoch 00013: val_accuracy did not improve from 0.57500\n",
      "WARNING:tensorflow:Early stopping conditioned on metric `val_acc` which is not available. Available metrics are: loss,accuracy,val_loss,val_accuracy\n",
      "Epoch 14/50\n",
      "3036/3036 [==============================] - 4964s 2s/step - loss: 0.6714 - accuracy: 0.6057 - val_loss: nan - val_accuracy: 0.5750\n",
      "\n",
      "Epoch 00014: val_accuracy did not improve from 0.57500\n",
      "WARNING:tensorflow:Early stopping conditioned on metric `val_acc` which is not available. Available metrics are: loss,accuracy,val_loss,val_accuracy\n",
      "Epoch 15/50\n",
      "3036/3036 [==============================] - 5200s 2s/step - loss: 0.6713 - accuracy: 0.6057 - val_loss: nan - val_accuracy: 0.5750\n",
      "\n",
      "Epoch 00015: val_accuracy did not improve from 0.57500\n",
      "WARNING:tensorflow:Early stopping conditioned on metric `val_acc` which is not available. Available metrics are: loss,accuracy,val_loss,val_accuracy\n",
      "Epoch 16/50\n",
      "3036/3036 [==============================] - 5106s 2s/step - loss: 0.6715 - accuracy: 0.6057 - val_loss: nan - val_accuracy: 0.5750\n",
      "\n",
      "Epoch 00016: val_accuracy did not improve from 0.57500\n",
      "WARNING:tensorflow:Early stopping conditioned on metric `val_acc` which is not available. Available metrics are: loss,accuracy,val_loss,val_accuracy\n",
      "Epoch 17/50\n",
      "2418/3036 [======================>.......] - ETA: 17:14 - loss: 0.6719 - accuracy: 0.6042"
     ]
    }
   ],
   "source": [
    "hist = model.fit(X_coronal_train, y_coronal_train, batch_size=1,epochs=50,validation_split=0.2, callbacks=[checkpoint,early])"
   ]
  },
  {
   "cell_type": "markdown",
   "metadata": {
    "id": "kl1Z4kUYHNuR"
   },
   "source": [
    "#EXTRA"
   ]
  },
  {
   "cell_type": "code",
   "execution_count": null,
   "metadata": {},
   "outputs": [],
   "source": []
  },
  {
   "cell_type": "code",
   "execution_count": null,
   "metadata": {
    "id": "6oFQ-zSoGTni"
   },
   "outputs": [],
   "source": [
    "arr_reshaped = cv2.resize(arr[:, : , 100], (224, 224), interpolation=cv2.INTER_CUBIC)\n",
    "arr_reshaped[arr_reshaped < 0] = 0\n",
    "print(arr_reshaped.shape, arr_reshaped.min())"
   ]
  },
  {
   "cell_type": "code",
   "execution_count": 33,
   "metadata": {
    "id": "8Rf70BKGtaSF"
   },
   "outputs": [
    {
     "ename": "NameError",
     "evalue": "name 'arr_reshaped' is not defined",
     "output_type": "error",
     "traceback": [
      "\u001b[1;31m---------------------------------------------------------------------------\u001b[0m",
      "\u001b[1;31mNameError\u001b[0m                                 Traceback (most recent call last)",
      "\u001b[1;32m~\\AppData\\Local\\Temp/ipykernel_9404/911365263.py\u001b[0m in \u001b[0;36m<module>\u001b[1;34m\u001b[0m\n\u001b[1;32m----> 1\u001b[1;33m \u001b[0marr_reshaped\u001b[0m\u001b[1;33m[\u001b[0m\u001b[0marr_reshaped\u001b[0m \u001b[1;33m<\u001b[0m \u001b[1;36m0\u001b[0m\u001b[1;33m]\u001b[0m \u001b[1;33m=\u001b[0m \u001b[1;36m0\u001b[0m\u001b[1;33m\u001b[0m\u001b[1;33m\u001b[0m\u001b[0m\n\u001b[0m\u001b[0;32m      2\u001b[0m \u001b[0mprint\u001b[0m\u001b[1;33m(\u001b[0m\u001b[0marr_reshaped\u001b[0m\u001b[1;33m.\u001b[0m\u001b[0mshape\u001b[0m\u001b[1;33m,\u001b[0m \u001b[0marr_reshaped\u001b[0m\u001b[1;33m.\u001b[0m\u001b[0mmin\u001b[0m\u001b[1;33m(\u001b[0m\u001b[1;33m)\u001b[0m\u001b[1;33m)\u001b[0m\u001b[1;33m\u001b[0m\u001b[1;33m\u001b[0m\u001b[0m\n",
      "\u001b[1;31mNameError\u001b[0m: name 'arr_reshaped' is not defined"
     ]
    }
   ],
   "source": [
    "arr_reshaped[arr_reshaped < 0] = 0\n",
    "print(arr_reshaped.shape, arr_reshaped.min())"
   ]
  },
  {
   "cell_type": "code",
   "execution_count": 15,
   "metadata": {
    "id": "r5QBdyYNHOVD"
   },
   "outputs": [
    {
     "data": {
      "image/png": "[encoded data removed]",
      "text/plain": [
       "<Figure size 432x288 with 1 Axes>"
      ]
     },
     "metadata": {
      "needs_background": "light"
     },
     "output_type": "display_data"
    }
   ],
   "source": [
    "fig, ax = plt.subplots(num=\"MRI_demo\")\n",
    "ax.imshow(arr_reshaped, cmap=\"gray\") \n",
    "\n",
    "plt.show()"
   ]
  },
  {
   "cell_type": "code",
   "execution_count": 5,
   "metadata": {},
   "outputs": [
    {
     "ename": "NameError",
     "evalue": "name 'glob' is not defined",
     "output_type": "error",
     "traceback": [
      "\u001b[1;31m---------------------------------------------------------------------------\u001b[0m",
      "\u001b[1;31mNameError\u001b[0m                                 Traceback (most recent call last)",
      "\u001b[1;32m~\\AppData\\Local\\Temp/ipykernel_25788/1415570555.py\u001b[0m in \u001b[0;36m<module>\u001b[1;34m\u001b[0m\n\u001b[1;32m----> 1\u001b[1;33m \u001b[0mBUY_file_paths\u001b[0m \u001b[1;33m=\u001b[0m  \u001b[0msorted\u001b[0m\u001b[1;33m(\u001b[0m\u001b[0mglob\u001b[0m\u001b[1;33m(\u001b[0m\u001b[1;34m\"E:/ESPOL/integradora/images_preprocessed/BUY/*/ex_*.nii.gz\"\u001b[0m\u001b[1;33m)\u001b[0m\u001b[1;33m)\u001b[0m  \u001b[1;31m#68 files\u001b[0m\u001b[1;33m\u001b[0m\u001b[1;33m\u001b[0m\u001b[0m\n\u001b[0m\u001b[0;32m      2\u001b[0m \u001b[0mEAT_file_paths\u001b[0m \u001b[1;33m=\u001b[0m  \u001b[0msorted\u001b[0m\u001b[1;33m(\u001b[0m\u001b[0mglob\u001b[0m\u001b[1;33m(\u001b[0m\u001b[1;34m\"E:/ESPOL/integradora/images_preprocessed/EAT/*/ex_*.nii.gz\"\u001b[0m\u001b[1;33m)\u001b[0m\u001b[1;33m)\u001b[0m \u001b[1;31m#81files\u001b[0m\u001b[1;33m\u001b[0m\u001b[1;33m\u001b[0m\u001b[0m\n\u001b[0;32m      3\u001b[0m \u001b[0mGAMBLE_file_paths\u001b[0m \u001b[1;33m=\u001b[0m  \u001b[0msorted\u001b[0m\u001b[1;33m(\u001b[0m\u001b[0mglob\u001b[0m\u001b[1;33m(\u001b[0m\u001b[1;34m\"E:/ESPOL/integradora/images_preprocessed/GAMBLE/*/ex_*.nii.gz\"\u001b[0m\u001b[1;33m)\u001b[0m\u001b[1;33m)\u001b[0m  \u001b[1;31m#7 files\u001b[0m\u001b[1;33m\u001b[0m\u001b[1;33m\u001b[0m\u001b[0m\n\u001b[0;32m      4\u001b[0m \u001b[0mSEX_file_paths\u001b[0m \u001b[1;33m=\u001b[0m  \u001b[0msorted\u001b[0m\u001b[1;33m(\u001b[0m\u001b[0mglob\u001b[0m\u001b[1;33m(\u001b[0m\u001b[1;34m\"E:/ESPOL/integradora/images_preprocessed/SEX/*/ex_*.nii.gz\"\u001b[0m\u001b[1;33m)\u001b[0m\u001b[1;33m)\u001b[0m  \u001b[1;31m#42 files\u001b[0m\u001b[1;33m\u001b[0m\u001b[1;33m\u001b[0m\u001b[0m\n\u001b[0;32m      5\u001b[0m \u001b[1;33m\u001b[0m\u001b[0m\n",
      "\u001b[1;31mNameError\u001b[0m: name 'glob' is not defined"
     ]
    }
   ],
   "source": [
    "BUY_file_paths =  sorted(glob(\"E:/ESPOL/integradora/images_preprocessed/BUY/*/ex_*.nii.gz\"))  #68 files\n",
    "EAT_file_paths =  sorted(glob(\"E:/ESPOL/integradora/images_preprocessed/EAT/*/ex_*.nii.gz\")) #81files\n",
    "GAMBLE_file_paths =  sorted(glob(\"E:/ESPOL/integradora/images_preprocessed/GAMBLE/*/ex_*.nii.gz\"))  #7 files\n",
    "SEX_file_paths =  sorted(glob(\"E:/ESPOL/integradora/images_preprocessed/SEX/*/ex_*.nii.gz\"))  #42 files\n",
    "\n",
    "PD_file_paths =  sorted(glob(\"E:/ESPOL/integradora/images_preprocessed/PD/*/ex_*.nii.gz\"))  #100 files"
   ]
  },
  {
   "cell_type": "code",
   "execution_count": 6,
   "metadata": {},
   "outputs": [
    {
     "ename": "NameError",
     "evalue": "name 'BUY_file_paths' is not defined",
     "output_type": "error",
     "traceback": [
      "\u001b[1;31m---------------------------------------------------------------------------\u001b[0m",
      "\u001b[1;31mNameError\u001b[0m                                 Traceback (most recent call last)",
      "\u001b[1;32m~\\AppData\\Local\\Temp/ipykernel_25788/512374688.py\u001b[0m in \u001b[0;36m<module>\u001b[1;34m\u001b[0m\n\u001b[1;32m----> 1\u001b[1;33m \u001b[0mprint\u001b[0m\u001b[1;33m(\u001b[0m\u001b[0mlen\u001b[0m\u001b[1;33m(\u001b[0m\u001b[0mBUY_file_paths\u001b[0m\u001b[1;33m)\u001b[0m\u001b[1;33m,\u001b[0m \u001b[0mBUY_file_paths\u001b[0m\u001b[1;33m[\u001b[0m\u001b[1;33m:\u001b[0m\u001b[1;36m3\u001b[0m\u001b[1;33m]\u001b[0m\u001b[1;33m)\u001b[0m\u001b[1;33m\u001b[0m\u001b[1;33m\u001b[0m\u001b[0m\n\u001b[0m\u001b[0;32m      2\u001b[0m \u001b[0mprint\u001b[0m\u001b[1;33m(\u001b[0m\u001b[0mlen\u001b[0m\u001b[1;33m(\u001b[0m\u001b[0mEAT_file_paths\u001b[0m\u001b[1;33m)\u001b[0m\u001b[1;33m,\u001b[0m \u001b[0mEAT_file_paths\u001b[0m\u001b[1;33m[\u001b[0m\u001b[1;33m:\u001b[0m\u001b[1;36m3\u001b[0m\u001b[1;33m]\u001b[0m\u001b[1;33m)\u001b[0m\u001b[1;33m\u001b[0m\u001b[1;33m\u001b[0m\u001b[0m\n\u001b[0;32m      3\u001b[0m \u001b[0mprint\u001b[0m\u001b[1;33m(\u001b[0m\u001b[0mlen\u001b[0m\u001b[1;33m(\u001b[0m\u001b[0mGAMBLE_file_paths\u001b[0m\u001b[1;33m)\u001b[0m\u001b[1;33m,\u001b[0m \u001b[0mGAMBLE_file_paths\u001b[0m\u001b[1;33m[\u001b[0m\u001b[1;33m:\u001b[0m\u001b[1;36m3\u001b[0m\u001b[1;33m]\u001b[0m\u001b[1;33m)\u001b[0m\u001b[1;33m\u001b[0m\u001b[1;33m\u001b[0m\u001b[0m\n\u001b[0;32m      4\u001b[0m \u001b[0mprint\u001b[0m\u001b[1;33m(\u001b[0m\u001b[0mlen\u001b[0m\u001b[1;33m(\u001b[0m\u001b[0mSEX_file_paths\u001b[0m\u001b[1;33m)\u001b[0m\u001b[1;33m,\u001b[0m \u001b[0mSEX_file_paths\u001b[0m\u001b[1;33m[\u001b[0m\u001b[1;33m:\u001b[0m\u001b[1;36m3\u001b[0m\u001b[1;33m]\u001b[0m\u001b[1;33m)\u001b[0m\u001b[1;33m\u001b[0m\u001b[1;33m\u001b[0m\u001b[0m\n\u001b[0;32m      5\u001b[0m \u001b[1;33m\u001b[0m\u001b[0m\n",
      "\u001b[1;31mNameError\u001b[0m: name 'BUY_file_paths' is not defined"
     ]
    }
   ],
   "source": [
    "print(len(BUY_file_paths), BUY_file_paths[:3])\n",
    "print(len(EAT_file_paths), EAT_file_paths[:3])\n",
    "print(len(GAMBLE_file_paths), GAMBLE_file_paths[:3])\n",
    "print(len(SEX_file_paths), SEX_file_paths[:3])\n",
    "\n",
    "print(len(PD_file_paths), PD_file_paths[:3])"
   ]
  },
  {
   "cell_type": "code",
   "execution_count": 3,
   "metadata": {},
   "outputs": [],
   "source": [
    "import os\n",
    "import shutil\n",
    "import subprocess"
   ]
  },
  {
   "cell_type": "code",
   "execution_count": 4,
   "metadata": {},
   "outputs": [
    {
     "ename": "NameError",
     "evalue": "name 'BUY_file_paths' is not defined",
     "output_type": "error",
     "traceback": [
      "\u001b[1;31m---------------------------------------------------------------------------\u001b[0m",
      "\u001b[1;31mNameError\u001b[0m                                 Traceback (most recent call last)",
      "\u001b[1;32m~\\AppData\\Local\\Temp/ipykernel_25788/2524329886.py\u001b[0m in \u001b[0;36m<module>\u001b[1;34m\u001b[0m\n\u001b[0;32m      1\u001b[0m \u001b[0mdestiny\u001b[0m \u001b[1;33m=\u001b[0m \u001b[1;34m\"E:/ESPOL/integradora/desorders/PREPROCESSED/\"\u001b[0m \u001b[1;33m+\u001b[0m \u001b[1;34m\"BUY/\"\u001b[0m\u001b[1;33m\u001b[0m\u001b[1;33m\u001b[0m\u001b[0m\n\u001b[0;32m      2\u001b[0m \u001b[1;33m\u001b[0m\u001b[0m\n\u001b[1;32m----> 3\u001b[1;33m \u001b[1;32mfor\u001b[0m \u001b[0mfile\u001b[0m \u001b[1;32min\u001b[0m \u001b[0mBUY_file_paths\u001b[0m\u001b[1;33m:\u001b[0m\u001b[1;33m\u001b[0m\u001b[1;33m\u001b[0m\u001b[0m\n\u001b[0m\u001b[0;32m      4\u001b[0m     \u001b[0mid\u001b[0m \u001b[1;33m=\u001b[0m \u001b[0mfile\u001b[0m\u001b[1;33m.\u001b[0m\u001b[0msplit\u001b[0m\u001b[1;33m(\u001b[0m\u001b[1;34m\"\\\\\"\u001b[0m\u001b[1;33m)\u001b[0m\u001b[1;33m[\u001b[0m\u001b[1;36m1\u001b[0m\u001b[1;33m]\u001b[0m\u001b[1;33m\u001b[0m\u001b[1;33m\u001b[0m\u001b[0m\n\u001b[0;32m      5\u001b[0m     \u001b[0mshutil\u001b[0m\u001b[1;33m.\u001b[0m\u001b[0mcopyfile\u001b[0m\u001b[1;33m(\u001b[0m\u001b[0mfile\u001b[0m\u001b[1;33m,\u001b[0m \u001b[0mdestiny\u001b[0m \u001b[1;33m+\u001b[0m \u001b[0mid\u001b[0m \u001b[1;33m+\u001b[0m \u001b[1;34m\".nii.gz\"\u001b[0m\u001b[1;33m)\u001b[0m\u001b[1;33m\u001b[0m\u001b[1;33m\u001b[0m\u001b[0m\n",
      "\u001b[1;31mNameError\u001b[0m: name 'BUY_file_paths' is not defined"
     ]
    }
   ],
   "source": [
    "destiny = \"E:/ESPOL/integradora/desorders/PREPROCESSED/\" + \"BUY/\"\n",
    "\n",
    "for file in BUY_file_paths:\n",
    "    id = file.split(\"\\\\\")[1]\n",
    "    shutil.copyfile(file, destiny + id + \".nii.gz\")"
   ]
  },
  {
   "cell_type": "markdown",
   "metadata": {},
   "source": [
    "# Evaluate"
   ]
  },
  {
   "cell_type": "code",
   "execution_count": 42,
   "metadata": {},
   "outputs": [
    {
     "name": "stdout",
     "output_type": "stream",
     "text": [
      "WARNING:tensorflow:`period` argument is deprecated. Please use `save_freq` to specify the frequency in number of batches seen.\n"
     ]
    },
    {
     "name": "stderr",
     "output_type": "stream",
     "text": [
      "c:\\python39\\lib\\site-packages\\keras\\optimizer_v2\\optimizer_v2.py:355: UserWarning: The `lr` argument is deprecated, use `learning_rate` instead.\n",
      "  warnings.warn(\n"
     ]
    },
    {
     "name": "stdout",
     "output_type": "stream",
     "text": [
      "Loading The Model\n"
     ]
    }
   ],
   "source": [
    "#Axial assamble\n",
    "\n",
    "batch_size = 10\n",
    "epochs = 1000\n",
    "dropout_rate = 0.2\n",
    "\n",
    "model = Sequential()\n",
    "model.add(Flatten(input_shape=X_axial3c_test.shape[1:]))\n",
    "model.add(Dense(256, activation='relu'))\n",
    "model.add(Dropout(dropout_rate))\n",
    "model.add(Dense(num_classes, activation=tf.nn.softmax))\n",
    "\n",
    "adam_opt2=Adam(lr = 0.0001, beta_1=0.7, beta_2=0.995, amsgrad=True)\n",
    "\n",
    "model.compile(optimizer=tf.keras.optimizers.Adam(lr = 0.0001, beta_1=0.7, beta_2=0.995, amsgrad=True),loss=keras.losses.binary_crossentropy,metrics=['accuracy'])\n",
    "\n",
    "checkpoint = ModelCheckpoint(\"vgg19_axial3c_15022022_01231.h5\", monitor='val_accuracy', verbose=1, save_best_only=True, mode='auto', period=1)\n",
    "model.load_weights('vgg19_axial3c_15022022_01231.h5') #Load Weights\n",
    "print('Loading The Model')"
   ]
  },
  {
   "cell_type": "code",
   "execution_count": 43,
   "metadata": {},
   "outputs": [
    {
     "name": "stdout",
     "output_type": "stream",
     "text": [
      "Accuracy 0.6442577030812325\n"
     ]
    }
   ],
   "source": [
    "preds = model.predict(X_axial3c_test)\n",
    "\n",
    "predictions = [(0 if i <0.5 else 1) for i in preds]\n",
    "cm = confusion_matrix(y_pred=predictions, y_true=y_axial3c_test)\n",
    "\n",
    "print('Accuracy {}'.format(accuracy_score(y_true=y_axial3c_test, y_pred=predictions)))"
   ]
  },
  {
   "cell_type": "code",
   "execution_count": 45,
   "metadata": {},
   "outputs": [
    {
     "name": "stdout",
     "output_type": "stream",
     "text": [
      "Confusion Matrix\n",
      "[[  0 254]\n",
      " [  0 460]]\n"
     ]
    },
    {
     "data": {
      "image/png": "[encoded data removed]",
      "text/plain": [
       "<Figure size 720x720 with 1 Axes>"
      ]
     },
     "metadata": {
      "needs_background": "light"
     },
     "output_type": "display_data"
    }
   ],
   "source": [
    "plt.rcParams[\"axes.grid\"] = False\n",
    "plt.rcParams.update({'font.size': 20})\n",
    "\n",
    "labels = ['parkinson', \"parkinson + ICD\"]\n",
    "\n",
    "from sklearn.metrics import confusion_matrix\n",
    "import itertools\n",
    "def plot_confusion_matrix(cm, classes,\n",
    "                          normalize=False,\n",
    "                          title='Confusion matrix',\n",
    "                          cmap=plt.cm.Blues):\n",
    "    accuracy = np.trace(cm) / float(np.sum(cm))\n",
    "    misclass = 1 - accuracy\n",
    "    if normalize:\n",
    "        cm = cm.astype('float') / cm.sum(axis=1)[:, np.newaxis]\n",
    "        print(\"Normalized confusion matrix\")\n",
    "    else:\n",
    "        print('Confusion Matrix')\n",
    "\n",
    "    print(cm)\n",
    "#     fig = plt.figure()\n",
    "    plt.imshow(cm, interpolation='nearest', cmap=cmap)\n",
    "#     plt.title(title)\n",
    "#     plt.colorbar()\n",
    "    tick_marks = np.arange(len(classes))\n",
    "    plt.xticks(tick_marks, classes, rotation=45)\n",
    "    plt.yticks(tick_marks, classes)\n",
    "\n",
    "    fmt = '.2f' if normalize else 'd'\n",
    "    thresh = cm.max() / 2.\n",
    "    for i, j in itertools.product(range(cm.shape[0]), range(cm.shape[1])):\n",
    "        plt.text(j, i, format(cm[i, j], fmt),\n",
    "                 horizontalalignment=\"center\",\n",
    "                 color=\"white\" if cm[i, j] > thresh else \"black\")\n",
    "\n",
    "    plt.tight_layout()\n",
    "    plt.ylabel('True label')\n",
    "    plt.xlabel('Predicted label\\naccuracy={:0.4f}; misclass={:0.4f}'.format(accuracy, misclass))\n",
    "    plt.savefig('confusion_marix.png', bbox_inches='tight', dpi = 100) \n",
    "\n",
    "\n",
    "plt.figure(figsize=(10,10))\n",
    "plot_confusion_matrix(cm, classes=labels, title=' ')"
   ]
  },
  {
   "cell_type": "code",
   "execution_count": null,
   "metadata": {},
   "outputs": [],
   "source": []
  }
 ],
 "metadata": {
  "colab": {
   "collapsed_sections": [
    "PvAOESUMZ3vC"
   ],
   "name": "Models.ipynb",
   "provenance": []
  },
  "kernelspec": {
   "display_name": "Python 3 (ipykernel)",
   "language": "python",
   "name": "python3"
  },
  "language_info": {
   "codemirror_mode": {
    "name": "ipython",
    "version": 3
   },
   "file_extension": ".py",
   "mimetype": "text/x-python",
   "name": "python",
   "nbconvert_exporter": "python",
   "pygments_lexer": "ipython3",
   "version": "3.9.5"
  }
 },
 "nbformat": 4,
 "nbformat_minor": 1
}
