{
 "cells": [
  {
   "cell_type": "code",
   "execution_count": 1,
   "id": "6f4fdcce",
   "metadata": {},
   "outputs": [],
   "source": [
    "import numpy as np\n",
    "import SimpleITK as sitk\n",
    "import cv2\n",
    "import os\n",
    "os.environ['TF_CPP_MIN_LOG_LEVEL'] = '2'\n",
    "np.random.seed(777)\n",
    "import math\n",
    "import h5py\n",
    "import keras\n",
    "import tensorflow as tf\n",
    "import keras.backend as K\n",
    "from keras.models import Model\n",
    "from tensorflow.keras.applications import DenseNet201\n",
    "from tensorflow.keras.applications import VGG19\n",
    "from keras.applications.inception_v3 import InceptionV3\n",
    "from keras.applications.nasnet import NASNetMobile\n",
    "from keras.layers import Input, concatenate, Dense\n",
    "from keras.layers import GlobalAveragePooling2D"
   ]
  },
  {
   "cell_type": "code",
   "execution_count": 2,
   "id": "c079fa97",
   "metadata": {},
   "outputs": [],
   "source": [
    "img_height, img_width = 224, 224\n",
    "input_shape = (img_height, img_width, 3)\n",
    "epochs = 1000\n",
    "num_classes = 1\n",
    "\n",
    "def load_model():\n",
    "    input_tensor = Input(shape = input_shape)  \n",
    "\n",
    "    base_model1=NASNetMobile(input_shape= input_shape,weights='imagenet', include_top=False, input_tensor=input_tensor)\n",
    "    base_model2=InceptionV3(input_shape= input_shape,weights='imagenet', include_top=False, input_tensor=input_tensor)\n",
    "    base_model3=DenseNet201(input_shape= input_shape,weights='imagenet', include_top=False, input_tensor=input_tensor)\n",
    "    base_model4=VGG19(input_shape= input_shape,weights='imagenet', include_top=False, input_tensor=input_tensor)\n",
    "\n",
    "    x1 = base_model1.output\n",
    "    x1 = GlobalAveragePooling2D()(x1)\n",
    "\n",
    "    x2 = base_model2.output\n",
    "    x2 = GlobalAveragePooling2D()(x2)\n",
    "\n",
    "    x3 = base_model3.output\n",
    "    x3 = GlobalAveragePooling2D()(x3)\n",
    "\n",
    "    x4 = base_model4.output\n",
    "    x4 = GlobalAveragePooling2D()(x4)\n",
    "\n",
    "    merge = concatenate([x1, x2, x3 , x4])\n",
    "    predictions = Dense(1, activation='sigmoid')(merge)\n",
    "\n",
    "    return Model(inputs=input_tensor,outputs=predictions)"
   ]
  },
  {
   "cell_type": "code",
   "execution_count": 3,
   "id": "cfcc163d",
   "metadata": {},
   "outputs": [],
   "source": [
    "def get_slices_axial_3c(path):\n",
    "    img = sitk.ReadImage(path, sitk.sitkFloat64)\n",
    "    arr = sitk.GetArrayFromImage(img)\n",
    "    arr = arr[49:68,115:200,30:150]\n",
    "\n",
    "    slices = None\n",
    "    count = 0\n",
    "\n",
    "    for i in range(arr.shape[0]):\n",
    "        slice = arr[arr.shape[0] - i -1, : , : ]\n",
    "        slice = cv2.resize(slice, (img_height, img_width), interpolation=cv2.INTER_CUBIC)\n",
    "        slice[slice < 0] = 0\n",
    "        if slice.max() != 0:\n",
    "            slice = cv2.merge((slice,slice,slice))\n",
    "            if count == 0:\n",
    "                slices = np.array([slice])\n",
    "            else:\n",
    "                slices = np.concatenate((slices,[slice]))\n",
    "        count+=1\n",
    "    return slices"
   ]
  },
  {
   "cell_type": "code",
   "execution_count": null,
   "id": "bbea6d98",
   "metadata": {},
   "outputs": [],
   "source": [
    "model = load_model()\n",
    "model.load_weights(\"./vgg19_axial3c_17012022_1741.h5\")"
   ]
  },
  {
   "cell_type": "code",
   "execution_count": null,
   "id": "897b62ee",
   "metadata": {},
   "outputs": [],
   "source": [
    "path = \"E:/ESPOL/integradora/desorders/PREPROCESSED/BUY/3018.nii.gz\"\n",
    "slices = get_slices_axial_3c(path)\n",
    "preds_ICD = model.predict(slices)"
   ]
  },
  {
   "cell_type": "code",
   "execution_count": null,
   "id": "f7930440",
   "metadata": {},
   "outputs": [],
   "source": [
    "path = \"E:/ESPOL/integradora/desorders/PREPROCESSED/PD/3006.nii.gz\"\n",
    "slices = get_slices_axial_3c(path)\n",
    "preds_PD = model.predict(slices)"
   ]
  },
  {
   "cell_type": "code",
   "execution_count": null,
   "id": "5f43d858",
   "metadata": {},
   "outputs": [],
   "source": [
    "preds_ICD"
   ]
  },
  {
   "cell_type": "code",
   "execution_count": null,
   "id": "d5653a6e",
   "metadata": {},
   "outputs": [],
   "source": [
    "preds_PD"
   ]
  },
  {
   "cell_type": "code",
   "execution_count": null,
   "id": "9b1c3256",
   "metadata": {},
   "outputs": [],
   "source": [
    "preds_ICD[3:11].mean()"
   ]
  },
  {
   "cell_type": "code",
   "execution_count": null,
   "id": "018a4874",
   "metadata": {},
   "outputs": [],
   "source": [
    "preds_PD[3:11].mean()"
   ]
  },
  {
   "cell_type": "code",
   "execution_count": null,
   "id": "9f456130",
   "metadata": {},
   "outputs": [],
   "source": []
  }
 ],
 "metadata": {
  "kernelspec": {
   "display_name": "Python 3 (ipykernel)",
   "language": "python",
   "name": "python3"
  },
  "language_info": {
   "codemirror_mode": {
    "name": "ipython",
    "version": 3
   },
   "file_extension": ".py",
   "mimetype": "text/x-python",
   "name": "python",
   "nbconvert_exporter": "python",
   "pygments_lexer": "ipython3",
   "version": "3.9.5"
  }
 },
 "nbformat": 4,
 "nbformat_minor": 5
}
