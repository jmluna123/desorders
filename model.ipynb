{
 "cells": [
  {
   "cell_type": "code",
   "execution_count": 1,
   "id": "094fbca6",
   "metadata": {},
   "outputs": [],
   "source": [
    "import numpy as np\n",
    "import SimpleITK as sitk\n",
    "import cv2\n",
    "import os\n",
    "os.environ['TF_CPP_MIN_LOG_LEVEL'] = '2'\n",
    "np.random.seed(777)\n",
    "import math\n",
    "import h5py\n",
    "import keras\n",
    "import tensorflow as tf\n",
    "import keras.backend as K\n",
    "from keras.models import Model\n",
    "from tensorflow.keras.applications import DenseNet201\n",
    "from tensorflow.keras.applications import VGG19\n",
    "from keras.applications.inception_v3 import InceptionV3\n",
    "from keras.applications.nasnet import NASNetMobile\n",
    "from keras.layers import Input, concatenate, Dense\n",
    "from keras.layers import GlobalAveragePooling2D"
   ]
  },
  {
   "cell_type": "code",
   "execution_count": 2,
   "id": "90329ab3",
   "metadata": {},
   "outputs": [],
   "source": [
    "img_height, img_width = 224, 224\n",
    "input_shape = (img_height, img_width, 3)\n",
    "epochs = 1000\n",
    "num_classes = 1\n",
    "\n",
    "def load_model():\n",
    "    input_tensor = Input(shape = input_shape)  \n",
    "\n",
    "    base_model1=NASNetMobile(input_shape= input_shape,weights='imagenet', include_top=False, input_tensor=input_tensor)\n",
    "    base_model2=InceptionV3(input_shape= input_shape,weights='imagenet', include_top=False, input_tensor=input_tensor)\n",
    "    base_model3=DenseNet201(input_shape= input_shape,weights='imagenet', include_top=False, input_tensor=input_tensor)\n",
    "    base_model4=VGG19(input_shape= input_shape,weights='imagenet', include_top=False, input_tensor=input_tensor)\n",
    "\n",
    "    x1 = base_model1.output\n",
    "    x1 = GlobalAveragePooling2D()(x1)\n",
    "\n",
    "    x2 = base_model2.output\n",
    "    x2 = GlobalAveragePooling2D()(x2)\n",
    "\n",
    "    x3 = base_model3.output\n",
    "    x3 = GlobalAveragePooling2D()(x3)\n",
    "\n",
    "    x4 = base_model4.output\n",
    "    x4 = GlobalAveragePooling2D()(x4)\n",
    "\n",
    "    merge = concatenate([x1, x2, x3 , x4])\n",
    "    predictions = Dense(1, activation='sigmoid')(merge)\n",
    "\n",
    "    return Model(inputs=input_tensor,outputs=predictions)"
   ]
  },
  {
   "cell_type": "code",
   "execution_count": 3,
   "id": "7a2b5b76",
   "metadata": {},
   "outputs": [],
   "source": [
    "def get_slices_axial_3c(path):\n",
    "    img = sitk.ReadImage(path, sitk.sitkFloat64)\n",
    "    arr = sitk.GetArrayFromImage(img)\n",
    "    arr = arr[49:68,115:200,30:150]\n",
    "\n",
    "    slices = None\n",
    "    count = 0\n",
    "\n",
    "    for i in range(arr.shape[0]):\n",
    "        slice = arr[arr.shape[0] - i -1, : , : ]\n",
    "        slice = cv2.resize(slice, (img_height, img_width), interpolation=cv2.INTER_CUBIC)\n",
    "        slice[slice < 0] = 0\n",
    "        if slice.max() != 0:\n",
    "            slice = cv2.merge((slice,slice,slice))\n",
    "            if count == 0:\n",
    "                slices = np.array([slice])\n",
    "            else:\n",
    "                slices = np.concatenate((slices,[slice]))\n",
    "        count+=1\n",
    "    return slices"
   ]
  },
  {
   "cell_type": "code",
   "execution_count": 4,
   "id": "e74d5204",
   "metadata": {},
   "outputs": [],
   "source": [
    "def evaluate_nii(path):\n",
    "    model = load_model()\n",
    "    model.load_weights(\"./vgg19_axial3c_17012022_1741.h5\")\n",
    "    slices = get_slices_axial_3c(path)\n",
    "    preds = model.predict(slices)\n",
    "    return preds.mean()"
   ]
  },
  {
   "cell_type": "code",
   "execution_count": 5,
   "id": "d6a7c180",
   "metadata": {},
   "outputs": [],
   "source": [
    "path = \"E:/ESPOL/integradora/desorders/PREPROCESSED/BUY/3018.nii.gz\"\n",
    "slices = get_slices_axial_3c(path)\n",
    "preds_ICD = model.predict(slices)"
   ]
  },
  {
   "cell_type": "code",
   "execution_count": 17,
   "id": "33e752bd",
   "metadata": {},
   "outputs": [],
   "source": [
    "path = \"E:/ESPOL/integradora/desorders/PREPROCESSED/PD/3012.nii.gz\"\n",
    "slices = get_slices_axial_3c(path)\n",
    "preds_PD = model.predict(slices)"
   ]
  },
  {
   "cell_type": "code",
   "execution_count": 18,
   "id": "b99546df",
   "metadata": {},
   "outputs": [
    {
     "data": {
      "text/plain": [
       "array([[9.91874933e-03],\n",
       "       [2.61160135e-02],\n",
       "       [6.63598776e-02],\n",
       "       [1.73572004e-02],\n",
       "       [1.49181485e-03],\n",
       "       [1.14426017e-03],\n",
       "       [1.22937560e-03],\n",
       "       [4.14103270e-04],\n",
       "       [1.21377925e-04],\n",
       "       [3.91624999e-05],\n",
       "       [5.99771738e-04],\n",
       "       [2.14362144e-03],\n",
       "       [1.76984072e-03],\n",
       "       [9.79512930e-04],\n",
       "       [2.26408243e-04],\n",
       "       [1.15093408e-05],\n",
       "       [1.38149261e-02],\n",
       "       [2.29406357e-03],\n",
       "       [2.00808048e-04]], dtype=float32)"
      ]
     },
     "execution_count": 18,
     "metadata": {},
     "output_type": "execute_result"
    }
   ],
   "source": [
    "preds_ICD"
   ]
  },
  {
   "cell_type": "code",
   "execution_count": 19,
   "id": "12b3476c",
   "metadata": {},
   "outputs": [
    {
     "data": {
      "text/plain": [
       "array([[0.9999968 ],\n",
       "       [0.99998355],\n",
       "       [0.99999535],\n",
       "       [0.9997914 ],\n",
       "       [0.9966968 ],\n",
       "       [0.9334302 ],\n",
       "       [0.9971144 ],\n",
       "       [0.99991924],\n",
       "       [0.9999995 ],\n",
       "       [0.9974849 ],\n",
       "       [0.99986255],\n",
       "       [0.9997214 ],\n",
       "       [0.9999931 ],\n",
       "       [0.99957114],\n",
       "       [0.92820823],\n",
       "       [0.97823143],\n",
       "       [0.99650604],\n",
       "       [0.98137176],\n",
       "       [0.6471531 ]], dtype=float32)"
      ]
     },
     "execution_count": 19,
     "metadata": {},
     "output_type": "execute_result"
    }
   ],
   "source": [
    "preds_PD"
   ]
  },
  {
   "cell_type": "code",
   "execution_count": 22,
   "id": "2440f2b4",
   "metadata": {},
   "outputs": [
    {
     "data": {
      "text/plain": [
       "0.007696442"
      ]
     },
     "execution_count": 22,
     "metadata": {},
     "output_type": "execute_result"
    }
   ],
   "source": [
    "preds_ICD.mean()"
   ]
  },
  {
   "cell_type": "code",
   "execution_count": 23,
   "id": "fabb0754",
   "metadata": {},
   "outputs": [
    {
     "data": {
      "text/plain": [
       "0.9713174"
      ]
     },
     "execution_count": 23,
     "metadata": {},
     "output_type": "execute_result"
    }
   ],
   "source": [
    "preds_PD.mean()"
   ]
  },
  {
   "cell_type": "code",
   "execution_count": null,
   "id": "ac81bea0",
   "metadata": {},
   "outputs": [],
   "source": []
  }
 ],
 "metadata": {
  "kernelspec": {
   "display_name": "Python 3 (ipykernel)",
   "language": "python",
   "name": "python3"
  },
  "language_info": {
   "codemirror_mode": {
    "name": "ipython",
    "version": 3
   },
   "file_extension": ".py",
   "mimetype": "text/x-python",
   "name": "python",
   "nbconvert_exporter": "python",
   "pygments_lexer": "ipython3",
   "version": "3.9.5"
  }
 },
 "nbformat": 4,
 "nbformat_minor": 5
}
