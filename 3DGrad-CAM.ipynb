{
 "cells": [
  {
   "cell_type": "markdown",
   "metadata": {},
   "source": [
    "# Import Libaries "
   ]
  },
  {
   "cell_type": "code",
   "execution_count": 3,
   "metadata": {},
   "outputs": [],
   "source": [
    "import keras\n",
    "from keras.models import Sequential\n",
    "from keras.layers import Dense, Conv3D, MaxPool3D , Flatten\n",
    "from keras.preprocessing.image import ImageDataGenerator\n",
    "from keras.layers import Dropout\n",
    "from keras.callbacks import ModelCheckpoint, EarlyStopping\n",
    "import tensorflow as tf"
   ]
  },
  {
   "cell_type": "code",
   "execution_count": 4,
   "metadata": {
    "ExecuteTime": {
     "end_time": "2020-01-18T02:42:28.709213Z",
     "start_time": "2020-01-18T02:42:25.793371Z"
    }
   },
   "outputs": [],
   "source": [
    "from __future__ import absolute_import, division, print_function, unicode_literals\n",
    "import tensorflow as tf\n",
    "import os\n",
    "import datetime\n",
    "import numpy as np\n",
    "import pandas as pd\n",
    "from tensorflow.keras.optimizers import Adam\n",
    "import cv2"
   ]
  },
  {
   "cell_type": "code",
   "execution_count": 5,
   "metadata": {},
   "outputs": [],
   "source": [
    "import numpy as np\n",
    "import SimpleITK as sitk\n",
    "import os\n",
    "os.environ['TF_CPP_MIN_LOG_LEVEL'] = '2'"
   ]
  },
  {
   "cell_type": "code",
   "execution_count": 6,
   "metadata": {},
   "outputs": [],
   "source": [
    "from glob import glob\n",
    "from typing import  List"
   ]
  },
  {
   "cell_type": "markdown",
   "metadata": {},
   "source": [
    "# Configure Model "
   ]
  },
  {
   "cell_type": "code",
   "execution_count": 7,
   "metadata": {
    "ExecuteTime": {
     "end_time": "2020-01-18T02:42:30.626315Z",
     "start_time": "2020-01-18T02:42:28.710171Z"
    }
   },
   "outputs": [
    {
     "name": "stdout",
     "output_type": "stream",
     "text": [
      "Model: \"sequential\"\n",
      "_________________________________________________________________\n",
      "Layer (type)                 Output Shape              Param #   \n",
      "=================================================================\n",
      "conv3d (Conv3D)              (None, 100, 100, 100, 20) 560       \n",
      "_________________________________________________________________\n",
      "conv3d_1 (Conv3D)            (None, 100, 100, 100, 64) 34624     \n",
      "_________________________________________________________________\n",
      "dropout (Dropout)            (None, 100, 100, 100, 64) 0         \n",
      "_________________________________________________________________\n",
      "max_pooling3d (MaxPooling3D) (None, 50, 50, 50, 64)    0         \n",
      "_________________________________________________________________\n",
      "conv3d_2 (Conv3D)            (None, 50, 50, 50, 128)   221312    \n",
      "_________________________________________________________________\n",
      "conv3d_3 (Conv3D)            (None, 50, 50, 50, 128)   442496    \n",
      "_________________________________________________________________\n",
      "dropout_1 (Dropout)          (None, 50, 50, 50, 128)   0         \n",
      "_________________________________________________________________\n",
      "max_pooling3d_1 (MaxPooling3 (None, 25, 25, 25, 128)   0         \n",
      "_________________________________________________________________\n",
      "conv3d_4 (Conv3D)            (None, 25, 25, 25, 256)   884992    \n",
      "_________________________________________________________________\n",
      "conv3d_5 (Conv3D)            (None, 25, 25, 25, 256)   1769728   \n",
      "_________________________________________________________________\n",
      "conv3d_6 (Conv3D)            (None, 25, 25, 25, 256)   1769728   \n",
      "_________________________________________________________________\n",
      "conv3d_7 (Conv3D)            (None, 25, 25, 25, 256)   1769728   \n",
      "_________________________________________________________________\n",
      "dropout_2 (Dropout)          (None, 25, 25, 25, 256)   0         \n",
      "_________________________________________________________________\n",
      "max_pooling3d_2 (MaxPooling3 (None, 12, 12, 12, 256)   0         \n",
      "_________________________________________________________________\n",
      "conv3d_8 (Conv3D)            (None, 12, 12, 12, 512)   3539456   \n",
      "_________________________________________________________________\n",
      "conv3d_9 (Conv3D)            (None, 12, 12, 12, 512)   7078400   \n",
      "_________________________________________________________________\n",
      "conv3d_10 (Conv3D)           (None, 12, 12, 12, 512)   7078400   \n",
      "_________________________________________________________________\n",
      "conv3d_11 (Conv3D)           (None, 12, 12, 12, 512)   7078400   \n",
      "_________________________________________________________________\n",
      "dropout_3 (Dropout)          (None, 12, 12, 12, 512)   0         \n",
      "_________________________________________________________________\n",
      "max_pooling3d_3 (MaxPooling3 (None, 6, 6, 6, 512)      0         \n",
      "_________________________________________________________________\n",
      "conv3d_12 (Conv3D)           (None, 6, 6, 6, 512)      7078400   \n",
      "_________________________________________________________________\n",
      "conv3d_13 (Conv3D)           (None, 6, 6, 6, 512)      7078400   \n",
      "_________________________________________________________________\n",
      "conv3d_14 (Conv3D)           (None, 6, 6, 6, 512)      7078400   \n",
      "_________________________________________________________________\n",
      "conv3d_15 (Conv3D)           (None, 6, 6, 6, 512)      7078400   \n",
      "_________________________________________________________________\n",
      "dropout_4 (Dropout)          (None, 6, 6, 6, 512)      0         \n",
      "_________________________________________________________________\n",
      "max_pooling3d_4 (MaxPooling3 (None, 3, 3, 3, 512)      0         \n",
      "_________________________________________________________________\n",
      "flatten (Flatten)            (None, 13824)             0         \n",
      "_________________________________________________________________\n",
      "dense (Dense)                (None, 1)                 13825     \n",
      "=================================================================\n",
      "Total params: 59,995,249\n",
      "Trainable params: 59,995,249\n",
      "Non-trainable params: 0\n",
      "_________________________________________________________________\n",
      "None\n"
     ]
    }
   ],
   "source": [
    "model = Sequential()\n",
    "model.add(Conv3D(input_shape=(100,100,100,1),filters=20,kernel_size=3,padding=\"same\", activation=\"relu\"))\n",
    "model.add(Conv3D(filters=64,kernel_size=3,padding=\"same\", activation=\"relu\"))\n",
    "model.add(Dropout(0.4))\n",
    "model.add(MaxPool3D(pool_size=2,strides=(2,2,2)))\n",
    "model.add(Conv3D(filters=128, kernel_size=3, padding=\"same\", activation=\"relu\"))\n",
    "model.add(Conv3D(filters=128, kernel_size=3, padding=\"same\", activation=\"relu\"))\n",
    "model.add(Dropout(0.6))\n",
    "model.add(MaxPool3D(pool_size=2,strides=(2,2,2)))\n",
    "model.add(Conv3D(filters=256, kernel_size=3, padding=\"same\", activation=\"relu\"))\n",
    "model.add(Conv3D(filters=256, kernel_size=3, padding=\"same\", activation=\"relu\"))\n",
    "model.add(Conv3D(filters=256, kernel_size=3, padding=\"same\", activation=\"relu\"))\n",
    "model.add(Conv3D(filters=256, kernel_size=3, padding=\"same\", activation=\"relu\"))\n",
    "model.add(Dropout(0.8))\n",
    "model.add(MaxPool3D(pool_size=2,strides=(2,2,2)))\n",
    "model.add(Conv3D(filters=512, kernel_size=3, padding=\"same\", activation=\"relu\"))\n",
    "model.add(Conv3D(filters=512, kernel_size=3, padding=\"same\", activation=\"relu\"))\n",
    "model.add(Conv3D(filters=512, kernel_size=3, padding=\"same\", activation=\"relu\"))\n",
    "model.add(Conv3D(filters=512, kernel_size=3, padding=\"same\", activation=\"relu\"))\n",
    "model.add(Dropout(0.8))\n",
    "model.add(MaxPool3D(pool_size=2,strides=(2,2,2)))\n",
    "model.add(Conv3D(filters=512, kernel_size=3, padding=\"same\", activation=\"relu\"))\n",
    "model.add(Conv3D(filters=512, kernel_size=3, padding=\"same\", activation=\"relu\"))\n",
    "model.add(Conv3D(filters=512, kernel_size=3, padding=\"same\", activation=\"relu\"))\n",
    "model.add(Conv3D(filters=512, kernel_size=3, padding=\"same\", activation=\"relu\"))\n",
    "model.add(Dropout(0.4))\n",
    "model.add(MaxPool3D(pool_size=2,strides=(2,2,2)))\n",
    "\n",
    "#Dense layer\n",
    "model.add(Flatten())\n",
    "#model.add(Dense(units=4096,activation=\"relu\"))\n",
    "#model.add(Dense(units=4096,activation=\"relu\"))\n",
    "#model.add(Dense(units=1000,activation=\"relu\"))\n",
    "model.add(Dense(1, activation=\"sigmoid\"))\n",
    "\n",
    "model.compile(optimizer='adam', loss=keras.losses.binary_crossentropy, metrics=['accuracy'])\n",
    "\n",
    "print(model.summary())"
   ]
  },
  {
   "cell_type": "code",
   "execution_count": 9,
   "metadata": {},
   "outputs": [
    {
     "name": "stdout",
     "output_type": "stream",
     "text": [
      "Loading The Model\n"
     ]
    }
   ],
   "source": [
    "model.load_weights('vgg19_3d_all_11012022_1210.h5') #Load Weights\n",
    "print('Loading The Model')"
   ]
  },
  {
   "cell_type": "code",
   "execution_count": 11,
   "metadata": {},
   "outputs": [
    {
     "name": "stdout",
     "output_type": "stream",
     "text": [
      "Model: \"model\"\n",
      "_________________________________________________________________\n",
      "Layer (type)                 Output Shape              Param #   \n",
      "=================================================================\n",
      "conv3d_input (InputLayer)    [(None, 100, 100, 100, 1) 0         \n",
      "_________________________________________________________________\n",
      "conv3d (Conv3D)              (None, 100, 100, 100, 20) 560       \n",
      "_________________________________________________________________\n",
      "conv3d_1 (Conv3D)            (None, 100, 100, 100, 64) 34624     \n",
      "_________________________________________________________________\n",
      "dropout (Dropout)            (None, 100, 100, 100, 64) 0         \n",
      "_________________________________________________________________\n",
      "max_pooling3d (MaxPooling3D) (None, 50, 50, 50, 64)    0         \n",
      "_________________________________________________________________\n",
      "conv3d_2 (Conv3D)            (None, 50, 50, 50, 128)   221312    \n",
      "_________________________________________________________________\n",
      "conv3d_3 (Conv3D)            (None, 50, 50, 50, 128)   442496    \n",
      "_________________________________________________________________\n",
      "dropout_1 (Dropout)          (None, 50, 50, 50, 128)   0         \n",
      "_________________________________________________________________\n",
      "max_pooling3d_1 (MaxPooling3 (None, 25, 25, 25, 128)   0         \n",
      "_________________________________________________________________\n",
      "conv3d_4 (Conv3D)            (None, 25, 25, 25, 256)   884992    \n",
      "_________________________________________________________________\n",
      "conv3d_5 (Conv3D)            (None, 25, 25, 25, 256)   1769728   \n",
      "_________________________________________________________________\n",
      "conv3d_6 (Conv3D)            (None, 25, 25, 25, 256)   1769728   \n",
      "_________________________________________________________________\n",
      "conv3d_7 (Conv3D)            (None, 25, 25, 25, 256)   1769728   \n",
      "_________________________________________________________________\n",
      "dropout_2 (Dropout)          (None, 25, 25, 25, 256)   0         \n",
      "_________________________________________________________________\n",
      "max_pooling3d_2 (MaxPooling3 (None, 12, 12, 12, 256)   0         \n",
      "_________________________________________________________________\n",
      "conv3d_8 (Conv3D)            (None, 12, 12, 12, 512)   3539456   \n",
      "_________________________________________________________________\n",
      "conv3d_9 (Conv3D)            (None, 12, 12, 12, 512)   7078400   \n",
      "_________________________________________________________________\n",
      "conv3d_10 (Conv3D)           (None, 12, 12, 12, 512)   7078400   \n",
      "_________________________________________________________________\n",
      "conv3d_11 (Conv3D)           (None, 12, 12, 12, 512)   7078400   \n",
      "_________________________________________________________________\n",
      "dropout_3 (Dropout)          (None, 12, 12, 12, 512)   0         \n",
      "_________________________________________________________________\n",
      "max_pooling3d_3 (MaxPooling3 (None, 6, 6, 6, 512)      0         \n",
      "_________________________________________________________________\n",
      "conv3d_12 (Conv3D)           (None, 6, 6, 6, 512)      7078400   \n",
      "_________________________________________________________________\n",
      "conv3d_13 (Conv3D)           (None, 6, 6, 6, 512)      7078400   \n",
      "_________________________________________________________________\n",
      "conv3d_14 (Conv3D)           (None, 6, 6, 6, 512)      7078400   \n",
      "_________________________________________________________________\n",
      "conv3d_15 (Conv3D)           (None, 6, 6, 6, 512)      7078400   \n",
      "_________________________________________________________________\n",
      "dropout_4 (Dropout)          (None, 6, 6, 6, 512)      0         \n",
      "_________________________________________________________________\n",
      "max_pooling3d_4 (MaxPooling3 (None, 3, 3, 3, 512)      0         \n",
      "_________________________________________________________________\n",
      "flatten (Flatten)            (None, 13824)             0         \n",
      "_________________________________________________________________\n",
      "dense (Dense)                (None, 1)                 13825     \n",
      "=================================================================\n",
      "Total params: 59,995,249\n",
      "Trainable params: 59,995,249\n",
      "Non-trainable params: 0\n",
      "_________________________________________________________________\n"
     ]
    }
   ],
   "source": [
    "###---lAYER-Name--to-visualize--###\n",
    "LAYER_NAME='conv3d_15'\n",
    "# Create a graph that outputs target convolution and output\n",
    "grad_model = tf.keras.models.Model([model.inputs], [model.get_layer(LAYER_NAME).output, model.output])\n",
    "grad_model.summary()"
   ]
  },
  {
   "cell_type": "markdown",
   "metadata": {},
   "source": [
    "# Function to Resize the 3D volume "
   ]
  },
  {
   "cell_type": "code",
   "execution_count": 12,
   "metadata": {
    "ExecuteTime": {
     "end_time": "2020-01-18T02:42:30.697792Z",
     "start_time": "2020-01-18T02:42:30.628309Z"
    }
   },
   "outputs": [],
   "source": [
    "def resize_image_with_crop_or_pad(image, img_size=(64, 64, 64), **kwargs):\n",
    "    \"\"\"Image resizing. Resizes image by cropping or padding dimension\n",
    "     to fit specified size.\n",
    "    Args:\n",
    "        image (np.ndarray): image to be resized\n",
    "        img_size (list or tuple): new image size\n",
    "        kwargs (): additional arguments to be passed to np.pad\n",
    "    Returns:\n",
    "        np.ndarray: resized image\n",
    "    \"\"\"\n",
    "\n",
    "    assert isinstance(image, (np.ndarray, np.generic))\n",
    "    assert (image.ndim - 1 == len(img_size) or image.ndim == len(img_size)), \\\n",
    "        'Example size doesnt fit image size'\n",
    "\n",
    "    # Get the image dimensionality\n",
    "    rank = len(img_size)\n",
    "\n",
    "    # Create placeholders for the new shape\n",
    "    from_indices = [[0, image.shape[dim]] for dim in range(rank)]\n",
    "    to_padding = [[0, 0] for dim in range(rank)]\n",
    "\n",
    "    slicer = [slice(None)] * rank\n",
    "\n",
    "    # For each dimensions find whether it is supposed to be cropped or padded\n",
    "    for i in range(rank):\n",
    "        if image.shape[i] < img_size[i]:\n",
    "            to_padding[i][0] = (img_size[i] - image.shape[i]) // 2\n",
    "            to_padding[i][1] = img_size[i] - image.shape[i] - to_padding[i][0]\n",
    "        else:\n",
    "            from_indices[i][0] = int(np.floor((image.shape[i] - img_size[i]) / 2.))\n",
    "            from_indices[i][1] = from_indices[i][0] + img_size[i]\n",
    "\n",
    "        # Create slicer object to crop or leave each dimension\n",
    "        slicer[i] = slice(from_indices[i][0], from_indices[i][1])\n",
    "\n",
    "    # Pad the cropped image to extend the missing dimension\n",
    "    return np.pad(image[slicer], to_padding, **kwargs)"
   ]
  },
  {
   "cell_type": "markdown",
   "metadata": {},
   "source": [
    "# Loading volume and compute the gradients "
   ]
  },
  {
   "cell_type": "code",
   "execution_count": 13,
   "metadata": {},
   "outputs": [],
   "source": [
    "def get_category(category, is_binary = True):\n",
    "  result = np.zeros(2 if is_binary else 5)\n",
    "  if is_binary:\n",
    "    return 1 if category == 1 else 0\n",
    "  elif category == 1:\n",
    "    result[0] = 1\n",
    "  else:\n",
    "    result[category-1] = 1\n",
    "  return result"
   ]
  },
  {
   "cell_type": "code",
   "execution_count": 23,
   "metadata": {},
   "outputs": [],
   "source": [
    "import cv2\n",
    "import SimpleITK as sitk\n",
    "dimension = 100\n",
    "\n",
    "def get_slices_3d_all(path, category):\n",
    "    img = sitk.ReadImage(path, sitk.sitkFloat64)\n",
    "    arr = sitk.GetArrayFromImage(img)\n",
    "    \n",
    "    slice = arr[30:130, : , :]\n",
    "    \n",
    "    arr = np.zeros([slice.shape[0], dimension,dimension])\n",
    "    \n",
    "    count = 0\n",
    "    for i in range(arr.shape[0]):\n",
    "        if arr[i:,:].max() != 0.0:\n",
    "            print(count)\n",
    "        arr[i, : , :] = cv2.resize(slice[i, : , :], (dimension, dimension), interpolation=cv2.INTER_CUBIC)\n",
    "        arr[arr<0] = 0\n",
    "        count += 1\n",
    "    \n",
    "    slices = np.array([arr])\n",
    "    slices = slices.reshape(1,arr.shape[0], arr.shape[1], arr.shape[2], 1)\n",
    "    slices_cat = np.array([get_category(category)])\n",
    "    \n",
    "    return slices, slices_cat"
   ]
  },
  {
   "cell_type": "code",
   "execution_count": 24,
   "metadata": {},
   "outputs": [],
   "source": [
    "slices, slices_cat = get_slices_3d_all(\"./PREPROCESSED/BUY\\\\3062.nii.gz\", 1)"
   ]
  },
  {
   "cell_type": "code",
   "execution_count": 25,
   "metadata": {},
   "outputs": [
    {
     "data": {
      "text/plain": [
       "(1, 100, 100, 100, 1)"
      ]
     },
     "execution_count": 25,
     "metadata": {},
     "output_type": "execute_result"
    }
   ],
   "source": [
    "slices.shape"
   ]
  },
  {
   "cell_type": "code",
   "execution_count": 41,
   "metadata": {
    "ExecuteTime": {
     "end_time": "2020-01-18T02:42:38.366221Z",
     "start_time": "2020-01-18T02:42:30.700783Z"
    }
   },
   "outputs": [],
   "source": [
    "###--Compute GRADIENT\n",
    "from keras import backend as K\n",
    "with tf.GradientTape() as tape:\n",
    "    conv_outputs, predictions = grad_model(slices)\n",
    "    loss = predictions[:, 0]\n",
    "\n",
    "\n",
    "# Extract filters and gradients\n",
    "output = conv_outputs[0]\n",
    "grads = tape.gradient(loss, conv_outputs)[0]"
   ]
  },
  {
   "cell_type": "code",
   "execution_count": 42,
   "metadata": {
    "ExecuteTime": {
     "end_time": "2020-01-18T02:42:38.423653Z",
     "start_time": "2020-01-18T02:42:38.367219Z"
    }
   },
   "outputs": [],
   "source": [
    "# Average gradients spatially\n",
    "weights = tf.reduce_mean(grads, axis=(0, 1,2))\n",
    "# Build a ponderated map of filters according to gradients importance\n",
    "cam = np.zeros(output.shape[0:3], dtype=np.float32)\n",
    "\n",
    "for index, w in enumerate(weights):\n",
    "    cam += w * output[:, :, :, index]"
   ]
  },
  {
   "cell_type": "code",
   "execution_count": 43,
   "metadata": {},
   "outputs": [
    {
     "ename": "RuntimeError",
     "evalue": "Exception thrown in SimpleITK ImageFileReader_Execute: D:\\a\\1\\sitk\\Code\\IO\\src\\sitkImageReaderBase.cxx:102:\nsitk::ERROR: Unable to open \"./PREPROCESSED/BUY\\3062.nii.gz\" for reading.",
     "output_type": "error",
     "traceback": [
      "\u001b[1;31m---------------------------------------------------------------------------\u001b[0m",
      "\u001b[1;31mRuntimeError\u001b[0m                              Traceback (most recent call last)",
      "\u001b[1;32m~\\AppData\\Local\\Temp/ipykernel_6416/42210765.py\u001b[0m in \u001b[0;36m<module>\u001b[1;34m\u001b[0m\n\u001b[1;32m----> 1\u001b[1;33m \u001b[0mimg\u001b[0m \u001b[1;33m=\u001b[0m \u001b[0msitk\u001b[0m\u001b[1;33m.\u001b[0m\u001b[0mReadImage\u001b[0m\u001b[1;33m(\u001b[0m\u001b[1;34m\"./PREPROCESSED/BUY\\\\3062.nii.gz\"\u001b[0m\u001b[1;33m,\u001b[0m \u001b[0msitk\u001b[0m\u001b[1;33m.\u001b[0m\u001b[0msitkFloat64\u001b[0m\u001b[1;33m)\u001b[0m\u001b[1;33m\u001b[0m\u001b[1;33m\u001b[0m\u001b[0m\n\u001b[0m\u001b[0;32m      2\u001b[0m \u001b[0marr\u001b[0m \u001b[1;33m=\u001b[0m \u001b[0msitk\u001b[0m\u001b[1;33m.\u001b[0m\u001b[0mGetArrayFromImage\u001b[0m\u001b[1;33m(\u001b[0m\u001b[0mimg\u001b[0m\u001b[1;33m)\u001b[0m\u001b[1;33m\u001b[0m\u001b[1;33m\u001b[0m\u001b[0m\n",
      "\u001b[1;32mc:\\python39\\lib\\site-packages\\SimpleITK\\extra.py\u001b[0m in \u001b[0;36mReadImage\u001b[1;34m(fileName, outputPixelType, imageIO)\u001b[0m\n\u001b[0;32m    344\u001b[0m     \u001b[0mreader\u001b[0m\u001b[1;33m.\u001b[0m\u001b[0mSetImageIO\u001b[0m\u001b[1;33m(\u001b[0m\u001b[0mimageIO\u001b[0m\u001b[1;33m)\u001b[0m\u001b[1;33m\u001b[0m\u001b[1;33m\u001b[0m\u001b[0m\n\u001b[0;32m    345\u001b[0m     \u001b[0mreader\u001b[0m\u001b[1;33m.\u001b[0m\u001b[0mSetOutputPixelType\u001b[0m\u001b[1;33m(\u001b[0m\u001b[0moutputPixelType\u001b[0m\u001b[1;33m)\u001b[0m\u001b[1;33m\u001b[0m\u001b[1;33m\u001b[0m\u001b[0m\n\u001b[1;32m--> 346\u001b[1;33m     \u001b[1;32mreturn\u001b[0m \u001b[0mreader\u001b[0m\u001b[1;33m.\u001b[0m\u001b[0mExecute\u001b[0m\u001b[1;33m(\u001b[0m\u001b[1;33m)\u001b[0m\u001b[1;33m\u001b[0m\u001b[1;33m\u001b[0m\u001b[0m\n\u001b[0m\u001b[0;32m    347\u001b[0m \u001b[1;33m\u001b[0m\u001b[0m\n\u001b[0;32m    348\u001b[0m \u001b[1;33m\u001b[0m\u001b[0m\n",
      "\u001b[1;32mc:\\python39\\lib\\site-packages\\SimpleITK\\SimpleITK.py\u001b[0m in \u001b[0;36mExecute\u001b[1;34m(self)\u001b[0m\n\u001b[0;32m   8013\u001b[0m \u001b[1;33m\u001b[0m\u001b[0m\n\u001b[0;32m   8014\u001b[0m         \"\"\"\n\u001b[1;32m-> 8015\u001b[1;33m         \u001b[1;32mreturn\u001b[0m \u001b[0m_SimpleITK\u001b[0m\u001b[1;33m.\u001b[0m\u001b[0mImageFileReader_Execute\u001b[0m\u001b[1;33m(\u001b[0m\u001b[0mself\u001b[0m\u001b[1;33m)\u001b[0m\u001b[1;33m\u001b[0m\u001b[1;33m\u001b[0m\u001b[0m\n\u001b[0m\u001b[0;32m   8016\u001b[0m \u001b[1;33m\u001b[0m\u001b[0m\n\u001b[0;32m   8017\u001b[0m     \u001b[1;32mdef\u001b[0m \u001b[0mReadImageInformation\u001b[0m\u001b[1;33m(\u001b[0m\u001b[0mself\u001b[0m\u001b[1;33m)\u001b[0m\u001b[1;33m:\u001b[0m\u001b[1;33m\u001b[0m\u001b[1;33m\u001b[0m\u001b[0m\n",
      "\u001b[1;31mRuntimeError\u001b[0m: Exception thrown in SimpleITK ImageFileReader_Execute: D:\\a\\1\\sitk\\Code\\IO\\src\\sitkImageReaderBase.cxx:102:\nsitk::ERROR: Unable to open \"./PREPROCESSED/BUY\\3062.nii.gz\" for reading."
     ]
    }
   ],
   "source": [
    "img = sitk.ReadImage(\"./PREPROCESSED/BUY\\\\3062.nii.gz\", sitk.sitkFloat64)\n",
    "arr = sitk.GetArrayFromImage(img)\n"
   ]
  },
  {
   "cell_type": "code",
   "execution_count": null,
   "metadata": {},
   "outputs": [],
   "source": [
    "arr.shape"
   ]
  },
  {
   "cell_type": "code",
   "execution_count": null,
   "metadata": {},
   "outputs": [],
   "source": [
    "capi=resize(cam,arr.shape)\n",
    "new_cams = np.empty(arr.shape)\n",
    "for i in range(new_cams.shape[0]):\n",
    "    cam_i = capi[i] - capi[i].mean()\n",
    "    cam_i = (cam_i + 1e-10) / (np.linalg.norm(cam_i, 2) + 1e-10)\n",
    "    #new_cams[i] = np.maximum(new_cams[i], 0)\n",
    "    new_cams[i] = new_cams[i] / new_cams[i].max()"
   ]
  },
  {
   "cell_type": "code",
   "execution_count": null,
   "metadata": {},
   "outputs": [],
   "source": [
    "new_cams[0]"
   ]
  },
  {
   "cell_type": "code",
   "execution_count": null,
   "metadata": {},
   "outputs": [],
   "source": [
    "heatImg = sitk.GetImageFromArray(arr)\n",
    "sitk.WriteImage(heatImg, \"heatmap.nii.gz\")"
   ]
  },
  {
   "cell_type": "code",
   "execution_count": null,
   "metadata": {
    "ExecuteTime": {
     "end_time": "2020-01-18T02:44:45.242057Z",
     "start_time": "2020-01-18T02:44:44.574098Z"
    }
   },
   "outputs": [],
   "source": [
    "from skimage.transform import resize\n",
    "from matplotlib import pyplot as plt\n",
    "capi=resize(cam,(80,100,100))\n",
    "resized_img = slices\n",
    "#print(capi.shape)\n",
    "capi = np.maximum(capi,0)\n",
    "heatmap = (capi - capi.min()) / (capi.max() - capi.min())\n",
    "f, axarr = plt.subplots(2,3,figsize=(15,10));\n",
    "f.suptitle('Grad-CAM')\n",
    "slice_count= 55\n",
    "slice_count2=30\n",
    "    \n",
    "axial_ct_img=np.squeeze(resized_img[0,slice_count, :,:,0])\n",
    "axial_grad_cmap_img=np.squeeze(heatmap[slice_count,:, :])\n",
    "print(\"axial ct\", axial_ct_img.shape)\n",
    "print(\"axial grad cam\", axial_grad_cmap_img.shape)\n",
    "\n",
    "img_plot = axarr[0,0].imshow(axial_ct_img, cmap='gray');\n",
    "axarr[0,0].axis('off')\n",
    "axarr[0,0].set_title('CT')\n",
    "    \n",
    "img_plot = axarr[0,1].imshow(axial_grad_cmap_img, cmap='jet');\n",
    "axarr[0,1].axis('off')\n",
    "axarr[0,1].set_title('Grad-CAM')\n",
    "    \n",
    "\n",
    "axial_overlay=cv2.addWeighted(axial_ct_img,0.5,axial_grad_cmap_img, 0.5, 0.0, dtype=cv2.CV_64F)\n",
    "    \n",
    "img_plot = axarr[0,2].imshow(axial_overlay,cmap='jet');\n",
    "axarr[0,2].axis('off')\n",
    "axarr[0,2].set_title('Overlay')"
   ]
  },
  {
   "cell_type": "code",
   "execution_count": null,
   "metadata": {},
   "outputs": [],
   "source": [
    "plt.figure(figsize=(15, 10))\n",
    "plt.subplot(131)\n",
    "plt.title('GradCAM')\n",
    "plt.axis('off')\n",
    "i = 60\n",
    "plt.imshow(slices[0,i,:,:,0])\n",
    "plt.imshow(heatmap[i,:,:], cmap='jet', alpha=0.5)"
   ]
  },
  {
   "cell_type": "code",
   "execution_count": null,
   "metadata": {},
   "outputs": [],
   "source": [
    "copy = heatmap[heatmap == 0.0] = 1.0"
   ]
  },
  {
   "cell_type": "code",
   "execution_count": null,
   "metadata": {},
   "outputs": [],
   "source": [
    "for i in range(heatmap.shape[0]):\n",
    "    if heatmap[i,:,:].min() != 0.0:\n",
    "        print(i, heatmap[i,:,:].min())"
   ]
  },
  {
   "cell_type": "code",
   "execution_count": null,
   "metadata": {},
   "outputs": [],
   "source": []
  },
  {
   "cell_type": "code",
   "execution_count": null,
   "metadata": {},
   "outputs": [],
   "source": [
    "heatmap.shape"
   ]
  },
  {
   "cell_type": "code",
   "execution_count": null,
   "metadata": {},
   "outputs": [],
   "source": [
    "capi=resize(cam,(80,100,100))\n",
    "resized_img = slices\n",
    "#print(capi.shape)\n",
    "#capi = np.maximum(capi,0)\n",
    "heatmap = (capi - capi.min()) / (capi.max() - capi.min())"
   ]
  },
  {
   "cell_type": "code",
   "execution_count": null,
   "metadata": {},
   "outputs": [],
   "source": [
    "from keras.applications.vgg16 import VGG16, preprocess_input, decode_predictions\n",
    "model = VGG16(include_top=True, weights='imagenet')"
   ]
  },
  {
   "cell_type": "code",
   "execution_count": null,
   "metadata": {},
   "outputs": [],
   "source": [
    "model.summary()"
   ]
  }
 ],
 "metadata": {
  "kernelspec": {
   "display_name": "Python 3 (ipykernel)",
   "language": "python",
   "name": "python3"
  },
  "language_info": {
   "codemirror_mode": {
    "name": "ipython",
    "version": 3
   },
   "file_extension": ".py",
   "mimetype": "text/x-python",
   "name": "python",
   "nbconvert_exporter": "python",
   "pygments_lexer": "ipython3",
   "version": "3.9.5"
  },
  "latex_envs": {
   "LaTeX_envs_menu_present": true,
   "autoclose": false,
   "autocomplete": true,
   "bibliofile": "biblio.bib",
   "cite_by": "apalike",
   "current_citInitial": 1,
   "eqLabelWithNumbers": true,
   "eqNumInitial": 1,
   "hotkeys": {
    "equation": "Ctrl-E",
    "itemize": "Ctrl-I"
   },
   "labels_anchors": false,
   "latex_user_defs": false,
   "report_style_numbering": false,
   "user_envs_cfg": false
  },
  "toc": {
   "base_numbering": 1,
   "nav_menu": {},
   "number_sections": true,
   "sideBar": true,
   "skip_h1_title": false,
   "title_cell": "Table of Contents",
   "title_sidebar": "Contents",
   "toc_cell": false,
   "toc_position": {},
   "toc_section_display": true,
   "toc_window_display": false
  },
  "varInspector": {
   "cols": {
    "lenName": 16,
    "lenType": 16,
    "lenVar": 40
   },
   "kernels_config": {
    "python": {
     "delete_cmd_postfix": "",
     "delete_cmd_prefix": "del ",
     "library": "var_list.py",
     "varRefreshCmd": "print(var_dic_list())"
    },
    "r": {
     "delete_cmd_postfix": ") ",
     "delete_cmd_prefix": "rm(",
     "library": "var_list.r",
     "varRefreshCmd": "cat(var_dic_list()) "
    }
   },
   "types_to_exclude": [
    "module",
    "function",
    "builtin_function_or_method",
    "instance",
    "_Feature"
   ],
   "window_display": false
  }
 },
 "nbformat": 4,
 "nbformat_minor": 2
}
